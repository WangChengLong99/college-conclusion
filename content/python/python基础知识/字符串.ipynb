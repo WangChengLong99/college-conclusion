{
 "cells": [
  {
   "cell_type": "markdown",
   "metadata": {},
   "source": [
    "# 字符串的格式化输出"
   ]
  },
  {
   "cell_type": "markdown",
   "metadata": {},
   "source": [
    "* str.format(a,b,c,...)\n",
    "    * 'xxxx{}xxxx{}'.format(0,1) {}中不指定位置自动按照位置匹配\n",
    "    * 'xxxx{1}xxxx{0}'.format(0,1) {}中指定位置，根据位置匹配，位置从0开始\n",
    "    * 'xxxx{key1}xxxx{key2}.format(key1=value1,key2=value2)'#根据key1,key2对应值\n",
    "    * 'xxxx{0[0]}xxxx{0[1]}'.format(seq) format中是一个列表，则把列表看做0位置，然后再从列表中索引\n",
    "    * 'xxxx{0[0]}xxxx{1[0]}'.format(seq1,seq2)\n",
    "    * 'xxxx{}xxxx{}'.format(\\*iterable)#序列解包，传递参数\n",
    "    * 'xxxx{key1}xxxx{key2}',format(\\*\\*dict)#序列解包，传递参数  \n",
    "* 'xxxx%sxxxx%d'%('a',3):\n",
    "    * <table class=\"table table-condensed\">\n",
    "<thead>\n",
    "<tr class=\"header\">\n",
    "<th>符号</th>\n",
    "<th>描述</th>\n",
    "</tr>\n",
    "</thead>\n",
    "<tbody>\n",
    "<tr class=\"odd\">\n",
    "<td>%c</td>\n",
    "<td>格式化字符及其ASCII码</td>\n",
    "</tr>\n",
    "<tr class=\"even\">\n",
    "<td>%s</td>\n",
    "<td>格式化字符串</td>\n",
    "</tr>\n",
    "<tr class=\"odd\">\n",
    "<td>%d</td>\n",
    "<td>格式化整数</td>\n",
    "</tr>\n",
    "<tr class=\"even\">\n",
    "<td>%u</td>\n",
    "<td>格式化无符号整型</td>\n",
    "</tr>\n",
    "<tr class=\"odd\">\n",
    "<td>%o</td>\n",
    "<td>格式化无符号八进制数</td>\n",
    "</tr>\n",
    "<tr class=\"even\">\n",
    "<td>%x</td>\n",
    "<td>格式化无符号十六进制数</td>\n",
    "</tr>\n",
    "<tr class=\"odd\">\n",
    "<td>%X</td>\n",
    "<td>格式化无符号十六进制数（大写）</td>\n",
    "</tr>\n",
    "<tr class=\"even\">\n",
    "<td>%f</td>\n",
    "<td>格式化浮点数字，可指定小数点后的精度</td>\n",
    "</tr>\n",
    "<tr class=\"odd\">\n",
    "<td>%e</td>\n",
    "<td>用科学计数法格式化浮点数</td>\n",
    "</tr>\n",
    "<tr class=\"even\">\n",
    "<td>%E</td>\n",
    "<td>作用同%e，用科学计数法格式化浮点数</td>\n",
    "</tr>\n",
    "<tr class=\"odd\">\n",
    "<td>%g</td>\n",
    "<td>%f和%e的简写</td>\n",
    "</tr>\n",
    "<tr class=\"even\">\n",
    "<td>%G</td>\n",
    "<td>%f 和 %E 的简写</td>\n",
    "</tr>\n",
    "<tr class=\"odd\">\n",
    "<td>%p</td>\n",
    "<td>用十六进制数格式化变量的地址</td>\n",
    "</tr>\n",
    "</tbody>\n",
    "</table>"
   ]
  },
  {
   "cell_type": "markdown",
   "metadata": {},
   "source": [
    "* f'xxx{变量或者表达式}xxx':\n",
    "    * 优点是不用判断是%s还是%d了"
   ]
  },
  {
   "cell_type": "markdown",
   "metadata": {},
   "source": [
    "## format函数格式控制方法"
   ]
  },
  {
   "cell_type": "markdown",
   "metadata": {},
   "source": [
    "'xxxx{序号:格式}'.format()#冒号后面代表了格式\n",
    "\n",
    "* 格式的符号与含义与顺序\n",
    "\n",
    "<table style=\"width:100%;\" class=\"table table-condensed\">\n",
    "<colgroup>\n",
    "<col width=\"14%\">\n",
    "<col width=\"14%\">\n",
    "<col width=\"14%\">\n",
    "<col width=\"14%\">\n",
    "<col width=\"14%\">\n",
    "<col width=\"14%\">\n",
    "<col width=\"14%\">\n",
    "</colgroup>\n",
    "<thead>\n",
    "<tr class=\"header\">\n",
    "<th>&nbsp;：</th>\n",
    "<th>&nbsp; [填充]</th>\n",
    "<th>[对齐]</th>\n",
    "<th>&nbsp;[宽度]</th>\n",
    "<th>[,] &nbsp;</th>\n",
    "<th>[.精度]</th>\n",
    "<th>[类型]</th>\n",
    "</tr>\n",
    "</thead>\n",
    "<tbody>\n",
    "<tr class=\"odd\">\n",
    "<td>引导符号</td>\n",
    "<td>要填充的单个字符，默认是空格</td>\n",
    "<td>&lt; 左对齐<br/> &gt; 右对齐 <br/>^ 居中对齐</td>\n",
    "<td>设定槽的输出宽度</td>\n",
    "<td>数字的千位分隔符 适用于整数和浮点数</td>\n",
    "<td>用于控制浮点数小数部分的精度(长度)或字符串的最大输出长度</td>\n",
    "<td>整数类型：b,c,d,o,x,X 浮点数类型：e,E,f,%</td>\n",
    "</tr>\n",
    "</tbody>\n",
    "</table>"
   ]
  },
  {
   "cell_type": "markdown",
   "metadata": {},
   "source": [
    "如果要设置多种格式，则必须要按照该表的前后顺序\n",
    "\n",
    "一般有两种组合：\n",
    "\n",
    "* 填充/对齐/宽度\n",
    "    * {0:\\*30}\n",
    "    * {0:\\*>30}\n",
    "* 分隔符/精度/类型\n",
    "    * {,.3b}\n",
    "    * {.3e}\n",
    "\n",
    "* 类型的格式\n",
    "     \n",
    "<table class=\"table table-condensed\">\n",
    "<thead>\n",
    "<tr class=\"header\">\n",
    "<th align=\"center\">类型</th>\n",
    "<th align=\"left\">描述</th>\n",
    "<th align=\"center\">类型</th>\n",
    "<th align=\"left\">描述</th>\n",
    "</tr>\n",
    "</thead>\n",
    "<tbody>\n",
    "<tr class=\"odd\">\n",
    "<td align=\"center\">b</td>\n",
    "<td align=\"left\">输出整数的二进制形式</td>\n",
    "<td align=\"center\">e</td>\n",
    "<td align=\"left\">输出浮点数对应的小写字母e的指数形式</td>\n",
    "</tr>\n",
    "<tr class=\"even\">\n",
    "<td align=\"center\">c</td>\n",
    "<td align=\"left\">输出整数对应的Unicode字符</td>\n",
    "<td align=\"center\">E</td>\n",
    "<td align=\"left\">输出浮点数对应的大写字母E的指数形式</td>\n",
    "</tr>\n",
    "<tr class=\"odd\">\n",
    "<td align=\"center\">d</td>\n",
    "<td align=\"left\">输出整数的十进制形式</td>\n",
    "<td align=\"center\">f</td>\n",
    "<td align=\"left\">输出标准浮点数形式</td>\n",
    "</tr>\n",
    "<tr class=\"even\">\n",
    "<td align=\"center\">o</td>\n",
    "<td align=\"left\">输出整数的八进制形式</td>\n",
    "<td align=\"center\">%</td>\n",
    "<td align=\"left\">输出浮点数的百分比形式</td>\n",
    "</tr>\n",
    "<tr class=\"odd\">\n",
    "<td align=\"center\">x</td>\n",
    "<td align=\"left\">输出整数的小写十六进制形式</td>\n",
    "<td align=\"center\"></td>\n",
    "<td align=\"left\">&nbsp; &nbsp;</td>\n",
    "</tr>\n",
    "<tr class=\"even\">\n",
    "<td align=\"center\">X</td>\n",
    "<td align=\"left\">输出整数的大写写十六进制形式</td>\n",
    "<td align=\"center\"></td>\n",
    "<td align=\"left\"></td>\n",
    "</tr>\n",
    "</tbody>\n",
    "</table>"
   ]
  },
  {
   "cell_type": "code",
   "execution_count": 6,
   "metadata": {},
   "outputs": [],
   "source": [
    "from IPython.core.interactiveshell import InteractiveShell\n",
    "InteractiveShell.ast_node_interactivity = \"all\""
   ]
  },
  {
   "cell_type": "code",
   "execution_count": 7,
   "metadata": {},
   "outputs": [
    {
     "data": {
      "text/plain": [
       "'30000'"
      ]
     },
     "execution_count": 7,
     "metadata": {},
     "output_type": "execute_result"
    },
    {
     "data": {
      "text/plain": [
       "'00005'"
      ]
     },
     "execution_count": 7,
     "metadata": {},
     "output_type": "execute_result"
    },
    {
     "data": {
      "text/plain": [
       "'00500'"
      ]
     },
     "execution_count": 7,
     "metadata": {},
     "output_type": "execute_result"
    }
   ],
   "source": [
    "'{0:0<5}'.format(3)#左对齐，从左往右放\n",
    "'{0:0>5}'.format(5)#右对齐，从右往左放\n",
    "'{0:0^5}'.format(5)#先放在中间"
   ]
  },
  {
   "cell_type": "code",
   "execution_count": 10,
   "metadata": {},
   "outputs": [
    {
     "data": {
      "text/plain": [
       "'10,000,000.0'"
      ]
     },
     "execution_count": 10,
     "metadata": {},
     "output_type": "execute_result"
    },
    {
     "data": {
      "text/plain": [
       "'3.142'"
      ]
     },
     "execution_count": 10,
     "metadata": {},
     "output_type": "execute_result"
    },
    {
     "data": {
      "text/plain": [
       "'314.159%'"
      ]
     },
     "execution_count": 10,
     "metadata": {},
     "output_type": "execute_result"
    }
   ],
   "source": [
    "import math\n",
    "'{0:,}'.format(1e7)\n",
    "'{0:,.3f}'.format(math.pi)\n",
    "'{0:,.3%}'.format(math.pi)#数字部分保留三位小数"
   ]
  },
  {
   "cell_type": "markdown",
   "metadata": {},
   "source": [
    "# 字符串的编码"
   ]
  },
  {
   "cell_type": "markdown",
   "metadata": {},
   "source": [
    "* 字符串的编码:str.encode(encoding=\"\")#Unicode编码\n",
    "* 字节串的解码:byte.decode(encoding=\"\")#解码\n",
    "\n",
    "* 编码格式\n",
    "    * Unicode编码:\n",
    "        * UTF-8 在UTF-8编码中，英文字符占一个字节，中文字符占用3个字节\n",
    "        * GBK 在GBK编码中，英文字符占一个字节，中文字符占用2个字节\n",
    "    * ASCII编码:\n",
    "\n",
    "* ASCII编码和Unicode编码的区别：\n",
    "\n",
    "    * ASCII编码是1个字节，而Unicode编码通常是2个字节，举例如下。\n",
    "\n",
    "        字母 A 用ASCII编码是十进制的65，二进制的01000001；\n",
    "\n",
    "        字符 0 用ASCII编码是十进制的48，二进制的00110000，注意字符 '0' 和整数 0 是不同的；\n",
    "\n",
    "        汉字 中 已经超出了ASCII编码的范围，用Unicode编码是十进制的20013，二进制的01001110 00101101。\n",
    "\n",
    "        如果把ASCII编码的 A 用Unicode编码，只需要在前面补0就可以，因此， A 的Unicode编码是00000000 01000001。"
   ]
  },
  {
   "cell_type": "markdown",
   "metadata": {},
   "source": [
    "# 正则表达式"
   ]
  },
  {
   "cell_type": "code",
   "execution_count": 11,
   "metadata": {},
   "outputs": [],
   "source": [
    "import re"
   ]
  },
  {
   "cell_type": "markdown",
   "metadata": {},
   "source": [
    "## re.findall"
   ]
  },
  {
   "cell_type": "markdown",
   "metadata": {},
   "source": [
    "找到所有匹配模式的字符串"
   ]
  },
  {
   "cell_type": "code",
   "execution_count": 13,
   "metadata": {},
   "outputs": [
    {
     "data": {
      "text/plain": [
       "['1', '3', '5', '3']"
      ]
     },
     "execution_count": 13,
     "metadata": {},
     "output_type": "execute_result"
    }
   ],
   "source": [
    "re.findall(r'[135]','12345739')"
   ]
  },
  {
   "cell_type": "markdown",
   "metadata": {},
   "source": [
    "## 根据match对象的group或groups返回匹配的字符串"
   ]
  },
  {
   "cell_type": "code",
   "execution_count": 17,
   "metadata": {},
   "outputs": [
    {
     "data": {
      "text/plain": [
       "<re.Match object; span=(0, 2), match='34'>"
      ]
     },
     "execution_count": 17,
     "metadata": {},
     "output_type": "execute_result"
    },
    {
     "data": {
      "text/plain": [
       "<re.Match object; span=(2, 4), match='12'>"
      ]
     },
     "execution_count": 17,
     "metadata": {},
     "output_type": "execute_result"
    },
    {
     "data": {
      "text/plain": [
       "<callable_iterator at 0x21b3924a788>"
      ]
     },
     "execution_count": 17,
     "metadata": {},
     "output_type": "execute_result"
    }
   ],
   "source": [
    "#返回第一个\n",
    "re.match(r'12','3412')#从字符串开始开始匹配，无返回值\n",
    "re.match(r'34','3412')#有返回值\n",
    "re.search(r'12','3412')#全局匹配\n",
    "#返回所有\n",
    "re.finditer(r'12','341212')"
   ]
  },
  {
   "cell_type": "code",
   "execution_count": 23,
   "metadata": {
    "collapsed": true
   },
   "outputs": [
    {
     "data": {
      "text/plain": [
       "('3', '5')"
      ]
     },
     "execution_count": 23,
     "metadata": {},
     "output_type": "execute_result"
    },
    {
     "data": {
      "text/plain": [
       "'35'"
      ]
     },
     "execution_count": 23,
     "metadata": {},
     "output_type": "execute_result"
    },
    {
     "data": {
      "text/plain": [
       "'3'"
      ]
     },
     "execution_count": 23,
     "metadata": {},
     "output_type": "execute_result"
    },
    {
     "data": {
      "text/plain": [
       "'5'"
      ]
     },
     "execution_count": 23,
     "metadata": {},
     "output_type": "execute_result"
    },
    {
     "data": {
      "text/plain": [
       "('7', 's')"
      ]
     },
     "execution_count": 23,
     "metadata": {},
     "output_type": "execute_result"
    },
    {
     "data": {
      "text/plain": [
       "'7s'"
      ]
     },
     "execution_count": 23,
     "metadata": {},
     "output_type": "execute_result"
    },
    {
     "data": {
      "text/plain": [
       "'7'"
      ]
     },
     "execution_count": 23,
     "metadata": {},
     "output_type": "execute_result"
    },
    {
     "data": {
      "text/plain": [
       "'s'"
      ]
     },
     "execution_count": 23,
     "metadata": {},
     "output_type": "execute_result"
    },
    {
     "data": {
      "text/plain": [
       "('6', 'z')"
      ]
     },
     "execution_count": 23,
     "metadata": {},
     "output_type": "execute_result"
    },
    {
     "data": {
      "text/plain": [
       "'6z'"
      ]
     },
     "execution_count": 23,
     "metadata": {},
     "output_type": "execute_result"
    },
    {
     "data": {
      "text/plain": [
       "'6'"
      ]
     },
     "execution_count": 23,
     "metadata": {},
     "output_type": "execute_result"
    },
    {
     "data": {
      "text/plain": [
       "'z'"
      ]
     },
     "execution_count": 23,
     "metadata": {},
     "output_type": "execute_result"
    }
   ],
   "source": [
    "## re.findall()\n",
    "for i in re.finditer(r'(\\d)(\\w)','35b7sq6z'):\n",
    "    i.groups()#返回所有组的元组\n",
    "    i.group(0)#返回匹配的字符串\n",
    "    i.group(1)#返回第一组\n",
    "    i.group(2)#返回第二组"
   ]
  },
  {
   "cell_type": "markdown",
   "metadata": {},
   "source": [
    "## 找一个满足条件的字符串"
   ]
  },
  {
   "cell_type": "code",
   "execution_count": null,
   "metadata": {},
   "outputs": [],
   "source": []
  }
 ],
 "metadata": {
  "kernelspec": {
   "display_name": "Python 3",
   "language": "python",
   "name": "python3"
  },
  "language_info": {
   "codemirror_mode": {
    "name": "ipython",
    "version": 3
   },
   "file_extension": ".py",
   "mimetype": "text/x-python",
   "name": "python",
   "nbconvert_exporter": "python",
   "pygments_lexer": "ipython3",
   "version": "3.7.4"
  },
  "toc": {
   "base_numbering": 1,
   "nav_menu": {},
   "number_sections": true,
   "sideBar": true,
   "skip_h1_title": false,
   "title_cell": "Table of Contents",
   "title_sidebar": "Contents",
   "toc_cell": false,
   "toc_position": {},
   "toc_section_display": true,
   "toc_window_display": false
  }
 },
 "nbformat": 4,
 "nbformat_minor": 2
}
