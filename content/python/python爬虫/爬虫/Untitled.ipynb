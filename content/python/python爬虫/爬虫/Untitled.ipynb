{
 "cells": [
  {
   "cell_type": "code",
   "execution_count": null,
   "id": "b5ddc29c",
   "metadata": {},
   "outputs": [],
   "source": [
    "from selenium import webdriver\n",
    "import time\n",
    "bro=webdriver.Chrome(r'./chromedriver.exe')\n",
    "bro.get('http://scxk.nmpa.gov.cn:81/xk/')\n",
    "#page_source获取浏览器当前页面的页面源码数据\n",
    "page_text=bro.page_source\n",
    "#解析企业名称\n",
    "tree=etree.HTML(page_text)\n",
    "li_list=tree.xpath('//ul[@id=\"gzlist\"]/li')\n",
    "for li in li_list:\n",
    "    name=li.xpath('./dl/@title')[0]\n",
    "    print(name)\n",
    "time.sleep(5)\n",
    "bro.quit()"
   ]
  },
  {
   "cell_type": "code",
   "execution_count": 2,
   "id": "0507b06f",
   "metadata": {},
   "outputs": [],
   "source": [
    "from selenium import webdriver\n",
    "import time\n",
    "from lxml import etree\n",
    "bro=webdriver.Chrome(r'./chromedriver.exe')\n",
    "bro.get('https://weibo.com/u/5100478086')\n",
    "page_text=bro.page_source\n",
    "tree=etree.HTML(page_text)"
   ]
  },
  {
   "cell_type": "code",
   "execution_count": 5,
   "id": "33576366",
   "metadata": {},
   "outputs": [],
   "source": []
  },
  {
   "cell_type": "code",
   "execution_count": null,
   "id": "9fbd1c4b",
   "metadata": {},
   "outputs": [],
   "source": []
  }
 ],
 "metadata": {
  "kernelspec": {
   "display_name": "Python 3",
   "language": "python",
   "name": "python3"
  },
  "language_info": {
   "codemirror_mode": {
    "name": "ipython",
    "version": 3
   },
   "file_extension": ".py",
   "mimetype": "text/x-python",
   "name": "python",
   "nbconvert_exporter": "python",
   "pygments_lexer": "ipython3",
   "version": "3.7.4"
  },
  "toc": {
   "base_numbering": 1,
   "nav_menu": {},
   "number_sections": true,
   "sideBar": true,
   "skip_h1_title": false,
   "title_cell": "Table of Contents",
   "title_sidebar": "Contents",
   "toc_cell": false,
   "toc_position": {},
   "toc_section_display": true,
   "toc_window_display": false
  }
 },
 "nbformat": 4,
 "nbformat_minor": 5
}
