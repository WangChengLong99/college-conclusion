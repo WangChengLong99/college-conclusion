{
 "cells": [
  {
   "cell_type": "code",
   "execution_count": 1,
   "metadata": {},
   "outputs": [],
   "source": [
    "from IPython.core.interactiveshell import InteractiveShell\n",
    "InteractiveShell.ast_node_interactivity = \"all\""
   ]
  },
  {
   "cell_type": "markdown",
   "metadata": {},
   "source": [
    "# 操作系统 os"
   ]
  },
  {
   "cell_type": "code",
   "execution_count": 2,
   "metadata": {},
   "outputs": [
    {
     "data": {
      "text/plain": [
       "'C:\\\\Users\\\\WangChengLong\\\\Desktop\\\\python基础知识训练'"
      ]
     },
     "execution_count": 2,
     "metadata": {},
     "output_type": "execute_result"
    }
   ],
   "source": [
    "import os\n",
    "os.getcwd()"
   ]
  },
  {
   "cell_type": "markdown",
   "metadata": {},
   "source": [
    "# 文件通配符 glob"
   ]
  },
  {
   "cell_type": "markdown",
   "metadata": {},
   "source": [
    "glob模块用来查找文件目录和文件，并将搜索的到的结果返回到一个列表中.\n",
    "\n",
    "* 通配符\n",
    "   * \\*代表0个或多个字符\n",
    "   * \\?代表一个字符\n",
    "   * \\[\\]匹配指定范围内的字符，如\\[0-9\\]匹配数字\n",
    "\n",
    "           glob.glob(pathname,*,recursive=False) #返回该path下所有满足条件的文件path的列表，以点号.开始的文件不会被匹配\n",
    "           #如果recursive为真，则模式“ **”将匹配任何文件和零个或多个目录、子目录和目录的符号链接\n",
    "           glob.iglob(path)#返回该path下所有满足条件的文件path的迭代器\n",
    "           glob.escape(path)#不会解释特殊字符（通配符），返回一个用中括号将特殊字符括起来的路径，这样特殊字符就不再特殊了。"
   ]
  },
  {
   "cell_type": "code",
   "execution_count": 3,
   "metadata": {
    "collapsed": true,
    "jupyter": {
     "outputs_hidden": true
    }
   },
   "outputs": [
    {
     "data": {
      "text/plain": [
       "10"
      ]
     },
     "execution_count": 3,
     "metadata": {},
     "output_type": "execute_result"
    },
    {
     "data": {
      "text/plain": [
       "11"
      ]
     },
     "execution_count": 3,
     "metadata": {},
     "output_type": "execute_result"
    },
    {
     "data": {
      "text/plain": [
       "3"
      ]
     },
     "execution_count": 3,
     "metadata": {},
     "output_type": "execute_result"
    },
    {
     "data": {
      "text/plain": [
       "12"
      ]
     },
     "execution_count": 3,
     "metadata": {},
     "output_type": "execute_result"
    },
    {
     "data": {
      "text/plain": [
       "10"
      ]
     },
     "execution_count": 3,
     "metadata": {},
     "output_type": "execute_result"
    },
    {
     "data": {
      "text/plain": [
       "11"
      ]
     },
     "execution_count": 3,
     "metadata": {},
     "output_type": "execute_result"
    },
    {
     "data": {
      "text/plain": [
       "3"
      ]
     },
     "execution_count": 3,
     "metadata": {},
     "output_type": "execute_result"
    },
    {
     "data": {
      "text/plain": [
       "12"
      ]
     },
     "execution_count": 3,
     "metadata": {},
     "output_type": "execute_result"
    },
    {
     "data": {
      "text/plain": [
       "10"
      ]
     },
     "execution_count": 3,
     "metadata": {},
     "output_type": "execute_result"
    },
    {
     "data": {
      "text/plain": [
       "11"
      ]
     },
     "execution_count": 3,
     "metadata": {},
     "output_type": "execute_result"
    },
    {
     "data": {
      "text/plain": [
       "3"
      ]
     },
     "execution_count": 3,
     "metadata": {},
     "output_type": "execute_result"
    },
    {
     "data": {
      "text/plain": [
       "12"
      ]
     },
     "execution_count": 3,
     "metadata": {},
     "output_type": "execute_result"
    },
    {
     "data": {
      "text/plain": [
       "10"
      ]
     },
     "execution_count": 3,
     "metadata": {},
     "output_type": "execute_result"
    },
    {
     "data": {
      "text/plain": [
       "11"
      ]
     },
     "execution_count": 3,
     "metadata": {},
     "output_type": "execute_result"
    },
    {
     "data": {
      "text/plain": [
       "3"
      ]
     },
     "execution_count": 3,
     "metadata": {},
     "output_type": "execute_result"
    },
    {
     "data": {
      "text/plain": [
       "12"
      ]
     },
     "execution_count": 3,
     "metadata": {},
     "output_type": "execute_result"
    },
    {
     "data": {
      "text/plain": [
       "10"
      ]
     },
     "execution_count": 3,
     "metadata": {},
     "output_type": "execute_result"
    },
    {
     "data": {
      "text/plain": [
       "11"
      ]
     },
     "execution_count": 3,
     "metadata": {},
     "output_type": "execute_result"
    },
    {
     "data": {
      "text/plain": [
       "3"
      ]
     },
     "execution_count": 3,
     "metadata": {},
     "output_type": "execute_result"
    },
    {
     "data": {
      "text/plain": [
       "12"
      ]
     },
     "execution_count": 3,
     "metadata": {},
     "output_type": "execute_result"
    }
   ],
   "source": [
    "# 创建文件夹\n",
    "if not os.path.exists('glob'):\n",
    "    os.makedirs('glob')\n",
    "# 创建文件\n",
    "for i in range(5):\n",
    "    with open('./glob/t'+str(i)+'.txt','w') as f:\n",
    "        f.write('这是第{}个txt文本'.format(i))    \n",
    "    with open('./glob/python'+str(i)+'.py','wb') as p:\n",
    "        p.write(b'hello,world')\n",
    "    with open('./glob/图片'+str(i)+'.jpg','wb') as j:\n",
    "        j.write(b'jpg')\n",
    "    with open('./glob/特殊[字符'+str(i)+'.txt','w') as t:\n",
    "        t.write('文件名含特殊字符如何查找')"
   ]
  },
  {
   "cell_type": "code",
   "execution_count": 4,
   "metadata": {
    "collapsed": true,
    "jupyter": {
     "outputs_hidden": true
    }
   },
   "outputs": [
    {
     "data": {
      "text/plain": [
       "['C:\\\\Users\\\\WangChengLong\\\\Desktop\\\\python基础知识训练\\\\glob\\\\python0.py',\n",
       " 'C:\\\\Users\\\\WangChengLong\\\\Desktop\\\\python基础知识训练\\\\glob\\\\python1.py',\n",
       " 'C:\\\\Users\\\\WangChengLong\\\\Desktop\\\\python基础知识训练\\\\glob\\\\python2.py',\n",
       " 'C:\\\\Users\\\\WangChengLong\\\\Desktop\\\\python基础知识训练\\\\glob\\\\python3.py',\n",
       " 'C:\\\\Users\\\\WangChengLong\\\\Desktop\\\\python基础知识训练\\\\glob\\\\python4.py']"
      ]
     },
     "execution_count": 4,
     "metadata": {},
     "output_type": "execute_result"
    }
   ],
   "source": [
    "import glob\n",
    "glob.glob(os.getcwd()+'\\\\glob\\\\*.py')"
   ]
  },
  {
   "cell_type": "code",
   "execution_count": 5,
   "metadata": {},
   "outputs": [
    {
     "data": {
      "text/plain": [
       "[]"
      ]
     },
     "execution_count": 5,
     "metadata": {},
     "output_type": "execute_result"
    }
   ],
   "source": [
    "glob.glob(os.getcwd()+'\\\\glob\\\\.*')#点号开头的文件不会被匹配"
   ]
  },
  {
   "cell_type": "code",
   "execution_count": 6,
   "metadata": {
    "collapsed": true,
    "jupyter": {
     "outputs_hidden": true
    }
   },
   "outputs": [
    {
     "data": {
      "text/plain": [
       "['C:\\\\Users\\\\WangChengLong\\\\Desktop\\\\python基础知识训练\\\\glob\\\\python0.py',\n",
       " 'C:\\\\Users\\\\WangChengLong\\\\Desktop\\\\python基础知识训练\\\\glob\\\\python1.py',\n",
       " 'C:\\\\Users\\\\WangChengLong\\\\Desktop\\\\python基础知识训练\\\\glob\\\\python2.py',\n",
       " 'C:\\\\Users\\\\WangChengLong\\\\Desktop\\\\python基础知识训练\\\\glob\\\\python3.py',\n",
       " 'C:\\\\Users\\\\WangChengLong\\\\Desktop\\\\python基础知识训练\\\\glob\\\\python4.py',\n",
       " 'C:\\\\Users\\\\WangChengLong\\\\Desktop\\\\python基础知识训练\\\\glob\\\\t0.txt',\n",
       " 'C:\\\\Users\\\\WangChengLong\\\\Desktop\\\\python基础知识训练\\\\glob\\\\t1.txt',\n",
       " 'C:\\\\Users\\\\WangChengLong\\\\Desktop\\\\python基础知识训练\\\\glob\\\\t2.txt',\n",
       " 'C:\\\\Users\\\\WangChengLong\\\\Desktop\\\\python基础知识训练\\\\glob\\\\t3.txt',\n",
       " 'C:\\\\Users\\\\WangChengLong\\\\Desktop\\\\python基础知识训练\\\\glob\\\\t4.txt',\n",
       " 'C:\\\\Users\\\\WangChengLong\\\\Desktop\\\\python基础知识训练\\\\glob\\\\图片0.jpg',\n",
       " 'C:\\\\Users\\\\WangChengLong\\\\Desktop\\\\python基础知识训练\\\\glob\\\\图片1.jpg',\n",
       " 'C:\\\\Users\\\\WangChengLong\\\\Desktop\\\\python基础知识训练\\\\glob\\\\图片2.jpg',\n",
       " 'C:\\\\Users\\\\WangChengLong\\\\Desktop\\\\python基础知识训练\\\\glob\\\\图片3.jpg',\n",
       " 'C:\\\\Users\\\\WangChengLong\\\\Desktop\\\\python基础知识训练\\\\glob\\\\图片4.jpg',\n",
       " 'C:\\\\Users\\\\WangChengLong\\\\Desktop\\\\python基础知识训练\\\\glob\\\\特殊[字符0.txt',\n",
       " 'C:\\\\Users\\\\WangChengLong\\\\Desktop\\\\python基础知识训练\\\\glob\\\\特殊[字符1.txt',\n",
       " 'C:\\\\Users\\\\WangChengLong\\\\Desktop\\\\python基础知识训练\\\\glob\\\\特殊[字符2.txt',\n",
       " 'C:\\\\Users\\\\WangChengLong\\\\Desktop\\\\python基础知识训练\\\\glob\\\\特殊[字符3.txt',\n",
       " 'C:\\\\Users\\\\WangChengLong\\\\Desktop\\\\python基础知识训练\\\\glob\\\\特殊[字符4.txt']"
      ]
     },
     "execution_count": 6,
     "metadata": {},
     "output_type": "execute_result"
    }
   ],
   "source": [
    "glob.glob(os.getcwd()+'\\\\**\\\\*',recursive=False)"
   ]
  },
  {
   "cell_type": "code",
   "execution_count": 7,
   "metadata": {
    "collapsed": true,
    "jupyter": {
     "outputs_hidden": true
    }
   },
   "outputs": [
    {
     "data": {
      "text/plain": [
       "['C:\\\\Users\\\\WangChengLong\\\\Desktop\\\\python基础知识训练\\\\glob',\n",
       " 'C:\\\\Users\\\\WangChengLong\\\\Desktop\\\\python基础知识训练\\\\关键字.ipynb',\n",
       " 'C:\\\\Users\\\\WangChengLong\\\\Desktop\\\\python基础知识训练\\\\内置函数.ipynb',\n",
       " 'C:\\\\Users\\\\WangChengLong\\\\Desktop\\\\python基础知识训练\\\\内置模块.ipynb',\n",
       " 'C:\\\\Users\\\\WangChengLong\\\\Desktop\\\\python基础知识训练\\\\函数.ipynb',\n",
       " 'C:\\\\Users\\\\WangChengLong\\\\Desktop\\\\python基础知识训练\\\\字符串.ipynb',\n",
       " 'C:\\\\Users\\\\WangChengLong\\\\Desktop\\\\python基础知识训练\\\\常用模块.ipynb',\n",
       " 'C:\\\\Users\\\\WangChengLong\\\\Desktop\\\\python基础知识训练\\\\序列.ipynb',\n",
       " 'C:\\\\Users\\\\WangChengLong\\\\Desktop\\\\python基础知识训练\\\\文件.ipynb',\n",
       " 'C:\\\\Users\\\\WangChengLong\\\\Desktop\\\\python基础知识训练\\\\面向对象.ipynb',\n",
       " 'C:\\\\Users\\\\WangChengLong\\\\Desktop\\\\python基础知识训练\\\\glob\\\\python0.py',\n",
       " 'C:\\\\Users\\\\WangChengLong\\\\Desktop\\\\python基础知识训练\\\\glob\\\\python1.py',\n",
       " 'C:\\\\Users\\\\WangChengLong\\\\Desktop\\\\python基础知识训练\\\\glob\\\\python2.py',\n",
       " 'C:\\\\Users\\\\WangChengLong\\\\Desktop\\\\python基础知识训练\\\\glob\\\\python3.py',\n",
       " 'C:\\\\Users\\\\WangChengLong\\\\Desktop\\\\python基础知识训练\\\\glob\\\\python4.py',\n",
       " 'C:\\\\Users\\\\WangChengLong\\\\Desktop\\\\python基础知识训练\\\\glob\\\\t0.txt',\n",
       " 'C:\\\\Users\\\\WangChengLong\\\\Desktop\\\\python基础知识训练\\\\glob\\\\t1.txt',\n",
       " 'C:\\\\Users\\\\WangChengLong\\\\Desktop\\\\python基础知识训练\\\\glob\\\\t2.txt',\n",
       " 'C:\\\\Users\\\\WangChengLong\\\\Desktop\\\\python基础知识训练\\\\glob\\\\t3.txt',\n",
       " 'C:\\\\Users\\\\WangChengLong\\\\Desktop\\\\python基础知识训练\\\\glob\\\\t4.txt',\n",
       " 'C:\\\\Users\\\\WangChengLong\\\\Desktop\\\\python基础知识训练\\\\glob\\\\图片0.jpg',\n",
       " 'C:\\\\Users\\\\WangChengLong\\\\Desktop\\\\python基础知识训练\\\\glob\\\\图片1.jpg',\n",
       " 'C:\\\\Users\\\\WangChengLong\\\\Desktop\\\\python基础知识训练\\\\glob\\\\图片2.jpg',\n",
       " 'C:\\\\Users\\\\WangChengLong\\\\Desktop\\\\python基础知识训练\\\\glob\\\\图片3.jpg',\n",
       " 'C:\\\\Users\\\\WangChengLong\\\\Desktop\\\\python基础知识训练\\\\glob\\\\图片4.jpg',\n",
       " 'C:\\\\Users\\\\WangChengLong\\\\Desktop\\\\python基础知识训练\\\\glob\\\\特殊[字符0.txt',\n",
       " 'C:\\\\Users\\\\WangChengLong\\\\Desktop\\\\python基础知识训练\\\\glob\\\\特殊[字符1.txt',\n",
       " 'C:\\\\Users\\\\WangChengLong\\\\Desktop\\\\python基础知识训练\\\\glob\\\\特殊[字符2.txt',\n",
       " 'C:\\\\Users\\\\WangChengLong\\\\Desktop\\\\python基础知识训练\\\\glob\\\\特殊[字符3.txt',\n",
       " 'C:\\\\Users\\\\WangChengLong\\\\Desktop\\\\python基础知识训练\\\\glob\\\\特殊[字符4.txt']"
      ]
     },
     "execution_count": 7,
     "metadata": {},
     "output_type": "execute_result"
    }
   ],
   "source": [
    "glob.glob(os.getcwd()+'\\\\**\\\\*',recursive=True)"
   ]
  },
  {
   "cell_type": "code",
   "execution_count": 8,
   "metadata": {},
   "outputs": [
    {
     "data": {
      "text/plain": [
       "'C:\\\\Users\\\\WangChengLong\\\\Desktop\\\\python基础知识训练\\\\glob\\\\python0.py'"
      ]
     },
     "execution_count": 8,
     "metadata": {},
     "output_type": "execute_result"
    },
    {
     "data": {
      "text/plain": [
       "'C:\\\\Users\\\\WangChengLong\\\\Desktop\\\\python基础知识训练\\\\glob\\\\python1.py'"
      ]
     },
     "execution_count": 8,
     "metadata": {},
     "output_type": "execute_result"
    }
   ],
   "source": [
    "#生成器\n",
    "a=glob.iglob(os.getcwd()+'\\\\glob\\\\*.py')\n",
    "next(a)\n",
    "next(a)"
   ]
  },
  {
   "cell_type": "code",
   "execution_count": 9,
   "metadata": {},
   "outputs": [
    {
     "data": {
      "text/plain": [
       "'C:\\\\Users\\\\WangChengLong\\\\Desktop\\\\python基础知识训练\\\\glob\\\\[*].py'"
      ]
     },
     "execution_count": 9,
     "metadata": {},
     "output_type": "execute_result"
    },
    {
     "data": {
      "text/plain": [
       "'C:\\\\Users\\\\WangChengLong\\\\Desktop\\\\python基础知识训练\\\\glob\\\\特殊[[]字符0.txt'"
      ]
     },
     "execution_count": 9,
     "metadata": {},
     "output_type": "execute_result"
    }
   ],
   "source": [
    "#跳过通配符\n",
    "glob.escape(os.getcwd()+'\\\\glob\\\\*.py')\n",
    "glob.escape(os.getcwd()+'\\\\glob\\\\特殊[字符0.txt')"
   ]
  },
  {
   "cell_type": "markdown",
   "metadata": {},
   "source": [
    "#  命令行参数以及错误输出重定向和程序终止 sys"
   ]
  },
  {
   "cell_type": "markdown",
   "metadata": {},
   "source": [
    "“sys”即“system”，“系统”之意。该模块提供了一些接口，用于访问 Python 解释器自身使用和维护的变量，同时模块中还提供了一部分函数，可以与解释器进行比较深度的交互。"
   ]
  },
  {
   "cell_type": "code",
   "execution_count": 10,
   "metadata": {},
   "outputs": [],
   "source": [
    "import sys"
   ]
  },
  {
   "cell_type": "markdown",
   "metadata": {},
   "source": [
    "## sys.argv"
   ]
  },
  {
   "cell_type": "markdown",
   "metadata": {},
   "source": [
    "可以获取在命令行运行的脚本名称，如python.py。以及后面跟着输入的变量，组成一个列表。这样我们在命令行运行脚本的时候，将更加灵活，可以交互式的输入变量。\n",
    "\n",
    "比如现在有一个脚本`add.py`\n",
    "    \n",
    "    import sys\n",
    "    if __name__==\"__main__\":\n",
    "        name_of_jiaoben,arg1,arg2=sys.argv\n",
    "        print(arg1+arg2)\n",
    "        \n",
    "然后我们在命令行输入:\n",
    "\n",
    "    $python add.py 1,2 \n",
    "\n",
    "sys.argv将会得到 [add.py,1,1],然后输出结果"
   ]
  },
  {
   "cell_type": "markdown",
   "metadata": {},
   "source": [
    "## sys.platform\n"
   ]
  },
  {
   "cell_type": "code",
   "execution_count": 11,
   "metadata": {},
   "outputs": [
    {
     "data": {
      "text/plain": [
       "'win32'"
      ]
     },
     "execution_count": 11,
     "metadata": {},
     "output_type": "execute_result"
    }
   ],
   "source": [
    "#查看系统\n",
    "sys.platform"
   ]
  },
  {
   "cell_type": "markdown",
   "metadata": {},
   "source": [
    "## sys.executable"
   ]
  },
  {
   "cell_type": "markdown",
   "metadata": {},
   "source": [
    "该属性是一个字符串，在正常情况下，其值是当前运行的 Python 解释器对应的可执行程序所在的绝对路径。"
   ]
  },
  {
   "cell_type": "code",
   "execution_count": 12,
   "metadata": {},
   "outputs": [
    {
     "data": {
      "text/plain": [
       "'D:\\\\Anaconda\\\\python.exe'"
      ]
     },
     "execution_count": 12,
     "metadata": {},
     "output_type": "execute_result"
    }
   ],
   "source": [
    "sys.executable"
   ]
  },
  {
   "cell_type": "markdown",
   "metadata": {},
   "source": [
    "## sys.modules"
   ]
  },
  {
   "cell_type": "markdown",
   "metadata": {},
   "source": [
    "该属性是一个字典，包含的是各种已加载的模块的模块名到模块具体位置的映射。\n",
    "\n",
    "通过手动修改这个字典，可以重新加载某些模块；但要注意，切记不要大意删除了一些基本的项，否则可能会导致 Python 整个儿无法运行。"
   ]
  },
  {
   "cell_type": "markdown",
   "metadata": {},
   "source": [
    "If you want to iterate over this global dictionary always use sys.modules.copy() or tuple(sys.modules) to avoid exceptions as its size may change during iteration as a side effect of code or activity in other threads."
   ]
  },
  {
   "cell_type": "code",
   "execution_count": 13,
   "metadata": {
    "collapsed": true,
    "jupyter": {
     "outputs_hidden": true
    }
   },
   "outputs": [
    {
     "data": {
      "text/plain": [
       "{'sys': <module 'sys' (built-in)>,\n",
       " 'builtins': <module 'builtins' (built-in)>,\n",
       " '_frozen_importlib': <module 'importlib._bootstrap' (frozen)>,\n",
       " '_imp': <module '_imp' (built-in)>,\n",
       " '_thread': <module '_thread' (built-in)>,\n",
       " '_warnings': <module '_warnings' (built-in)>,\n",
       " '_weakref': <module '_weakref' (built-in)>,\n",
       " 'zipimport': <module 'zipimport' (built-in)>,\n",
       " '_frozen_importlib_external': <module 'importlib._bootstrap_external' (frozen)>,\n",
       " '_io': <module 'io' (built-in)>,\n",
       " 'marshal': <module 'marshal' (built-in)>,\n",
       " 'nt': <module 'nt' (built-in)>,\n",
       " 'winreg': <module 'winreg' (built-in)>,\n",
       " 'encodings': <module 'encodings' from 'D:\\\\Anaconda\\\\lib\\\\encodings\\\\__init__.py'>,\n",
       " 'codecs': <module 'codecs' from 'D:\\\\Anaconda\\\\lib\\\\codecs.py'>,\n",
       " '_codecs': <module '_codecs' (built-in)>,\n",
       " 'encodings.aliases': <module 'encodings.aliases' from 'D:\\\\Anaconda\\\\lib\\\\encodings\\\\aliases.py'>,\n",
       " 'encodings.utf_8': <module 'encodings.utf_8' from 'D:\\\\Anaconda\\\\lib\\\\encodings\\\\utf_8.py'>,\n",
       " '_signal': <module '_signal' (built-in)>,\n",
       " '__main__': <module '__main__'>,\n",
       " 'encodings.latin_1': <module 'encodings.latin_1' from 'D:\\\\Anaconda\\\\lib\\\\encodings\\\\latin_1.py'>,\n",
       " 'io': <module 'io' from 'D:\\\\Anaconda\\\\lib\\\\io.py'>,\n",
       " 'abc': <module 'abc' from 'D:\\\\Anaconda\\\\lib\\\\abc.py'>,\n",
       " '_abc': <module '_abc' (built-in)>,\n",
       " '_bootlocale': <module '_bootlocale' from 'D:\\\\Anaconda\\\\lib\\\\_bootlocale.py'>,\n",
       " '_locale': <module '_locale' (built-in)>,\n",
       " 'encodings.gbk': <module 'encodings.gbk' from 'D:\\\\Anaconda\\\\lib\\\\encodings\\\\gbk.py'>,\n",
       " '_codecs_cn': <module '_codecs_cn' (built-in)>,\n",
       " '_multibytecodec': <module '_multibytecodec' (built-in)>,\n",
       " 'site': <module 'site' from 'D:\\\\Anaconda\\\\lib\\\\site.py'>,\n",
       " 'os': <module 'os' from 'D:\\\\Anaconda\\\\lib\\\\os.py'>,\n",
       " 'stat': <module 'stat' from 'D:\\\\Anaconda\\\\lib\\\\stat.py'>,\n",
       " '_stat': <module '_stat' (built-in)>,\n",
       " 'ntpath': <module 'ntpath' from 'D:\\\\Anaconda\\\\lib\\\\ntpath.py'>,\n",
       " 'genericpath': <module 'genericpath' from 'D:\\\\Anaconda\\\\lib\\\\genericpath.py'>,\n",
       " 'os.path': <module 'ntpath' from 'D:\\\\Anaconda\\\\lib\\\\ntpath.py'>,\n",
       " '_collections_abc': <module '_collections_abc' from 'D:\\\\Anaconda\\\\lib\\\\_collections_abc.py'>,\n",
       " '_sitebuiltins': <module '_sitebuiltins' from 'D:\\\\Anaconda\\\\lib\\\\_sitebuiltins.py'>,\n",
       " 'types': <module 'types' from 'D:\\\\Anaconda\\\\lib\\\\types.py'>,\n",
       " 'importlib': <module 'importlib' from 'D:\\\\Anaconda\\\\lib\\\\importlib\\\\__init__.py'>,\n",
       " 'importlib._bootstrap': <module 'importlib._bootstrap' (frozen)>,\n",
       " 'importlib._bootstrap_external': <module 'importlib._bootstrap_external' (frozen)>,\n",
       " 'warnings': <module 'warnings' from 'D:\\\\Anaconda\\\\lib\\\\warnings.py'>,\n",
       " 'importlib.util': <module 'importlib.util' from 'D:\\\\Anaconda\\\\lib\\\\importlib\\\\util.py'>,\n",
       " 'importlib.abc': <module 'importlib.abc' from 'D:\\\\Anaconda\\\\lib\\\\importlib\\\\abc.py'>,\n",
       " 'importlib.machinery': <module 'importlib.machinery' from 'D:\\\\Anaconda\\\\lib\\\\importlib\\\\machinery.py'>,\n",
       " 'contextlib': <module 'contextlib' from 'D:\\\\Anaconda\\\\lib\\\\contextlib.py'>,\n",
       " 'collections': <module 'collections' from 'D:\\\\Anaconda\\\\lib\\\\collections\\\\__init__.py'>,\n",
       " 'operator': <module 'operator' from 'D:\\\\Anaconda\\\\lib\\\\operator.py'>,\n",
       " '_operator': <module '_operator' (built-in)>,\n",
       " 'keyword': <module 'keyword' from 'D:\\\\Anaconda\\\\lib\\\\keyword.py'>,\n",
       " 'heapq': <module 'heapq' from 'D:\\\\Anaconda\\\\lib\\\\heapq.py'>,\n",
       " '_heapq': <module '_heapq' (built-in)>,\n",
       " 'itertools': <module 'itertools' (built-in)>,\n",
       " 'reprlib': <module 'reprlib' from 'D:\\\\Anaconda\\\\lib\\\\reprlib.py'>,\n",
       " '_collections': <module '_collections' (built-in)>,\n",
       " 'functools': <module 'functools' from 'D:\\\\Anaconda\\\\lib\\\\functools.py'>,\n",
       " '_functools': <module '_functools' (built-in)>,\n",
       " 'mpl_toolkits': <module 'mpl_toolkits' (namespace)>,\n",
       " 'sphinxcontrib': <module 'sphinxcontrib' from 'D:\\\\Anaconda\\\\lib\\\\site-packages\\\\sphinxcontrib\\\\__init__.py'>,\n",
       " 'zope': <module 'zope' from 'D:\\\\Anaconda\\\\lib\\\\site-packages\\\\zope\\\\__init__.py'>,\n",
       " 'runpy': <module 'runpy' from 'D:\\\\Anaconda\\\\lib\\\\runpy.py'>,\n",
       " 'pkgutil': <module 'pkgutil' from 'D:\\\\Anaconda\\\\lib\\\\pkgutil.py'>,\n",
       " 'weakref': <module 'weakref' from 'D:\\\\Anaconda\\\\lib\\\\weakref.py'>,\n",
       " '_weakrefset': <module '_weakrefset' from 'D:\\\\Anaconda\\\\lib\\\\_weakrefset.py'>,\n",
       " 'ipykernel': <module 'ipykernel' from 'D:\\\\Anaconda\\\\lib\\\\site-packages\\\\ipykernel\\\\__init__.py'>,\n",
       " 'ipykernel._version': <module 'ipykernel._version' from 'D:\\\\Anaconda\\\\lib\\\\site-packages\\\\ipykernel\\\\_version.py'>,\n",
       " 'ipykernel.connect': <module 'ipykernel.connect' from 'D:\\\\Anaconda\\\\lib\\\\site-packages\\\\ipykernel\\\\connect.py'>,\n",
       " '__future__': <module '__future__' from 'D:\\\\Anaconda\\\\lib\\\\__future__.py'>,\n",
       " 'json': <module 'json' from 'D:\\\\Anaconda\\\\lib\\\\json\\\\__init__.py'>,\n",
       " 'json.decoder': <module 'json.decoder' from 'D:\\\\Anaconda\\\\lib\\\\json\\\\decoder.py'>,\n",
       " 're': <module 're' from 'D:\\\\Anaconda\\\\lib\\\\re.py'>,\n",
       " 'enum': <module 'enum' from 'D:\\\\Anaconda\\\\lib\\\\enum.py'>,\n",
       " 'sre_compile': <module 'sre_compile' from 'D:\\\\Anaconda\\\\lib\\\\sre_compile.py'>,\n",
       " '_sre': <module '_sre' (built-in)>,\n",
       " 'sre_parse': <module 'sre_parse' from 'D:\\\\Anaconda\\\\lib\\\\sre_parse.py'>,\n",
       " 'sre_constants': <module 'sre_constants' from 'D:\\\\Anaconda\\\\lib\\\\sre_constants.py'>,\n",
       " 'copyreg': <module 'copyreg' from 'D:\\\\Anaconda\\\\lib\\\\copyreg.py'>,\n",
       " 'json.scanner': <module 'json.scanner' from 'D:\\\\Anaconda\\\\lib\\\\json\\\\scanner.py'>,\n",
       " '_json': <module '_json' (built-in)>,\n",
       " 'json.encoder': <module 'json.encoder' from 'D:\\\\Anaconda\\\\lib\\\\json\\\\encoder.py'>,\n",
       " 'subprocess': <module 'subprocess' from 'D:\\\\Anaconda\\\\lib\\\\subprocess.py'>,\n",
       " 'time': <module 'time' (built-in)>,\n",
       " 'signal': <module 'signal' from 'D:\\\\Anaconda\\\\lib\\\\signal.py'>,\n",
       " 'errno': <module 'errno' (built-in)>,\n",
       " 'threading': <module 'threading' from 'D:\\\\Anaconda\\\\lib\\\\threading.py'>,\n",
       " 'traceback': <module 'traceback' from 'D:\\\\Anaconda\\\\lib\\\\traceback.py'>,\n",
       " 'linecache': <module 'linecache' from 'D:\\\\Anaconda\\\\lib\\\\linecache.py'>,\n",
       " 'tokenize': <module 'tokenize' from 'D:\\\\Anaconda\\\\lib\\\\tokenize.py'>,\n",
       " 'token': <module 'token' from 'D:\\\\Anaconda\\\\lib\\\\token.py'>,\n",
       " 'msvcrt': <module 'msvcrt' (built-in)>,\n",
       " '_winapi': <module '_winapi' (built-in)>,\n",
       " 'IPython': <module 'IPython' from 'D:\\\\Anaconda\\\\lib\\\\site-packages\\\\IPython\\\\__init__.py'>,\n",
       " 'IPython.core': <module 'IPython.core' from 'D:\\\\Anaconda\\\\lib\\\\site-packages\\\\IPython\\\\core\\\\__init__.py'>,\n",
       " 'IPython.core.getipython': <module 'IPython.core.getipython' from 'D:\\\\Anaconda\\\\lib\\\\site-packages\\\\IPython\\\\core\\\\getipython.py'>,\n",
       " 'IPython.core.release': <module 'IPython.core.release' from 'D:\\\\Anaconda\\\\lib\\\\site-packages\\\\IPython\\\\core\\\\release.py'>,\n",
       " 'IPython.core.application': <module 'IPython.core.application' from 'D:\\\\Anaconda\\\\lib\\\\site-packages\\\\IPython\\\\core\\\\application.py'>,\n",
       " 'atexit': <module 'atexit' (built-in)>,\n",
       " 'copy': <module 'copy' from 'D:\\\\Anaconda\\\\lib\\\\copy.py'>,\n",
       " 'glob': <module 'glob' from 'D:\\\\Anaconda\\\\lib\\\\glob.py'>,\n",
       " 'fnmatch': <module 'fnmatch' from 'D:\\\\Anaconda\\\\lib\\\\fnmatch.py'>,\n",
       " 'posixpath': <module 'posixpath' from 'D:\\\\Anaconda\\\\lib\\\\posixpath.py'>,\n",
       " 'logging': <module 'logging' from 'D:\\\\Anaconda\\\\lib\\\\logging\\\\__init__.py'>,\n",
       " 'collections.abc': <module 'collections.abc' from 'D:\\\\Anaconda\\\\lib\\\\collections\\\\abc.py'>,\n",
       " 'string': <module 'string' from 'D:\\\\Anaconda\\\\lib\\\\string.py'>,\n",
       " '_string': <module '_string' (built-in)>,\n",
       " 'shutil': <module 'shutil' from 'D:\\\\Anaconda\\\\lib\\\\shutil.py'>,\n",
       " 'zlib': <module 'zlib' (built-in)>,\n",
       " 'bz2': <module 'bz2' from 'D:\\\\Anaconda\\\\lib\\\\bz2.py'>,\n",
       " '_compression': <module '_compression' from 'D:\\\\Anaconda\\\\lib\\\\_compression.py'>,\n",
       " '_bz2': <module '_bz2' from 'D:\\\\Anaconda\\\\DLLs\\\\_bz2.pyd'>,\n",
       " 'lzma': <module 'lzma' from 'D:\\\\Anaconda\\\\lib\\\\lzma.py'>,\n",
       " '_lzma': <module '_lzma' from 'D:\\\\Anaconda\\\\DLLs\\\\_lzma.pyd'>,\n",
       " 'traitlets': <module 'traitlets' from 'D:\\\\Anaconda\\\\lib\\\\site-packages\\\\traitlets\\\\__init__.py'>,\n",
       " 'traitlets.traitlets': <module 'traitlets.traitlets' from 'D:\\\\Anaconda\\\\lib\\\\site-packages\\\\traitlets\\\\traitlets.py'>,\n",
       " 'inspect': <module 'inspect' from 'D:\\\\Anaconda\\\\lib\\\\inspect.py'>,\n",
       " 'dis': <module 'dis' from 'D:\\\\Anaconda\\\\lib\\\\dis.py'>,\n",
       " 'opcode': <module 'opcode' from 'D:\\\\Anaconda\\\\lib\\\\opcode.py'>,\n",
       " '_opcode': <module '_opcode' (built-in)>,\n",
       " 'six': <module 'six' from 'D:\\\\Anaconda\\\\lib\\\\site-packages\\\\six.py'>,\n",
       " 'struct': <module 'struct' from 'D:\\\\Anaconda\\\\lib\\\\struct.py'>,\n",
       " '_struct': <module '_struct' (built-in)>,\n",
       " 'traitlets.utils': <module 'traitlets.utils' from 'D:\\\\Anaconda\\\\lib\\\\site-packages\\\\traitlets\\\\utils\\\\__init__.py'>,\n",
       " 'traitlets.utils.getargspec': <module 'traitlets.utils.getargspec' from 'D:\\\\Anaconda\\\\lib\\\\site-packages\\\\traitlets\\\\utils\\\\getargspec.py'>,\n",
       " 'traitlets.utils.importstring': <module 'traitlets.utils.importstring' from 'D:\\\\Anaconda\\\\lib\\\\site-packages\\\\traitlets\\\\utils\\\\importstring.py'>,\n",
       " 'ipython_genutils': <module 'ipython_genutils' from 'D:\\\\Anaconda\\\\lib\\\\site-packages\\\\ipython_genutils\\\\__init__.py'>,\n",
       " 'ipython_genutils._version': <module 'ipython_genutils._version' from 'D:\\\\Anaconda\\\\lib\\\\site-packages\\\\ipython_genutils\\\\_version.py'>,\n",
       " 'ipython_genutils.py3compat': <module 'ipython_genutils.py3compat' from 'D:\\\\Anaconda\\\\lib\\\\site-packages\\\\ipython_genutils\\\\py3compat.py'>,\n",
       " 'ipython_genutils.encoding': <module 'ipython_genutils.encoding' from 'D:\\\\Anaconda\\\\lib\\\\site-packages\\\\ipython_genutils\\\\encoding.py'>,\n",
       " 'locale': <module 'locale' from 'D:\\\\Anaconda\\\\lib\\\\locale.py'>,\n",
       " 'platform': <module 'platform' from 'D:\\\\Anaconda\\\\lib\\\\platform.py'>,\n",
       " 'traitlets.utils.sentinel': <module 'traitlets.utils.sentinel' from 'D:\\\\Anaconda\\\\lib\\\\site-packages\\\\traitlets\\\\utils\\\\sentinel.py'>,\n",
       " 'traitlets.utils.bunch': <module 'traitlets.utils.bunch' from 'D:\\\\Anaconda\\\\lib\\\\site-packages\\\\traitlets\\\\utils\\\\bunch.py'>,\n",
       " 'traitlets._version': <module 'traitlets._version' from 'D:\\\\Anaconda\\\\lib\\\\site-packages\\\\traitlets\\\\_version.py'>,\n",
       " 'traitlets.config': <module 'traitlets.config' from 'D:\\\\Anaconda\\\\lib\\\\site-packages\\\\traitlets\\\\config\\\\__init__.py'>,\n",
       " 'traitlets.config.application': <module 'traitlets.config.application' from 'D:\\\\Anaconda\\\\lib\\\\site-packages\\\\traitlets\\\\config\\\\application.py'>,\n",
       " 'decorator': <module 'decorator' from 'D:\\\\Anaconda\\\\lib\\\\site-packages\\\\decorator.py'>,\n",
       " 'traitlets.config.configurable': <module 'traitlets.config.configurable' from 'D:\\\\Anaconda\\\\lib\\\\site-packages\\\\traitlets\\\\config\\\\configurable.py'>,\n",
       " 'traitlets.config.loader': <module 'traitlets.config.loader' from 'D:\\\\Anaconda\\\\lib\\\\site-packages\\\\traitlets\\\\config\\\\loader.py'>,\n",
       " 'argparse': <module 'argparse' from 'D:\\\\Anaconda\\\\lib\\\\argparse.py'>,\n",
       " 'gettext': <module 'gettext' from 'D:\\\\Anaconda\\\\lib\\\\gettext.py'>,\n",
       " 'ast': <module 'ast' from 'D:\\\\Anaconda\\\\lib\\\\ast.py'>,\n",
       " '_ast': <module '_ast' (built-in)>,\n",
       " 'ipython_genutils.path': <module 'ipython_genutils.path' from 'D:\\\\Anaconda\\\\lib\\\\site-packages\\\\ipython_genutils\\\\path.py'>,\n",
       " 'random': <module 'random' from 'D:\\\\Anaconda\\\\lib\\\\random.py'>,\n",
       " 'math': <module 'math' (built-in)>,\n",
       " 'hashlib': <module 'hashlib' from 'D:\\\\Anaconda\\\\lib\\\\hashlib.py'>,\n",
       " '_hashlib': <module '_hashlib' from 'D:\\\\Anaconda\\\\DLLs\\\\_hashlib.pyd'>,\n",
       " '_blake2': <module '_blake2' (built-in)>,\n",
       " '_sha3': <module '_sha3' (built-in)>,\n",
       " 'bisect': <module 'bisect' from 'D:\\\\Anaconda\\\\lib\\\\bisect.py'>,\n",
       " '_bisect': <module '_bisect' (built-in)>,\n",
       " '_random': <module '_random' (built-in)>,\n",
       " 'ipython_genutils.text': <module 'ipython_genutils.text' from 'D:\\\\Anaconda\\\\lib\\\\site-packages\\\\ipython_genutils\\\\text.py'>,\n",
       " 'textwrap': <module 'textwrap' from 'D:\\\\Anaconda\\\\lib\\\\textwrap.py'>,\n",
       " 'ipython_genutils.importstring': <module 'ipython_genutils.importstring' from 'D:\\\\Anaconda\\\\lib\\\\site-packages\\\\ipython_genutils\\\\importstring.py'>,\n",
       " 'IPython.core.crashhandler': <module 'IPython.core.crashhandler' from 'D:\\\\Anaconda\\\\lib\\\\site-packages\\\\IPython\\\\core\\\\crashhandler.py'>,\n",
       " 'pprint': <module 'pprint' from 'D:\\\\Anaconda\\\\lib\\\\pprint.py'>,\n",
       " 'IPython.core.ultratb': <module 'IPython.core.ultratb' from 'D:\\\\Anaconda\\\\lib\\\\site-packages\\\\IPython\\\\core\\\\ultratb.py'>,\n",
       " 'pydoc': <module 'pydoc' from 'D:\\\\Anaconda\\\\lib\\\\pydoc.py'>,\n",
       " 'urllib': <module 'urllib' from 'D:\\\\Anaconda\\\\lib\\\\urllib\\\\__init__.py'>,\n",
       " 'urllib.parse': <module 'urllib.parse' from 'D:\\\\Anaconda\\\\lib\\\\urllib\\\\parse.py'>,\n",
       " 'IPython.core.debugger': <module 'IPython.core.debugger' from 'D:\\\\Anaconda\\\\lib\\\\site-packages\\\\IPython\\\\core\\\\debugger.py'>,\n",
       " 'bdb': <module 'bdb' from 'D:\\\\Anaconda\\\\lib\\\\bdb.py'>,\n",
       " 'IPython.utils': <module 'IPython.utils' from 'D:\\\\Anaconda\\\\lib\\\\site-packages\\\\IPython\\\\utils\\\\__init__.py'>,\n",
       " 'IPython.utils.PyColorize': <module 'IPython.utils.PyColorize' from 'D:\\\\Anaconda\\\\lib\\\\site-packages\\\\IPython\\\\utils\\\\PyColorize.py'>,\n",
       " 'IPython.utils.coloransi': <module 'IPython.utils.coloransi' from 'D:\\\\Anaconda\\\\lib\\\\site-packages\\\\IPython\\\\utils\\\\coloransi.py'>,\n",
       " 'IPython.utils.ipstruct': <module 'IPython.utils.ipstruct' from 'D:\\\\Anaconda\\\\lib\\\\site-packages\\\\IPython\\\\utils\\\\ipstruct.py'>,\n",
       " 'IPython.utils.colorable': <module 'IPython.utils.colorable' from 'D:\\\\Anaconda\\\\lib\\\\site-packages\\\\IPython\\\\utils\\\\colorable.py'>,\n",
       " 'pygments': <module 'pygments' from 'D:\\\\Anaconda\\\\lib\\\\site-packages\\\\pygments\\\\__init__.py'>,\n",
       " 'IPython.utils.py3compat': <module 'IPython.utils.py3compat' from 'D:\\\\Anaconda\\\\lib\\\\site-packages\\\\IPython\\\\utils\\\\py3compat.py'>,\n",
       " 'IPython.utils.encoding': <module 'IPython.utils.encoding' from 'D:\\\\Anaconda\\\\lib\\\\site-packages\\\\IPython\\\\utils\\\\encoding.py'>,\n",
       " 'IPython.core.excolors': <module 'IPython.core.excolors' from 'D:\\\\Anaconda\\\\lib\\\\site-packages\\\\IPython\\\\core\\\\excolors.py'>,\n",
       " 'IPython.testing': <module 'IPython.testing' from 'D:\\\\Anaconda\\\\lib\\\\site-packages\\\\IPython\\\\testing\\\\__init__.py'>,\n",
       " 'IPython.testing.skipdoctest': <module 'IPython.testing.skipdoctest' from 'D:\\\\Anaconda\\\\lib\\\\site-packages\\\\IPython\\\\testing\\\\skipdoctest.py'>,\n",
       " 'pdb': <module 'pdb' from 'D:\\\\Anaconda\\\\lib\\\\pdb.py'>,\n",
       " 'cmd': <module 'cmd' from 'D:\\\\Anaconda\\\\lib\\\\cmd.py'>,\n",
       " 'code': <module 'code' from 'D:\\\\Anaconda\\\\lib\\\\code.py'>,\n",
       " 'codeop': <module 'codeop' from 'D:\\\\Anaconda\\\\lib\\\\codeop.py'>,\n",
       " 'IPython.core.display_trap': <module 'IPython.core.display_trap' from 'D:\\\\Anaconda\\\\lib\\\\site-packages\\\\IPython\\\\core\\\\display_trap.py'>,\n",
       " 'IPython.utils.path': <module 'IPython.utils.path' from 'D:\\\\Anaconda\\\\lib\\\\site-packages\\\\IPython\\\\utils\\\\path.py'>,\n",
       " 'IPython.utils.process': <module 'IPython.utils.process' from 'D:\\\\Anaconda\\\\lib\\\\site-packages\\\\IPython\\\\utils\\\\process.py'>,\n",
       " 'IPython.utils._process_win32': <module 'IPython.utils._process_win32' from 'D:\\\\Anaconda\\\\lib\\\\site-packages\\\\IPython\\\\utils\\\\_process_win32.py'>,\n",
       " 'ctypes': <module 'ctypes' from 'D:\\\\Anaconda\\\\lib\\\\ctypes\\\\__init__.py'>,\n",
       " '_ctypes': <module '_ctypes' from 'D:\\\\Anaconda\\\\DLLs\\\\_ctypes.pyd'>,\n",
       " 'ctypes._endian': <module 'ctypes._endian' from 'D:\\\\Anaconda\\\\lib\\\\ctypes\\\\_endian.py'>,\n",
       " 'ctypes.wintypes': <module 'ctypes.wintypes' from 'D:\\\\Anaconda\\\\lib\\\\ctypes\\\\wintypes.py'>,\n",
       " 'IPython.utils._process_common': <module 'IPython.utils._process_common' from 'D:\\\\Anaconda\\\\lib\\\\site-packages\\\\IPython\\\\utils\\\\_process_common.py'>,\n",
       " 'shlex': <module 'shlex' from 'D:\\\\Anaconda\\\\lib\\\\shlex.py'>,\n",
       " 'IPython.utils.decorators': <module 'IPython.utils.decorators' from 'D:\\\\Anaconda\\\\lib\\\\site-packages\\\\IPython\\\\utils\\\\decorators.py'>,\n",
       " 'IPython.utils.data': <module 'IPython.utils.data' from 'D:\\\\Anaconda\\\\lib\\\\site-packages\\\\IPython\\\\utils\\\\data.py'>,\n",
       " 'IPython.utils.terminal': <module 'IPython.utils.terminal' from 'D:\\\\Anaconda\\\\lib\\\\site-packages\\\\IPython\\\\utils\\\\terminal.py'>,\n",
       " 'IPython.utils.sysinfo': <module 'IPython.utils.sysinfo' from 'D:\\\\Anaconda\\\\lib\\\\site-packages\\\\IPython\\\\utils\\\\sysinfo.py'>,\n",
       " 'IPython.utils._sysinfo': <module 'IPython.utils._sysinfo' from 'D:\\\\Anaconda\\\\lib\\\\site-packages\\\\IPython\\\\utils\\\\_sysinfo.py'>,\n",
       " 'IPython.core.profiledir': <module 'IPython.core.profiledir' from 'D:\\\\Anaconda\\\\lib\\\\site-packages\\\\IPython\\\\core\\\\profiledir.py'>,\n",
       " 'IPython.paths': <module 'IPython.paths' from 'D:\\\\Anaconda\\\\lib\\\\site-packages\\\\IPython\\\\paths.py'>,\n",
       " 'tempfile': <module 'tempfile' from 'D:\\\\Anaconda\\\\lib\\\\tempfile.py'>,\n",
       " 'IPython.utils.importstring': <module 'IPython.utils.importstring' from 'D:\\\\Anaconda\\\\lib\\\\site-packages\\\\IPython\\\\utils\\\\importstring.py'>,\n",
       " 'IPython.terminal': <module 'IPython.terminal' from 'D:\\\\Anaconda\\\\lib\\\\site-packages\\\\IPython\\\\terminal\\\\__init__.py'>,\n",
       " 'IPython.terminal.embed': <module 'IPython.terminal.embed' from 'D:\\\\Anaconda\\\\lib\\\\site-packages\\\\IPython\\\\terminal\\\\embed.py'>,\n",
       " 'IPython.core.compilerop': <module 'IPython.core.compilerop' from 'D:\\\\Anaconda\\\\lib\\\\site-packages\\\\IPython\\\\core\\\\compilerop.py'>,\n",
       " 'IPython.core.magic_arguments': <module 'IPython.core.magic_arguments' from 'D:\\\\Anaconda\\\\lib\\\\site-packages\\\\IPython\\\\core\\\\magic_arguments.py'>,\n",
       " 'IPython.core.error': <module 'IPython.core.error' from 'D:\\\\Anaconda\\\\lib\\\\site-packages\\\\IPython\\\\core\\\\error.py'>,\n",
       " 'IPython.utils.text': <module 'IPython.utils.text' from 'D:\\\\Anaconda\\\\lib\\\\site-packages\\\\IPython\\\\utils\\\\text.py'>,\n",
       " 'pathlib': <module 'pathlib' from 'D:\\\\Anaconda\\\\lib\\\\pathlib.py'>,\n",
       " 'IPython.core.magic': <module 'IPython.core.magic' from 'D:\\\\Anaconda\\\\lib\\\\site-packages\\\\IPython\\\\core\\\\magic.py'>,\n",
       " 'getopt': <module 'getopt' from 'D:\\\\Anaconda\\\\lib\\\\getopt.py'>,\n",
       " 'IPython.core.oinspect': <module 'IPython.core.oinspect' from 'D:\\\\Anaconda\\\\lib\\\\site-packages\\\\IPython\\\\core\\\\oinspect.py'>,\n",
       " 'IPython.core.page': <module 'IPython.core.page' from 'D:\\\\Anaconda\\\\lib\\\\site-packages\\\\IPython\\\\core\\\\page.py'>,\n",
       " 'IPython.core.display': <module 'IPython.core.display' from 'D:\\\\Anaconda\\\\lib\\\\site-packages\\\\IPython\\\\core\\\\display.py'>,\n",
       " 'binascii': <module 'binascii' (built-in)>,\n",
       " 'mimetypes': <module 'mimetypes' from 'D:\\\\Anaconda\\\\lib\\\\mimetypes.py'>,\n",
       " 'IPython.lib': <module 'IPython.lib' from 'D:\\\\Anaconda\\\\lib\\\\site-packages\\\\IPython\\\\lib\\\\__init__.py'>,\n",
       " 'IPython.lib.security': <module 'IPython.lib.security' from 'D:\\\\Anaconda\\\\lib\\\\site-packages\\\\IPython\\\\lib\\\\security.py'>,\n",
       " 'getpass': <module 'getpass' from 'D:\\\\Anaconda\\\\lib\\\\getpass.py'>,\n",
       " 'IPython.lib.pretty': <module 'IPython.lib.pretty' from 'D:\\\\Anaconda\\\\lib\\\\site-packages\\\\IPython\\\\lib\\\\pretty.py'>,\n",
       " 'datetime': <module 'datetime' from 'D:\\\\Anaconda\\\\lib\\\\datetime.py'>,\n",
       " '_datetime': <module '_datetime' (built-in)>,\n",
       " 'IPython.utils.openpy': <module 'IPython.utils.openpy' from 'D:\\\\Anaconda\\\\lib\\\\site-packages\\\\IPython\\\\utils\\\\openpy.py'>,\n",
       " 'IPython.utils.dir2': <module 'IPython.utils.dir2' from 'D:\\\\Anaconda\\\\lib\\\\site-packages\\\\IPython\\\\utils\\\\dir2.py'>,\n",
       " 'IPython.utils.wildcard': <module 'IPython.utils.wildcard' from 'D:\\\\Anaconda\\\\lib\\\\site-packages\\\\IPython\\\\utils\\\\wildcard.py'>,\n",
       " 'pygments.lexers': <module 'pygments.lexers' from 'D:\\\\Anaconda\\\\lib\\\\site-packages\\\\pygments\\\\lexers\\\\__init__.py'>,\n",
       " 'pygments.lexers._mapping': <module 'pygments.lexers._mapping' from 'D:\\\\Anaconda\\\\lib\\\\site-packages\\\\pygments\\\\lexers\\\\_mapping.py'>,\n",
       " 'pygments.modeline': <module 'pygments.modeline' from 'D:\\\\Anaconda\\\\lib\\\\site-packages\\\\pygments\\\\modeline.py'>,\n",
       " 'pygments.plugin': <module 'pygments.plugin' from 'D:\\\\Anaconda\\\\lib\\\\site-packages\\\\pygments\\\\plugin.py'>,\n",
       " 'pygments.util': <module 'pygments.util' from 'D:\\\\Anaconda\\\\lib\\\\site-packages\\\\pygments\\\\util.py'>,\n",
       " 'pygments.lexers.python': <module 'pygments.lexers.python' from 'D:\\\\Anaconda\\\\lib\\\\site-packages\\\\pygments\\\\lexers\\\\python.py'>,\n",
       " 'pygments.lexer': <module 'pygments.lexer' from 'D:\\\\Anaconda\\\\lib\\\\site-packages\\\\pygments\\\\lexer.py'>,\n",
       " 'pygments.filter': <module 'pygments.filter' from 'D:\\\\Anaconda\\\\lib\\\\site-packages\\\\pygments\\\\filter.py'>,\n",
       " 'pygments.filters': <module 'pygments.filters' from 'D:\\\\Anaconda\\\\lib\\\\site-packages\\\\pygments\\\\filters\\\\__init__.py'>,\n",
       " 'pygments.token': <module 'pygments.token' from 'D:\\\\Anaconda\\\\lib\\\\site-packages\\\\pygments\\\\token.py'>,\n",
       " 'pygments.regexopt': <module 'pygments.regexopt' from 'D:\\\\Anaconda\\\\lib\\\\site-packages\\\\pygments\\\\regexopt.py'>,\n",
       " 'pygments.unistring': <module 'pygments.unistring' from 'D:\\\\Anaconda\\\\lib\\\\site-packages\\\\pygments\\\\unistring.py'>,\n",
       " 'pygments.formatters': <module 'pygments.formatters' from 'D:\\\\Anaconda\\\\lib\\\\site-packages\\\\pygments\\\\formatters\\\\__init__.py'>,\n",
       " 'pygments.formatters._mapping': <module 'pygments.formatters._mapping' from 'D:\\\\Anaconda\\\\lib\\\\site-packages\\\\pygments\\\\formatters\\\\_mapping.py'>,\n",
       " 'pygments.formatters.html': <module 'pygments.formatters.html' from 'D:\\\\Anaconda\\\\lib\\\\site-packages\\\\pygments\\\\formatters\\\\html.py'>,\n",
       " 'pygments.formatter': <module 'pygments.formatter' from 'D:\\\\Anaconda\\\\lib\\\\site-packages\\\\pygments\\\\formatter.py'>,\n",
       " 'pygments.styles': <module 'pygments.styles' from 'D:\\\\Anaconda\\\\lib\\\\site-packages\\\\pygments\\\\styles\\\\__init__.py'>,\n",
       " 'IPython.core.inputtransformer2': <module 'IPython.core.inputtransformer2' from 'D:\\\\Anaconda\\\\lib\\\\site-packages\\\\IPython\\\\core\\\\inputtransformer2.py'>,\n",
       " 'typing': <module 'typing' from 'D:\\\\Anaconda\\\\lib\\\\typing.py'>,\n",
       " 'typing.io': typing.io,\n",
       " 'typing.re': typing.re,\n",
       " 'IPython.core.interactiveshell': <module 'IPython.core.interactiveshell' from 'D:\\\\Anaconda\\\\lib\\\\site-packages\\\\IPython\\\\core\\\\interactiveshell.py'>,\n",
       " 'asyncio': <module 'asyncio' from 'D:\\\\Anaconda\\\\lib\\\\asyncio\\\\__init__.py'>,\n",
       " 'asyncio.base_events': <module 'asyncio.base_events' from 'D:\\\\Anaconda\\\\lib\\\\asyncio\\\\base_events.py'>,\n",
       " 'concurrent': <module 'concurrent' from 'D:\\\\Anaconda\\\\lib\\\\concurrent\\\\__init__.py'>,\n",
       " 'concurrent.futures': <module 'concurrent.futures' from 'D:\\\\Anaconda\\\\lib\\\\concurrent\\\\futures\\\\__init__.py'>,\n",
       " 'concurrent.futures._base': <module 'concurrent.futures._base' from 'D:\\\\Anaconda\\\\lib\\\\concurrent\\\\futures\\\\_base.py'>,\n",
       " 'socket': <module 'socket' from 'D:\\\\Anaconda\\\\lib\\\\socket.py'>,\n",
       " '_socket': <module '_socket' from 'D:\\\\Anaconda\\\\DLLs\\\\_socket.pyd'>,\n",
       " 'selectors': <module 'selectors' from 'D:\\\\Anaconda\\\\lib\\\\selectors.py'>,\n",
       " 'select': <module 'select' from 'D:\\\\Anaconda\\\\DLLs\\\\select.pyd'>,\n",
       " 'ssl': <module 'ssl' from 'D:\\\\Anaconda\\\\lib\\\\ssl.py'>,\n",
       " '_ssl': <module '_ssl' from 'D:\\\\Anaconda\\\\DLLs\\\\_ssl.pyd'>,\n",
       " 'base64': <module 'base64' from 'D:\\\\Anaconda\\\\lib\\\\base64.py'>,\n",
       " 'asyncio.constants': <module 'asyncio.constants' from 'D:\\\\Anaconda\\\\lib\\\\asyncio\\\\constants.py'>,\n",
       " 'asyncio.coroutines': <module 'asyncio.coroutines' from 'D:\\\\Anaconda\\\\lib\\\\asyncio\\\\coroutines.py'>,\n",
       " 'asyncio.base_futures': <module 'asyncio.base_futures' from 'D:\\\\Anaconda\\\\lib\\\\asyncio\\\\base_futures.py'>,\n",
       " 'asyncio.format_helpers': <module 'asyncio.format_helpers' from 'D:\\\\Anaconda\\\\lib\\\\asyncio\\\\format_helpers.py'>,\n",
       " 'asyncio.log': <module 'asyncio.log' from 'D:\\\\Anaconda\\\\lib\\\\asyncio\\\\log.py'>,\n",
       " 'asyncio.events': <module 'asyncio.events' from 'D:\\\\Anaconda\\\\lib\\\\asyncio\\\\events.py'>,\n",
       " 'contextvars': <module 'contextvars' from 'D:\\\\Anaconda\\\\lib\\\\contextvars.py'>,\n",
       " '_contextvars': <module '_contextvars' (built-in)>,\n",
       " 'asyncio.base_tasks': <module 'asyncio.base_tasks' from 'D:\\\\Anaconda\\\\lib\\\\asyncio\\\\base_tasks.py'>,\n",
       " '_asyncio': <module '_asyncio' from 'D:\\\\Anaconda\\\\DLLs\\\\_asyncio.pyd'>,\n",
       " 'asyncio.futures': <module 'asyncio.futures' from 'D:\\\\Anaconda\\\\lib\\\\asyncio\\\\futures.py'>,\n",
       " 'asyncio.protocols': <module 'asyncio.protocols' from 'D:\\\\Anaconda\\\\lib\\\\asyncio\\\\protocols.py'>,\n",
       " 'asyncio.sslproto': <module 'asyncio.sslproto' from 'D:\\\\Anaconda\\\\lib\\\\asyncio\\\\sslproto.py'>,\n",
       " 'asyncio.transports': <module 'asyncio.transports' from 'D:\\\\Anaconda\\\\lib\\\\asyncio\\\\transports.py'>,\n",
       " 'asyncio.tasks': <module 'asyncio.tasks' from 'D:\\\\Anaconda\\\\lib\\\\asyncio\\\\tasks.py'>,\n",
       " 'asyncio.locks': <module 'asyncio.locks' from 'D:\\\\Anaconda\\\\lib\\\\asyncio\\\\locks.py'>,\n",
       " 'asyncio.runners': <module 'asyncio.runners' from 'D:\\\\Anaconda\\\\lib\\\\asyncio\\\\runners.py'>,\n",
       " 'asyncio.queues': <module 'asyncio.queues' from 'D:\\\\Anaconda\\\\lib\\\\asyncio\\\\queues.py'>,\n",
       " 'asyncio.streams': <module 'asyncio.streams' from 'D:\\\\Anaconda\\\\lib\\\\asyncio\\\\streams.py'>,\n",
       " 'asyncio.subprocess': <module 'asyncio.subprocess' from 'D:\\\\Anaconda\\\\lib\\\\asyncio\\\\subprocess.py'>,\n",
       " 'asyncio.windows_events': <module 'asyncio.windows_events' from 'D:\\\\Anaconda\\\\lib\\\\asyncio\\\\windows_events.py'>,\n",
       " '_overlapped': <module '_overlapped' from 'D:\\\\Anaconda\\\\DLLs\\\\_overlapped.pyd'>,\n",
       " 'asyncio.base_subprocess': <module 'asyncio.base_subprocess' from 'D:\\\\Anaconda\\\\lib\\\\asyncio\\\\base_subprocess.py'>,\n",
       " 'asyncio.proactor_events': <module 'asyncio.proactor_events' from 'D:\\\\Anaconda\\\\lib\\\\asyncio\\\\proactor_events.py'>,\n",
       " 'asyncio.selector_events': <module 'asyncio.selector_events' from 'D:\\\\Anaconda\\\\lib\\\\asyncio\\\\selector_events.py'>,\n",
       " 'asyncio.windows_utils': <module 'asyncio.windows_utils' from 'D:\\\\Anaconda\\\\lib\\\\asyncio\\\\windows_utils.py'>,\n",
       " 'pickleshare': <module 'pickleshare' from 'D:\\\\Anaconda\\\\lib\\\\site-packages\\\\pickleshare.py'>,\n",
       " 'pickle': <module 'pickle' from 'D:\\\\Anaconda\\\\lib\\\\pickle.py'>,\n",
       " '_compat_pickle': <module '_compat_pickle' from 'D:\\\\Anaconda\\\\lib\\\\_compat_pickle.py'>,\n",
       " '_pickle': <module '_pickle' (built-in)>,\n",
       " 'IPython.core.prefilter': <module 'IPython.core.prefilter' from 'D:\\\\Anaconda\\\\lib\\\\site-packages\\\\IPython\\\\core\\\\prefilter.py'>,\n",
       " 'IPython.core.autocall': <module 'IPython.core.autocall' from 'D:\\\\Anaconda\\\\lib\\\\site-packages\\\\IPython\\\\core\\\\autocall.py'>,\n",
       " 'IPython.core.macro': <module 'IPython.core.macro' from 'D:\\\\Anaconda\\\\lib\\\\site-packages\\\\IPython\\\\core\\\\macro.py'>,\n",
       " 'IPython.core.splitinput': <module 'IPython.core.splitinput' from 'D:\\\\Anaconda\\\\lib\\\\site-packages\\\\IPython\\\\core\\\\splitinput.py'>,\n",
       " 'IPython.core.alias': <module 'IPython.core.alias' from 'D:\\\\Anaconda\\\\lib\\\\site-packages\\\\IPython\\\\core\\\\alias.py'>,\n",
       " 'IPython.core.builtin_trap': <module 'IPython.core.builtin_trap' from 'D:\\\\Anaconda\\\\lib\\\\site-packages\\\\IPython\\\\core\\\\builtin_trap.py'>,\n",
       " 'IPython.core.events': <module 'IPython.core.events' from 'D:\\\\Anaconda\\\\lib\\\\site-packages\\\\IPython\\\\core\\\\events.py'>,\n",
       " 'backcall': <module 'backcall' from 'D:\\\\Anaconda\\\\lib\\\\site-packages\\\\backcall\\\\__init__.py'>,\n",
       " 'backcall.backcall': <module 'backcall.backcall' from 'D:\\\\Anaconda\\\\lib\\\\site-packages\\\\backcall\\\\backcall.py'>,\n",
       " 'IPython.core.displayhook': <module 'IPython.core.displayhook' from 'D:\\\\Anaconda\\\\lib\\\\site-packages\\\\IPython\\\\core\\\\displayhook.py'>,\n",
       " 'IPython.core.displaypub': <module 'IPython.core.displaypub' from 'D:\\\\Anaconda\\\\lib\\\\site-packages\\\\IPython\\\\core\\\\displaypub.py'>,\n",
       " 'IPython.core.extensions': <module 'IPython.core.extensions' from 'D:\\\\Anaconda\\\\lib\\\\site-packages\\\\IPython\\\\core\\\\extensions.py'>,\n",
       " 'IPython.core.formatters': <module 'IPython.core.formatters' from 'D:\\\\Anaconda\\\\lib\\\\site-packages\\\\IPython\\\\core\\\\formatters.py'>,\n",
       " 'IPython.utils.sentinel': <module 'IPython.utils.sentinel' from 'D:\\\\Anaconda\\\\lib\\\\site-packages\\\\IPython\\\\utils\\\\sentinel.py'>,\n",
       " 'IPython.core.history': <module 'IPython.core.history' from 'D:\\\\Anaconda\\\\lib\\\\site-packages\\\\IPython\\\\core\\\\history.py'>,\n",
       " 'sqlite3': <module 'sqlite3' from 'D:\\\\Anaconda\\\\lib\\\\sqlite3\\\\__init__.py'>,\n",
       " 'sqlite3.dbapi2': <module 'sqlite3.dbapi2' from 'D:\\\\Anaconda\\\\lib\\\\sqlite3\\\\dbapi2.py'>,\n",
       " '_sqlite3': <module '_sqlite3' from 'D:\\\\Anaconda\\\\DLLs\\\\_sqlite3.pyd'>,\n",
       " 'IPython.core.logger': <module 'IPython.core.logger' from 'D:\\\\Anaconda\\\\lib\\\\site-packages\\\\IPython\\\\core\\\\logger.py'>,\n",
       " 'IPython.core.payload': <module 'IPython.core.payload' from 'D:\\\\Anaconda\\\\lib\\\\site-packages\\\\IPython\\\\core\\\\payload.py'>,\n",
       " 'IPython.core.usage': <module 'IPython.core.usage' from 'D:\\\\Anaconda\\\\lib\\\\site-packages\\\\IPython\\\\core\\\\usage.py'>,\n",
       " 'IPython.display': <module 'IPython.display' from 'D:\\\\Anaconda\\\\lib\\\\site-packages\\\\IPython\\\\display.py'>,\n",
       " 'IPython.lib.display': <module 'IPython.lib.display' from 'D:\\\\Anaconda\\\\lib\\\\site-packages\\\\IPython\\\\lib\\\\display.py'>,\n",
       " 'html': <module 'html' from 'D:\\\\Anaconda\\\\lib\\\\html\\\\__init__.py'>,\n",
       " 'html.entities': <module 'html.entities' from 'D:\\\\Anaconda\\\\lib\\\\html\\\\entities.py'>,\n",
       " 'IPython.utils.io': <module 'IPython.utils.io' from 'D:\\\\Anaconda\\\\lib\\\\site-packages\\\\IPython\\\\utils\\\\io.py'>,\n",
       " 'IPython.utils.capture': <module 'IPython.utils.capture' from 'D:\\\\Anaconda\\\\lib\\\\site-packages\\\\IPython\\\\utils\\\\capture.py'>,\n",
       " 'IPython.utils.strdispatch': <module 'IPython.utils.strdispatch' from 'D:\\\\Anaconda\\\\lib\\\\site-packages\\\\IPython\\\\utils\\\\strdispatch.py'>,\n",
       " 'IPython.core.hooks': <module 'IPython.core.hooks' from 'D:\\\\Anaconda\\\\lib\\\\site-packages\\\\IPython\\\\core\\\\hooks.py'>,\n",
       " 'IPython.utils.syspathcontext': <module 'IPython.utils.syspathcontext' from 'D:\\\\Anaconda\\\\lib\\\\site-packages\\\\IPython\\\\utils\\\\syspathcontext.py'>,\n",
       " 'IPython.utils.tempdir': <module 'IPython.utils.tempdir' from 'D:\\\\Anaconda\\\\lib\\\\site-packages\\\\IPython\\\\utils\\\\tempdir.py'>,\n",
       " 'IPython.utils.contexts': <module 'IPython.utils.contexts' from 'D:\\\\Anaconda\\\\lib\\\\site-packages\\\\IPython\\\\utils\\\\contexts.py'>,\n",
       " 'IPython.core.async_helpers': <module 'IPython.core.async_helpers' from 'D:\\\\Anaconda\\\\lib\\\\site-packages\\\\IPython\\\\core\\\\async_helpers.py'>,\n",
       " 'IPython.terminal.interactiveshell': <module 'IPython.terminal.interactiveshell' from 'D:\\\\Anaconda\\\\lib\\\\site-packages\\\\IPython\\\\terminal\\\\interactiveshell.py'>,\n",
       " 'prompt_toolkit': <module 'prompt_toolkit' from 'D:\\\\Anaconda\\\\lib\\\\site-packages\\\\prompt_toolkit\\\\__init__.py'>,\n",
       " 'prompt_toolkit.application': <module 'prompt_toolkit.application' from 'D:\\\\Anaconda\\\\lib\\\\site-packages\\\\prompt_toolkit\\\\application\\\\__init__.py'>,\n",
       " 'prompt_toolkit.application.application': <module 'prompt_toolkit.application.application' from 'D:\\\\Anaconda\\\\lib\\\\site-packages\\\\prompt_toolkit\\\\application\\\\application.py'>,\n",
       " 'prompt_toolkit.buffer': <module 'prompt_toolkit.buffer' from 'D:\\\\Anaconda\\\\lib\\\\site-packages\\\\prompt_toolkit\\\\buffer.py'>,\n",
       " 'six.moves': <module 'six.moves' (<six._SixMetaPathImporter object at 0x000001557F22DEC8>)>,\n",
       " 'prompt_toolkit.application.current': <module 'prompt_toolkit.application.current' from 'D:\\\\Anaconda\\\\lib\\\\site-packages\\\\prompt_toolkit\\\\application\\\\current.py'>,\n",
       " 'prompt_toolkit.eventloop': <module 'prompt_toolkit.eventloop' from 'D:\\\\Anaconda\\\\lib\\\\site-packages\\\\prompt_toolkit\\\\eventloop\\\\__init__.py'>,\n",
       " 'prompt_toolkit.eventloop.async_generator': <module 'prompt_toolkit.eventloop.async_generator' from 'D:\\\\Anaconda\\\\lib\\\\site-packages\\\\prompt_toolkit\\\\eventloop\\\\async_generator.py'>,\n",
       " 'queue': <module 'queue' from 'D:\\\\Anaconda\\\\lib\\\\queue.py'>,\n",
       " '_queue': <module '_queue' from 'D:\\\\Anaconda\\\\DLLs\\\\_queue.pyd'>,\n",
       " 'six.moves.queue': <module 'queue' from 'D:\\\\Anaconda\\\\lib\\\\queue.py'>,\n",
       " 'prompt_toolkit.eventloop.coroutine': <module 'prompt_toolkit.eventloop.coroutine' from 'D:\\\\Anaconda\\\\lib\\\\site-packages\\\\prompt_toolkit\\\\eventloop\\\\coroutine.py'>,\n",
       " 'prompt_toolkit.eventloop.defaults': <module 'prompt_toolkit.eventloop.defaults' from 'D:\\\\Anaconda\\\\lib\\\\site-packages\\\\prompt_toolkit\\\\eventloop\\\\defaults.py'>,\n",
       " 'prompt_toolkit.utils': <module 'prompt_toolkit.utils' from 'D:\\\\Anaconda\\\\lib\\\\site-packages\\\\prompt_toolkit\\\\utils.py'>,\n",
       " 'wcwidth': <module 'wcwidth' from 'D:\\\\Anaconda\\\\lib\\\\site-packages\\\\wcwidth\\\\__init__.py'>,\n",
       " 'wcwidth.wcwidth': <module 'wcwidth.wcwidth' from 'D:\\\\Anaconda\\\\lib\\\\site-packages\\\\wcwidth\\\\wcwidth.py'>,\n",
       " 'wcwidth.table_wide': <module 'wcwidth.table_wide' from 'D:\\\\Anaconda\\\\lib\\\\site-packages\\\\wcwidth\\\\table_wide.py'>,\n",
       " 'wcwidth.table_zero': <module 'wcwidth.table_zero' from 'D:\\\\Anaconda\\\\lib\\\\site-packages\\\\wcwidth\\\\table_zero.py'>,\n",
       " 'prompt_toolkit.cache': <module 'prompt_toolkit.cache' from 'D:\\\\Anaconda\\\\lib\\\\site-packages\\\\prompt_toolkit\\\\cache.py'>,\n",
       " 'prompt_toolkit.eventloop.base': <module 'prompt_toolkit.eventloop.base' from 'D:\\\\Anaconda\\\\lib\\\\site-packages\\\\prompt_toolkit\\\\eventloop\\\\base.py'>,\n",
       " 'prompt_toolkit.log': <module 'prompt_toolkit.log' from 'D:\\\\Anaconda\\\\lib\\\\site-packages\\\\prompt_toolkit\\\\log.py'>,\n",
       " 'prompt_toolkit.eventloop.future': <module 'prompt_toolkit.eventloop.future' from 'D:\\\\Anaconda\\\\lib\\\\site-packages\\\\prompt_toolkit\\\\eventloop\\\\future.py'>,\n",
       " 'prompt_toolkit.eventloop.context': <module 'prompt_toolkit.eventloop.context' from 'D:\\\\Anaconda\\\\lib\\\\site-packages\\\\prompt_toolkit\\\\eventloop\\\\context.py'>,\n",
       " 'prompt_toolkit.eventloop.event': <module 'prompt_toolkit.eventloop.event' from 'D:\\\\Anaconda\\\\lib\\\\site-packages\\\\prompt_toolkit\\\\eventloop\\\\event.py'>,\n",
       " 'prompt_toolkit.application.run_in_terminal': <module 'prompt_toolkit.application.run_in_terminal' from 'D:\\\\Anaconda\\\\lib\\\\site-packages\\\\prompt_toolkit\\\\application\\\\run_in_terminal.py'>,\n",
       " 'prompt_toolkit.auto_suggest': <module 'prompt_toolkit.auto_suggest' from 'D:\\\\Anaconda\\\\lib\\\\site-packages\\\\prompt_toolkit\\\\auto_suggest.py'>,\n",
       " 'prompt_toolkit.filters': <module 'prompt_toolkit.filters' from 'D:\\\\Anaconda\\\\lib\\\\site-packages\\\\prompt_toolkit\\\\filters\\\\__init__.py'>,\n",
       " 'prompt_toolkit.filters.app': <module 'prompt_toolkit.filters.app' from 'D:\\\\Anaconda\\\\lib\\\\site-packages\\\\prompt_toolkit\\\\filters\\\\app.py'>,\n",
       " 'prompt_toolkit.enums': <module 'prompt_toolkit.enums' from 'D:\\\\Anaconda\\\\lib\\\\site-packages\\\\prompt_toolkit\\\\enums.py'>,\n",
       " 'prompt_toolkit.filters.base': <module 'prompt_toolkit.filters.base' from 'D:\\\\Anaconda\\\\lib\\\\site-packages\\\\prompt_toolkit\\\\filters\\\\base.py'>,\n",
       " 'prompt_toolkit.filters.cli': <module 'prompt_toolkit.filters.cli' from 'D:\\\\Anaconda\\\\lib\\\\site-packages\\\\prompt_toolkit\\\\filters\\\\cli.py'>,\n",
       " 'prompt_toolkit.filters.utils': <module 'prompt_toolkit.filters.utils' from 'D:\\\\Anaconda\\\\lib\\\\site-packages\\\\prompt_toolkit\\\\filters\\\\utils.py'>,\n",
       " 'prompt_toolkit.clipboard': <module 'prompt_toolkit.clipboard' from 'D:\\\\Anaconda\\\\lib\\\\site-packages\\\\prompt_toolkit\\\\clipboard\\\\__init__.py'>,\n",
       " 'prompt_toolkit.clipboard.base': <module 'prompt_toolkit.clipboard.base' from 'D:\\\\Anaconda\\\\lib\\\\site-packages\\\\prompt_toolkit\\\\clipboard\\\\base.py'>,\n",
       " 'prompt_toolkit.selection': <module 'prompt_toolkit.selection' from 'D:\\\\Anaconda\\\\lib\\\\site-packages\\\\prompt_toolkit\\\\selection.py'>,\n",
       " 'prompt_toolkit.clipboard.in_memory': <module 'prompt_toolkit.clipboard.in_memory' from 'D:\\\\Anaconda\\\\lib\\\\site-packages\\\\prompt_toolkit\\\\clipboard\\\\in_memory.py'>,\n",
       " 'prompt_toolkit.completion': <module 'prompt_toolkit.completion' from 'D:\\\\Anaconda\\\\lib\\\\site-packages\\\\prompt_toolkit\\\\completion\\\\__init__.py'>,\n",
       " 'prompt_toolkit.completion.base': <module 'prompt_toolkit.completion.base' from 'D:\\\\Anaconda\\\\lib\\\\site-packages\\\\prompt_toolkit\\\\completion\\\\base.py'>,\n",
       " 'prompt_toolkit.completion.filesystem': <module 'prompt_toolkit.completion.filesystem' from 'D:\\\\Anaconda\\\\lib\\\\site-packages\\\\prompt_toolkit\\\\completion\\\\filesystem.py'>,\n",
       " 'prompt_toolkit.completion.fuzzy_completer': <module 'prompt_toolkit.completion.fuzzy_completer' from 'D:\\\\Anaconda\\\\lib\\\\site-packages\\\\prompt_toolkit\\\\completion\\\\fuzzy_completer.py'>,\n",
       " 'prompt_toolkit.document': <module 'prompt_toolkit.document' from 'D:\\\\Anaconda\\\\lib\\\\site-packages\\\\prompt_toolkit\\\\document.py'>,\n",
       " 'prompt_toolkit.completion.word_completer': <module 'prompt_toolkit.completion.word_completer' from 'D:\\\\Anaconda\\\\lib\\\\site-packages\\\\prompt_toolkit\\\\completion\\\\word_completer.py'>,\n",
       " 'prompt_toolkit.history': <module 'prompt_toolkit.history' from 'D:\\\\Anaconda\\\\lib\\\\site-packages\\\\prompt_toolkit\\\\history.py'>,\n",
       " 'prompt_toolkit.search': <module 'prompt_toolkit.search' from 'D:\\\\Anaconda\\\\lib\\\\site-packages\\\\prompt_toolkit\\\\search.py'>,\n",
       " 'prompt_toolkit.key_binding': <module 'prompt_toolkit.key_binding' from 'D:\\\\Anaconda\\\\lib\\\\site-packages\\\\prompt_toolkit\\\\key_binding\\\\__init__.py'>,\n",
       " 'prompt_toolkit.key_binding.key_bindings': <module 'prompt_toolkit.key_binding.key_bindings' from 'D:\\\\Anaconda\\\\lib\\\\site-packages\\\\prompt_toolkit\\\\key_binding\\\\key_bindings.py'>,\n",
       " 'prompt_toolkit.keys': <module 'prompt_toolkit.keys' from 'D:\\\\Anaconda\\\\lib\\\\site-packages\\\\prompt_toolkit\\\\keys.py'>,\n",
       " 'prompt_toolkit.key_binding.vi_state': <module 'prompt_toolkit.key_binding.vi_state' from 'D:\\\\Anaconda\\\\lib\\\\site-packages\\\\prompt_toolkit\\\\key_binding\\\\vi_state.py'>,\n",
       " 'prompt_toolkit.validation': <module 'prompt_toolkit.validation' from 'D:\\\\Anaconda\\\\lib\\\\site-packages\\\\prompt_toolkit\\\\validation.py'>,\n",
       " 'prompt_toolkit.input': <module 'prompt_toolkit.input' from 'D:\\\\Anaconda\\\\lib\\\\site-packages\\\\prompt_toolkit\\\\input\\\\__init__.py'>,\n",
       " 'prompt_toolkit.input.base': <module 'prompt_toolkit.input.base' from 'D:\\\\Anaconda\\\\lib\\\\site-packages\\\\prompt_toolkit\\\\input\\\\base.py'>,\n",
       " 'prompt_toolkit.input.defaults': <module 'prompt_toolkit.input.defaults' from 'D:\\\\Anaconda\\\\lib\\\\site-packages\\\\prompt_toolkit\\\\input\\\\defaults.py'>,\n",
       " 'prompt_toolkit.input.typeahead': <module 'prompt_toolkit.input.typeahead' from 'D:\\\\Anaconda\\\\lib\\\\site-packages\\\\prompt_toolkit\\\\input\\\\typeahead.py'>,\n",
       " 'prompt_toolkit.key_binding.bindings': <module 'prompt_toolkit.key_binding.bindings' from 'D:\\\\Anaconda\\\\lib\\\\site-packages\\\\prompt_toolkit\\\\key_binding\\\\bindings\\\\__init__.py'>,\n",
       " 'prompt_toolkit.key_binding.bindings.page_navigation': <module 'prompt_toolkit.key_binding.bindings.page_navigation' from 'D:\\\\Anaconda\\\\lib\\\\site-packages\\\\prompt_toolkit\\\\key_binding\\\\bindings\\\\page_navigation.py'>,\n",
       " 'prompt_toolkit.key_binding.bindings.scroll': <module 'prompt_toolkit.key_binding.bindings.scroll' from 'D:\\\\Anaconda\\\\lib\\\\site-packages\\\\prompt_toolkit\\\\key_binding\\\\bindings\\\\scroll.py'>,\n",
       " 'prompt_toolkit.key_binding.defaults': <module 'prompt_toolkit.key_binding.defaults' from 'D:\\\\Anaconda\\\\lib\\\\site-packages\\\\prompt_toolkit\\\\key_binding\\\\defaults.py'>,\n",
       " 'prompt_toolkit.key_binding.bindings.basic': <module 'prompt_toolkit.key_binding.bindings.basic' from 'D:\\\\Anaconda\\\\lib\\\\site-packages\\\\prompt_toolkit\\\\key_binding\\\\bindings\\\\basic.py'>,\n",
       " 'prompt_toolkit.key_binding.key_processor': <module 'prompt_toolkit.key_binding.key_processor' from 'D:\\\\Anaconda\\\\lib\\\\site-packages\\\\prompt_toolkit\\\\key_binding\\\\key_processor.py'>,\n",
       " 'prompt_toolkit.key_binding.bindings.named_commands': <module 'prompt_toolkit.key_binding.bindings.named_commands' from 'D:\\\\Anaconda\\\\lib\\\\site-packages\\\\prompt_toolkit\\\\key_binding\\\\bindings\\\\named_commands.py'>,\n",
       " 'prompt_toolkit.key_binding.bindings.completion': <module 'prompt_toolkit.key_binding.bindings.completion' from 'D:\\\\Anaconda\\\\lib\\\\site-packages\\\\prompt_toolkit\\\\key_binding\\\\bindings\\\\completion.py'>,\n",
       " 'prompt_toolkit.key_binding.bindings.cpr': <module 'prompt_toolkit.key_binding.bindings.cpr' from 'D:\\\\Anaconda\\\\lib\\\\site-packages\\\\prompt_toolkit\\\\key_binding\\\\bindings\\\\cpr.py'>,\n",
       " 'prompt_toolkit.key_binding.bindings.emacs': <module 'prompt_toolkit.key_binding.bindings.emacs' from 'D:\\\\Anaconda\\\\lib\\\\site-packages\\\\prompt_toolkit\\\\key_binding\\\\bindings\\\\emacs.py'>,\n",
       " 'prompt_toolkit.key_binding.bindings.mouse': <module 'prompt_toolkit.key_binding.bindings.mouse' from 'D:\\\\Anaconda\\\\lib\\\\site-packages\\\\prompt_toolkit\\\\key_binding\\\\bindings\\\\mouse.py'>,\n",
       " 'prompt_toolkit.layout': <module 'prompt_toolkit.layout' from 'D:\\\\Anaconda\\\\lib\\\\site-packages\\\\prompt_toolkit\\\\layout\\\\__init__.py'>,\n",
       " 'prompt_toolkit.layout.containers': <module 'prompt_toolkit.layout.containers' from 'D:\\\\Anaconda\\\\lib\\\\site-packages\\\\prompt_toolkit\\\\layout\\\\containers.py'>,\n",
       " 'prompt_toolkit.formatted_text': <module 'prompt_toolkit.formatted_text' from 'D:\\\\Anaconda\\\\lib\\\\site-packages\\\\prompt_toolkit\\\\formatted_text\\\\__init__.py'>,\n",
       " 'prompt_toolkit.formatted_text.ansi': <module 'prompt_toolkit.formatted_text.ansi' from 'D:\\\\Anaconda\\\\lib\\\\site-packages\\\\prompt_toolkit\\\\formatted_text\\\\ansi.py'>,\n",
       " 'prompt_toolkit.output': <module 'prompt_toolkit.output' from 'D:\\\\Anaconda\\\\lib\\\\site-packages\\\\prompt_toolkit\\\\output\\\\__init__.py'>,\n",
       " 'prompt_toolkit.output.base': <module 'prompt_toolkit.output.base' from 'D:\\\\Anaconda\\\\lib\\\\site-packages\\\\prompt_toolkit\\\\output\\\\base.py'>,\n",
       " 'prompt_toolkit.layout.screen': <module 'prompt_toolkit.layout.screen' from 'D:\\\\Anaconda\\\\lib\\\\site-packages\\\\prompt_toolkit\\\\layout\\\\screen.py'>,\n",
       " 'prompt_toolkit.output.color_depth': <module 'prompt_toolkit.output.color_depth' from 'D:\\\\Anaconda\\\\lib\\\\site-packages\\\\prompt_toolkit\\\\output\\\\color_depth.py'>,\n",
       " 'prompt_toolkit.output.defaults': <module 'prompt_toolkit.output.defaults' from 'D:\\\\Anaconda\\\\lib\\\\site-packages\\\\prompt_toolkit\\\\output\\\\defaults.py'>,\n",
       " 'prompt_toolkit.output.vt100': <module 'prompt_toolkit.output.vt100' from 'D:\\\\Anaconda\\\\lib\\\\site-packages\\\\prompt_toolkit\\\\output\\\\vt100.py'>,\n",
       " 'array': <module 'array' (built-in)>,\n",
       " 'prompt_toolkit.styles': <module 'prompt_toolkit.styles' from 'D:\\\\Anaconda\\\\lib\\\\site-packages\\\\prompt_toolkit\\\\styles\\\\__init__.py'>,\n",
       " 'prompt_toolkit.styles.base': <module 'prompt_toolkit.styles.base' from 'D:\\\\Anaconda\\\\lib\\\\site-packages\\\\prompt_toolkit\\\\styles\\\\base.py'>,\n",
       " 'prompt_toolkit.styles.defaults': <module 'prompt_toolkit.styles.defaults' from 'D:\\\\Anaconda\\\\lib\\\\site-packages\\\\prompt_toolkit\\\\styles\\\\defaults.py'>,\n",
       " 'prompt_toolkit.styles.named_colors': <module 'prompt_toolkit.styles.named_colors' from 'D:\\\\Anaconda\\\\lib\\\\site-packages\\\\prompt_toolkit\\\\styles\\\\named_colors.py'>,\n",
       " 'prompt_toolkit.styles.style': <module 'prompt_toolkit.styles.style' from 'D:\\\\Anaconda\\\\lib\\\\site-packages\\\\prompt_toolkit\\\\styles\\\\style.py'>,\n",
       " 'prompt_toolkit.styles.pygments': <module 'prompt_toolkit.styles.pygments' from 'D:\\\\Anaconda\\\\lib\\\\site-packages\\\\prompt_toolkit\\\\styles\\\\pygments.py'>,\n",
       " 'prompt_toolkit.styles.style_transformation': <module 'prompt_toolkit.styles.style_transformation' from 'D:\\\\Anaconda\\\\lib\\\\site-packages\\\\prompt_toolkit\\\\styles\\\\style_transformation.py'>,\n",
       " 'colorsys': <module 'colorsys' from 'D:\\\\Anaconda\\\\lib\\\\colorsys.py'>,\n",
       " 'prompt_toolkit.formatted_text.base': <module 'prompt_toolkit.formatted_text.base' from 'D:\\\\Anaconda\\\\lib\\\\site-packages\\\\prompt_toolkit\\\\formatted_text\\\\base.py'>,\n",
       " 'prompt_toolkit.formatted_text.html': <module 'prompt_toolkit.formatted_text.html' from 'D:\\\\Anaconda\\\\lib\\\\site-packages\\\\prompt_toolkit\\\\formatted_text\\\\html.py'>,\n",
       " 'xml': <module 'xml' from 'D:\\\\Anaconda\\\\lib\\\\xml\\\\__init__.py'>,\n",
       " 'xml.dom': <module 'xml.dom' from 'D:\\\\Anaconda\\\\lib\\\\xml\\\\dom\\\\__init__.py'>,\n",
       " 'xml.dom.domreg': <module 'xml.dom.domreg' from 'D:\\\\Anaconda\\\\lib\\\\xml\\\\dom\\\\domreg.py'>,\n",
       " 'xml.dom.minidom': <module 'xml.dom.minidom' from 'D:\\\\Anaconda\\\\lib\\\\xml\\\\dom\\\\minidom.py'>,\n",
       " 'xml.dom.minicompat': <module 'xml.dom.minicompat' from 'D:\\\\Anaconda\\\\lib\\\\xml\\\\dom\\\\minicompat.py'>,\n",
       " 'xml.dom.xmlbuilder': <module 'xml.dom.xmlbuilder' from 'D:\\\\Anaconda\\\\lib\\\\xml\\\\dom\\\\xmlbuilder.py'>,\n",
       " 'xml.dom.NodeFilter': <module 'xml.dom.NodeFilter' from 'D:\\\\Anaconda\\\\lib\\\\xml\\\\dom\\\\NodeFilter.py'>,\n",
       " 'prompt_toolkit.formatted_text.pygments': <module 'prompt_toolkit.formatted_text.pygments' from 'D:\\\\Anaconda\\\\lib\\\\site-packages\\\\prompt_toolkit\\\\formatted_text\\\\pygments.py'>,\n",
       " 'prompt_toolkit.formatted_text.utils': <module 'prompt_toolkit.formatted_text.utils' from 'D:\\\\Anaconda\\\\lib\\\\site-packages\\\\prompt_toolkit\\\\formatted_text\\\\utils.py'>,\n",
       " 'prompt_toolkit.mouse_events': <module 'prompt_toolkit.mouse_events' from 'D:\\\\Anaconda\\\\lib\\\\site-packages\\\\prompt_toolkit\\\\mouse_events.py'>,\n",
       " 'prompt_toolkit.layout.controls': <module 'prompt_toolkit.layout.controls' from 'D:\\\\Anaconda\\\\lib\\\\site-packages\\\\prompt_toolkit\\\\layout\\\\controls.py'>,\n",
       " 'prompt_toolkit.lexers': <module 'prompt_toolkit.lexers' from 'D:\\\\Anaconda\\\\lib\\\\site-packages\\\\prompt_toolkit\\\\lexers\\\\__init__.py'>,\n",
       " 'prompt_toolkit.lexers.base': <module 'prompt_toolkit.lexers.base' from 'D:\\\\Anaconda\\\\lib\\\\site-packages\\\\prompt_toolkit\\\\lexers\\\\base.py'>,\n",
       " 'prompt_toolkit.lexers.pygments': <module 'prompt_toolkit.lexers.pygments' from 'D:\\\\Anaconda\\\\lib\\\\site-packages\\\\prompt_toolkit\\\\lexers\\\\pygments.py'>,\n",
       " 'prompt_toolkit.layout.processors': <module 'prompt_toolkit.layout.processors' from 'D:\\\\Anaconda\\\\lib\\\\site-packages\\\\prompt_toolkit\\\\layout\\\\processors.py'>,\n",
       " 'prompt_toolkit.layout.utils': <module 'prompt_toolkit.layout.utils' from 'D:\\\\Anaconda\\\\lib\\\\site-packages\\\\prompt_toolkit\\\\layout\\\\utils.py'>,\n",
       " 'prompt_toolkit.layout.dimension': <module 'prompt_toolkit.layout.dimension' from 'D:\\\\Anaconda\\\\lib\\\\site-packages\\\\prompt_toolkit\\\\layout\\\\dimension.py'>,\n",
       " 'prompt_toolkit.layout.margins': <module 'prompt_toolkit.layout.margins' from 'D:\\\\Anaconda\\\\lib\\\\site-packages\\\\prompt_toolkit\\\\layout\\\\margins.py'>,\n",
       " 'prompt_toolkit.layout.layout': <module 'prompt_toolkit.layout.layout' from 'D:\\\\Anaconda\\\\lib\\\\site-packages\\\\prompt_toolkit\\\\layout\\\\layout.py'>,\n",
       " 'prompt_toolkit.layout.menus': <module 'prompt_toolkit.layout.menus' from 'D:\\\\Anaconda\\\\lib\\\\site-packages\\\\prompt_toolkit\\\\layout\\\\menus.py'>,\n",
       " 'prompt_toolkit.renderer': <module 'prompt_toolkit.renderer' from 'D:\\\\Anaconda\\\\lib\\\\site-packages\\\\prompt_toolkit\\\\renderer.py'>,\n",
       " 'prompt_toolkit.layout.mouse_handlers': <module 'prompt_toolkit.layout.mouse_handlers' from 'D:\\\\Anaconda\\\\lib\\\\site-packages\\\\prompt_toolkit\\\\layout\\\\mouse_handlers.py'>,\n",
       " 'prompt_toolkit.key_binding.bindings.vi': <module 'prompt_toolkit.key_binding.bindings.vi' from 'D:\\\\Anaconda\\\\lib\\\\site-packages\\\\prompt_toolkit\\\\key_binding\\\\bindings\\\\vi.py'>,\n",
       " 'prompt_toolkit.input.vt100_parser': <module 'prompt_toolkit.input.vt100_parser' from 'D:\\\\Anaconda\\\\lib\\\\site-packages\\\\prompt_toolkit\\\\input\\\\vt100_parser.py'>,\n",
       " 'prompt_toolkit.input.ansi_escape_sequences': <module 'prompt_toolkit.input.ansi_escape_sequences' from 'D:\\\\Anaconda\\\\lib\\\\site-packages\\\\prompt_toolkit\\\\input\\\\ansi_escape_sequences.py'>,\n",
       " 'prompt_toolkit.key_binding.digraphs': <module 'prompt_toolkit.key_binding.digraphs' from 'D:\\\\Anaconda\\\\lib\\\\site-packages\\\\prompt_toolkit\\\\key_binding\\\\digraphs.py'>,\n",
       " 'prompt_toolkit.key_binding.emacs_state': <module 'prompt_toolkit.key_binding.emacs_state' from 'D:\\\\Anaconda\\\\lib\\\\site-packages\\\\prompt_toolkit\\\\key_binding\\\\emacs_state.py'>,\n",
       " 'prompt_toolkit.layout.dummy': <module 'prompt_toolkit.layout.dummy' from 'D:\\\\Anaconda\\\\lib\\\\site-packages\\\\prompt_toolkit\\\\layout\\\\dummy.py'>,\n",
       " 'prompt_toolkit.application.dummy': <module 'prompt_toolkit.application.dummy' from 'D:\\\\Anaconda\\\\lib\\\\site-packages\\\\prompt_toolkit\\\\application\\\\dummy.py'>,\n",
       " 'prompt_toolkit.shortcuts': <module 'prompt_toolkit.shortcuts' from 'D:\\\\Anaconda\\\\lib\\\\site-packages\\\\prompt_toolkit\\\\shortcuts\\\\__init__.py'>,\n",
       " 'prompt_toolkit.shortcuts.dialogs': <module 'prompt_toolkit.shortcuts.dialogs' from 'D:\\\\Anaconda\\\\lib\\\\site-packages\\\\prompt_toolkit\\\\shortcuts\\\\dialogs.py'>,\n",
       " 'prompt_toolkit.key_binding.bindings.focus': <module 'prompt_toolkit.key_binding.bindings.focus' from 'D:\\\\Anaconda\\\\lib\\\\site-packages\\\\prompt_toolkit\\\\key_binding\\\\bindings\\\\focus.py'>,\n",
       " 'prompt_toolkit.widgets': <module 'prompt_toolkit.widgets' from 'D:\\\\Anaconda\\\\lib\\\\site-packages\\\\prompt_toolkit\\\\widgets\\\\__init__.py'>,\n",
       " 'prompt_toolkit.widgets.base': <module 'prompt_toolkit.widgets.base' from 'D:\\\\Anaconda\\\\lib\\\\site-packages\\\\prompt_toolkit\\\\widgets\\\\base.py'>,\n",
       " 'prompt_toolkit.widgets.toolbars': <module 'prompt_toolkit.widgets.toolbars' from 'D:\\\\Anaconda\\\\lib\\\\site-packages\\\\prompt_toolkit\\\\widgets\\\\toolbars.py'>,\n",
       " 'prompt_toolkit.widgets.dialogs': <module 'prompt_toolkit.widgets.dialogs' from 'D:\\\\Anaconda\\\\lib\\\\site-packages\\\\prompt_toolkit\\\\widgets\\\\dialogs.py'>,\n",
       " 'prompt_toolkit.widgets.menus': <module 'prompt_toolkit.widgets.menus' from 'D:\\\\Anaconda\\\\lib\\\\site-packages\\\\prompt_toolkit\\\\widgets\\\\menus.py'>,\n",
       " 'prompt_toolkit.shortcuts.progress_bar': <module 'prompt_toolkit.shortcuts.progress_bar' from 'D:\\\\Anaconda\\\\lib\\\\site-packages\\\\prompt_toolkit\\\\shortcuts\\\\progress_bar\\\\__init__.py'>,\n",
       " 'prompt_toolkit.shortcuts.progress_bar.base': <module 'prompt_toolkit.shortcuts.progress_bar.base' from 'D:\\\\Anaconda\\\\lib\\\\site-packages\\\\prompt_toolkit\\\\shortcuts\\\\progress_bar\\\\base.py'>,\n",
       " 'prompt_toolkit.shortcuts.progress_bar.formatters': <module 'prompt_toolkit.shortcuts.progress_bar.formatters' from 'D:\\\\Anaconda\\\\lib\\\\site-packages\\\\prompt_toolkit\\\\shortcuts\\\\progress_bar\\\\formatters.py'>,\n",
       " 'prompt_toolkit.shortcuts.prompt': <module 'prompt_toolkit.shortcuts.prompt' from 'D:\\\\Anaconda\\\\lib\\\\site-packages\\\\prompt_toolkit\\\\shortcuts\\\\prompt.py'>,\n",
       " 'prompt_toolkit.key_binding.bindings.auto_suggest': <module 'prompt_toolkit.key_binding.bindings.auto_suggest' from 'D:\\\\Anaconda\\\\lib\\\\site-packages\\\\prompt_toolkit\\\\key_binding\\\\bindings\\\\auto_suggest.py'>,\n",
       " 'prompt_toolkit.key_binding.bindings.open_in_editor': <module 'prompt_toolkit.key_binding.bindings.open_in_editor' from 'D:\\\\Anaconda\\\\lib\\\\site-packages\\\\prompt_toolkit\\\\key_binding\\\\bindings\\\\open_in_editor.py'>,\n",
       " 'prompt_toolkit.shortcuts.utils': <module 'prompt_toolkit.shortcuts.utils' from 'D:\\\\Anaconda\\\\lib\\\\site-packages\\\\prompt_toolkit\\\\shortcuts\\\\utils.py'>,\n",
       " 'prompt_toolkit.patch_stdout': <module 'prompt_toolkit.patch_stdout' from 'D:\\\\Anaconda\\\\lib\\\\site-packages\\\\prompt_toolkit\\\\patch_stdout.py'>,\n",
       " 'pygments.style': <module 'pygments.style' from 'D:\\\\Anaconda\\\\lib\\\\site-packages\\\\pygments\\\\style.py'>,\n",
       " 'IPython.terminal.debugger': <module 'IPython.terminal.debugger' from 'D:\\\\Anaconda\\\\lib\\\\site-packages\\\\IPython\\\\terminal\\\\debugger.py'>,\n",
       " 'IPython.core.completer': <module 'IPython.core.completer' from 'D:\\\\Anaconda\\\\lib\\\\site-packages\\\\IPython\\\\core\\\\completer.py'>,\n",
       " 'unicodedata': <module 'unicodedata' from 'D:\\\\Anaconda\\\\DLLs\\\\unicodedata.pyd'>,\n",
       " 'IPython.core.latex_symbols': <module 'IPython.core.latex_symbols' from 'D:\\\\Anaconda\\\\lib\\\\site-packages\\\\IPython\\\\core\\\\latex_symbols.py'>,\n",
       " 'IPython.utils.generics': <module 'IPython.utils.generics' from 'D:\\\\Anaconda\\\\lib\\\\site-packages\\\\IPython\\\\utils\\\\generics.py'>,\n",
       " 'jedi': <module 'jedi' from 'D:\\\\Anaconda\\\\lib\\\\site-packages\\\\jedi\\\\__init__.py'>,\n",
       " 'jedi.api': <module 'jedi.api' from 'D:\\\\Anaconda\\\\lib\\\\site-packages\\\\jedi\\\\api\\\\__init__.py'>,\n",
       " 'parso': <module 'parso' from 'D:\\\\Anaconda\\\\lib\\\\site-packages\\\\parso\\\\__init__.py'>,\n",
       " 'parso.parser': <module 'parso.parser' from 'D:\\\\Anaconda\\\\lib\\\\site-packages\\\\parso\\\\parser.py'>,\n",
       " 'parso.tree': <module 'parso.tree' from 'D:\\\\Anaconda\\\\lib\\\\site-packages\\\\parso\\\\tree.py'>,\n",
       " 'parso._compatibility': <module 'parso._compatibility' from 'D:\\\\Anaconda\\\\lib\\\\site-packages\\\\parso\\\\_compatibility.py'>,\n",
       " 'parso.utils': <module 'parso.utils' from 'D:\\\\Anaconda\\\\lib\\\\site-packages\\\\parso\\\\utils.py'>,\n",
       " 'parso.pgen2': <module 'parso.pgen2' from 'D:\\\\Anaconda\\\\lib\\\\site-packages\\\\parso\\\\pgen2\\\\__init__.py'>,\n",
       " 'parso.pgen2.generator': <module 'parso.pgen2.generator' from 'D:\\\\Anaconda\\\\lib\\\\site-packages\\\\parso\\\\pgen2\\\\generator.py'>,\n",
       " 'parso.pgen2.grammar_parser': <module 'parso.pgen2.grammar_parser' from 'D:\\\\Anaconda\\\\lib\\\\site-packages\\\\parso\\\\pgen2\\\\grammar_parser.py'>,\n",
       " 'parso.python': <module 'parso.python' from 'D:\\\\Anaconda\\\\lib\\\\site-packages\\\\parso\\\\python\\\\__init__.py'>,\n",
       " 'parso.python.tokenize': <module 'parso.python.tokenize' from 'D:\\\\Anaconda\\\\lib\\\\site-packages\\\\parso\\\\python\\\\tokenize.py'>,\n",
       " 'parso.python.token': <module 'parso.python.token' from 'D:\\\\Anaconda\\\\lib\\\\site-packages\\\\parso\\\\python\\\\token.py'>,\n",
       " 'parso.grammar': <module 'parso.grammar' from 'D:\\\\Anaconda\\\\lib\\\\site-packages\\\\parso\\\\grammar.py'>,\n",
       " 'parso.python.diff': <module 'parso.python.diff' from 'D:\\\\Anaconda\\\\lib\\\\site-packages\\\\parso\\\\python\\\\diff.py'>,\n",
       " 'difflib': <module 'difflib' from 'D:\\\\Anaconda\\\\lib\\\\difflib.py'>,\n",
       " 'parso.python.parser': <module 'parso.python.parser' from 'D:\\\\Anaconda\\\\lib\\\\site-packages\\\\parso\\\\python\\\\parser.py'>,\n",
       " 'parso.python.tree': <module 'parso.python.tree' from 'D:\\\\Anaconda\\\\lib\\\\site-packages\\\\parso\\\\python\\\\tree.py'>,\n",
       " 'parso.python.prefix': <module 'parso.python.prefix' from 'D:\\\\Anaconda\\\\lib\\\\site-packages\\\\parso\\\\python\\\\prefix.py'>,\n",
       " 'parso.cache': <module 'parso.cache' from 'D:\\\\Anaconda\\\\lib\\\\site-packages\\\\parso\\\\cache.py'>,\n",
       " 'gc': <module 'gc' (built-in)>,\n",
       " 'parso.python.errors': <module 'parso.python.errors' from 'D:\\\\Anaconda\\\\lib\\\\site-packages\\\\parso\\\\python\\\\errors.py'>,\n",
       " 'parso.normalizer': <module 'parso.normalizer' from 'D:\\\\Anaconda\\\\lib\\\\site-packages\\\\parso\\\\normalizer.py'>,\n",
       " 'parso.python.pep8': <module 'parso.python.pep8' from 'D:\\\\Anaconda\\\\lib\\\\site-packages\\\\parso\\\\python\\\\pep8.py'>,\n",
       " 'parso.file_io': <module 'parso.file_io' from 'D:\\\\Anaconda\\\\lib\\\\site-packages\\\\parso\\\\file_io.py'>,\n",
       " 'jedi._compatibility': <module 'jedi._compatibility' from 'D:\\\\Anaconda\\\\lib\\\\site-packages\\\\jedi\\\\_compatibility.py'>,\n",
       " 'jedi.file_io': <module 'jedi.file_io' from 'D:\\\\Anaconda\\\\lib\\\\site-packages\\\\jedi\\\\file_io.py'>,\n",
       " 'jedi.parser_utils': <module 'jedi.parser_utils' from 'D:\\\\Anaconda\\\\lib\\\\site-packages\\\\jedi\\\\parser_utils.py'>,\n",
       " 'jedi.debug': <module 'jedi.debug' from 'D:\\\\Anaconda\\\\lib\\\\site-packages\\\\jedi\\\\debug.py'>,\n",
       " 'jedi.settings': <module 'jedi.settings' from 'D:\\\\Anaconda\\\\lib\\\\site-packages\\\\jedi\\\\settings.py'>,\n",
       " 'jedi.cache': <module 'jedi.cache' from 'D:\\\\Anaconda\\\\lib\\\\site-packages\\\\jedi\\\\cache.py'>,\n",
       " 'jedi.api.classes': <module 'jedi.api.classes' from 'D:\\\\Anaconda\\\\lib\\\\site-packages\\\\jedi\\\\api\\\\classes.py'>,\n",
       " 'jedi.evaluate': <module 'jedi.evaluate' from 'D:\\\\Anaconda\\\\lib\\\\site-packages\\\\jedi\\\\evaluate\\\\__init__.py'>,\n",
       " 'jedi.evaluate.utils': <module 'jedi.evaluate.utils' from 'D:\\\\Anaconda\\\\lib\\\\site-packages\\\\jedi\\\\evaluate\\\\utils.py'>,\n",
       " 'jedi.evaluate.imports': <module 'jedi.evaluate.imports' from 'D:\\\\Anaconda\\\\lib\\\\site-packages\\\\jedi\\\\evaluate\\\\imports.py'>,\n",
       " 'jedi.evaluate.sys_path': <module 'jedi.evaluate.sys_path' from 'D:\\\\Anaconda\\\\lib\\\\site-packages\\\\jedi\\\\evaluate\\\\sys_path.py'>,\n",
       " 'jedi.evaluate.cache': <module 'jedi.evaluate.cache' from 'D:\\\\Anaconda\\\\lib\\\\site-packages\\\\jedi\\\\evaluate\\\\cache.py'>,\n",
       " 'jedi.evaluate.base_context': <module 'jedi.evaluate.base_context' from 'D:\\\\Anaconda\\\\lib\\\\site-packages\\\\jedi\\\\evaluate\\\\base_context.py'>,\n",
       " 'jedi.common': <module 'jedi.common' from 'D:\\\\Anaconda\\\\lib\\\\site-packages\\\\jedi\\\\common\\\\__init__.py'>,\n",
       " 'jedi.common.context': <module 'jedi.common.context' from 'D:\\\\Anaconda\\\\lib\\\\site-packages\\\\jedi\\\\common\\\\context.py'>,\n",
       " 'jedi.evaluate.helpers': <module 'jedi.evaluate.helpers' from 'D:\\\\Anaconda\\\\lib\\\\site-packages\\\\jedi\\\\evaluate\\\\helpers.py'>,\n",
       " 'jedi.common.utils': <module 'jedi.common.utils' from 'D:\\\\Anaconda\\\\lib\\\\site-packages\\\\jedi\\\\common\\\\utils.py'>,\n",
       " 'jedi.evaluate.compiled': <module 'jedi.evaluate.compiled' from 'D:\\\\Anaconda\\\\lib\\\\site-packages\\\\jedi\\\\evaluate\\\\compiled\\\\__init__.py'>,\n",
       " 'jedi.evaluate.compiled.context': <module 'jedi.evaluate.compiled.context' from 'D:\\\\Anaconda\\\\lib\\\\site-packages\\\\jedi\\\\evaluate\\\\compiled\\\\context.py'>,\n",
       " 'jedi.evaluate.filters': <module 'jedi.evaluate.filters' from 'D:\\\\Anaconda\\\\lib\\\\site-packages\\\\jedi\\\\evaluate\\\\filters.py'>,\n",
       " 'jedi.evaluate.flow_analysis': <module 'jedi.evaluate.flow_analysis' from 'D:\\\\Anaconda\\\\lib\\\\site-packages\\\\jedi\\\\evaluate\\\\flow_analysis.py'>,\n",
       " 'jedi.evaluate.recursion': <module 'jedi.evaluate.recursion' from 'D:\\\\Anaconda\\\\lib\\\\site-packages\\\\jedi\\\\evaluate\\\\recursion.py'>,\n",
       " 'jedi.evaluate.names': <module 'jedi.evaluate.names' from 'D:\\\\Anaconda\\\\lib\\\\site-packages\\\\jedi\\\\evaluate\\\\names.py'>,\n",
       " 'jedi.evaluate.lazy_context': <module 'jedi.evaluate.lazy_context' from 'D:\\\\Anaconda\\\\lib\\\\site-packages\\\\jedi\\\\evaluate\\\\lazy_context.py'>,\n",
       " 'jedi.evaluate.compiled.access': <module 'jedi.evaluate.compiled.access' from 'D:\\\\Anaconda\\\\lib\\\\site-packages\\\\jedi\\\\evaluate\\\\compiled\\\\access.py'>,\n",
       " 'jedi.evaluate.compiled.getattr_static': <module 'jedi.evaluate.compiled.getattr_static' from 'D:\\\\Anaconda\\\\lib\\\\site-packages\\\\jedi\\\\evaluate\\\\compiled\\\\getattr_static.py'>,\n",
       " 'jedi.evaluate.signature': <module 'jedi.evaluate.signature' from 'D:\\\\Anaconda\\\\lib\\\\site-packages\\\\jedi\\\\evaluate\\\\signature.py'>,\n",
       " 'jedi.evaluate.analysis': <module 'jedi.evaluate.analysis' from 'D:\\\\Anaconda\\\\lib\\\\site-packages\\\\jedi\\\\evaluate\\\\analysis.py'>,\n",
       " 'jedi.evaluate.gradual': <module 'jedi.evaluate.gradual' from 'D:\\\\Anaconda\\\\lib\\\\site-packages\\\\jedi\\\\evaluate\\\\gradual\\\\__init__.py'>,\n",
       " 'jedi.evaluate.gradual.typeshed': <module 'jedi.evaluate.gradual.typeshed' from 'D:\\\\Anaconda\\\\lib\\\\site-packages\\\\jedi\\\\evaluate\\\\gradual\\\\typeshed.py'>,\n",
       " 'jedi.evaluate.gradual.stub_context': <module 'jedi.evaluate.gradual.stub_context' from 'D:\\\\Anaconda\\\\lib\\\\site-packages\\\\jedi\\\\evaluate\\\\gradual\\\\stub_context.py'>,\n",
       " 'jedi.evaluate.context': <module 'jedi.evaluate.context' from 'D:\\\\Anaconda\\\\lib\\\\site-packages\\\\jedi\\\\evaluate\\\\context\\\\__init__.py'>,\n",
       " 'jedi.evaluate.context.module': <module 'jedi.evaluate.context.module' from 'D:\\\\Anaconda\\\\lib\\\\site-packages\\\\jedi\\\\evaluate\\\\context\\\\module.py'>,\n",
       " 'jedi.evaluate.context.klass': <module 'jedi.evaluate.context.klass' from 'D:\\\\Anaconda\\\\lib\\\\site-packages\\\\jedi\\\\evaluate\\\\context\\\\klass.py'>,\n",
       " 'jedi.evaluate.arguments': <module 'jedi.evaluate.arguments' from 'D:\\\\Anaconda\\\\lib\\\\site-packages\\\\jedi\\\\evaluate\\\\arguments.py'>,\n",
       " 'jedi.evaluate.context.iterable': <module 'jedi.evaluate.context.iterable' from 'D:\\\\Anaconda\\\\lib\\\\site-packages\\\\jedi\\\\evaluate\\\\context\\\\iterable.py'>,\n",
       " 'jedi.evaluate.param': <module 'jedi.evaluate.param' from 'D:\\\\Anaconda\\\\lib\\\\site-packages\\\\jedi\\\\evaluate\\\\param.py'>,\n",
       " 'jedi.evaluate.docstrings': <module 'jedi.evaluate.docstrings' from 'D:\\\\Anaconda\\\\lib\\\\site-packages\\\\jedi\\\\evaluate\\\\docstrings.py'>,\n",
       " 'jedi.evaluate.context.function': <module 'jedi.evaluate.context.function' from 'D:\\\\Anaconda\\\\lib\\\\site-packages\\\\jedi\\\\evaluate\\\\context\\\\function.py'>,\n",
       " 'jedi.evaluate.parser_cache': <module 'jedi.evaluate.parser_cache' from 'D:\\\\Anaconda\\\\lib\\\\site-packages\\\\jedi\\\\evaluate\\\\parser_cache.py'>,\n",
       " 'jedi.plugins': <module 'jedi.plugins' from 'D:\\\\Anaconda\\\\lib\\\\site-packages\\\\jedi\\\\plugins\\\\__init__.py'>,\n",
       " 'jedi.evaluate.context.instance': <module 'jedi.evaluate.context.instance' from 'D:\\\\Anaconda\\\\lib\\\\site-packages\\\\jedi\\\\evaluate\\\\context\\\\instance.py'>,\n",
       " 'jedi.evaluate.gradual.typing': <module 'jedi.evaluate.gradual.typing' from 'D:\\\\Anaconda\\\\lib\\\\site-packages\\\\jedi\\\\evaluate\\\\gradual\\\\typing.py'>,\n",
       " 'jedi.evaluate.syntax_tree': <module 'jedi.evaluate.syntax_tree' from 'D:\\\\Anaconda\\\\lib\\\\site-packages\\\\jedi\\\\evaluate\\\\syntax_tree.py'>,\n",
       " 'jedi.evaluate.finder': <module 'jedi.evaluate.finder' from 'D:\\\\Anaconda\\\\lib\\\\site-packages\\\\jedi\\\\evaluate\\\\finder.py'>,\n",
       " 'jedi.evaluate.gradual.conversion': <module 'jedi.evaluate.gradual.conversion' from 'D:\\\\Anaconda\\\\lib\\\\site-packages\\\\jedi\\\\evaluate\\\\gradual\\\\conversion.py'>,\n",
       " 'jedi.evaluate.gradual.annotation': <module 'jedi.evaluate.gradual.annotation' from 'D:\\\\Anaconda\\\\lib\\\\site-packages\\\\jedi\\\\evaluate\\\\gradual\\\\annotation.py'>,\n",
       " 'jedi.evaluate.context.decorator': <module 'jedi.evaluate.context.decorator' from 'D:\\\\Anaconda\\\\lib\\\\site-packages\\\\jedi\\\\evaluate\\\\context\\\\decorator.py'>,\n",
       " 'jedi.api.keywords': <module 'jedi.api.keywords' from 'D:\\\\Anaconda\\\\lib\\\\site-packages\\\\jedi\\\\api\\\\keywords.py'>,\n",
       " 'pydoc_data': <module 'pydoc_data' from 'D:\\\\Anaconda\\\\lib\\\\pydoc_data\\\\__init__.py'>,\n",
       " 'pydoc_data.topics': <module 'pydoc_data.topics' from 'D:\\\\Anaconda\\\\lib\\\\pydoc_data\\\\topics.py'>,\n",
       " 'jedi.api.interpreter': <module 'jedi.api.interpreter' from 'D:\\\\Anaconda\\\\lib\\\\site-packages\\\\jedi\\\\api\\\\interpreter.py'>,\n",
       " 'jedi.evaluate.compiled.mixed': <module 'jedi.evaluate.compiled.mixed' from 'D:\\\\Anaconda\\\\lib\\\\site-packages\\\\jedi\\\\evaluate\\\\compiled\\\\mixed.py'>,\n",
       " 'jedi.api.helpers': <module 'jedi.api.helpers' from 'D:\\\\Anaconda\\\\lib\\\\site-packages\\\\jedi\\\\api\\\\helpers.py'>,\n",
       " 'jedi.api.completion': <module 'jedi.api.completion' from 'D:\\\\Anaconda\\\\lib\\\\site-packages\\\\jedi\\\\api\\\\completion.py'>,\n",
       " 'jedi.api.file_name': <module 'jedi.api.file_name' from 'D:\\\\Anaconda\\\\lib\\\\site-packages\\\\jedi\\\\api\\\\file_name.py'>,\n",
       " 'jedi.api.environment': <module 'jedi.api.environment' from 'D:\\\\Anaconda\\\\lib\\\\site-packages\\\\jedi\\\\api\\\\environment.py'>,\n",
       " 'filecmp': <module 'filecmp' from 'D:\\\\Anaconda\\\\lib\\\\filecmp.py'>,\n",
       " 'jedi.evaluate.compiled.subprocess': <module 'jedi.evaluate.compiled.subprocess' from 'D:\\\\Anaconda\\\\lib\\\\site-packages\\\\jedi\\\\evaluate\\\\compiled\\\\subprocess\\\\__init__.py'>,\n",
       " 'jedi.evaluate.compiled.subprocess.functions': <module 'jedi.evaluate.compiled.subprocess.functions' from 'D:\\\\Anaconda\\\\lib\\\\site-packages\\\\jedi\\\\evaluate\\\\compiled\\\\subprocess\\\\functions.py'>,\n",
       " 'jedi.api.exceptions': <module 'jedi.api.exceptions' from 'D:\\\\Anaconda\\\\lib\\\\site-packages\\\\jedi\\\\api\\\\exceptions.py'>,\n",
       " 'jedi.api.project': <module 'jedi.api.project' from 'D:\\\\Anaconda\\\\lib\\\\site-packages\\\\jedi\\\\api\\\\project.py'>,\n",
       " 'jedi.evaluate.usages': <module 'jedi.evaluate.usages' from 'D:\\\\Anaconda\\\\lib\\\\site-packages\\\\jedi\\\\evaluate\\\\usages.py'>,\n",
       " 'jedi.evaluate.gradual.utils': <module 'jedi.evaluate.gradual.utils' from 'D:\\\\Anaconda\\\\lib\\\\site-packages\\\\jedi\\\\evaluate\\\\gradual\\\\utils.py'>,\n",
       " 'jedi.plugins.registry': <module 'jedi.plugins.registry' from 'D:\\\\Anaconda\\\\lib\\\\site-packages\\\\jedi\\\\plugins\\\\registry.py'>,\n",
       " 'jedi.plugins.stdlib': <module 'jedi.plugins.stdlib' from 'D:\\\\Anaconda\\\\lib\\\\site-packages\\\\jedi\\\\plugins\\\\stdlib.py'>,\n",
       " 'jedi.plugins.flask': <module 'jedi.plugins.flask' from 'D:\\\\Anaconda\\\\lib\\\\site-packages\\\\jedi\\\\plugins\\\\flask.py'>,\n",
       " 'IPython.terminal.ptutils': <module 'IPython.terminal.ptutils' from 'D:\\\\Anaconda\\\\lib\\\\site-packages\\\\IPython\\\\terminal\\\\ptutils.py'>,\n",
       " 'IPython.terminal.shortcuts': <module 'IPython.terminal.shortcuts' from 'D:\\\\Anaconda\\\\lib\\\\site-packages\\\\IPython\\\\terminal\\\\shortcuts.py'>,\n",
       " 'IPython.lib.clipboard': <module 'IPython.lib.clipboard' from 'D:\\\\Anaconda\\\\lib\\\\site-packages\\\\IPython\\\\lib\\\\clipboard.py'>,\n",
       " 'IPython.terminal.magics': <module 'IPython.terminal.magics' from 'D:\\\\Anaconda\\\\lib\\\\site-packages\\\\IPython\\\\terminal\\\\magics.py'>,\n",
       " 'IPython.terminal.pt_inputhooks': <module 'IPython.terminal.pt_inputhooks' from 'D:\\\\Anaconda\\\\lib\\\\site-packages\\\\IPython\\\\terminal\\\\pt_inputhooks\\\\__init__.py'>,\n",
       " 'IPython.terminal.prompts': <module 'IPython.terminal.prompts' from 'D:\\\\Anaconda\\\\lib\\\\site-packages\\\\IPython\\\\terminal\\\\prompts.py'>,\n",
       " 'IPython.terminal.ipapp': <module 'IPython.terminal.ipapp' from 'D:\\\\Anaconda\\\\lib\\\\site-packages\\\\IPython\\\\terminal\\\\ipapp.py'>,\n",
       " 'IPython.core.magics': <module 'IPython.core.magics' from 'D:\\\\Anaconda\\\\lib\\\\site-packages\\\\IPython\\\\core\\\\magics\\\\__init__.py'>,\n",
       " 'IPython.core.magics.auto': <module 'IPython.core.magics.auto' from 'D:\\\\Anaconda\\\\lib\\\\site-packages\\\\IPython\\\\core\\\\magics\\\\auto.py'>,\n",
       " 'IPython.core.magics.basic': <module 'IPython.core.magics.basic' from 'D:\\\\Anaconda\\\\lib\\\\site-packages\\\\IPython\\\\core\\\\magics\\\\basic.py'>,\n",
       " 'IPython.core.magics.code': <module 'IPython.core.magics.code' from 'D:\\\\Anaconda\\\\lib\\\\site-packages\\\\IPython\\\\core\\\\magics\\\\code.py'>,\n",
       " 'urllib.request': <module 'urllib.request' from 'D:\\\\Anaconda\\\\lib\\\\urllib\\\\request.py'>,\n",
       " 'email': <module 'email' from 'D:\\\\Anaconda\\\\lib\\\\email\\\\__init__.py'>,\n",
       " 'http': <module 'http' from 'D:\\\\Anaconda\\\\lib\\\\http\\\\__init__.py'>,\n",
       " 'http.client': <module 'http.client' from 'D:\\\\Anaconda\\\\lib\\\\http\\\\client.py'>,\n",
       " 'email.parser': <module 'email.parser' from 'D:\\\\Anaconda\\\\lib\\\\email\\\\parser.py'>,\n",
       " 'email.feedparser': <module 'email.feedparser' from 'D:\\\\Anaconda\\\\lib\\\\email\\\\feedparser.py'>,\n",
       " 'email.errors': <module 'email.errors' from 'D:\\\\Anaconda\\\\lib\\\\email\\\\errors.py'>,\n",
       " 'email._policybase': <module 'email._policybase' from 'D:\\\\Anaconda\\\\lib\\\\email\\\\_policybase.py'>,\n",
       " 'email.header': <module 'email.header' from 'D:\\\\Anaconda\\\\lib\\\\email\\\\header.py'>,\n",
       " 'email.quoprimime': <module 'email.quoprimime' from 'D:\\\\Anaconda\\\\lib\\\\email\\\\quoprimime.py'>,\n",
       " 'email.base64mime': <module 'email.base64mime' from 'D:\\\\Anaconda\\\\lib\\\\email\\\\base64mime.py'>,\n",
       " 'email.charset': <module 'email.charset' from 'D:\\\\Anaconda\\\\lib\\\\email\\\\charset.py'>,\n",
       " 'email.encoders': <module 'email.encoders' from 'D:\\\\Anaconda\\\\lib\\\\email\\\\encoders.py'>,\n",
       " 'quopri': <module 'quopri' from 'D:\\\\Anaconda\\\\lib\\\\quopri.py'>,\n",
       " 'email.utils': <module 'email.utils' from 'D:\\\\Anaconda\\\\lib\\\\email\\\\utils.py'>,\n",
       " 'email._parseaddr': <module 'email._parseaddr' from 'D:\\\\Anaconda\\\\lib\\\\email\\\\_parseaddr.py'>,\n",
       " 'calendar': <module 'calendar' from 'D:\\\\Anaconda\\\\lib\\\\calendar.py'>,\n",
       " 'email.message': <module 'email.message' from 'D:\\\\Anaconda\\\\lib\\\\email\\\\message.py'>,\n",
       " 'uu': <module 'uu' from 'D:\\\\Anaconda\\\\lib\\\\uu.py'>,\n",
       " 'email._encoded_words': <module 'email._encoded_words' from 'D:\\\\Anaconda\\\\lib\\\\email\\\\_encoded_words.py'>,\n",
       " 'email.iterators': <module 'email.iterators' from 'D:\\\\Anaconda\\\\lib\\\\email\\\\iterators.py'>,\n",
       " 'urllib.error': <module 'urllib.error' from 'D:\\\\Anaconda\\\\lib\\\\urllib\\\\error.py'>,\n",
       " 'urllib.response': <module 'urllib.response' from 'D:\\\\Anaconda\\\\lib\\\\urllib\\\\response.py'>,\n",
       " 'nturl2path': <module 'nturl2path' from 'D:\\\\Anaconda\\\\lib\\\\nturl2path.py'>,\n",
       " 'IPython.core.magics.config': <module 'IPython.core.magics.config' from 'D:\\\\Anaconda\\\\lib\\\\site-packages\\\\IPython\\\\core\\\\magics\\\\config.py'>,\n",
       " 'IPython.core.magics.display': <module 'IPython.core.magics.display' from 'D:\\\\Anaconda\\\\lib\\\\site-packages\\\\IPython\\\\core\\\\magics\\\\display.py'>,\n",
       " 'IPython.core.magics.execution': <module 'IPython.core.magics.execution' from 'D:\\\\Anaconda\\\\lib\\\\site-packages\\\\IPython\\\\core\\\\magics\\\\execution.py'>,\n",
       " 'timeit': <module 'timeit' from 'D:\\\\Anaconda\\\\lib\\\\timeit.py'>,\n",
       " 'cProfile': <module 'cProfile' from 'D:\\\\Anaconda\\\\lib\\\\cProfile.py'>,\n",
       " '_lsprof': <module '_lsprof' (built-in)>,\n",
       " 'profile': <module 'profile' from 'D:\\\\Anaconda\\\\lib\\\\profile.py'>,\n",
       " 'pstats': <module 'pstats' from 'D:\\\\Anaconda\\\\lib\\\\pstats.py'>,\n",
       " 'IPython.utils.module_paths': <module 'IPython.utils.module_paths' from 'D:\\\\Anaconda\\\\lib\\\\site-packages\\\\IPython\\\\utils\\\\module_paths.py'>,\n",
       " 'IPython.utils.timing': <module 'IPython.utils.timing' from 'D:\\\\Anaconda\\\\lib\\\\site-packages\\\\IPython\\\\utils\\\\timing.py'>,\n",
       " 'IPython.core.magics.extension': <module 'IPython.core.magics.extension' from 'D:\\\\Anaconda\\\\lib\\\\site-packages\\\\IPython\\\\core\\\\magics\\\\extension.py'>,\n",
       " 'IPython.core.magics.history': <module 'IPython.core.magics.history' from 'D:\\\\Anaconda\\\\lib\\\\site-packages\\\\IPython\\\\core\\\\magics\\\\history.py'>,\n",
       " 'IPython.core.magics.logging': <module 'IPython.core.magics.logging' from 'D:\\\\Anaconda\\\\lib\\\\site-packages\\\\IPython\\\\core\\\\magics\\\\logging.py'>,\n",
       " 'IPython.core.magics.namespace': <module 'IPython.core.magics.namespace' from 'D:\\\\Anaconda\\\\lib\\\\site-packages\\\\IPython\\\\core\\\\magics\\\\namespace.py'>,\n",
       " 'IPython.core.magics.osm': <module 'IPython.core.magics.osm' from 'D:\\\\Anaconda\\\\lib\\\\site-packages\\\\IPython\\\\core\\\\magics\\\\osm.py'>,\n",
       " 'IPython.core.magics.packaging': <module 'IPython.core.magics.packaging' from 'D:\\\\Anaconda\\\\lib\\\\site-packages\\\\IPython\\\\core\\\\magics\\\\packaging.py'>,\n",
       " 'IPython.core.magics.pylab': <module 'IPython.core.magics.pylab' from 'D:\\\\Anaconda\\\\lib\\\\site-packages\\\\IPython\\\\core\\\\magics\\\\pylab.py'>,\n",
       " 'IPython.core.pylabtools': <module 'IPython.core.pylabtools' from 'D:\\\\Anaconda\\\\lib\\\\site-packages\\\\IPython\\\\core\\\\pylabtools.py'>,\n",
       " 'IPython.core.magics.script': <module 'IPython.core.magics.script' from 'D:\\\\Anaconda\\\\lib\\\\site-packages\\\\IPython\\\\core\\\\magics\\\\script.py'>,\n",
       " 'IPython.lib.backgroundjobs': <module 'IPython.lib.backgroundjobs' from 'D:\\\\Anaconda\\\\lib\\\\site-packages\\\\IPython\\\\lib\\\\backgroundjobs.py'>,\n",
       " 'IPython.core.shellapp': <module 'IPython.core.shellapp' from 'D:\\\\Anaconda\\\\lib\\\\site-packages\\\\IPython\\\\core\\\\shellapp.py'>,\n",
       " 'IPython.extensions': <module 'IPython.extensions' from 'D:\\\\Anaconda\\\\lib\\\\site-packages\\\\IPython\\\\extensions\\\\__init__.py'>,\n",
       " 'IPython.extensions.storemagic': <module 'IPython.extensions.storemagic' from 'D:\\\\Anaconda\\\\lib\\\\site-packages\\\\IPython\\\\extensions\\\\storemagic.py'>,\n",
       " 'IPython.utils.frame': <module 'IPython.utils.frame' from 'D:\\\\Anaconda\\\\lib\\\\site-packages\\\\IPython\\\\utils\\\\frame.py'>,\n",
       " 'jupyter_client': <module 'jupyter_client' from 'D:\\\\Anaconda\\\\lib\\\\site-packages\\\\jupyter_client\\\\__init__.py'>,\n",
       " 'jupyter_client._version': <module 'jupyter_client._version' from 'D:\\\\Anaconda\\\\lib\\\\site-packages\\\\jupyter_client\\\\_version.py'>,\n",
       " 'jupyter_client.connect': <module 'jupyter_client.connect' from 'D:\\\\Anaconda\\\\lib\\\\site-packages\\\\jupyter_client\\\\connect.py'>,\n",
       " 'zmq': <module 'zmq' from 'D:\\\\Anaconda\\\\lib\\\\site-packages\\\\zmq\\\\__init__.py'>,\n",
       " 'zmq.backend': <module 'zmq.backend' from 'D:\\\\Anaconda\\\\lib\\\\site-packages\\\\zmq\\\\backend\\\\__init__.py'>,\n",
       " 'zmq.backend.select': <module 'zmq.backend.select' from 'D:\\\\Anaconda\\\\lib\\\\site-packages\\\\zmq\\\\backend\\\\select.py'>,\n",
       " 'zmq.backend.cython': <module 'zmq.backend.cython' from 'D:\\\\Anaconda\\\\lib\\\\site-packages\\\\zmq\\\\backend\\\\cython\\\\__init__.py'>,\n",
       " 'zmq.backend.cython.constants': <module 'zmq.backend.cython.constants' from 'D:\\\\Anaconda\\\\lib\\\\site-packages\\\\zmq\\\\backend\\\\cython\\\\constants.cp37-win_amd64.pyd'>,\n",
       " 'cython_runtime': <module 'cython_runtime'>,\n",
       " 'zmq.backend.cython.error': <module 'zmq.backend.cython.error' from 'D:\\\\Anaconda\\\\lib\\\\site-packages\\\\zmq\\\\backend\\\\cython\\\\error.cp37-win_amd64.pyd'>,\n",
       " '_cython_0_29_13': <module '_cython_0_29_13'>,\n",
       " 'zmq.backend.cython.message': <module 'zmq.backend.cython.message' from 'D:\\\\Anaconda\\\\lib\\\\site-packages\\\\zmq\\\\backend\\\\cython\\\\message.cp37-win_amd64.pyd'>,\n",
       " 'zmq.error': <module 'zmq.error' from 'D:\\\\Anaconda\\\\lib\\\\site-packages\\\\zmq\\\\error.py'>,\n",
       " 'zmq.backend.cython.context': <module 'zmq.backend.cython.context' from 'D:\\\\Anaconda\\\\lib\\\\site-packages\\\\zmq\\\\backend\\\\cython\\\\context.cp37-win_amd64.pyd'>,\n",
       " 'zmq.backend.cython.socket': <module 'zmq.backend.cython.socket' from 'D:\\\\Anaconda\\\\lib\\\\site-packages\\\\zmq\\\\backend\\\\cython\\\\socket.cp37-win_amd64.pyd'>,\n",
       " 'zmq.backend.cython.utils': <module 'zmq.backend.cython.utils' from 'D:\\\\Anaconda\\\\lib\\\\site-packages\\\\zmq\\\\backend\\\\cython\\\\utils.cp37-win_amd64.pyd'>,\n",
       " 'zmq.backend.cython._poll': <module 'zmq.backend.cython._poll' from 'D:\\\\Anaconda\\\\lib\\\\site-packages\\\\zmq\\\\backend\\\\cython\\\\_poll.cp37-win_amd64.pyd'>,\n",
       " 'zmq.backend.cython._version': <module 'zmq.backend.cython._version' from 'D:\\\\Anaconda\\\\lib\\\\site-packages\\\\zmq\\\\backend\\\\cython\\\\_version.cp37-win_amd64.pyd'>,\n",
       " 'zmq.backend.cython._device': <module 'zmq.backend.cython._device' from 'D:\\\\Anaconda\\\\lib\\\\site-packages\\\\zmq\\\\backend\\\\cython\\\\_device.cp37-win_amd64.pyd'>,\n",
       " 'zmq.backend.cython._proxy_steerable': <module 'zmq.backend.cython._proxy_steerable' from 'D:\\\\Anaconda\\\\lib\\\\site-packages\\\\zmq\\\\backend\\\\cython\\\\_proxy_steerable.cp37-win_amd64.pyd'>,\n",
       " 'zmq.sugar': <module 'zmq.sugar' from 'D:\\\\Anaconda\\\\lib\\\\site-packages\\\\zmq\\\\sugar\\\\__init__.py'>,\n",
       " 'zmq.sugar.constants': <module 'zmq.sugar.constants' from 'D:\\\\Anaconda\\\\lib\\\\site-packages\\\\zmq\\\\sugar\\\\constants.py'>,\n",
       " 'zmq.utils': <module 'zmq.utils' from 'D:\\\\Anaconda\\\\lib\\\\site-packages\\\\zmq\\\\utils\\\\__init__.py'>,\n",
       " 'zmq.utils.constant_names': <module 'zmq.utils.constant_names' from 'D:\\\\Anaconda\\\\lib\\\\site-packages\\\\zmq\\\\utils\\\\constant_names.py'>,\n",
       " 'zmq.sugar.context': <module 'zmq.sugar.context' from 'D:\\\\Anaconda\\\\lib\\\\site-packages\\\\zmq\\\\sugar\\\\context.py'>,\n",
       " 'zmq.sugar.attrsettr': <module 'zmq.sugar.attrsettr' from 'D:\\\\Anaconda\\\\lib\\\\site-packages\\\\zmq\\\\sugar\\\\attrsettr.py'>,\n",
       " 'zmq.sugar.socket': <module 'zmq.sugar.socket' from 'D:\\\\Anaconda\\\\lib\\\\site-packages\\\\zmq\\\\sugar\\\\socket.py'>,\n",
       " 'zmq.sugar.poll': <module 'zmq.sugar.poll' from 'D:\\\\Anaconda\\\\lib\\\\site-packages\\\\zmq\\\\sugar\\\\poll.py'>,\n",
       " 'zmq.utils.jsonapi': <module 'zmq.utils.jsonapi' from 'D:\\\\Anaconda\\\\lib\\\\site-packages\\\\zmq\\\\utils\\\\jsonapi.py'>,\n",
       " 'zmq.utils.strtypes': <module 'zmq.utils.strtypes' from 'D:\\\\Anaconda\\\\lib\\\\site-packages\\\\zmq\\\\utils\\\\strtypes.py'>,\n",
       " 'zmq.sugar.frame': <module 'zmq.sugar.frame' from 'D:\\\\Anaconda\\\\lib\\\\site-packages\\\\zmq\\\\sugar\\\\frame.py'>,\n",
       " 'zmq.sugar.tracker': <module 'zmq.sugar.tracker' from 'D:\\\\Anaconda\\\\lib\\\\site-packages\\\\zmq\\\\sugar\\\\tracker.py'>,\n",
       " 'zmq.sugar.version': <module 'zmq.sugar.version' from 'D:\\\\Anaconda\\\\lib\\\\site-packages\\\\zmq\\\\sugar\\\\version.py'>,\n",
       " 'zmq.sugar.stopwatch': <module 'zmq.sugar.stopwatch' from 'D:\\\\Anaconda\\\\lib\\\\site-packages\\\\zmq\\\\sugar\\\\stopwatch.py'>,\n",
       " 'jupyter_client.localinterfaces': <module 'jupyter_client.localinterfaces' from 'D:\\\\Anaconda\\\\lib\\\\site-packages\\\\jupyter_client\\\\localinterfaces.py'>,\n",
       " 'jupyter_core': <module 'jupyter_core' from 'D:\\\\Anaconda\\\\lib\\\\site-packages\\\\jupyter_core\\\\__init__.py'>,\n",
       " 'jupyter_core.version': <module 'jupyter_core.version' from 'D:\\\\Anaconda\\\\lib\\\\site-packages\\\\jupyter_core\\\\version.py'>,\n",
       " 'jupyter_core.paths': <module 'jupyter_core.paths' from 'D:\\\\Anaconda\\\\lib\\\\site-packages\\\\jupyter_core\\\\paths.py'>,\n",
       " 'jupyter_client.launcher': <module 'jupyter_client.launcher' from 'D:\\\\Anaconda\\\\lib\\\\site-packages\\\\jupyter_client\\\\launcher.py'>,\n",
       " 'traitlets.log': <module 'traitlets.log' from 'D:\\\\Anaconda\\\\lib\\\\site-packages\\\\traitlets\\\\log.py'>,\n",
       " 'jupyter_client.client': <module 'jupyter_client.client' from 'D:\\\\Anaconda\\\\lib\\\\site-packages\\\\jupyter_client\\\\client.py'>,\n",
       " 'jupyter_client.channels': <module 'jupyter_client.channels' from 'D:\\\\Anaconda\\\\lib\\\\site-packages\\\\jupyter_client\\\\channels.py'>,\n",
       " 'jupyter_client.channelsabc': <module 'jupyter_client.channelsabc' from 'D:\\\\Anaconda\\\\lib\\\\site-packages\\\\jupyter_client\\\\channelsabc.py'>,\n",
       " 'jupyter_client.clientabc': <module 'jupyter_client.clientabc' from 'D:\\\\Anaconda\\\\lib\\\\site-packages\\\\jupyter_client\\\\clientabc.py'>,\n",
       " 'jupyter_client.manager': <module 'jupyter_client.manager' from 'D:\\\\Anaconda\\\\lib\\\\site-packages\\\\jupyter_client\\\\manager.py'>,\n",
       " 'jupyter_client.kernelspec': <module 'jupyter_client.kernelspec' from 'D:\\\\Anaconda\\\\lib\\\\site-packages\\\\jupyter_client\\\\kernelspec.py'>,\n",
       " 'jupyter_client.managerabc': <module 'jupyter_client.managerabc' from 'D:\\\\Anaconda\\\\lib\\\\site-packages\\\\jupyter_client\\\\managerabc.py'>,\n",
       " 'jupyter_client.blocking': <module 'jupyter_client.blocking' from 'D:\\\\Anaconda\\\\lib\\\\site-packages\\\\jupyter_client\\\\blocking\\\\__init__.py'>,\n",
       " 'jupyter_client.blocking.client': <module 'jupyter_client.blocking.client' from 'D:\\\\Anaconda\\\\lib\\\\site-packages\\\\jupyter_client\\\\blocking\\\\client.py'>,\n",
       " 'jupyter_client.blocking.channels': <module 'jupyter_client.blocking.channels' from 'D:\\\\Anaconda\\\\lib\\\\site-packages\\\\jupyter_client\\\\blocking\\\\channels.py'>,\n",
       " 'jupyter_client.multikernelmanager': <module 'jupyter_client.multikernelmanager' from 'D:\\\\Anaconda\\\\lib\\\\site-packages\\\\jupyter_client\\\\multikernelmanager.py'>,\n",
       " 'uuid': <module 'uuid' from 'D:\\\\Anaconda\\\\lib\\\\uuid.py'>,\n",
       " 'ipykernel.kernelapp': <module 'ipykernel.kernelapp' from 'D:\\\\Anaconda\\\\lib\\\\site-packages\\\\ipykernel\\\\kernelapp.py'>,\n",
       " 'tornado': <module 'tornado' from 'D:\\\\Anaconda\\\\lib\\\\site-packages\\\\tornado\\\\__init__.py'>,\n",
       " 'tornado.ioloop': <module 'tornado.ioloop' from 'D:\\\\Anaconda\\\\lib\\\\site-packages\\\\tornado\\\\ioloop.py'>,\n",
       " 'numbers': <module 'numbers' from 'D:\\\\Anaconda\\\\lib\\\\numbers.py'>,\n",
       " 'tornado.concurrent': <module 'tornado.concurrent' from 'D:\\\\Anaconda\\\\lib\\\\site-packages\\\\tornado\\\\concurrent.py'>,\n",
       " 'tornado.log': <module 'tornado.log' from 'D:\\\\Anaconda\\\\lib\\\\site-packages\\\\tornado\\\\log.py'>,\n",
       " 'logging.handlers': <module 'logging.handlers' from 'D:\\\\Anaconda\\\\lib\\\\logging\\\\handlers.py'>,\n",
       " 'tornado.escape': <module 'tornado.escape' from 'D:\\\\Anaconda\\\\lib\\\\site-packages\\\\tornado\\\\escape.py'>,\n",
       " 'tornado.util': <module 'tornado.util' from 'D:\\\\Anaconda\\\\lib\\\\site-packages\\\\tornado\\\\util.py'>,\n",
       " 'tornado.speedups': <module 'tornado.speedups' from 'D:\\\\Anaconda\\\\lib\\\\site-packages\\\\tornado\\\\speedups.cp37-win_amd64.pyd'>,\n",
       " 'colorama': <module 'colorama' from 'D:\\\\Anaconda\\\\lib\\\\site-packages\\\\colorama\\\\__init__.py'>,\n",
       " 'colorama.initialise': <module 'colorama.initialise' from 'D:\\\\Anaconda\\\\lib\\\\site-packages\\\\colorama\\\\initialise.py'>,\n",
       " 'colorama.ansitowin32': <module 'colorama.ansitowin32' from 'D:\\\\Anaconda\\\\lib\\\\site-packages\\\\colorama\\\\ansitowin32.py'>,\n",
       " 'colorama.ansi': <module 'colorama.ansi' from 'D:\\\\Anaconda\\\\lib\\\\site-packages\\\\colorama\\\\ansi.py'>,\n",
       " 'colorama.winterm': <module 'colorama.winterm' from 'D:\\\\Anaconda\\\\lib\\\\site-packages\\\\colorama\\\\winterm.py'>,\n",
       " 'colorama.win32': <module 'colorama.win32' from 'D:\\\\Anaconda\\\\lib\\\\site-packages\\\\colorama\\\\win32.py'>,\n",
       " 'zmq.eventloop': <module 'zmq.eventloop' from 'D:\\\\Anaconda\\\\lib\\\\site-packages\\\\zmq\\\\eventloop\\\\__init__.py'>,\n",
       " 'zmq.eventloop.ioloop': <module 'zmq.eventloop.ioloop' from 'D:\\\\Anaconda\\\\lib\\\\site-packages\\\\zmq\\\\eventloop\\\\ioloop.py'>,\n",
       " 'tornado.platform': <module 'tornado.platform' from 'D:\\\\Anaconda\\\\lib\\\\site-packages\\\\tornado\\\\platform\\\\__init__.py'>,\n",
       " 'tornado.platform.asyncio': <module 'tornado.platform.asyncio' from 'D:\\\\Anaconda\\\\lib\\\\site-packages\\\\tornado\\\\platform\\\\asyncio.py'>,\n",
       " 'tornado.gen': <module 'tornado.gen' from 'D:\\\\Anaconda\\\\lib\\\\site-packages\\\\tornado\\\\gen.py'>,\n",
       " 'zmq.eventloop.zmqstream': <module 'zmq.eventloop.zmqstream' from 'D:\\\\Anaconda\\\\lib\\\\site-packages\\\\zmq\\\\eventloop\\\\zmqstream.py'>,\n",
       " 'ipykernel.iostream': <module 'ipykernel.iostream' from 'D:\\\\Anaconda\\\\lib\\\\site-packages\\\\ipykernel\\\\iostream.py'>,\n",
       " 'imp': <module 'imp' from 'D:\\\\Anaconda\\\\lib\\\\imp.py'>,\n",
       " 'jupyter_client.session': <module 'jupyter_client.session' from 'D:\\\\Anaconda\\\\lib\\\\site-packages\\\\jupyter_client\\\\session.py'>,\n",
       " 'hmac': <module 'hmac' from 'D:\\\\Anaconda\\\\lib\\\\hmac.py'>,\n",
       " 'jupyter_client.jsonutil': <module 'jupyter_client.jsonutil' from 'D:\\\\Anaconda\\\\lib\\\\site-packages\\\\jupyter_client\\\\jsonutil.py'>,\n",
       " 'dateutil': <module 'dateutil' from 'D:\\\\Anaconda\\\\lib\\\\site-packages\\\\dateutil\\\\__init__.py'>,\n",
       " 'dateutil._version': <module 'dateutil._version' from 'D:\\\\Anaconda\\\\lib\\\\site-packages\\\\dateutil\\\\_version.py'>,\n",
       " 'dateutil.parser': <module 'dateutil.parser' from 'D:\\\\Anaconda\\\\lib\\\\site-packages\\\\dateutil\\\\parser\\\\__init__.py'>,\n",
       " 'dateutil.parser._parser': <module 'dateutil.parser._parser' from 'D:\\\\Anaconda\\\\lib\\\\site-packages\\\\dateutil\\\\parser\\\\_parser.py'>,\n",
       " 'decimal': <module 'decimal' from 'D:\\\\Anaconda\\\\lib\\\\decimal.py'>,\n",
       " '_decimal': <module '_decimal' from 'D:\\\\Anaconda\\\\DLLs\\\\_decimal.pyd'>,\n",
       " 'dateutil.relativedelta': <module 'dateutil.relativedelta' from 'D:\\\\Anaconda\\\\lib\\\\site-packages\\\\dateutil\\\\relativedelta.py'>,\n",
       " 'dateutil._common': <module 'dateutil._common' from 'D:\\\\Anaconda\\\\lib\\\\site-packages\\\\dateutil\\\\_common.py'>,\n",
       " 'dateutil.tz': <module 'dateutil.tz' from 'D:\\\\Anaconda\\\\lib\\\\site-packages\\\\dateutil\\\\tz\\\\__init__.py'>,\n",
       " 'dateutil.tz.tz': <module 'dateutil.tz.tz' from 'D:\\\\Anaconda\\\\lib\\\\site-packages\\\\dateutil\\\\tz\\\\tz.py'>,\n",
       " 'dateutil.tz._common': <module 'dateutil.tz._common' from 'D:\\\\Anaconda\\\\lib\\\\site-packages\\\\dateutil\\\\tz\\\\_common.py'>,\n",
       " 'dateutil.tz._factories': <module 'dateutil.tz._factories' from 'D:\\\\Anaconda\\\\lib\\\\site-packages\\\\dateutil\\\\tz\\\\_factories.py'>,\n",
       " 'dateutil.tz.win': <module 'dateutil.tz.win' from 'D:\\\\Anaconda\\\\lib\\\\site-packages\\\\dateutil\\\\tz\\\\win.py'>,\n",
       " 'dateutil.parser.isoparser': <module 'dateutil.parser.isoparser' from 'D:\\\\Anaconda\\\\lib\\\\site-packages\\\\dateutil\\\\parser\\\\isoparser.py'>,\n",
       " '_strptime': <module '_strptime' from 'D:\\\\Anaconda\\\\lib\\\\_strptime.py'>,\n",
       " 'jupyter_client.adapter': <module 'jupyter_client.adapter' from 'D:\\\\Anaconda\\\\lib\\\\site-packages\\\\jupyter_client\\\\adapter.py'>,\n",
       " 'ipykernel.heartbeat': <module 'ipykernel.heartbeat' from 'D:\\\\Anaconda\\\\lib\\\\site-packages\\\\ipykernel\\\\heartbeat.py'>,\n",
       " 'ipykernel.ipkernel': <module 'ipykernel.ipkernel' from 'D:\\\\Anaconda\\\\lib\\\\site-packages\\\\ipykernel\\\\ipkernel.py'>,\n",
       " 'IPython.utils.tokenutil': <module 'IPython.utils.tokenutil' from 'D:\\\\Anaconda\\\\lib\\\\site-packages\\\\IPython\\\\utils\\\\tokenutil.py'>,\n",
       " 'ipykernel.comm': <module 'ipykernel.comm' from 'D:\\\\Anaconda\\\\lib\\\\site-packages\\\\ipykernel\\\\comm\\\\__init__.py'>,\n",
       " 'ipykernel.comm.manager': <module 'ipykernel.comm.manager' from 'D:\\\\Anaconda\\\\lib\\\\site-packages\\\\ipykernel\\\\comm\\\\manager.py'>,\n",
       " 'ipykernel.comm.comm': <module 'ipykernel.comm.comm' from 'D:\\\\Anaconda\\\\lib\\\\site-packages\\\\ipykernel\\\\comm\\\\comm.py'>,\n",
       " 'ipykernel.kernelbase': <module 'ipykernel.kernelbase' from 'D:\\\\Anaconda\\\\lib\\\\site-packages\\\\ipykernel\\\\kernelbase.py'>,\n",
       " 'tornado.queues': <module 'tornado.queues' from 'D:\\\\Anaconda\\\\lib\\\\site-packages\\\\tornado\\\\queues.py'>,\n",
       " 'tornado.locks': <module 'tornado.locks' from 'D:\\\\Anaconda\\\\lib\\\\site-packages\\\\tornado\\\\locks.py'>,\n",
       " 'ipykernel.jsonutil': <module 'ipykernel.jsonutil' from 'D:\\\\Anaconda\\\\lib\\\\site-packages\\\\ipykernel\\\\jsonutil.py'>,\n",
       " 'ipykernel.zmqshell': <module 'ipykernel.zmqshell' from 'D:\\\\Anaconda\\\\lib\\\\site-packages\\\\ipykernel\\\\zmqshell.py'>,\n",
       " 'IPython.core.payloadpage': <module 'IPython.core.payloadpage' from 'D:\\\\Anaconda\\\\lib\\\\site-packages\\\\IPython\\\\core\\\\payloadpage.py'>,\n",
       " 'ipykernel.displayhook': <module 'ipykernel.displayhook' from 'D:\\\\Anaconda\\\\lib\\\\site-packages\\\\ipykernel\\\\displayhook.py'>,\n",
       " 'ipykernel.parentpoller': <module 'ipykernel.parentpoller' from 'D:\\\\Anaconda\\\\lib\\\\site-packages\\\\ipykernel\\\\parentpoller.py'>,\n",
       " 'win32api': <module 'win32api' from 'D:\\\\Anaconda\\\\lib\\\\site-packages\\\\win32\\\\win32api.pyd'>,\n",
       " 'win32security': <module 'win32security' from 'D:\\\\Anaconda\\\\lib\\\\site-packages\\\\win32\\\\win32security.pyd'>,\n",
       " 'ntsecuritycon': <module 'ntsecuritycon' from 'D:\\\\Anaconda\\\\lib\\\\site-packages\\\\win32\\\\lib\\\\ntsecuritycon.py'>,\n",
       " 'faulthandler': <module 'faulthandler' (built-in)>,\n",
       " 'ipykernel.datapub': <module 'ipykernel.datapub' from 'D:\\\\Anaconda\\\\lib\\\\site-packages\\\\ipykernel\\\\datapub.py'>,\n",
       " 'ipykernel.serialize': <module 'ipykernel.serialize' from 'D:\\\\Anaconda\\\\lib\\\\site-packages\\\\ipykernel\\\\serialize.py'>,\n",
       " 'ipykernel.pickleutil': <module 'ipykernel.pickleutil' from 'D:\\\\Anaconda\\\\lib\\\\site-packages\\\\ipykernel\\\\pickleutil.py'>,\n",
       " 'ipykernel.codeutil': <module 'ipykernel.codeutil' from 'D:\\\\Anaconda\\\\lib\\\\site-packages\\\\ipykernel\\\\codeutil.py'>,\n",
       " 'IPython.core.completerlib': <module 'IPython.core.completerlib' from 'D:\\\\Anaconda\\\\lib\\\\site-packages\\\\IPython\\\\core\\\\completerlib.py'>,\n",
       " 'storemagic': <module 'storemagic' from 'D:\\\\Anaconda\\\\lib\\\\site-packages\\\\IPython\\\\extensions\\\\storemagic.py'>,\n",
       " 'ipywidgets': <module 'ipywidgets' from 'D:\\\\Anaconda\\\\lib\\\\site-packages\\\\ipywidgets\\\\__init__.py'>,\n",
       " 'ipywidgets._version': <module 'ipywidgets._version' from 'D:\\\\Anaconda\\\\lib\\\\site-packages\\\\ipywidgets\\\\_version.py'>,\n",
       " 'ipywidgets.widgets': <module 'ipywidgets.widgets' from 'D:\\\\Anaconda\\\\lib\\\\site-packages\\\\ipywidgets\\\\widgets\\\\__init__.py'>,\n",
       " 'ipywidgets.widgets.widget': <module 'ipywidgets.widgets.widget' from 'D:\\\\Anaconda\\\\lib\\\\site-packages\\\\ipywidgets\\\\widgets\\\\widget.py'>,\n",
       " 'ipywidgets.widgets.domwidget': <module 'ipywidgets.widgets.domwidget' from 'D:\\\\Anaconda\\\\lib\\\\site-packages\\\\ipywidgets\\\\widgets\\\\domwidget.py'>,\n",
       " 'ipywidgets.widgets.trait_types': <module 'ipywidgets.widgets.trait_types' from 'D:\\\\Anaconda\\\\lib\\\\site-packages\\\\ipywidgets\\\\widgets\\\\trait_types.py'>,\n",
       " 'ipywidgets.widgets.util': <module 'ipywidgets.widgets.util' from 'D:\\\\Anaconda\\\\lib\\\\site-packages\\\\ipywidgets\\\\widgets\\\\util.py'>,\n",
       " 'ipywidgets.widgets.widget_layout': <module 'ipywidgets.widgets.widget_layout' from 'D:\\\\Anaconda\\\\lib\\\\site-packages\\\\ipywidgets\\\\widgets\\\\widget_layout.py'>,\n",
       " 'ipywidgets.widgets.widget_style': <module 'ipywidgets.widgets.widget_style' from 'D:\\\\Anaconda\\\\lib\\\\site-packages\\\\ipywidgets\\\\widgets\\\\widget_style.py'>,\n",
       " 'ipywidgets.widgets.valuewidget': <module 'ipywidgets.widgets.valuewidget' from 'D:\\\\Anaconda\\\\lib\\\\site-packages\\\\ipywidgets\\\\widgets\\\\valuewidget.py'>,\n",
       " 'ipywidgets.widgets.widget_core': <module 'ipywidgets.widgets.widget_core' from 'D:\\\\Anaconda\\\\lib\\\\site-packages\\\\ipywidgets\\\\widgets\\\\widget_core.py'>,\n",
       " 'ipywidgets.widgets.widget_bool': <module 'ipywidgets.widgets.widget_bool' from 'D:\\\\Anaconda\\\\lib\\\\site-packages\\\\ipywidgets\\\\widgets\\\\widget_bool.py'>,\n",
       " 'ipywidgets.widgets.widget_description': <module 'ipywidgets.widgets.widget_description' from 'D:\\\\Anaconda\\\\lib\\\\site-packages\\\\ipywidgets\\\\widgets\\\\widget_description.py'>,\n",
       " 'ipywidgets.widgets.widget_button': <module 'ipywidgets.widgets.widget_button' from 'D:\\\\Anaconda\\\\lib\\\\site-packages\\\\ipywidgets\\\\widgets\\\\widget_button.py'>,\n",
       " 'ipywidgets.widgets.widget_box': <module 'ipywidgets.widgets.widget_box' from 'D:\\\\Anaconda\\\\lib\\\\site-packages\\\\ipywidgets\\\\widgets\\\\widget_box.py'>,\n",
       " 'ipywidgets.widgets.docutils': <module 'ipywidgets.widgets.docutils' from 'D:\\\\Anaconda\\\\lib\\\\site-packages\\\\ipywidgets\\\\widgets\\\\docutils.py'>,\n",
       " 'ipywidgets.widgets.widget_float': <module 'ipywidgets.widgets.widget_float' from 'D:\\\\Anaconda\\\\lib\\\\site-packages\\\\ipywidgets\\\\widgets\\\\widget_float.py'>,\n",
       " 'ipywidgets.widgets.widget_int': <module 'ipywidgets.widgets.widget_int' from 'D:\\\\Anaconda\\\\lib\\\\site-packages\\\\ipywidgets\\\\widgets\\\\widget_int.py'>,\n",
       " 'ipywidgets.widgets.widget_color': <module 'ipywidgets.widgets.widget_color' from 'D:\\\\Anaconda\\\\lib\\\\site-packages\\\\ipywidgets\\\\widgets\\\\widget_color.py'>,\n",
       " 'ipywidgets.widgets.widget_date': <module 'ipywidgets.widgets.widget_date' from 'D:\\\\Anaconda\\\\lib\\\\site-packages\\\\ipywidgets\\\\widgets\\\\widget_date.py'>,\n",
       " 'ipywidgets.widgets.widget_output': <module 'ipywidgets.widgets.widget_output' from 'D:\\\\Anaconda\\\\lib\\\\site-packages\\\\ipywidgets\\\\widgets\\\\widget_output.py'>,\n",
       " 'ipywidgets.widgets.widget_selection': <module 'ipywidgets.widgets.widget_selection' from 'D:\\\\Anaconda\\\\lib\\\\site-packages\\\\ipywidgets\\\\widgets\\\\widget_selection.py'>,\n",
       " 'ipywidgets.widgets.widget_selectioncontainer': <module 'ipywidgets.widgets.widget_selectioncontainer' from 'D:\\\\Anaconda\\\\lib\\\\site-packages\\\\ipywidgets\\\\widgets\\\\widget_selectioncontainer.py'>,\n",
       " 'ipywidgets.widgets.widget_string': <module 'ipywidgets.widgets.widget_string' from 'D:\\\\Anaconda\\\\lib\\\\site-packages\\\\ipywidgets\\\\widgets\\\\widget_string.py'>,\n",
       " 'ipywidgets.widgets.widget_controller': <module 'ipywidgets.widgets.widget_controller' from 'D:\\\\Anaconda\\\\lib\\\\site-packages\\\\ipywidgets\\\\widgets\\\\widget_controller.py'>,\n",
       " 'ipywidgets.widgets.interaction': <module 'ipywidgets.widgets.interaction' from 'D:\\\\Anaconda\\\\lib\\\\site-packages\\\\ipywidgets\\\\widgets\\\\interaction.py'>,\n",
       " 'ipywidgets.widgets.widget_link': <module 'ipywidgets.widgets.widget_link' from 'D:\\\\Anaconda\\\\lib\\\\site-packages\\\\ipywidgets\\\\widgets\\\\widget_link.py'>,\n",
       " 'ipywidgets.widgets.widget_media': <module 'ipywidgets.widgets.widget_media' from 'D:\\\\Anaconda\\\\lib\\\\site-packages\\\\ipywidgets\\\\widgets\\\\widget_media.py'>,\n",
       " 'ipywidgets.widgets.widget_templates': <module 'ipywidgets.widgets.widget_templates' from 'D:\\\\Anaconda\\\\lib\\\\site-packages\\\\ipywidgets\\\\widgets\\\\widget_templates.py'>,\n",
       " 'ipywidgets.widgets.widget_upload': <module 'ipywidgets.widgets.widget_upload' from 'D:\\\\Anaconda\\\\lib\\\\site-packages\\\\ipywidgets\\\\widgets\\\\widget_upload.py'>}"
      ]
     },
     "execution_count": 13,
     "metadata": {},
     "output_type": "execute_result"
    }
   ],
   "source": [
    "sys.modules"
   ]
  },
  {
   "cell_type": "markdown",
   "metadata": {},
   "source": [
    "## sys.builtin_module_names\n",
    "\n",
    "该属性是一个字符串元组，其中的元素均为当前所使用的的 Python 解释器内置的模块名称。"
   ]
  },
  {
   "cell_type": "code",
   "execution_count": 14,
   "metadata": {
    "collapsed": true,
    "jupyter": {
     "outputs_hidden": true
    }
   },
   "outputs": [
    {
     "data": {
      "text/plain": [
       "('_abc',\n",
       " '_ast',\n",
       " '_bisect',\n",
       " '_blake2',\n",
       " '_codecs',\n",
       " '_codecs_cn',\n",
       " '_codecs_hk',\n",
       " '_codecs_iso2022',\n",
       " '_codecs_jp',\n",
       " '_codecs_kr',\n",
       " '_codecs_tw',\n",
       " '_collections',\n",
       " '_contextvars',\n",
       " '_csv',\n",
       " '_datetime',\n",
       " '_functools',\n",
       " '_heapq',\n",
       " '_imp',\n",
       " '_io',\n",
       " '_json',\n",
       " '_locale',\n",
       " '_lsprof',\n",
       " '_md5',\n",
       " '_multibytecodec',\n",
       " '_opcode',\n",
       " '_operator',\n",
       " '_pickle',\n",
       " '_random',\n",
       " '_sha1',\n",
       " '_sha256',\n",
       " '_sha3',\n",
       " '_sha512',\n",
       " '_signal',\n",
       " '_sre',\n",
       " '_stat',\n",
       " '_string',\n",
       " '_struct',\n",
       " '_symtable',\n",
       " '_thread',\n",
       " '_tracemalloc',\n",
       " '_warnings',\n",
       " '_weakref',\n",
       " '_winapi',\n",
       " 'array',\n",
       " 'atexit',\n",
       " 'audioop',\n",
       " 'binascii',\n",
       " 'builtins',\n",
       " 'cmath',\n",
       " 'errno',\n",
       " 'faulthandler',\n",
       " 'gc',\n",
       " 'itertools',\n",
       " 'marshal',\n",
       " 'math',\n",
       " 'mmap',\n",
       " 'msvcrt',\n",
       " 'nt',\n",
       " 'parser',\n",
       " 'sys',\n",
       " 'time',\n",
       " 'winreg',\n",
       " 'xxsubtype',\n",
       " 'zipimport',\n",
       " 'zlib')"
      ]
     },
     "execution_count": 14,
     "metadata": {},
     "output_type": "execute_result"
    }
   ],
   "source": [
    "sys.builtin_module_names"
   ]
  },
  {
   "cell_type": "markdown",
   "metadata": {},
   "source": [
    "## sys.path"
   ]
  },
  {
   "cell_type": "markdown",
   "metadata": {},
   "source": [
    "该属性是一个由字符串组成的列表，其中各个元素表示的是 Python 搜索模块的路径；在程序启动期间被初始化。\n",
    "\n",
    "其中第一个元素（也就是path[0]）的值是最初调用 Python 解释器的脚本所在的绝对路径；如果是在交互式环境下查看sys.path的值，就会得到一个空字符串。"
   ]
  },
  {
   "cell_type": "code",
   "execution_count": 15,
   "metadata": {
    "collapsed": true,
    "jupyter": {
     "outputs_hidden": true
    }
   },
   "outputs": [
    {
     "data": {
      "text/plain": [
       "['C:\\\\Users\\\\WangChengLong\\\\Desktop\\\\python基础知识训练',\n",
       " 'D:\\\\Anaconda\\\\python37.zip',\n",
       " 'D:\\\\Anaconda\\\\DLLs',\n",
       " 'D:\\\\Anaconda\\\\lib',\n",
       " 'D:\\\\Anaconda',\n",
       " '',\n",
       " 'C:\\\\Users\\\\WangChengLong\\\\AppData\\\\Roaming\\\\Python\\\\Python37\\\\site-packages',\n",
       " 'D:\\\\Anaconda\\\\lib\\\\site-packages',\n",
       " 'D:\\\\Anaconda\\\\lib\\\\site-packages\\\\win32',\n",
       " 'D:\\\\Anaconda\\\\lib\\\\site-packages\\\\win32\\\\lib',\n",
       " 'D:\\\\Anaconda\\\\lib\\\\site-packages\\\\Pythonwin',\n",
       " 'D:\\\\Anaconda\\\\lib\\\\site-packages\\\\IPython\\\\extensions',\n",
       " 'C:\\\\Users\\\\WangChengLong\\\\.ipython']"
      ]
     },
     "execution_count": 15,
     "metadata": {},
     "output_type": "execute_result"
    }
   ],
   "source": [
    "sys.path"
   ]
  },
  {
   "cell_type": "markdown",
   "metadata": {},
   "source": [
    "## sys.stdin,sys.stdout,sys.stderr"
   ]
  },
  {
   "cell_type": "markdown",
   "metadata": {},
   "source": [
    "* sys.stdin:标准输入，初始的标准输入为从键盘，可以将`sys.stdin=`赋值为某个类文件的对象，改为从该对象中输入\n",
    "* sys.stdout:标准输出，默认输出到屏幕上，将`sys.stdout=`赋值为某个file-like对象，输出到该对象中\n",
    "* sys.stderr:与前面两个属性类似，只不过该属性标识的是标准错误，通常也是定向到屏幕的，可以粗糙地认为是一个输出错误信息的特殊的标准输出流。\n",
    "\n",
    "sys模块中还存在几个“私有”属性：sys.\\_\\_stdin\\_\\_，sys.\\_\\_stdout\\_\\_，sys.\\_\\_stderr\\_\\_。这几个属性中保存的就是最初定向的“标准输入”、“标准输出”和“标准错误”流。在适当的时侯，我们可以借助这三个属性将sys.stdin、sys.stdout和sys.err恢复为初始值。"
   ]
  },
  {
   "cell_type": "code",
   "execution_count": 32,
   "metadata": {},
   "outputs": [],
   "source": [
    "sys.stdin=sys.__stdin__"
   ]
  },
  {
   "cell_type": "code",
   "execution_count": 40,
   "metadata": {},
   "outputs": [
    {
     "name": "stdout",
     "output_type": "stream",
     "text": [
      "a\n"
     ]
    },
    {
     "data": {
      "text/plain": [
       "'a'"
      ]
     },
     "execution_count": 40,
     "metadata": {},
     "output_type": "execute_result"
    }
   ],
   "source": [
    "#改变标准输入\n",
    "#在shell中会改变，在交互式中不会\n",
    "with open('glob/t1.txt','r+') as f:\n",
    "    savedstdin,sys.stdin=sys.stdin,f\n",
    "    input()\n",
    "    sys.stdin=savedstdin"
   ]
  },
  {
   "cell_type": "code",
   "execution_count": 24,
   "metadata": {},
   "outputs": [
    {
     "name": "stdout",
     "output_type": "stream",
     "text": [
      "读取文件内容: ['这是第0个txt文本\\n', 'this text is for file\\n', '\\n']\n",
      "this text is for screen\n"
     ]
    }
   ],
   "source": [
    "#改变标准输出\n",
    "with open('glob/t0.txt','r+') as f:\n",
    "    savedstdout,sys.stdout=sys.stdout,f#保留最初定向以及重定向\n",
    "    print('this text is for file')\n",
    "    sys.stdout=savedstdout\n",
    "    print('读取文件内容:',f.readlines())\n",
    "    print('this text is for screen')"
   ]
  },
  {
   "cell_type": "markdown",
   "metadata": {},
   "source": [
    "[Python标准输出重定向](https://www.cnblogs.com/clover-toeic/p/5491073.html)"
   ]
  },
  {
   "cell_type": "markdown",
   "metadata": {},
   "source": [
    "# 正则匹配 re"
   ]
  },
  {
   "cell_type": "code",
   "execution_count": null,
   "metadata": {},
   "outputs": [],
   "source": []
  },
  {
   "cell_type": "markdown",
   "metadata": {},
   "source": [
    "# 数学 "
   ]
  },
  {
   "cell_type": "markdown",
   "metadata": {},
   "source": [
    "## math"
   ]
  },
  {
   "cell_type": "code",
   "execution_count": 42,
   "metadata": {},
   "outputs": [],
   "source": [
    "import math"
   ]
  },
  {
   "cell_type": "markdown",
   "metadata": {},
   "source": [
    "函数|用途|\n",
    "-|:-\n",
    "math.ceil(x)|返回大于或等于x的最小整数\n",
    "math.copysign(x,y)|给x赋予y的符号（正负）\n",
    "math.fabs(x)|x的绝对值\n",
    "math.factorial(x)|x的阶乘\n",
    "math.floor(x)|返回小于或等于x的最大整数\n",
    "math.fmod(x,y)|首选于浮点数的求余数，在整数求余时是x%y\n",
    "math.frexp(x)|将 x 的尾数和指数作为对 (m, e) 返回。 m 是一个浮点数，e 是一个整数，使得 x == m * 2\\*\\*e 正好。如果 x 为零，则返回 (0.0, 0)，否则 0.5 <= abs(m) < 1。这用于以可移植的方式“挑选”浮点数的内部表示。\n",
    "math.fsum(iterable)|用于浮点数求和，可以不丢失精度\n",
    "math.gcd(a,b)|返回a和b的最大公因数\n",
    "math.isclose(a,b, * ,rel_tol=1e-09,abs_tol=0.0)|判断两个函数是否足够相近，也即精度是否达到了。<br/>rel_tol:是一个相对数，相对于a，b的值，精度为rel_tol * max(a,b) <br/>abs_tol:为绝对精度，与a，b的值无关。当`abs(a-b)<=max(rel_tol * max(a,b),abs_tol)`时，判断为正确.<br/>空值NaN与任何值都不相似，无穷 inf and -inf 只与他们自己相似\n",
    "math.isfinite(x)|当x不是infinite，NAN。或者False时返回True,0返回True\n",
    "math.isinf(x)|当x是inf，或者-inf返回True\n",
    "math.isnan(x)|当x是NaN时返回True\n",
    "math.ldexp(x,i)|x * （2 ** i），frexp的逆函数\n",
    "math.modf(x)|返回x的整数和小数部分，每个部分都有符号且是浮点数。\n",
    "math.remainder(x,y)|x-n ** y,n是最接近y/x的整数，同样近选小的，所以余数可能是负数.\n",
    "math.trunc(x)|去尾法返回整数\n",
    "math.exp(x)|$e^x$\n",
    "math.expm1(x)|\n",
    "math.log(x[base])|以base为底的对数,默认是e\n",
    "math.log1p(x)|\n",
    "math.log2(x)|以2为底的对数\n",
    "math.log10(x)|以10为底的对数\n",
    "math.pow(x，y)|$x^y$\n",
    "math.sqrt(x)|$\\sqrt{x}$\n",
    "math.acos(x)|$arccos(x)$\n",
    "math.asin(x)|$arcsin(x)$\n",
    "math.atan(x)|$arctan(x)$\n",
    "math.atan2(y,x)|\n",
    "math.cos(x)|$cos(x)$\n",
    "math.hypot(x,y)|$\\sqrt{x^2+y^2}$,返回欧几里得范数 sqrt(x*x + y*y)。这是向量从原点到点 (x, y) 的长度。\n",
    "math.sin(x)|$sin(x)$\n",
    "math.tan(x)|$cos(x)$\n",
    "math.degrees(x)|从弧度制转化为角度制\n",
    "math.radians(x)|从角度制转化为弧度制\n",
    "math.acosh(x)|\n",
    "math.asinh(x)|\n",
    "math.atanh(x)|\n",
    "math.cosh(x)|\n",
    "math.sinh(x)|\n",
    "math.tanh(x)|\n",
    "math.erf(x)|\n",
    "math.erfc(x)|\n",
    "math.gamma(x)|\n",
    "math.lgamma(x)|\n",
    "math.pi|The mathematical constant π = 3.141592…, to available precision.\n",
    "math.e|The mathematical constant e = 2.718281…, to available precision.\n",
    "math.tau|数学常数 τ = 6.283185...，达到可用精度。 Tau 是一个圆常数，等于 2π，即圆的周长与其半径的比值。\n",
    "math.inf|A floating-point positive infinity. (For negative infinity, use -math.inf.) Equivalent to the output of float('inf').\n",
    "math.nan|A floating-point “not a number” (NaN) value. Equivalent to the output of float('nan')."
   ]
  },
  {
   "cell_type": "markdown",
   "metadata": {},
   "source": [
    "### 上下限 math.ceil,math.floor"
   ]
  },
  {
   "cell_type": "code",
   "execution_count": 43,
   "metadata": {},
   "outputs": [
    {
     "data": {
      "text/plain": [
       "6"
      ]
     },
     "execution_count": 43,
     "metadata": {},
     "output_type": "execute_result"
    },
    {
     "data": {
      "text/plain": [
       "5"
      ]
     },
     "execution_count": 43,
     "metadata": {},
     "output_type": "execute_result"
    }
   ],
   "source": [
    "s=5.31\n",
    "math.ceil(s)#大于或等于s的最小整数\n",
    "math.floor(s)#小于或等于s的最大整数"
   ]
  },
  {
   "cell_type": "code",
   "execution_count": 44,
   "metadata": {},
   "outputs": [
    {
     "data": {
      "text/plain": [
       "5"
      ]
     },
     "execution_count": 44,
     "metadata": {},
     "output_type": "execute_result"
    },
    {
     "data": {
      "text/plain": [
       "5"
      ]
     },
     "execution_count": 44,
     "metadata": {},
     "output_type": "execute_result"
    }
   ],
   "source": [
    "s=5\n",
    "math.ceil(s)\n",
    "math.floor(s)"
   ]
  },
  {
   "cell_type": "markdown",
   "metadata": {},
   "source": [
    "### 组合和阶乘 math.comb math.factorial"
   ]
  },
  {
   "cell_type": "markdown",
   "metadata": {},
   "source": [
    "* math.comb(n,k) $C_n^k=\\frac{n!}{k!(n-k)!}$ <span style=\"color:red\">3.10版本才有</span>\n",
    "* math.factorial(n) $n!$"
   ]
  },
  {
   "cell_type": "code",
   "execution_count": 50,
   "metadata": {},
   "outputs": [
    {
     "data": {
      "text/plain": [
       "6.0"
      ]
     },
     "execution_count": 50,
     "metadata": {},
     "output_type": "execute_result"
    },
    {
     "data": {
      "text/plain": [
       "1"
      ]
     },
     "execution_count": 50,
     "metadata": {},
     "output_type": "execute_result"
    }
   ],
   "source": [
    "n=4\n",
    "k=2\n",
    "def comb(n,k):\n",
    "    '''n>k'''\n",
    "    return math.factorial(n)/math.factorial(k)/math.factorial(n-k)\n",
    "comb(4,2)\n",
    "math.factorial(0)\n",
    "# math.factorial(math.inf)非整数不行\n",
    "# math.factorial(-1)负数不行"
   ]
  },
  {
   "cell_type": "markdown",
   "metadata": {},
   "source": [
    "### 复制符号 math.copysign"
   ]
  },
  {
   "cell_type": "code",
   "execution_count": 65,
   "metadata": {},
   "outputs": [
    {
     "data": {
      "text/plain": [
       "-3.0"
      ]
     },
     "execution_count": 65,
     "metadata": {},
     "output_type": "execute_result"
    },
    {
     "data": {
      "text/plain": [
       "-0.0"
      ]
     },
     "execution_count": 65,
     "metadata": {},
     "output_type": "execute_result"
    }
   ],
   "source": [
    "math.copysign(3,-1)\n",
    "math.copysign(0.0,-1)"
   ]
  },
  {
   "cell_type": "markdown",
   "metadata": {},
   "source": [
    "### math.fmod,math.fsum,math.fabs"
   ]
  },
  {
   "cell_type": "code",
   "execution_count": 69,
   "metadata": {},
   "outputs": [
    {
     "data": {
      "text/plain": [
       "0.5000000000000001"
      ]
     },
     "execution_count": 69,
     "metadata": {},
     "output_type": "execute_result"
    },
    {
     "data": {
      "text/plain": [
       "0.5000000000000001"
      ]
     },
     "execution_count": 69,
     "metadata": {},
     "output_type": "execute_result"
    },
    {
     "data": {
      "text/plain": [
       "-1e-100"
      ]
     },
     "execution_count": 69,
     "metadata": {},
     "output_type": "execute_result"
    },
    {
     "data": {
      "text/plain": [
       "1e+100"
      ]
     },
     "execution_count": 69,
     "metadata": {},
     "output_type": "execute_result"
    }
   ],
   "source": [
    "math.fmod(3.5,0.6)\n",
    "3.5%0.6\n",
    "math.fmod(-1e-100,1e100)#正确\n",
    "-1e-100%1e100#错误"
   ]
  },
  {
   "cell_type": "code",
   "execution_count": 71,
   "metadata": {},
   "outputs": [
    {
     "name": "stdout",
     "output_type": "stream",
     "text": [
      "sum求和:0.9999999999999999\n",
      "fsum求和:1.0\n"
     ]
    }
   ],
   "source": [
    "print('sum求和:{}'.format(sum([0.1]*10)))\n",
    "print('fsum求和:{}'.format(math.fsum([.1]*10)))"
   ]
  },
  {
   "cell_type": "code",
   "execution_count": 74,
   "metadata": {},
   "outputs": [
    {
     "data": {
      "text/plain": [
       "3.14"
      ]
     },
     "execution_count": 74,
     "metadata": {},
     "output_type": "execute_result"
    },
    {
     "data": {
      "text/plain": [
       "3.0"
      ]
     },
     "execution_count": 74,
     "metadata": {},
     "output_type": "execute_result"
    },
    {
     "data": {
      "text/plain": [
       "3.15"
      ]
     },
     "execution_count": 74,
     "metadata": {},
     "output_type": "execute_result"
    },
    {
     "data": {
      "text/plain": [
       "3"
      ]
     },
     "execution_count": 74,
     "metadata": {},
     "output_type": "execute_result"
    }
   ],
   "source": [
    "math.fabs(-3.14)\n",
    "math.fabs(-3)\n",
    "abs(-3.15)\n",
    "abs(-3)"
   ]
  },
  {
   "cell_type": "markdown",
   "metadata": {},
   "source": [
    "### 最大公约数,math.gcd"
   ]
  },
  {
   "cell_type": "code",
   "execution_count": 76,
   "metadata": {},
   "outputs": [
    {
     "data": {
      "text/plain": [
       "5"
      ]
     },
     "execution_count": 76,
     "metadata": {},
     "output_type": "execute_result"
    },
    {
     "data": {
      "text/plain": [
       "4"
      ]
     },
     "execution_count": 76,
     "metadata": {},
     "output_type": "execute_result"
    },
    {
     "data": {
      "text/plain": [
       "5"
      ]
     },
     "execution_count": 76,
     "metadata": {},
     "output_type": "execute_result"
    },
    {
     "data": {
      "text/plain": [
       "1"
      ]
     },
     "execution_count": 76,
     "metadata": {},
     "output_type": "execute_result"
    },
    {
     "data": {
      "text/plain": [
       "0"
      ]
     },
     "execution_count": 76,
     "metadata": {},
     "output_type": "execute_result"
    }
   ],
   "source": [
    "math.gcd(10,5)\n",
    "#有单个0值的时候返回非零整数\n",
    "math.gcd(4,0)\n",
    "math.gcd(0,5)\n",
    "#都为0返回0\n",
    "math.gcd(0,0)"
   ]
  },
  {
   "cell_type": "markdown",
   "metadata": {},
   "source": [
    "### math.isclose,math.isfinite,math.isinf(x),math.isnan(x)"
   ]
  },
  {
   "cell_type": "code",
   "execution_count": 80,
   "metadata": {},
   "outputs": [
    {
     "name": "stdout",
     "output_type": "stream",
     "text": [
      "最大相对精度为0.001001,绝对精度为0.001,abs(a-b)=0.009999999999999787,精度不满足认为不相近\n",
      "最大相对精度为0.001001,绝对精度为0.01,abs(a-b)=0.009999999999999787,精度满足认为相近\n",
      "最大相对精度为0.01001,绝对精度为0.001,abs(a-b)=0.009999999999999787,精度满足认为相近\n"
     ]
    }
   ],
   "source": [
    "def jingdu(a,b,rel_tol,abs_tol):\n",
    "    print('最大相对精度为{},绝对精度为{},abs(a-b)={},精度{}'.format(max([rel_tol*a,rel_tol*b]),abs_tol,math.fabs(a-b),'满足认为相近' if math.isclose(a,b,rel_tol=rel_tol,abs_tol=abs_tol) else '不满足认为不相近'))\n",
    "jingdu(10,10.01,0.0001,0.001)\n",
    "jingdu(10,10.01,0.0001,0.01)\n",
    "jingdu(10,10.01,0.001,0.001)"
   ]
  },
  {
   "cell_type": "code",
   "execution_count": 83,
   "metadata": {},
   "outputs": [
    {
     "data": {
      "text/plain": [
       "True"
      ]
     },
     "execution_count": 83,
     "metadata": {},
     "output_type": "execute_result"
    },
    {
     "data": {
      "text/plain": [
       "False"
      ]
     },
     "execution_count": 83,
     "metadata": {},
     "output_type": "execute_result"
    },
    {
     "data": {
      "text/plain": [
       "False"
      ]
     },
     "execution_count": 83,
     "metadata": {},
     "output_type": "execute_result"
    },
    {
     "data": {
      "text/plain": [
       "True"
      ]
     },
     "execution_count": 83,
     "metadata": {},
     "output_type": "execute_result"
    }
   ],
   "source": [
    "math.isfinite(False)\n",
    "math.isfinite(math.inf)\n",
    "math.isfinite(math.nan)\n",
    "math.isfinite(0)"
   ]
  },
  {
   "cell_type": "code",
   "execution_count": 85,
   "metadata": {},
   "outputs": [
    {
     "data": {
      "text/plain": [
       "True"
      ]
     },
     "execution_count": 85,
     "metadata": {},
     "output_type": "execute_result"
    },
    {
     "data": {
      "text/plain": [
       "False"
      ]
     },
     "execution_count": 85,
     "metadata": {},
     "output_type": "execute_result"
    }
   ],
   "source": [
    "math.isinf(math.inf)\n",
    "math.isinf(False)"
   ]
  },
  {
   "cell_type": "code",
   "execution_count": 86,
   "metadata": {},
   "outputs": [
    {
     "data": {
      "text/plain": [
       "True"
      ]
     },
     "execution_count": 86,
     "metadata": {},
     "output_type": "execute_result"
    },
    {
     "data": {
      "text/plain": [
       "False"
      ]
     },
     "execution_count": 86,
     "metadata": {},
     "output_type": "execute_result"
    }
   ],
   "source": [
    "math.isnan(math.nan)\n",
    "math.isnan(False)"
   ]
  },
  {
   "cell_type": "markdown",
   "metadata": {},
   "source": [
    "### 分离整数和小数math.modf"
   ]
  },
  {
   "cell_type": "code",
   "execution_count": 87,
   "metadata": {},
   "outputs": [
    {
     "data": {
      "text/plain": [
       "(0.14000000000000012, 3.0)"
      ]
     },
     "execution_count": 87,
     "metadata": {},
     "output_type": "execute_result"
    }
   ],
   "source": [
    "math.modf(3.14)"
   ]
  },
  {
   "cell_type": "markdown",
   "metadata": {},
   "source": [
    "### 求余数 math.remainder(x,y)"
   ]
  },
  {
   "cell_type": "code",
   "execution_count": 91,
   "metadata": {},
   "outputs": [
    {
     "data": {
      "text/plain": [
       "-1.0"
      ]
     },
     "execution_count": 91,
     "metadata": {},
     "output_type": "execute_result"
    },
    {
     "data": {
      "text/plain": [
       "-2.0"
      ]
     },
     "execution_count": 91,
     "metadata": {},
     "output_type": "execute_result"
    },
    {
     "data": {
      "text/plain": [
       "2.0"
      ]
     },
     "execution_count": 91,
     "metadata": {},
     "output_type": "execute_result"
    },
    {
     "data": {
      "text/plain": [
       "10.0"
      ]
     },
     "execution_count": 91,
     "metadata": {},
     "output_type": "execute_result"
    }
   ],
   "source": [
    "math.remainder(5,3)\n",
    "math.remainder(3,5)\n",
    "math.remainder(2,5)\n",
    "math.remainder(10,math.inf)"
   ]
  },
  {
   "cell_type": "markdown",
   "metadata": {},
   "source": [
    "###  去尾法求整 math.trunc"
   ]
  },
  {
   "cell_type": "code",
   "execution_count": 92,
   "metadata": {},
   "outputs": [
    {
     "data": {
      "text/plain": [
       "3"
      ]
     },
     "execution_count": 92,
     "metadata": {},
     "output_type": "execute_result"
    }
   ],
   "source": [
    "math.trunc(3.14)"
   ]
  },
  {
   "cell_type": "markdown",
   "metadata": {},
   "source": [
    "### exp,log,log2,log10,pow,sqrt"
   ]
  },
  {
   "cell_type": "code",
   "execution_count": 97,
   "metadata": {},
   "outputs": [
    {
     "data": {
      "text/plain": [
       "20.085536923187668"
      ]
     },
     "execution_count": 97,
     "metadata": {},
     "output_type": "execute_result"
    },
    {
     "data": {
      "text/plain": [
       "1.0"
      ]
     },
     "execution_count": 97,
     "metadata": {},
     "output_type": "execute_result"
    },
    {
     "data": {
      "text/plain": [
       "1.0"
      ]
     },
     "execution_count": 97,
     "metadata": {},
     "output_type": "execute_result"
    },
    {
     "data": {
      "text/plain": [
       "1.4426950408889634"
      ]
     },
     "execution_count": 97,
     "metadata": {},
     "output_type": "execute_result"
    },
    {
     "data": {
      "text/plain": [
       "1.0"
      ]
     },
     "execution_count": 97,
     "metadata": {},
     "output_type": "execute_result"
    },
    {
     "data": {
      "text/plain": [
       "8.0"
      ]
     },
     "execution_count": 97,
     "metadata": {},
     "output_type": "execute_result"
    },
    {
     "data": {
      "text/plain": [
       "4.0"
      ]
     },
     "execution_count": 97,
     "metadata": {},
     "output_type": "execute_result"
    }
   ],
   "source": [
    "math.exp(3)\n",
    "math.log(math.e)\n",
    "math.log(2,2)\n",
    "math.log2(math.e)\n",
    "math.log10(10)\n",
    "math.pow(2,3)\n",
    "math.sqrt(16)"
   ]
  },
  {
   "cell_type": "markdown",
   "metadata": {},
   "source": [
    "## random"
   ]
  },
  {
   "cell_type": "markdown",
   "metadata": {},
   "source": [
    "取随机数\n",
    "\n",
    "import random"
   ]
  },
  {
   "cell_type": "markdown",
   "metadata": {},
   "source": [
    "### .seed(),.getstate(),.setstate()"
   ]
  },
  {
   "cell_type": "code",
   "execution_count": 101,
   "metadata": {
    "collapsed": true,
    "jupyter": {
     "outputs_hidden": true
    }
   },
   "outputs": [
    {
     "data": {
      "text/plain": [
       "(3,\n",
       " (2147483648,\n",
       "  279925189,\n",
       "  2893088925,\n",
       "  636135997,\n",
       "  3019570967,\n",
       "  24546326,\n",
       "  1860774990,\n",
       "  2256063250,\n",
       "  4286297885,\n",
       "  3456236285,\n",
       "  3828254850,\n",
       "  1904716859,\n",
       "  2249539888,\n",
       "  2294256870,\n",
       "  2777468639,\n",
       "  1349998930,\n",
       "  3160784265,\n",
       "  1225256972,\n",
       "  1623886423,\n",
       "  3193335063,\n",
       "  1445156418,\n",
       "  830208930,\n",
       "  812658506,\n",
       "  1344728592,\n",
       "  3722463752,\n",
       "  3299498912,\n",
       "  3445105475,\n",
       "  2929115884,\n",
       "  3137932929,\n",
       "  135156064,\n",
       "  1843120409,\n",
       "  2789881946,\n",
       "  2411478582,\n",
       "  3003603418,\n",
       "  693539728,\n",
       "  1050912668,\n",
       "  2621505393,\n",
       "  1482298779,\n",
       "  4084130289,\n",
       "  277836669,\n",
       "  3219127066,\n",
       "  4215122040,\n",
       "  309282955,\n",
       "  4057683373,\n",
       "  1343888423,\n",
       "  856187525,\n",
       "  1291113795,\n",
       "  1696475748,\n",
       "  3325168865,\n",
       "  1036436373,\n",
       "  2408378201,\n",
       "  2462024394,\n",
       "  2978809697,\n",
       "  3153518673,\n",
       "  707931667,\n",
       "  463384209,\n",
       "  275568407,\n",
       "  509936800,\n",
       "  2419262004,\n",
       "  3146271214,\n",
       "  779696961,\n",
       "  3419017276,\n",
       "  4168215407,\n",
       "  3027705354,\n",
       "  1353452355,\n",
       "  794645213,\n",
       "  2100344468,\n",
       "  3217965001,\n",
       "  2516282486,\n",
       "  2905552980,\n",
       "  2405785668,\n",
       "  3625364515,\n",
       "  3941849319,\n",
       "  3960676281,\n",
       "  4171919258,\n",
       "  402718959,\n",
       "  1913828272,\n",
       "  1105301682,\n",
       "  3705208535,\n",
       "  1085684525,\n",
       "  1326640493,\n",
       "  3700818611,\n",
       "  337805347,\n",
       "  398621460,\n",
       "  3719657987,\n",
       "  2746067504,\n",
       "  2787714317,\n",
       "  961082774,\n",
       "  3584060392,\n",
       "  2892850965,\n",
       "  3003441634,\n",
       "  1178977927,\n",
       "  4080251279,\n",
       "  3989025583,\n",
       "  513709795,\n",
       "  1876091663,\n",
       "  2403147598,\n",
       "  179283414,\n",
       "  4001282840,\n",
       "  31554818,\n",
       "  891137156,\n",
       "  3635576403,\n",
       "  859131678,\n",
       "  3471765469,\n",
       "  296768679,\n",
       "  341987293,\n",
       "  1591684127,\n",
       "  3148865036,\n",
       "  267695159,\n",
       "  1693112478,\n",
       "  1675305243,\n",
       "  3083975235,\n",
       "  4212967543,\n",
       "  136586706,\n",
       "  4231140840,\n",
       "  1114240159,\n",
       "  2973984628,\n",
       "  2428898623,\n",
       "  626310867,\n",
       "  815895436,\n",
       "  3164659080,\n",
       "  2284795055,\n",
       "  1384352870,\n",
       "  999514170,\n",
       "  1258231796,\n",
       "  2043772521,\n",
       "  34860823,\n",
       "  2423629098,\n",
       "  110595825,\n",
       "  3529449838,\n",
       "  1544113456,\n",
       "  817882994,\n",
       "  2522345570,\n",
       "  3100587289,\n",
       "  1528092990,\n",
       "  4291072830,\n",
       "  3605167212,\n",
       "  2422558087,\n",
       "  2277658311,\n",
       "  336603657,\n",
       "  4249022207,\n",
       "  626297312,\n",
       "  628298112,\n",
       "  3712691939,\n",
       "  2917622652,\n",
       "  3593186505,\n",
       "  773651923,\n",
       "  2218370920,\n",
       "  1748572517,\n",
       "  3661487907,\n",
       "  3043882514,\n",
       "  942669427,\n",
       "  4215465336,\n",
       "  3487178321,\n",
       "  3482946337,\n",
       "  1601249908,\n",
       "  469597178,\n",
       "  1818491115,\n",
       "  80564289,\n",
       "  2221862694,\n",
       "  2216101671,\n",
       "  4019241556,\n",
       "  3674604594,\n",
       "  2357131299,\n",
       "  2992389838,\n",
       "  732813758,\n",
       "  947404084,\n",
       "  2266480073,\n",
       "  437047405,\n",
       "  1875383540,\n",
       "  3805400503,\n",
       "  3552901963,\n",
       "  2703925404,\n",
       "  718967271,\n",
       "  4051737087,\n",
       "  3898916345,\n",
       "  2840847890,\n",
       "  2006706590,\n",
       "  2609804162,\n",
       "  2871278936,\n",
       "  4189813876,\n",
       "  2531596767,\n",
       "  733114459,\n",
       "  2092395850,\n",
       "  4066940373,\n",
       "  2922144346,\n",
       "  8326138,\n",
       "  3562185378,\n",
       "  1628211718,\n",
       "  2162762403,\n",
       "  3818723621,\n",
       "  3879409563,\n",
       "  1968252583,\n",
       "  2162668284,\n",
       "  3066356526,\n",
       "  1809089960,\n",
       "  4108340113,\n",
       "  282490136,\n",
       "  2949529144,\n",
       "  1940323897,\n",
       "  1940200605,\n",
       "  1878774970,\n",
       "  1785179275,\n",
       "  1656759234,\n",
       "  3916984160,\n",
       "  81879010,\n",
       "  4250533656,\n",
       "  3409007898,\n",
       "  206634816,\n",
       "  1415574839,\n",
       "  3914221647,\n",
       "  1535646930,\n",
       "  1852362860,\n",
       "  3779563010,\n",
       "  2004064826,\n",
       "  3329305049,\n",
       "  193791403,\n",
       "  2942537095,\n",
       "  2412393864,\n",
       "  2264400735,\n",
       "  796018101,\n",
       "  2127279618,\n",
       "  3510875881,\n",
       "  2891053688,\n",
       "  1536630367,\n",
       "  830556865,\n",
       "  1938487543,\n",
       "  2973515872,\n",
       "  2875885233,\n",
       "  2326476783,\n",
       "  2380682517,\n",
       "  352066180,\n",
       "  1897062325,\n",
       "  4071375369,\n",
       "  3554851415,\n",
       "  1194400779,\n",
       "  4163953899,\n",
       "  977841416,\n",
       "  2550069388,\n",
       "  2911538986,\n",
       "  2090053422,\n",
       "  165401569,\n",
       "  3793122731,\n",
       "  3742645833,\n",
       "  2309810132,\n",
       "  2356147667,\n",
       "  3542982905,\n",
       "  2033691678,\n",
       "  1270108782,\n",
       "  1158604068,\n",
       "  1995821706,\n",
       "  4187659899,\n",
       "  4190466754,\n",
       "  766650195,\n",
       "  3032881065,\n",
       "  2373810016,\n",
       "  638928040,\n",
       "  3848227135,\n",
       "  2770821848,\n",
       "  724343279,\n",
       "  1460528927,\n",
       "  4019603819,\n",
       "  1938406370,\n",
       "  2855668456,\n",
       "  2335743307,\n",
       "  2378381496,\n",
       "  1147869714,\n",
       "  2161876642,\n",
       "  3227615774,\n",
       "  3760991014,\n",
       "  1573642799,\n",
       "  1385437628,\n",
       "  1249017785,\n",
       "  1125000767,\n",
       "  1817684589,\n",
       "  2195515566,\n",
       "  4175486934,\n",
       "  1964615512,\n",
       "  2778991034,\n",
       "  2478240576,\n",
       "  1922492705,\n",
       "  2606175116,\n",
       "  876746724,\n",
       "  3781519656,\n",
       "  3784007535,\n",
       "  256114694,\n",
       "  3113411354,\n",
       "  1061742010,\n",
       "  807914587,\n",
       "  514185517,\n",
       "  3541488655,\n",
       "  1341022931,\n",
       "  3495347199,\n",
       "  1704556115,\n",
       "  3078376128,\n",
       "  163309404,\n",
       "  514981036,\n",
       "  2492763276,\n",
       "  3770974649,\n",
       "  1097652888,\n",
       "  2708454729,\n",
       "  456837495,\n",
       "  1920856686,\n",
       "  301214971,\n",
       "  31184870,\n",
       "  1949766651,\n",
       "  2441459098,\n",
       "  189439853,\n",
       "  739856935,\n",
       "  3520331847,\n",
       "  3788773243,\n",
       "  3166820007,\n",
       "  337828826,\n",
       "  1631579992,\n",
       "  1550300092,\n",
       "  48580235,\n",
       "  2960613104,\n",
       "  3608415135,\n",
       "  1576604599,\n",
       "  1586324428,\n",
       "  2310666979,\n",
       "  894504079,\n",
       "  473950614,\n",
       "  203095536,\n",
       "  4164503157,\n",
       "  1495628974,\n",
       "  3732892462,\n",
       "  2182973760,\n",
       "  3020789253,\n",
       "  2531952414,\n",
       "  750471247,\n",
       "  3093222635,\n",
       "  372958735,\n",
       "  1527672907,\n",
       "  2975391482,\n",
       "  2025298253,\n",
       "  2113920247,\n",
       "  4012858393,\n",
       "  3020610381,\n",
       "  4072283490,\n",
       "  1104303097,\n",
       "  3928455961,\n",
       "  3274025787,\n",
       "  2422905566,\n",
       "  1446870279,\n",
       "  2033502282,\n",
       "  1154751487,\n",
       "  3934856826,\n",
       "  2229618828,\n",
       "  3936540955,\n",
       "  4200431068,\n",
       "  1420734279,\n",
       "  2362575667,\n",
       "  782410481,\n",
       "  2103513505,\n",
       "  2786166650,\n",
       "  3006573620,\n",
       "  1425759089,\n",
       "  2902378869,\n",
       "  3585595507,\n",
       "  682139375,\n",
       "  2487635930,\n",
       "  1775223026,\n",
       "  230213479,\n",
       "  3054377158,\n",
       "  2942128189,\n",
       "  608609324,\n",
       "  1444617422,\n",
       "  3462483062,\n",
       "  1216643257,\n",
       "  3384920070,\n",
       "  1706684308,\n",
       "  2257262314,\n",
       "  2279534740,\n",
       "  669389241,\n",
       "  4079011584,\n",
       "  1829175237,\n",
       "  1986065849,\n",
       "  3432604029,\n",
       "  2324011638,\n",
       "  1683014082,\n",
       "  3203745988,\n",
       "  4234947780,\n",
       "  1061343275,\n",
       "  2027033728,\n",
       "  2492332535,\n",
       "  1069486583,\n",
       "  2997552985,\n",
       "  823139251,\n",
       "  2423935613,\n",
       "  845226091,\n",
       "  4142416987,\n",
       "  1777785975,\n",
       "  1027197356,\n",
       "  217145583,\n",
       "  3616462829,\n",
       "  3357510694,\n",
       "  2012962537,\n",
       "  2561153328,\n",
       "  3458070289,\n",
       "  223716551,\n",
       "  3245415105,\n",
       "  2721998326,\n",
       "  2296063826,\n",
       "  2498978236,\n",
       "  98190780,\n",
       "  1161230560,\n",
       "  162714006,\n",
       "  1488819143,\n",
       "  1587776552,\n",
       "  4141082587,\n",
       "  3117123308,\n",
       "  1002595035,\n",
       "  4056304345,\n",
       "  4172840588,\n",
       "  802145496,\n",
       "  339083030,\n",
       "  2052349063,\n",
       "  3030507376,\n",
       "  2004830125,\n",
       "  318263239,\n",
       "  2936832102,\n",
       "  2824137892,\n",
       "  1668640209,\n",
       "  3195554732,\n",
       "  1325076011,\n",
       "  265015572,\n",
       "  1210333973,\n",
       "  3348105419,\n",
       "  1871106170,\n",
       "  598800538,\n",
       "  396085150,\n",
       "  2531414212,\n",
       "  1973162893,\n",
       "  428194342,\n",
       "  792586457,\n",
       "  793795123,\n",
       "  1468913206,\n",
       "  437809411,\n",
       "  1981482574,\n",
       "  954894943,\n",
       "  1278628775,\n",
       "  3880820604,\n",
       "  2333252688,\n",
       "  4187726558,\n",
       "  4219648645,\n",
       "  2239511190,\n",
       "  482285113,\n",
       "  2698130632,\n",
       "  391675253,\n",
       "  177656051,\n",
       "  3405220797,\n",
       "  274763961,\n",
       "  3864733440,\n",
       "  3607558740,\n",
       "  2401745714,\n",
       "  674308959,\n",
       "  3156664729,\n",
       "  1761454038,\n",
       "  946279179,\n",
       "  3471784765,\n",
       "  2476334046,\n",
       "  1043243098,\n",
       "  3194322170,\n",
       "  4169368284,\n",
       "  2991049876,\n",
       "  2842949521,\n",
       "  2073239679,\n",
       "  1998962611,\n",
       "  440335225,\n",
       "  1059592731,\n",
       "  622995024,\n",
       "  973127869,\n",
       "  3246600424,\n",
       "  130342971,\n",
       "  3603362438,\n",
       "  3312633039,\n",
       "  3257359703,\n",
       "  1970320682,\n",
       "  1053367865,\n",
       "  1936069442,\n",
       "  3981626660,\n",
       "  1206460077,\n",
       "  503518641,\n",
       "  4051830273,\n",
       "  1043692261,\n",
       "  3452655976,\n",
       "  4054064567,\n",
       "  1760719552,\n",
       "  58127176,\n",
       "  516937481,\n",
       "  2545083253,\n",
       "  2885240242,\n",
       "  4001257230,\n",
       "  2332870900,\n",
       "  3856734519,\n",
       "  3897510140,\n",
       "  2281824596,\n",
       "  6468565,\n",
       "  3199626967,\n",
       "  1059470054,\n",
       "  343413685,\n",
       "  1928034793,\n",
       "  776414663,\n",
       "  2091909390,\n",
       "  2648595793,\n",
       "  2575764583,\n",
       "  987730076,\n",
       "  666011272,\n",
       "  1091176804,\n",
       "  120227467,\n",
       "  1672319774,\n",
       "  1781257268,\n",
       "  1080209204,\n",
       "  2736397334,\n",
       "  32183507,\n",
       "  3355230493,\n",
       "  4126762422,\n",
       "  1131157144,\n",
       "  1200672969,\n",
       "  1448961183,\n",
       "  3618297786,\n",
       "  9488294,\n",
       "  3998842055,\n",
       "  2281836698,\n",
       "  2422318934,\n",
       "  357426703,\n",
       "  1943340735,\n",
       "  4073969204,\n",
       "  3304058646,\n",
       "  175011879,\n",
       "  2728352098,\n",
       "  103869720,\n",
       "  1060758655,\n",
       "  1214282351,\n",
       "  1531604026,\n",
       "  517890262,\n",
       "  1681592764,\n",
       "  3539311673,\n",
       "  3881871097,\n",
       "  3873775347,\n",
       "  3615999596,\n",
       "  160552549,\n",
       "  148419949,\n",
       "  4173241118,\n",
       "  2318728374,\n",
       "  204722481,\n",
       "  81960074,\n",
       "  2535567866,\n",
       "  2736734275,\n",
       "  3281640657,\n",
       "  243742967,\n",
       "  2464919329,\n",
       "  2467408270,\n",
       "  1709244339,\n",
       "  3125340747,\n",
       "  408462433,\n",
       "  1220913936,\n",
       "  2731658219,\n",
       "  761663095,\n",
       "  3523060552,\n",
       "  1434001627,\n",
       "  699491946,\n",
       "  1433237907,\n",
       "  3037659372,\n",
       "  567873425,\n",
       "  3094317138,\n",
       "  2843359028,\n",
       "  3453957991,\n",
       "  4284736866,\n",
       "  827827234,\n",
       "  2677702491,\n",
       "  3088358324,\n",
       "  1430864864,\n",
       "  772033361,\n",
       "  1918840642,\n",
       "  3011101684,\n",
       "  3206300687,\n",
       "  2265317890,\n",
       "  3463030932,\n",
       "  417153830,\n",
       "  1575571934,\n",
       "  2958285935,\n",
       "  1622539381,\n",
       "  188650516,\n",
       "  3299719616,\n",
       "  568009634,\n",
       "  3787152651,\n",
       "  1767241802,\n",
       "  3664343362,\n",
       "  3812349912,\n",
       "  1803562288,\n",
       "  2154267290,\n",
       "  2281624473,\n",
       "  4076796346,\n",
       "  3038763409,\n",
       "  717859959,\n",
       "  3226180464,\n",
       "  3097199637,\n",
       "  1143177220,\n",
       "  1569326525,\n",
       "  1486200384,\n",
       "  2957143652,\n",
       "  1820847437,\n",
       "  2118197908,\n",
       "  736834565,\n",
       "  459939171,\n",
       "  483798042,\n",
       "  2676883510,\n",
       "  3521974415,\n",
       "  155522317,\n",
       "  2952819116,\n",
       "  2230197974,\n",
       "  4017917921,\n",
       "  2977353850,\n",
       "  1839004158,\n",
       "  590796294,\n",
       "  391857777,\n",
       "  1845742827,\n",
       "  280024913,\n",
       "  1124921173,\n",
       "  3938904076,\n",
       "  2556821342,\n",
       "  1117176787,\n",
       "  624),\n",
       " None)"
      ]
     },
     "execution_count": 101,
     "metadata": {},
     "output_type": "execute_result"
    }
   ],
   "source": [
    "import random\n",
    "random.seed(2)#设置随机数种子，相同的随机数种子下产生的随机数相同\n",
    "random.getstate()#获取状态，返回一个捕获生成器当前内部状态的对象。可以传递给这个对象setstate()来恢复状态。\n",
    "random.setstate(random.getstate())#状态应该从之前的调用中获得getstate()，并将 setstate()生成器的内部状态恢复到调用时的状态getstate()。"
   ]
  },
  {
   "cell_type": "code",
   "execution_count": 112,
   "metadata": {},
   "outputs": [
    {
     "data": {
      "text/plain": [
       "19"
      ]
     },
     "execution_count": 112,
     "metadata": {},
     "output_type": "execute_result"
    },
    {
     "data": {
      "text/plain": [
       "{0, 1, 2, 3}"
      ]
     },
     "execution_count": 112,
     "metadata": {},
     "output_type": "execute_result"
    }
   ],
   "source": [
    "random.seed(5)#后面都会以5作为random seed\n",
    "random.getrandbits(5)#返回一个占了指定k位数的整数\n",
    "set([random.getrandbits(2) for i in range(1000)])#可以看到占了2个位的整数有0,1,2,3"
   ]
  },
  {
   "cell_type": "markdown",
   "metadata": {},
   "source": [
    "### 生成随机整数 .randrange(),.randint()"
   ]
  },
  {
   "cell_type": "code",
   "execution_count": 113,
   "metadata": {},
   "outputs": [
    {
     "data": {
      "text/plain": [
       "8"
      ]
     },
     "execution_count": 113,
     "metadata": {},
     "output_type": "execute_result"
    }
   ],
   "source": [
    "random.randrange(0,10,2)#random.randrange(start,stop,step)，区别在于他可以限制步长"
   ]
  },
  {
   "cell_type": "code",
   "execution_count": 110,
   "metadata": {},
   "outputs": [
    {
     "data": {
      "text/plain": [
       "9"
      ]
     },
     "execution_count": 110,
     "metadata": {},
     "output_type": "execute_result"
    }
   ],
   "source": [
    "random.randint(0,10)#生成0到10之间的一个随机整数 a<=N<=b"
   ]
  },
  {
   "cell_type": "markdown",
   "metadata": {},
   "source": [
    "### 生成随机序列 .random.choice(),random.choices(),random.shuffle(),random.sample()"
   ]
  },
  {
   "cell_type": "markdown",
   "metadata": {},
   "source": [
    "* random.choice(seq) 从一个非空序列中随机抽取一个数"
   ]
  },
  {
   "cell_type": "code",
   "execution_count": 146,
   "metadata": {},
   "outputs": [
    {
     "data": {
      "text/plain": [
       "5"
      ]
     },
     "execution_count": 146,
     "metadata": {},
     "output_type": "execute_result"
    }
   ],
   "source": [
    "random.choice(range(10))"
   ]
  },
  {
   "cell_type": "markdown",
   "metadata": {},
   "source": [
    "* random.choices(population,weights=None,*,cum_weights=None,k=1)\n",
    "    * 给定weights或cum_weights,不能同时给，最终都会转为cum_weight来进行计算，长度必须和population的长度相同，对应的各个值的概率。\n",
    "    * k决定了生成样本的个数\n",
    "    * 大样本下各个值的概率应该与给定的weights相符"
   ]
  },
  {
   "cell_type": "code",
   "execution_count": 147,
   "metadata": {},
   "outputs": [
    {
     "name": "stdout",
     "output_type": "stream",
     "text": [
      "weights为[5,4,3,2,1]\n",
      "概率为[5/15=0.33,4/15=0.27,3/15=0.2,2/15=0.13,1/15=0.07]\n",
      "各随机值的概率为(0, 0.33),(1, 0.26),(2, 0.2),(3, 0.13),(4, 0.07)\n"
     ]
    }
   ],
   "source": [
    "print('weights为[5,4,3,2,1]')\n",
    "print('概率为[5/15={},4/15={},3/15={},2/15={},1/15={}]'.format(*[round((i)/15,2) for i in range(5,0,-1)]))\n",
    "random.seed(5)\n",
    "r=random.choices(range(5),weights=list(range(5,0,-1)),k=10000)\n",
    "print('各随机值的概率为{},{},{},{},{}'.format(*[(i,round(r.count(i)/10000,2)) for i in set(r)]))"
   ]
  },
  {
   "cell_type": "markdown",
   "metadata": {},
   "source": [
    "* random.shuffle 打乱原序列顺序，不生成新序列\n",
    "* 对于不可变序列，用sample(x, k=len(x))生成新顺序的序列"
   ]
  },
  {
   "cell_type": "code",
   "execution_count": 150,
   "metadata": {},
   "outputs": [
    {
     "name": "stdout",
     "output_type": "stream",
     "text": [
      "原序列数据[0, 1, 2, 3, 4, 5, 6, 7, 8, 9]\n",
      "打乱后的数据[0, 9, 2, 5, 3, 1, 6, 7, 8, 4]\n"
     ]
    }
   ],
   "source": [
    "x=list(range(10))\n",
    "print('原序列数据{}'.format(x))\n",
    "random.shuffle(x)\n",
    "print('打乱后的数据{}'.format(x))"
   ]
  },
  {
   "cell_type": "markdown",
   "metadata": {},
   "source": [
    "* random.sample(population,k) 从总体中随机抽出k个样本"
   ]
  },
  {
   "cell_type": "code",
   "execution_count": 153,
   "metadata": {},
   "outputs": [
    {
     "data": {
      "text/plain": [
       "[4300631, 3652645, 1013814, 3872536, 5408018]"
      ]
     },
     "execution_count": 153,
     "metadata": {},
     "output_type": "execute_result"
    }
   ],
   "source": [
    "random.sample(range(10000000), k=5)"
   ]
  },
  {
   "cell_type": "markdown",
   "metadata": {},
   "source": [
    "### 生成符合随机分布的随机变量"
   ]
  },
  {
   "cell_type": "markdown",
   "metadata": {},
   "source": [
    "函数|用法\n",
    "-|:-\n",
    "random.random( )|返回\\[0.0, 1.0) 范围内的下一个随机浮点数。\n",
    "random.uniform(a,b)|uniform(a,b),从均匀分布(a,b)内\n",
    "random.triangular(低,高,模式)|\n",
    "random.betavariate(alpha,beta) |贝塔分布。参数的条件是alpha > 0beta > 0。返回值介于 0 和 1 之间。\n",
    "random.expovariate(lambd)|指数分布。lambda是 1.0 除以所需的平均值。它应该是非零的。（该参数将被称为“拉姆达”，但是这是在Python保留字。）返回值的范围从0到正无穷大如果lambd为正，且从负无穷大到0，如果lambd为负。\n",
    "random.gammavariate()|伽马分布。（不是伽马函数！）参数的条件是alpha > 0,beta > 0\n",
    "random.gauss()|高斯分布。 mu是平均值，sigma是标准差。这比normalvariate()下面定义的函数稍快。\n",
    "random.lognormvariate()|对数正态分布。如果您采用此分布的自然对数，您将得到一个具有均值mu和标准差sigma 的正态分布。 mu可以有任何值，并且sigma必须大于零。\n",
    "random.normalvariate(mu,sigma)|正态分布。 mu是平均值，sigma是标准差。\n",
    "random.vonmisesvariate(mu,kappa)| mu是平均角度，以 0 到 2* pi之间的弧度表示，kappa 是浓度参数，必须大于或等于 0。如果 kappa等于 0，则该分布在 0 到 2* pi范围内减少为均匀的随机角度。\n",
    "random.paretovariate(alpha)|帕累托分布。 alpha是形状参数。\n",
    "random.weibullvariate(alpha,beta)|威布尔分布。 alpha是尺度参数，beta是形状参数。"
   ]
  },
  {
   "cell_type": "code",
   "execution_count": 157,
   "metadata": {
    "collapsed": true,
    "jupyter": {
     "outputs_hidden": true
    },
    "tags": []
   },
   "outputs": [
    {
     "data": {
      "text/plain": [
       "-1.4219556534094393"
      ]
     },
     "execution_count": 157,
     "metadata": {},
     "output_type": "execute_result"
    },
    {
     "data": {
      "text/plain": [
       "[-0.6296761850269045,\n",
       " 0.5954055838786159,\n",
       " 0.9857334517874369,\n",
       " -0.3549387629051106,\n",
       " 1.400282245346082,\n",
       " -1.624522797706792,\n",
       " -0.038566670902338646,\n",
       " -0.2348546010971189,\n",
       " 0.4196765059159521,\n",
       " -1.4308659840926703,\n",
       " -0.9127451283569823,\n",
       " -0.4660219226024107,\n",
       " 0.7734997373820144,\n",
       " -0.19126210790935477,\n",
       " -1.8293116403172052,\n",
       " -0.48337580247418954,\n",
       " -0.5697929220874937,\n",
       " 1.0224123432817214,\n",
       " -0.4276364394586377,\n",
       " -0.992288384514242,\n",
       " 1.1202037027599678,\n",
       " 0.2860435751759315,\n",
       " -0.9571769749115264,\n",
       " 0.4173702955157354,\n",
       " 1.7576451763788725,\n",
       " 0.4944037432017724,\n",
       " 0.13227189810751905,\n",
       " 0.2549933614250532,\n",
       " -1.8149332682761146,\n",
       " 0.15645600191083806,\n",
       " 0.31350079733344544,\n",
       " 0.6419310561328584,\n",
       " -1.8427830153331641,\n",
       " -0.7594644933042584,\n",
       " 0.9917616489574578,\n",
       " 1.1656292508573851,\n",
       " -0.5348819083859369,\n",
       " -0.8483636400459912,\n",
       " -1.6328907106263157,\n",
       " -1.1294070824204796,\n",
       " 0.2020187679528364,\n",
       " -0.1391306544491603,\n",
       " -0.43529070505305406,\n",
       " 1.1001032064972636,\n",
       " -1.697074321325382,\n",
       " -0.6566171718290611,\n",
       " -0.5363420823221335,\n",
       " -1.4080659690669373,\n",
       " -1.8728267027683057,\n",
       " -1.3162863527793374,\n",
       " -1.1758154452886818,\n",
       " 0.8142768730154252,\n",
       " -0.13381924210863175,\n",
       " -0.15112769887875319,\n",
       " 1.7581454242561527,\n",
       " 0.4468607341505275,\n",
       " -0.232552969504736,\n",
       " 0.5618234719674982,\n",
       " 1.8046731847823967,\n",
       " -0.0830438870783886,\n",
       " 0.12026038594582772,\n",
       " -0.3191088253690801,\n",
       " 0.5999448225733454,\n",
       " -0.5751589409270281,\n",
       " -0.7524507105355894,\n",
       " -0.09806028571309977,\n",
       " 1.3582972833144324,\n",
       " -0.19773229911615242,\n",
       " -1.417537961326762,\n",
       " -0.3270727090722505,\n",
       " -0.4272531886483169,\n",
       " 1.1334662718899389,\n",
       " -0.5071830170129044,\n",
       " -2.348790373418203,\n",
       " -0.49281508069205665,\n",
       " -0.10394078232319098,\n",
       " 0.7560465671023359,\n",
       " -0.2972044128858333,\n",
       " -1.4257317214942429,\n",
       " -0.565941019253582,\n",
       " 0.6939376992228531,\n",
       " -0.09222166984231943,\n",
       " 0.002977481176397716,\n",
       " -1.3178493925589407,\n",
       " 1.550239839993505,\n",
       " 1.357207733293056,\n",
       " 1.388931594681066,\n",
       " 0.8863898419172855,\n",
       " -0.36393814758275084,\n",
       " -0.86263230979838,\n",
       " -0.4270880163939526,\n",
       " -1.088931658522788,\n",
       " 0.19686597187356247,\n",
       " -1.617162527571611,\n",
       " 1.182562725162606,\n",
       " -0.516270499267536,\n",
       " 0.3107818278458872,\n",
       " 1.054418930626885,\n",
       " -0.36432195618491653,\n",
       " 0.07948979039790759,\n",
       " -0.930739534209166,\n",
       " -0.07583740964438193,\n",
       " 0.9808424932390294,\n",
       " -0.5933518682943284,\n",
       " 0.034940101891892714,\n",
       " -1.2930880422610038,\n",
       " -1.157004232769226,\n",
       " -0.027332983441034242,\n",
       " -0.5235588286009762,\n",
       " 1.1507507940191568,\n",
       " -0.10670630851827113,\n",
       " -1.325226716233831,\n",
       " 1.0476494991154073,\n",
       " -0.631940758835092,\n",
       " 0.6031485642008568,\n",
       " 0.5882172498797213,\n",
       " -0.16885298074701768,\n",
       " 1.7340054516649417,\n",
       " 0.840853749671336,\n",
       " -0.16994363479646948,\n",
       " -0.9433837798841451,\n",
       " -0.08926696516615626,\n",
       " -0.9155817355573838,\n",
       " -1.1262288602360206,\n",
       " -1.0824705002492496,\n",
       " 1.975914890974318,\n",
       " -0.13208618396240152,\n",
       " -0.4554991058402445,\n",
       " -0.08734337000884299,\n",
       " -0.4244598463618883,\n",
       " -0.038328452006611315,\n",
       " -2.092087693939355,\n",
       " -1.0158427532345717,\n",
       " -0.5173197054193152,\n",
       " -1.054344016804034,\n",
       " -0.22544474874955395,\n",
       " -0.4915838792966391,\n",
       " -0.4731282144033474,\n",
       " -1.2402018885322732,\n",
       " -0.615506498240167,\n",
       " -1.1233679617877752,\n",
       " 1.974183286884875,\n",
       " -0.0636624555444739,\n",
       " -1.3882959162611013,\n",
       " -0.16473677919357324,\n",
       " -1.3088076533774222,\n",
       " -2.266355764983697,\n",
       " 0.5395865088847527,\n",
       " -0.17592222716504283,\n",
       " -0.769841534122228,\n",
       " 0.753096494925958,\n",
       " -1.1759983268474736,\n",
       " -0.4824079558011068,\n",
       " 0.25434276999259664,\n",
       " 0.34324911751356946,\n",
       " 0.4447665113990147,\n",
       " 1.6927411067588853,\n",
       " 1.0604564400465846,\n",
       " -0.529801230001186,\n",
       " 0.687726387023265,\n",
       " -0.08236797634784064,\n",
       " 0.8766547983096826,\n",
       " 2.3655081215421014,\n",
       " 0.1488293305302804,\n",
       " -0.4890610341615938,\n",
       " -0.810428789422391,\n",
       " 0.014662746181770896,\n",
       " -1.905394289290576,\n",
       " 0.12129972136928714,\n",
       " 0.7035460082768401,\n",
       " -0.1665284704939521,\n",
       " 0.40805651916735775,\n",
       " -2.148579948326666,\n",
       " -0.7134429771381017,\n",
       " -1.1341996562929044,\n",
       " -0.3036907265711348,\n",
       " -1.041713249184038,\n",
       " -1.0799292296111171,\n",
       " -0.6732515794028977,\n",
       " 0.26513470652075416,\n",
       " -0.6013759862753371,\n",
       " 1.2758932190069663,\n",
       " -1.033567900299831,\n",
       " 0.23094357253821585,\n",
       " -0.5600766095484587,\n",
       " 0.684604027202241,\n",
       " 1.187203226585207,\n",
       " -0.3981578405142614,\n",
       " 1.673594757864379,\n",
       " -0.2273198801949277,\n",
       " 1.8191849342775637,\n",
       " 0.8140974613932425,\n",
       " -2.8895660587510053,\n",
       " 0.6641653392391034,\n",
       " -0.937103351484414,\n",
       " 1.101936717714324,\n",
       " 0.49036789326887475,\n",
       " 0.28864721888251765,\n",
       " -2.354018846771389,\n",
       " 0.8183282388906246,\n",
       " 0.8669198831438127,\n",
       " 1.7734228884716665,\n",
       " 0.3594209711867724,\n",
       " -0.9087819981584492,\n",
       " 1.931158700484321,\n",
       " 1.017122992123256,\n",
       " -0.016396139619342186,\n",
       " 0.22230774869973385,\n",
       " 0.922174229677968,\n",
       " 0.3549129625665895,\n",
       " -0.5925832331034301,\n",
       " -0.4787758381335803,\n",
       " 0.14568325912688657,\n",
       " -0.9854791381481198,\n",
       " -0.1576726761794055,\n",
       " 1.4175284313948935,\n",
       " 1.7663237514815295,\n",
       " -0.7211662492988873,\n",
       " -1.0496605907702794,\n",
       " 0.5358505149073243,\n",
       " 0.7875263916014955,\n",
       " -0.9490732292857235,\n",
       " -1.735439956220406,\n",
       " 1.637160182156923,\n",
       " 0.6254591895700219,\n",
       " -0.9595976690845289,\n",
       " 1.4901815975419908,\n",
       " -0.4158414044371797,\n",
       " -0.47014029643928007,\n",
       " -0.5783077445730167,\n",
       " 1.0301289530122686,\n",
       " -1.550239357148907,\n",
       " -0.4383601256504679,\n",
       " 0.21886395745003268,\n",
       " -2.2544159438208022,\n",
       " 1.1409376212051305,\n",
       " -0.572148000951263,\n",
       " 1.194526329820844,\n",
       " -1.1537407286689052,\n",
       " -0.326200929656801,\n",
       " -0.4884488269077922,\n",
       " -1.1969988240467266,\n",
       " -0.4889917910537162,\n",
       " -0.026210928626727425,\n",
       " 2.3331710620982697,\n",
       " 1.1714767392689083,\n",
       " 0.17262345353103312,\n",
       " 1.9498486314790322,\n",
       " 0.8327537017436206,\n",
       " -0.9849449265779187,\n",
       " 0.5273237375259369,\n",
       " 0.2831695152922225,\n",
       " 0.6397824472325156,\n",
       " -2.635499834020743,\n",
       " 0.8134471016299212,\n",
       " 0.7578849477973637,\n",
       " -0.4351420865338775,\n",
       " 1.1804374498862626,\n",
       " -1.005405333585896,\n",
       " 0.4847362569149137,\n",
       " 0.9021000491209837,\n",
       " 1.4178586384396974,\n",
       " -0.23730867836213004,\n",
       " 0.43354486842408585,\n",
       " -1.683730289721739,\n",
       " -0.9665348533039793,\n",
       " 0.8057997505164401,\n",
       " 1.7665497820164555,\n",
       " 0.2552746474274279,\n",
       " 0.6171142461378634,\n",
       " 1.2500433791261318,\n",
       " -1.523105936478965,\n",
       " -1.0385470548951055,\n",
       " -0.5005797530030457,\n",
       " 0.06174959349893491,\n",
       " -0.553454759153265,\n",
       " -0.636431871423251,\n",
       " 0.03091051601164856,\n",
       " -0.5752885930078575,\n",
       " -0.8134078548395016,\n",
       " -0.6439391520987918,\n",
       " -1.740730988609173,\n",
       " -1.2879825042849498,\n",
       " -0.01976566714603804,\n",
       " 0.61515667487295,\n",
       " -0.18663923383354575,\n",
       " -0.8217404052707674,\n",
       " 1.8831950769730712,\n",
       " 0.008914626402507746,\n",
       " -0.14431720839781625,\n",
       " 0.6484063918913433,\n",
       " 1.8722933494201273,\n",
       " 0.8408968904703545,\n",
       " 1.5240341888100242,\n",
       " 0.5029153756156086,\n",
       " -0.44374521782583903,\n",
       " -0.9856047786857068,\n",
       " 0.483843312169038,\n",
       " 1.8013435504320718,\n",
       " 0.3599005221324453,\n",
       " -1.1816617038861306,\n",
       " 1.330504621043916,\n",
       " -0.10253830580070207,\n",
       " 0.5216108395880764,\n",
       " -1.322135519248716,\n",
       " 0.45595903631947243,\n",
       " 1.2006247589185735,\n",
       " 1.9427292089630241,\n",
       " -1.5004330301577578,\n",
       " 1.0191901051100336,\n",
       " 1.2108528464611872,\n",
       " -1.416210767659464,\n",
       " -0.17993742177599145,\n",
       " -1.7101874883709391,\n",
       " 1.054479225589809,\n",
       " -1.167115236934017,\n",
       " 1.0902375238020514,\n",
       " -0.6709476245043602,\n",
       " 0.8552203135928729,\n",
       " -1.910482082439587,\n",
       " -1.2934446190063957,\n",
       " -0.4007440624791746,\n",
       " 0.15898843998745915,\n",
       " -0.0997353910962296,\n",
       " 0.7889924079149742,\n",
       " 1.0361524908009747,\n",
       " -0.09285921333638554,\n",
       " -0.028599853726641557,\n",
       " 0.9818157783920358,\n",
       " 1.3503431654833618,\n",
       " 0.007569809627780271,\n",
       " -0.3473923173318178,\n",
       " -0.4830845708976994,\n",
       " 0.3925858103356768,\n",
       " 1.4001451056880534,\n",
       " 0.13435392285680917,\n",
       " 0.028814428523282955,\n",
       " 0.052524223801298585,\n",
       " -0.3342706979488257,\n",
       " 0.5465459825987818,\n",
       " -0.6725825566768234,\n",
       " -1.1234471141621465,\n",
       " -0.3417153676023296,\n",
       " 1.219128723668354,\n",
       " -0.5049774158617306,\n",
       " 1.092546121850652,\n",
       " 1.3631142070828843,\n",
       " 0.5956944032477143,\n",
       " 2.549594425497578,\n",
       " -0.25505030449339816,\n",
       " 0.8803974405332823,\n",
       " -1.4050420260834733,\n",
       " 0.40138381865342476,\n",
       " -0.30211532247328887,\n",
       " 0.5662368875714021,\n",
       " -0.5374168971289651,\n",
       " 1.748359108169909,\n",
       " -1.2586259088751877,\n",
       " 1.3399416415058314,\n",
       " 0.21486950794811854,\n",
       " 0.606470965280977,\n",
       " -0.20507726327738357,\n",
       " -0.6148813721489511,\n",
       " 1.8142896249927174,\n",
       " -0.6547375865817215,\n",
       " -1.044033158387067,\n",
       " -0.35775673719607826,\n",
       " 0.9270178794906496,\n",
       " 0.6970674816135564,\n",
       " -0.08908091038023244,\n",
       " -0.7358111523265262,\n",
       " 0.12292949295246536,\n",
       " -0.6969896041787729,\n",
       " 2.4514550196590634,\n",
       " 0.8121270585368683,\n",
       " 1.2078809057795092,\n",
       " -1.3611545707291883,\n",
       " 1.7490105594132777,\n",
       " -1.6538432638953338,\n",
       " -1.0937153592040623,\n",
       " 0.43727351965130035,\n",
       " -0.8357844171188207,\n",
       " -0.5830884713608321,\n",
       " -0.34510648339895805,\n",
       " 0.2090328982382316,\n",
       " 1.898183983302367,\n",
       " 1.4080633234635478,\n",
       " -1.4100347334882588,\n",
       " -0.8611405528592826,\n",
       " 0.0698344288197979,\n",
       " -1.0576208594232845,\n",
       " -0.23764007535294304,\n",
       " 1.783049655634505,\n",
       " -1.5265227914202233,\n",
       " -0.7627444874729881,\n",
       " 0.19638786455885557,\n",
       " 0.39645374189180554,\n",
       " -0.7883550049372307,\n",
       " 0.8568116164646791,\n",
       " 0.1844297853997373,\n",
       " -0.5712971636047339,\n",
       " 0.9386745222712621,\n",
       " 0.6765648857637485,\n",
       " 1.4243689592893072,\n",
       " 0.7837781906618652,\n",
       " 0.29429987522535883,\n",
       " -1.1967007877747762,\n",
       " 0.5378992309337658,\n",
       " 0.616488313348524,\n",
       " -0.4884025944250402,\n",
       " -0.9740113473967759,\n",
       " -0.44200498284978573,\n",
       " -0.15138787406921547,\n",
       " 1.3688795302672399,\n",
       " 0.4715162538125438,\n",
       " -2.800676618251924,\n",
       " 0.16950227512777255,\n",
       " -0.033055924913131286,\n",
       " -0.288826553693011,\n",
       " -0.7647850221180329,\n",
       " -0.31689238657171576,\n",
       " -1.4720848117523064,\n",
       " 0.2509451575030368,\n",
       " 3.029223265081715,\n",
       " 1.0864817252209484,\n",
       " -0.8500946708582894,\n",
       " -0.7883517921168798,\n",
       " -1.6271350240105802,\n",
       " 0.4160455319155022,\n",
       " -0.6310505594602039,\n",
       " -0.06186084972006378,\n",
       " -1.2848010379792085,\n",
       " 2.3896535807628925,\n",
       " 1.3615209170604106,\n",
       " -0.12919438164973032,\n",
       " 0.7857754465151577,\n",
       " -0.5126735635517892,\n",
       " -0.4907351013700639,\n",
       " 0.7414813068902621,\n",
       " 1.8778042473890937,\n",
       " -1.2458575800178175,\n",
       " -0.17666114431166788,\n",
       " -0.2559544492096509,\n",
       " -0.06307965004051704,\n",
       " 1.1159499213341946,\n",
       " -0.6505065348543807,\n",
       " -2.2292948617476442,\n",
       " 0.5792901058289257,\n",
       " -1.172075255876445,\n",
       " -1.7369570056443582,\n",
       " -0.1369047496310767,\n",
       " 0.6984584000278161,\n",
       " 0.4808475221086058,\n",
       " 0.3006816159736127,\n",
       " 1.409899963051246,\n",
       " -1.0939668008162122,\n",
       " 0.06952269248035388,\n",
       " 1.7144038823232273,\n",
       " -1.5342913438124297,\n",
       " 0.9432318856686204,\n",
       " -0.5811483412319801,\n",
       " -0.04375691691203355,\n",
       " 0.7216865854263415,\n",
       " -0.8448248744423664,\n",
       " -0.8109337821711362,\n",
       " -1.028906566692601,\n",
       " -0.48900330182851665,\n",
       " -0.45014651115208726,\n",
       " -0.022659494729069623,\n",
       " -1.471777651828464,\n",
       " 0.012701186437927052,\n",
       " 0.6224998575179364,\n",
       " -0.5296849891184346,\n",
       " -1.0196206363329796,\n",
       " -0.9450874328752605,\n",
       " -1.4387857902194618,\n",
       " 0.5392766635345327,\n",
       " 0.35312576014431796,\n",
       " -0.3450535768221113,\n",
       " -0.2079541030291691,\n",
       " -0.42694814597028197,\n",
       " 1.7943012861258538,\n",
       " 0.19842183867870042,\n",
       " 0.7187886914227447,\n",
       " 0.00674403783932732,\n",
       " -0.718115780877205,\n",
       " -1.0289559809704838,\n",
       " 0.25863237688164664,\n",
       " -1.3540359192878035,\n",
       " 0.018689801816718334,\n",
       " 0.4414115975863131,\n",
       " 0.7805161182376369,\n",
       " 0.5426342062342383,\n",
       " -0.7951865989866499,\n",
       " 2.6851475457321365,\n",
       " -1.4506403196826538,\n",
       " 0.8367937133719945,\n",
       " 1.7399563504879159,\n",
       " -0.18508220510304987,\n",
       " -0.3132624778972783,\n",
       " -1.0126786019067613,\n",
       " -0.9532416286000844,\n",
       " 0.8715839756008555,\n",
       " 1.2614906735776368,\n",
       " 0.37250577497124193,\n",
       " -0.6258345515808477,\n",
       " 0.27972224247486566,\n",
       " -1.4962461339894435,\n",
       " 0.5400580211917891,\n",
       " 0.8834185494731329,\n",
       " -2.1678428636646085,\n",
       " -0.6484386522975657,\n",
       " 0.30023047926116114,\n",
       " -0.0187770876630591,\n",
       " -2.1229529830039797,\n",
       " 0.7295816774337417,\n",
       " -0.7492574545584496,\n",
       " 1.1258193659054703,\n",
       " 2.2640034850148063,\n",
       " 0.21136617497164895,\n",
       " 0.300681191198349,\n",
       " 0.052679324290871195,\n",
       " -0.35754796396618743,\n",
       " 0.3354547612151761,\n",
       " -1.8523650654779567,\n",
       " -1.4771353974457107,\n",
       " 1.0641251025287566,\n",
       " -0.6076825820084633,\n",
       " -0.7965315863376566,\n",
       " 1.1778823190175598,\n",
       " 0.10422580691724645,\n",
       " -2.0864996709626786,\n",
       " -0.36039992783171976,\n",
       " -0.572394308073357,\n",
       " 0.7878673518744297,\n",
       " -0.7414536710532137,\n",
       " -0.4958650073807373,\n",
       " -0.12660756080824634,\n",
       " -0.2547554296584578,\n",
       " 0.4136760361965501,\n",
       " -1.5994536763184721,\n",
       " 0.5116430710792614,\n",
       " 0.3756456156328341,\n",
       " -1.5609663362677069,\n",
       " 0.4983278352881628,\n",
       " 0.26644014662126336,\n",
       " 0.9190475157539979,\n",
       " -0.08815865594377201,\n",
       " -1.3909134526828941,\n",
       " -0.2017812409567816,\n",
       " -0.5546485541740693,\n",
       " 0.48356658405839054,\n",
       " -0.06920182796462337,\n",
       " -0.22202563406280298,\n",
       " 0.458465436843133,\n",
       " 0.8089794735389483,\n",
       " -0.9271472644506186,\n",
       " 0.2674978614582061,\n",
       " 0.2348187238012788,\n",
       " -1.682776088821256,\n",
       " -0.7510843759942639,\n",
       " -1.7465848578989995,\n",
       " 1.1022344963679984,\n",
       " -0.997234793433654,\n",
       " -0.4822750909188576,\n",
       " 1.4613104159614354,\n",
       " -0.18579415497159213,\n",
       " -2.3968078736260496,\n",
       " 2.538935924953969,\n",
       " -0.751531478877422,\n",
       " -0.6694982101503868,\n",
       " 0.27861023729606554,\n",
       " 0.2947975826821727,\n",
       " 1.9561847305231457,\n",
       " 0.7058486306965432,\n",
       " 1.330428946499378,\n",
       " -0.14813633416812824,\n",
       " -0.33688971095496956,\n",
       " -1.5305978875695818,\n",
       " 0.17279561388333936,\n",
       " 0.9740489313636183,\n",
       " 0.38661489351690626,\n",
       " -0.3755647893017307,\n",
       " 1.2866948400875504,\n",
       " 0.43879724801114955,\n",
       " -0.8791798069502345,\n",
       " 0.3336156458673428,\n",
       " -1.063470191088493,\n",
       " -0.033944028665747965,\n",
       " -0.4374704580895674,\n",
       " -1.523977715863948,\n",
       " -0.6758941303441116,\n",
       " 1.7549633386580403,\n",
       " 0.9178976069395787,\n",
       " 1.1073269996775397,\n",
       " -2.4857300941144786,\n",
       " 0.2733043713621421,\n",
       " 0.9161393902293468,\n",
       " 0.2705568148935386,\n",
       " -0.22833034905737223,\n",
       " -1.9439751602878688,\n",
       " -0.5738065480955866,\n",
       " -0.3735641593131018,\n",
       " -1.0980589120181945,\n",
       " -2.648841891578441,\n",
       " -0.22924096908862387,\n",
       " -0.24261381355101008,\n",
       " 0.21751642750264566,\n",
       " 0.9742643607874117,\n",
       " 0.6991226136728111,\n",
       " 0.6679962205513593,\n",
       " -2.467301476334916,\n",
       " -0.256890878051971,\n",
       " -0.015471920658248069,\n",
       " -0.25437881108349325,\n",
       " 1.0932278559189235,\n",
       " -0.3638541145474228,\n",
       " -1.2160300606103258,\n",
       " -0.434395505253294,\n",
       " 0.24912742201680543,\n",
       " -0.2787132585497293,\n",
       " 0.3596896951255847,\n",
       " 0.06913313509288688,\n",
       " -1.0527077116559411,\n",
       " 2.4080298895988443,\n",
       " 1.2890191622194125,\n",
       " 0.028761942411470162,\n",
       " 0.9991578845112536,\n",
       " -1.3531752046013183,\n",
       " 0.6113569967861116,\n",
       " -0.676550859091841,\n",
       " 0.49384486179806686,\n",
       " -1.834672752962718,\n",
       " 0.22173942065597121,\n",
       " -2.56435162927382,\n",
       " 0.7927628018170152,\n",
       " -0.09870917577884755,\n",
       " 1.6359775575640711,\n",
       " 1.7347713083053873,\n",
       " 0.623521442524678,\n",
       " 1.0649202216884772,\n",
       " -0.6161649262777091,\n",
       " 0.49250040949191454,\n",
       " 2.1707349112164707,\n",
       " 1.6682976993226943,\n",
       " 0.7931892604093993,\n",
       " 0.21274751819032167,\n",
       " -0.024652470747056808,\n",
       " 0.021810057050931538,\n",
       " -0.3878059742534203,\n",
       " 1.1238238647211174,\n",
       " 1.2953014759938732,\n",
       " 0.13472796859820943,\n",
       " -0.3115066214425307,\n",
       " 1.442615568404904,\n",
       " 0.23778872372311022,\n",
       " 0.02274976416778007,\n",
       " 0.7511752348500887,\n",
       " -0.24204843007313767,\n",
       " -0.15582281850497964,\n",
       " -1.157536139046821,\n",
       " -0.12694453196343794,\n",
       " 0.07929878627809883,\n",
       " -1.5565683912617958,\n",
       " 0.7484688067394636,\n",
       " 0.1623876447400544,\n",
       " 0.46054468619848066,\n",
       " 0.8603473559864379,\n",
       " 0.650552095549752,\n",
       " 1.6790381925972404,\n",
       " 1.6341199345378359,\n",
       " -1.6397158839081,\n",
       " 0.7497977990099922,\n",
       " 0.09905972482117159,\n",
       " 1.1835739527075748,\n",
       " 0.27462989315258535,\n",
       " -0.019860064066611966,\n",
       " -0.2807048268704936,\n",
       " -0.21485898734515352,\n",
       " -0.8917261180817437,\n",
       " -0.021671106901488456,\n",
       " 1.8946021888061118,\n",
       " -0.44264613538957515,\n",
       " 0.40242524874352287,\n",
       " -1.1104567185141345,\n",
       " 0.36935290401847826,\n",
       " 1.267352314734331,\n",
       " 1.358535143257013,\n",
       " -1.9048473392482064,\n",
       " -1.298710076356032,\n",
       " -1.1349269881819077,\n",
       " 1.203675351390327,\n",
       " 0.10837733551470614,\n",
       " -1.5975089832431901,\n",
       " 0.8786565942308892,\n",
       " 1.046458992848431,\n",
       " -0.44278664261058237,\n",
       " 1.9308878340999853,\n",
       " 0.4173755036659957,\n",
       " -1.8091383671670231,\n",
       " 1.1317938359746917,\n",
       " -0.28258469613135284,\n",
       " -0.4191272952888748,\n",
       " -0.19557113024818762,\n",
       " 0.6357515533739064,\n",
       " 0.10125166796267238,\n",
       " 0.10902043146339194,\n",
       " 0.3676251546559775,\n",
       " 0.09988680391735559,\n",
       " 1.259413813356031,\n",
       " -0.33410801637603393,\n",
       " 1.0781130821015181,\n",
       " 1.8773793727252075,\n",
       " 0.27890627495166065,\n",
       " 0.22727103814080424,\n",
       " -0.30149937984539105,\n",
       " 0.5437879848186945,\n",
       " 0.08138726664722233,\n",
       " -0.5234030359646918,\n",
       " 0.05547998112975831,\n",
       " 1.8276754236051844,\n",
       " 0.24502068605226365,\n",
       " -0.5655939505940629,\n",
       " 1.3539012048879844,\n",
       " 0.19376142881673744,\n",
       " -0.6032906185616236,\n",
       " -1.4126903378033833,\n",
       " -0.7115042013636114,\n",
       " 0.6016331193878873,\n",
       " 2.183115099739467,\n",
       " -0.7018651805587843,\n",
       " 0.6442587824631485,\n",
       " -0.3106071351519599,\n",
       " 0.7066384173392374,\n",
       " 0.6246198232703938,\n",
       " 1.1149017687842684,\n",
       " -0.15224911484084597,\n",
       " 1.5246803061444747,\n",
       " -1.1815635024414142,\n",
       " -1.3354915662408,\n",
       " -0.2083462297394671,\n",
       " 1.0777768018689307,\n",
       " -0.8688845126391131,\n",
       " -0.427401108492367,\n",
       " -1.992238322479961,\n",
       " 0.9457561741179215,\n",
       " -0.9710873245309282,\n",
       " 0.9048140782347975,\n",
       " 0.2531608404761295,\n",
       " -0.2051884055974629,\n",
       " -0.8938941964853045,\n",
       " -1.2133780716777307,\n",
       " 0.42306778711780013,\n",
       " -0.2992925451074128,\n",
       " -0.5655765225927392,\n",
       " -0.9853423800536103,\n",
       " 0.9214968472316474,\n",
       " 0.6417999790295804,\n",
       " 0.6005287301271321,\n",
       " 1.252350105698771,\n",
       " 0.5761631072903887,\n",
       " -0.7793284698339792,\n",
       " -0.0028448978886113727,\n",
       " -0.6249509002183818,\n",
       " 0.6942690921780934,\n",
       " -0.5912146183219535,\n",
       " -0.909266955550466,\n",
       " -0.4209081851071685,\n",
       " 1.3437254460247332,\n",
       " -0.47589888560898064,\n",
       " 0.19594529677295414,\n",
       " -0.41599345333438315,\n",
       " -0.9520965379561305,\n",
       " -0.2168984480760886,\n",
       " 1.3891986872541606,\n",
       " 0.2618931390325614,\n",
       " -0.5430265915583335,\n",
       " 0.3466535390729279,\n",
       " 1.396620829736766,\n",
       " 0.8120968302701589,\n",
       " 0.19589713652034463,\n",
       " -1.900249648647964,\n",
       " 0.18444192353017136,\n",
       " 0.88267094915725,\n",
       " 0.001975997297237487,\n",
       " 0.36458632869605356,\n",
       " -3.142474545368474,\n",
       " 0.6181913445070436,\n",
       " -0.270449995581488,\n",
       " -0.7802303311662869,\n",
       " -1.877004804298071,\n",
       " 0.5763084699536877,\n",
       " 0.5032331109893586,\n",
       " -0.22513647266533915,\n",
       " -0.4315037175181532,\n",
       " -1.2782823493000612,\n",
       " 0.5534314047412151,\n",
       " -0.9030110468765645,\n",
       " 0.928719106242044,\n",
       " 0.48730624634752867,\n",
       " 0.8578972240455291,\n",
       " -0.08811674873139629,\n",
       " -0.0841725938676765,\n",
       " -1.8838359058274974,\n",
       " -0.9917089732655245,\n",
       " -0.45717234505487647,\n",
       " -0.38003250135650035,\n",
       " 1.5059448376419744,\n",
       " -0.8934410708594785,\n",
       " -0.9703402599120479,\n",
       " -0.18945736514231382,\n",
       " -2.322555409412749,\n",
       " -0.1470062704984694,\n",
       " 0.6532498330855238,\n",
       " 1.2934591869541858,\n",
       " -2.4343256929945083,\n",
       " -1.2265337990783338,\n",
       " 1.2256536324175875,\n",
       " -2.2983257463453914,\n",
       " -0.7027845939928999,\n",
       " -0.5026186281810318,\n",
       " 1.0436035088553304,\n",
       " -0.1833538923388108,\n",
       " -1.536732906688041,\n",
       " -0.30842950593959595,\n",
       " 1.4423856609017993,\n",
       " -1.0788878498854684,\n",
       " -0.47688883581992675,\n",
       " 2.2903158509218113,\n",
       " 0.9029693843806126,\n",
       " -0.5430058325985939,\n",
       " 1.6487979705760596,\n",
       " -0.9322159364147232,\n",
       " -0.43458772566648507,\n",
       " -0.16667555900469075,\n",
       " -0.4594781323174587,\n",
       " -0.4792894137985642,\n",
       " 0.050388050222937616,\n",
       " -0.6393269666840532,\n",
       " -0.5823978384283172,\n",
       " 1.0253979844395842,\n",
       " 0.561403395249828,\n",
       " 0.2405132871761964,\n",
       " 0.6624659658559158,\n",
       " -0.7865998995601851,\n",
       " 0.5191666890111751,\n",
       " 2.199260654628014,\n",
       " -1.8737950664155594,\n",
       " -2.0564721303122124,\n",
       " 1.9666779107392531,\n",
       " -0.29026568602621716,\n",
       " -0.5376779861774817,\n",
       " -1.2483127336300979,\n",
       " 0.9143153738440081,\n",
       " 0.6086073543647734,\n",
       " -0.5767840391339853,\n",
       " 1.1375312524045171,\n",
       " 1.0629875935881221,\n",
       " 2.807953098280353,\n",
       " 0.04292226769132251,\n",
       " 1.49151441005822,\n",
       " 0.7604645320137748,\n",
       " 2.0839185377407334,\n",
       " -0.4652318469203409,\n",
       " -0.8390816445235721,\n",
       " 1.2191860785428021,\n",
       " -0.8719450827927185,\n",
       " -0.3451892059132955,\n",
       " 1.6949502224871011,\n",
       " -0.3380283416061746,\n",
       " 0.6614496067569441,\n",
       " -0.8883756628519891,\n",
       " 1.1960304482774864,\n",
       " -0.18717643675334406,\n",
       " 0.09717838556733881,\n",
       " -0.5775702108889591,\n",
       " 1.3071218900591388,\n",
       " 0.04339007671745336,\n",
       " -0.038118572704603434,\n",
       " -0.3584908178481061,\n",
       " -0.09607198081603684,\n",
       " -0.006696342454642689,\n",
       " 0.7721025146255348,\n",
       " 0.5854607898779437,\n",
       " 0.570054089697152,\n",
       " 0.5531446992124376,\n",
       " -0.5626017873740172,\n",
       " -0.9288625774553657,\n",
       " 0.6581057457753348,\n",
       " -0.21743197009130716,\n",
       " -2.462170235279334,\n",
       " -0.04160373411322762,\n",
       " -0.828250857181522,\n",
       " 0.5370986097436874,\n",
       " -1.0311470174862776,\n",
       " 0.30002028643666767,\n",
       " -0.8078606776445915,\n",
       " -1.0836630235406433,\n",
       " -0.8633620784653816,\n",
       " -0.31396135270163944,\n",
       " 0.581917138426367,\n",
       " 1.0201163851417148,\n",
       " -0.039999386145649886,\n",
       " -1.2979808498759509,\n",
       " 0.851201868055485,\n",
       " 0.027169735322276165,\n",
       " 0.8003398214625412,\n",
       " -0.5170067743462894,\n",
       " 0.5290281917344405,\n",
       " 0.48919336257201373,\n",
       " -0.7297948158810518,\n",
       " -0.5682879864472404,\n",
       " -0.9026536805346195,\n",
       " -1.3228088238748248,\n",
       " -0.5251490620262973,\n",
       " 0.08171752272949241,\n",
       " -0.3641107117167964,\n",
       " -1.3726585884546902,\n",
       " -0.6731843636920071,\n",
       " -0.33429144846997044,\n",
       " 0.6310406031397857,\n",
       " -2.0312025774712574,\n",
       " 0.6124293282506833,\n",
       " -0.7224650096648784,\n",
       " -0.22174862306608104,\n",
       " 1.7594570030757806,\n",
       " -2.4393085980344367,\n",
       " 1.2528036559686688,\n",
       " 0.16756376305728693,\n",
       " -0.1497828428929601,\n",
       " 0.4652466829252751,\n",
       " 0.09327381247005198,\n",
       " 0.25965676092484624,\n",
       " 0.7956615632120638,\n",
       " 0.44751962019661473,\n",
       " 1.056391360929353,\n",
       " -0.23790474082030993,\n",
       " 0.1489861910816149,\n",
       " -0.5229522354156243,\n",
       " 0.8049936520566376,\n",
       " 0.3674280485410104,\n",
       " 0.520181971156079,\n",
       " -1.1002777088287372,\n",
       " 0.8148419913102779,\n",
       " -0.031523922358815674,\n",
       " 0.6638919386209188,\n",
       " 0.18779124239174178,\n",
       " -1.4050872046695193,\n",
       " 1.3715368150145377,\n",
       " 0.24626419195455065,\n",
       " -0.24442592527087179,\n",
       " -0.14446624251898957,\n",
       " 1.7800489657569645,\n",
       " 1.7340318618028236,\n",
       " 0.458778993874631,\n",
       " 1.0906071024980568,\n",
       " 0.5247233912538234,\n",
       " 0.7574185147960836,\n",
       " 0.4551935636162473,\n",
       " -0.3751400234429702,\n",
       " 1.734250254193333,\n",
       " 0.6365728245380442,\n",
       " 0.35526554168923824,\n",
       " -0.4196206802304722,\n",
       " -0.026361994052221612,\n",
       " 1.6492387177949235,\n",
       " 0.021314180300315816,\n",
       " 1.228206058829648,\n",
       " 0.6851554811689623,\n",
       " 1.5989390044664664,\n",
       " -0.7920385402988698,\n",
       " -0.807615175913103,\n",
       " -1.563695918948092,\n",
       " -2.5628111390941224,\n",
       " 0.9058091772883164,\n",
       " -1.6985884651992589,\n",
       " 0.425559733028098,\n",
       " 0.7508512192731484,\n",
       " -0.8541933272873897,\n",
       " -0.1637149132401729,\n",
       " -1.5721765749231746,\n",
       " -1.0630555677419333,\n",
       " -0.6530167316562067,\n",
       " 0.2845924116374752,\n",
       " 0.061243568815830714,\n",
       " 0.022943763305544516,\n",
       " -0.0817307010095704,\n",
       " -1.325963457559799,\n",
       " -0.3626161985268869,\n",
       " -0.36525656727613376,\n",
       " 1.806803877393456,\n",
       " -0.1071994685118589,\n",
       " -0.057420358847203166,\n",
       " 0.47122242408678333,\n",
       " 0.20916220474249236,\n",
       " -0.23374951658530146,\n",
       " 0.5459638701521142,\n",
       " 0.8836332516983,\n",
       " -0.9011653297232214,\n",
       " 0.22687705520552537,\n",
       " ...]"
      ]
     },
     "execution_count": 157,
     "metadata": {},
     "output_type": "execute_result"
    }
   ],
   "source": [
    "random.gauss(0,1)\n",
    "[random.gauss(0,1) for i in range(10000)]"
   ]
  },
  {
   "cell_type": "markdown",
   "metadata": {
    "jupyter": {
     "source_hidden": true
    },
    "tags": []
   },
   "source": [
    "### Alternative Generator\n",
    "\n",
    "class random.Random(\\[seed\\]):实现模块使用的默认伪随机数生成器的类 random\n",
    "\n",
    "class random.SystemRandom(\\[seed\\]):使用从操作系统提供的源生成随机数的函数的类。并非在所有系统上都可用。不依赖软件状态，序列不可重现。相应地，该方法没有效果并且被忽略。如果被调用，和方法会引发 。"
   ]
  },
  {
   "cell_type": "markdown",
   "metadata": {},
   "source": [
    "# 访问互联网"
   ]
  },
  {
   "cell_type": "code",
   "execution_count": null,
   "metadata": {},
   "outputs": [],
   "source": []
  },
  {
   "cell_type": "markdown",
   "metadata": {},
   "source": [
    "## 处理从 urls 接收的数据的 urllib.request "
   ]
  },
  {
   "cell_type": "code",
   "execution_count": null,
   "metadata": {},
   "outputs": [],
   "source": []
  },
  {
   "cell_type": "markdown",
   "metadata": {},
   "source": [
    "# 日期和时间 "
   ]
  },
  {
   "cell_type": "markdown",
   "metadata": {},
   "source": [
    "## datetime"
   ]
  },
  {
   "cell_type": "code",
   "execution_count": 160,
   "metadata": {},
   "outputs": [],
   "source": [
    "import datetime"
   ]
  },
  {
   "cell_type": "markdown",
   "metadata": {},
   "source": [
    "### 模块中包含的类"
   ]
  },
  {
   "cell_type": "markdown",
   "metadata": {},
   "source": [
    "类名|实例对象与解释\n",
    "-|-\n",
    "datetime.date(year,month,day)|datetime.date(2021,11,26) 日期类，包含年月日信息\n",
    "datetime.time(\\[hour[, minute[, second[, microsecond[, tzinfo]]]]\\])|datetime.time()，时间类，包含小时，分钟，秒，微秒，时区信息\n",
    "datetime.datetime(year, month, day\\[, hour[, minute[, second[, microsecond[,tzinfo]]]]\\])|既包含日期，也包含时间\n",
    "datetime.timedelta()|timedelta类是用来计算二个datetime对象的差值的。\n",
    "datetime.tzinfo()|时区信息对象"
   ]
  },
  {
   "cell_type": "markdown",
   "metadata": {},
   "source": [
    "### datetime.date"
   ]
  },
  {
   "cell_type": "markdown",
   "metadata": {},
   "source": [
    "    datetime.date(year,month,day)\n",
    " \n",
    "属性和方法|介绍\n",
    ":-|:-\n",
    ".day,.month,.year|天，月，年\n",
    ".isocalendar()|返回一个包含三个值的元组，三个值依次为：year年份，week number周数，weekday星期数（周一为1…周日为7)\n",
    ".isoformat(...)|返回符合ISO 8601标准 (YYYY-MM-DD) 的日期字符串\n",
    ".isoweekday(...)|返回符合ISO标准的指定日期所在的星期数（周一为1…周日为7)\n",
    ".weekday(...)|与.isoweekday(...)相似的还有一个weekday(...)方法,返回的周一为 0, 周日为 6\n",
    ".timetuple(...)|该方法为了兼容time.localtime(...)返回一个类型为time.struct_time的数组，但有关时间的部分元素值为0\n",
    ".toordinal(...)|返回公元公历开始到现在的天数。公元1年1月1日为1\n",
    ".replace(...)|返回一个替换指定日期字段的新date对象。参数3个可选参数，分别为year,month,day。注意替换是产生新对象，不影响原date对象。\n",
    ".resolution|date对象表示日期的最小单位。这里是天。\n",
    ".fromordinal(...)|将Gregorian日历时间转换为date对象；Gregorian Calendar ：一种日历表示方法，类似于我国的农历，西方国家使用比较多。\n",
    ".fromtimestamp(...)|根据给定的时间戮，返回一个date对象\n",
    ".today(...)|返回当前日期\n",
    ".max|date类能表示的最大的年、月、日的数值\n",
    ".min|date类能表示的最小的年、月、日的数值"
   ]
  },
  {
   "cell_type": "code",
   "execution_count": 166,
   "metadata": {
    "code_folding": [
     1
    ]
   },
   "outputs": [
    {
     "data": {
      "text/html": [
       "<div>\n",
       "<style scoped>\n",
       "    .dataframe tbody tr th:only-of-type {\n",
       "        vertical-align: middle;\n",
       "    }\n",
       "\n",
       "    .dataframe tbody tr th {\n",
       "        vertical-align: top;\n",
       "    }\n",
       "\n",
       "    .dataframe thead th {\n",
       "        text-align: right;\n",
       "    }\n",
       "</style>\n",
       "<table border=\"1\" class=\"dataframe\">\n",
       "  <thead>\n",
       "    <tr style=\"text-align: right;\">\n",
       "      <th></th>\n",
       "      <th>方法或属性</th>\n",
       "      <th>实例</th>\n",
       "    </tr>\n",
       "  </thead>\n",
       "  <tbody>\n",
       "    <tr>\n",
       "      <th>0</th>\n",
       "      <td>.ctime</td>\n",
       "      <td>Fri Nov 26 00:00:00 2021</td>\n",
       "    </tr>\n",
       "    <tr>\n",
       "      <th>1</th>\n",
       "      <td>.day</td>\n",
       "      <td>26</td>\n",
       "    </tr>\n",
       "    <tr>\n",
       "      <th>2</th>\n",
       "      <td>.fromisoformat</td>\n",
       "      <td>&lt;built-in method fromisoformat of type object ...</td>\n",
       "    </tr>\n",
       "    <tr>\n",
       "      <th>3</th>\n",
       "      <td>.fromordinal</td>\n",
       "      <td>&lt;built-in method fromordinal of type object at...</td>\n",
       "    </tr>\n",
       "    <tr>\n",
       "      <th>4</th>\n",
       "      <td>.fromtimestamp</td>\n",
       "      <td>&lt;built-in method fromtimestamp of type object ...</td>\n",
       "    </tr>\n",
       "    <tr>\n",
       "      <th>5</th>\n",
       "      <td>.isocalendar</td>\n",
       "      <td>(2021, 47, 5)</td>\n",
       "    </tr>\n",
       "    <tr>\n",
       "      <th>6</th>\n",
       "      <td>.isoformat</td>\n",
       "      <td>2021-11-26</td>\n",
       "    </tr>\n",
       "    <tr>\n",
       "      <th>7</th>\n",
       "      <td>.isoweekday</td>\n",
       "      <td>5</td>\n",
       "    </tr>\n",
       "    <tr>\n",
       "      <th>8</th>\n",
       "      <td>.max</td>\n",
       "      <td>9999-12-31</td>\n",
       "    </tr>\n",
       "    <tr>\n",
       "      <th>9</th>\n",
       "      <td>.min</td>\n",
       "      <td>0001-01-01</td>\n",
       "    </tr>\n",
       "    <tr>\n",
       "      <th>10</th>\n",
       "      <td>.month</td>\n",
       "      <td>11</td>\n",
       "    </tr>\n",
       "    <tr>\n",
       "      <th>11</th>\n",
       "      <td>.replace</td>\n",
       "      <td>2021-11-26</td>\n",
       "    </tr>\n",
       "    <tr>\n",
       "      <th>12</th>\n",
       "      <td>.resolution</td>\n",
       "      <td>1 day, 0:00:00</td>\n",
       "    </tr>\n",
       "    <tr>\n",
       "      <th>13</th>\n",
       "      <td>.strftime</td>\n",
       "      <td>&lt;built-in method strftime of datetime.date obj...</td>\n",
       "    </tr>\n",
       "    <tr>\n",
       "      <th>14</th>\n",
       "      <td>.timetuple</td>\n",
       "      <td>(2021, 11, 26, 0, 0, 0, 4, 330, -1)</td>\n",
       "    </tr>\n",
       "    <tr>\n",
       "      <th>15</th>\n",
       "      <td>.today</td>\n",
       "      <td>2021-11-26</td>\n",
       "    </tr>\n",
       "    <tr>\n",
       "      <th>16</th>\n",
       "      <td>.toordinal</td>\n",
       "      <td>738120</td>\n",
       "    </tr>\n",
       "    <tr>\n",
       "      <th>17</th>\n",
       "      <td>.weekday</td>\n",
       "      <td>4</td>\n",
       "    </tr>\n",
       "    <tr>\n",
       "      <th>18</th>\n",
       "      <td>.year</td>\n",
       "      <td>2021</td>\n",
       "    </tr>\n",
       "  </tbody>\n",
       "</table>\n",
       "</div>"
      ],
      "text/plain": [
       "             方法或属性                                                 实例\n",
       "0           .ctime                           Fri Nov 26 00:00:00 2021\n",
       "1             .day                                                 26\n",
       "2   .fromisoformat  <built-in method fromisoformat of type object ...\n",
       "3     .fromordinal  <built-in method fromordinal of type object at...\n",
       "4   .fromtimestamp  <built-in method fromtimestamp of type object ...\n",
       "5     .isocalendar                                      (2021, 47, 5)\n",
       "6       .isoformat                                         2021-11-26\n",
       "7      .isoweekday                                                  5\n",
       "8             .max                                         9999-12-31\n",
       "9             .min                                         0001-01-01\n",
       "10          .month                                                 11\n",
       "11        .replace                                         2021-11-26\n",
       "12     .resolution                                     1 day, 0:00:00\n",
       "13       .strftime  <built-in method strftime of datetime.date obj...\n",
       "14      .timetuple                (2021, 11, 26, 0, 0, 0, 4, 330, -1)\n",
       "15          .today                                         2021-11-26\n",
       "16      .toordinal                                             738120\n",
       "17        .weekday                                                  4\n",
       "18           .year                                               2021"
      ]
     },
     "execution_count": 166,
     "metadata": {},
     "output_type": "execute_result"
    }
   ],
   "source": [
    "import pandas as pd\n",
    "def date_atr_and_met(year,month,day):\n",
    "    import datetime\n",
    "    date=datetime.date(year,month,day)\n",
    "    atr=[i for i in dir(date) if i[0]!='_']\n",
    "    l=[]\n",
    "    for i in atr:\n",
    "        try:\n",
    "            a=eval('date.'+i+'()')\n",
    "        except:\n",
    "            try:\n",
    "                a=eval('date.'+i)\n",
    "            except:\n",
    "                a=\"pass\"\n",
    "        l.append(['.'+i,a])\n",
    "    return l\n",
    "pd.DataFrame(date_atr_and_met(2021,11,26),columns=['方法或属性','实例'])    "
   ]
  },
  {
   "cell_type": "markdown",
   "metadata": {},
   "source": [
    "### datetime.time"
   ]
  },
  {
   "cell_type": "markdown",
   "metadata": {},
   "source": [
    "    datetime.time(\\[hour[, minute[, second[, microsecond[, tzinfo]]]]\\])"
   ]
  },
  {
   "cell_type": "code",
   "execution_count": 169,
   "metadata": {
    "code_folding": [
     0
    ]
   },
   "outputs": [
    {
     "data": {
      "text/html": [
       "<div>\n",
       "<style scoped>\n",
       "    .dataframe tbody tr th:only-of-type {\n",
       "        vertical-align: middle;\n",
       "    }\n",
       "\n",
       "    .dataframe tbody tr th {\n",
       "        vertical-align: top;\n",
       "    }\n",
       "\n",
       "    .dataframe thead th {\n",
       "        text-align: right;\n",
       "    }\n",
       "</style>\n",
       "<table border=\"1\" class=\"dataframe\">\n",
       "  <thead>\n",
       "    <tr style=\"text-align: right;\">\n",
       "      <th></th>\n",
       "      <th>方法或属性</th>\n",
       "      <th>实例</th>\n",
       "    </tr>\n",
       "  </thead>\n",
       "  <tbody>\n",
       "    <tr>\n",
       "      <th>0</th>\n",
       "      <td>.dst</td>\n",
       "      <td>None</td>\n",
       "    </tr>\n",
       "    <tr>\n",
       "      <th>1</th>\n",
       "      <td>.fold</td>\n",
       "      <td>0</td>\n",
       "    </tr>\n",
       "    <tr>\n",
       "      <th>2</th>\n",
       "      <td>.fromisoformat</td>\n",
       "      <td>&lt;built-in method fromisoformat of type object ...</td>\n",
       "    </tr>\n",
       "    <tr>\n",
       "      <th>3</th>\n",
       "      <td>.hour</td>\n",
       "      <td>15</td>\n",
       "    </tr>\n",
       "    <tr>\n",
       "      <th>4</th>\n",
       "      <td>.isoformat</td>\n",
       "      <td>15:42:30</td>\n",
       "    </tr>\n",
       "    <tr>\n",
       "      <th>5</th>\n",
       "      <td>.max</td>\n",
       "      <td>23:59:59.999999</td>\n",
       "    </tr>\n",
       "    <tr>\n",
       "      <th>6</th>\n",
       "      <td>.microsecond</td>\n",
       "      <td>0</td>\n",
       "    </tr>\n",
       "    <tr>\n",
       "      <th>7</th>\n",
       "      <td>.min</td>\n",
       "      <td>00:00:00</td>\n",
       "    </tr>\n",
       "    <tr>\n",
       "      <th>8</th>\n",
       "      <td>.minute</td>\n",
       "      <td>42</td>\n",
       "    </tr>\n",
       "    <tr>\n",
       "      <th>9</th>\n",
       "      <td>.replace</td>\n",
       "      <td>15:42:30</td>\n",
       "    </tr>\n",
       "    <tr>\n",
       "      <th>10</th>\n",
       "      <td>.resolution</td>\n",
       "      <td>0:00:00.000001</td>\n",
       "    </tr>\n",
       "    <tr>\n",
       "      <th>11</th>\n",
       "      <td>.second</td>\n",
       "      <td>30</td>\n",
       "    </tr>\n",
       "    <tr>\n",
       "      <th>12</th>\n",
       "      <td>.strftime</td>\n",
       "      <td>&lt;built-in method strftime of datetime.time obj...</td>\n",
       "    </tr>\n",
       "    <tr>\n",
       "      <th>13</th>\n",
       "      <td>.tzinfo</td>\n",
       "      <td>None</td>\n",
       "    </tr>\n",
       "    <tr>\n",
       "      <th>14</th>\n",
       "      <td>.tzname</td>\n",
       "      <td>None</td>\n",
       "    </tr>\n",
       "    <tr>\n",
       "      <th>15</th>\n",
       "      <td>.utcoffset</td>\n",
       "      <td>None</td>\n",
       "    </tr>\n",
       "  </tbody>\n",
       "</table>\n",
       "</div>"
      ],
      "text/plain": [
       "             方法或属性                                                 实例\n",
       "0             .dst                                               None\n",
       "1            .fold                                                  0\n",
       "2   .fromisoformat  <built-in method fromisoformat of type object ...\n",
       "3            .hour                                                 15\n",
       "4       .isoformat                                           15:42:30\n",
       "5             .max                                    23:59:59.999999\n",
       "6     .microsecond                                                  0\n",
       "7             .min                                           00:00:00\n",
       "8          .minute                                                 42\n",
       "9         .replace                                           15:42:30\n",
       "10     .resolution                                     0:00:00.000001\n",
       "11         .second                                                 30\n",
       "12       .strftime  <built-in method strftime of datetime.time obj...\n",
       "13         .tzinfo                                               None\n",
       "14         .tzname                                               None\n",
       "15      .utcoffset                                               None"
      ]
     },
     "execution_count": 169,
     "metadata": {},
     "output_type": "execute_result"
    }
   ],
   "source": [
    "def time_atr_and_met(hour,minute,second):\n",
    "    import datetime\n",
    "    time1=datetime.time(hour,minute,second)\n",
    "    atr=[i for i in dir(time1) if i[0]!='_']\n",
    "    l=[]\n",
    "    for i in atr:\n",
    "        try:\n",
    "            a=eval('time1.'+i+'()')\n",
    "        except:\n",
    "            try:\n",
    "                a=eval('time1.'+i)\n",
    "            except:\n",
    "                a=\"pass\"\n",
    "        l.append(['.'+i,a])\n",
    "    return l\n",
    "pd.DataFrame(time_atr_and_met(15,42,30),columns=['方法或属性','实例'])    "
   ]
  },
  {
   "cell_type": "markdown",
   "metadata": {},
   "source": [
    "### datetime.datetime"
   ]
  },
  {
   "cell_type": "markdown",
   "metadata": {},
   "source": [
    "datetime(year, month, day\\[, hour[, minute[, second[, microsecond[,tzinfo]]]]\\])"
   ]
  },
  {
   "cell_type": "code",
   "execution_count": 175,
   "metadata": {
    "code_folding": [
     0
    ]
   },
   "outputs": [
    {
     "data": {
      "text/html": [
       "<div>\n",
       "<style scoped>\n",
       "    .dataframe tbody tr th:only-of-type {\n",
       "        vertical-align: middle;\n",
       "    }\n",
       "\n",
       "    .dataframe tbody tr th {\n",
       "        vertical-align: top;\n",
       "    }\n",
       "\n",
       "    .dataframe thead th {\n",
       "        text-align: right;\n",
       "    }\n",
       "</style>\n",
       "<table border=\"1\" class=\"dataframe\">\n",
       "  <thead>\n",
       "    <tr style=\"text-align: right;\">\n",
       "      <th></th>\n",
       "      <th>方法或属性</th>\n",
       "      <th>实例</th>\n",
       "      <th>方法或属性</th>\n",
       "      <th>实例</th>\n",
       "    </tr>\n",
       "  </thead>\n",
       "  <tbody>\n",
       "    <tr>\n",
       "      <th>0</th>\n",
       "      <td>.replace</td>\n",
       "      <td>2021-11-26 16:00:00</td>\n",
       "      <td>.astimezone</td>\n",
       "      <td>2021-11-26 16:00:00+08:00</td>\n",
       "    </tr>\n",
       "    <tr>\n",
       "      <th>1</th>\n",
       "      <td>.resolution</td>\n",
       "      <td>0:00:00.000001</td>\n",
       "      <td>.combine</td>\n",
       "      <td>&lt;built-in method combine of type object at 0x0...</td>\n",
       "    </tr>\n",
       "    <tr>\n",
       "      <th>2</th>\n",
       "      <td>.second</td>\n",
       "      <td>0</td>\n",
       "      <td>.ctime</td>\n",
       "      <td>Fri Nov 26 16:00:00 2021</td>\n",
       "    </tr>\n",
       "    <tr>\n",
       "      <th>3</th>\n",
       "      <td>.strftime</td>\n",
       "      <td>&lt;built-in method strftime of datetime.datetime...</td>\n",
       "      <td>.date</td>\n",
       "      <td>2021-11-26</td>\n",
       "    </tr>\n",
       "    <tr>\n",
       "      <th>4</th>\n",
       "      <td>.strptime</td>\n",
       "      <td>&lt;built-in method strptime of type object at 0x...</td>\n",
       "      <td>.day</td>\n",
       "      <td>26</td>\n",
       "    </tr>\n",
       "    <tr>\n",
       "      <th>5</th>\n",
       "      <td>.time</td>\n",
       "      <td>16:00:00</td>\n",
       "      <td>.dst</td>\n",
       "      <td>None</td>\n",
       "    </tr>\n",
       "    <tr>\n",
       "      <th>6</th>\n",
       "      <td>.timestamp</td>\n",
       "      <td>1637913600.0</td>\n",
       "      <td>.fold</td>\n",
       "      <td>0</td>\n",
       "    </tr>\n",
       "    <tr>\n",
       "      <th>7</th>\n",
       "      <td>.timetuple</td>\n",
       "      <td>(2021, 11, 26, 16, 0, 0, 4, 330, -1)</td>\n",
       "      <td>.fromisoformat</td>\n",
       "      <td>&lt;built-in method fromisoformat of type object ...</td>\n",
       "    </tr>\n",
       "    <tr>\n",
       "      <th>8</th>\n",
       "      <td>.timetz</td>\n",
       "      <td>16:00:00</td>\n",
       "      <td>.fromordinal</td>\n",
       "      <td>&lt;built-in method fromordinal of type object at...</td>\n",
       "    </tr>\n",
       "    <tr>\n",
       "      <th>9</th>\n",
       "      <td>.today</td>\n",
       "      <td>2021-11-26 16:12:50.397239</td>\n",
       "      <td>.fromtimestamp</td>\n",
       "      <td>&lt;built-in method fromtimestamp of type object ...</td>\n",
       "    </tr>\n",
       "    <tr>\n",
       "      <th>10</th>\n",
       "      <td>.toordinal</td>\n",
       "      <td>738120</td>\n",
       "      <td>.hour</td>\n",
       "      <td>16</td>\n",
       "    </tr>\n",
       "    <tr>\n",
       "      <th>11</th>\n",
       "      <td>.tzinfo</td>\n",
       "      <td>None</td>\n",
       "      <td>.isocalendar</td>\n",
       "      <td>(2021, 47, 5)</td>\n",
       "    </tr>\n",
       "    <tr>\n",
       "      <th>12</th>\n",
       "      <td>.tzname</td>\n",
       "      <td>None</td>\n",
       "      <td>.isoformat</td>\n",
       "      <td>2021-11-26T16:00:00</td>\n",
       "    </tr>\n",
       "    <tr>\n",
       "      <th>13</th>\n",
       "      <td>.utcfromtimestamp</td>\n",
       "      <td>&lt;built-in method utcfromtimestamp of type obje...</td>\n",
       "      <td>.isoweekday</td>\n",
       "      <td>5</td>\n",
       "    </tr>\n",
       "    <tr>\n",
       "      <th>14</th>\n",
       "      <td>.utcnow</td>\n",
       "      <td>2021-11-26 08:12:50.397239</td>\n",
       "      <td>.max</td>\n",
       "      <td>9999-12-31 23:59:59.999999</td>\n",
       "    </tr>\n",
       "    <tr>\n",
       "      <th>15</th>\n",
       "      <td>.utcoffset</td>\n",
       "      <td>None</td>\n",
       "      <td>.microsecond</td>\n",
       "      <td>0</td>\n",
       "    </tr>\n",
       "    <tr>\n",
       "      <th>16</th>\n",
       "      <td>.utctimetuple</td>\n",
       "      <td>(2021, 11, 26, 16, 0, 0, 4, 330, 0)</td>\n",
       "      <td>.min</td>\n",
       "      <td>0001-01-01 00:00:00</td>\n",
       "    </tr>\n",
       "    <tr>\n",
       "      <th>17</th>\n",
       "      <td>.weekday</td>\n",
       "      <td>4</td>\n",
       "      <td>.minute</td>\n",
       "      <td>0</td>\n",
       "    </tr>\n",
       "    <tr>\n",
       "      <th>18</th>\n",
       "      <td>.year</td>\n",
       "      <td>2021</td>\n",
       "      <td>.month</td>\n",
       "      <td>11</td>\n",
       "    </tr>\n",
       "    <tr>\n",
       "      <th>19</th>\n",
       "      <td>.now</td>\n",
       "      <td>2021-11-26 16:12:50.396240</td>\n",
       "      <td></td>\n",
       "      <td></td>\n",
       "    </tr>\n",
       "  </tbody>\n",
       "</table>\n",
       "</div>"
      ],
      "text/plain": [
       "                方法或属性                                                 实例  \\\n",
       "0            .replace                                2021-11-26 16:00:00   \n",
       "1         .resolution                                     0:00:00.000001   \n",
       "2             .second                                                  0   \n",
       "3           .strftime  <built-in method strftime of datetime.datetime...   \n",
       "4           .strptime  <built-in method strptime of type object at 0x...   \n",
       "5               .time                                           16:00:00   \n",
       "6          .timestamp                                       1637913600.0   \n",
       "7          .timetuple               (2021, 11, 26, 16, 0, 0, 4, 330, -1)   \n",
       "8             .timetz                                           16:00:00   \n",
       "9              .today                         2021-11-26 16:12:50.397239   \n",
       "10         .toordinal                                             738120   \n",
       "11            .tzinfo                                               None   \n",
       "12            .tzname                                               None   \n",
       "13  .utcfromtimestamp  <built-in method utcfromtimestamp of type obje...   \n",
       "14            .utcnow                         2021-11-26 08:12:50.397239   \n",
       "15         .utcoffset                                               None   \n",
       "16      .utctimetuple                (2021, 11, 26, 16, 0, 0, 4, 330, 0)   \n",
       "17           .weekday                                                  4   \n",
       "18              .year                                               2021   \n",
       "19               .now                         2021-11-26 16:12:50.396240   \n",
       "\n",
       "             方法或属性                                                 实例  \n",
       "0      .astimezone                          2021-11-26 16:00:00+08:00  \n",
       "1         .combine  <built-in method combine of type object at 0x0...  \n",
       "2           .ctime                           Fri Nov 26 16:00:00 2021  \n",
       "3            .date                                         2021-11-26  \n",
       "4             .day                                                 26  \n",
       "5             .dst                                               None  \n",
       "6            .fold                                                  0  \n",
       "7   .fromisoformat  <built-in method fromisoformat of type object ...  \n",
       "8     .fromordinal  <built-in method fromordinal of type object at...  \n",
       "9   .fromtimestamp  <built-in method fromtimestamp of type object ...  \n",
       "10           .hour                                                 16  \n",
       "11    .isocalendar                                      (2021, 47, 5)  \n",
       "12      .isoformat                                2021-11-26T16:00:00  \n",
       "13     .isoweekday                                                  5  \n",
       "14            .max                         9999-12-31 23:59:59.999999  \n",
       "15    .microsecond                                                  0  \n",
       "16            .min                                0001-01-01 00:00:00  \n",
       "17         .minute                                                  0  \n",
       "18          .month                                                 11  \n",
       "19                                                                     "
      ]
     },
     "execution_count": 175,
     "metadata": {},
     "output_type": "execute_result"
    }
   ],
   "source": [
    "def datetime_atr_and_met(year,month,day,hour,minute,second):\n",
    "    import datetime\n",
    "    datetime1=datetime.datetime(year,month,day,hour,minute,second)\n",
    "    atr=[i for i in dir(datetime1) if i[0]!='_']\n",
    "    l=[]\n",
    "    for i in atr:\n",
    "        try:\n",
    "            a=eval('datetime1.'+i+'()')\n",
    "        except:\n",
    "            try:\n",
    "                a=eval('datetime1.'+i)\n",
    "            except:\n",
    "                a=\"pass\"\n",
    "        l.append(['.'+i,a])\n",
    "    return l\n",
    "dt=datetime_atr_and_met(2021,11,26,16,0,0) \n",
    "ndt=[i+j for i,j in zip(dt[20:39],dt[:19])]+[dt[19]+['']+['']]\n",
    "pd.DataFrame(ndt,columns=['方法或属性','实例','方法或属性','实例'])"
   ]
  },
  {
   "cell_type": "markdown",
   "metadata": {},
   "source": [
    "### datetime.timedelta"
   ]
  },
  {
   "cell_type": "markdown",
   "metadata": {},
   "source": [
    "timedelta类是用来计算二个datetime对象的差值的。\n",
    "\n",
    "创建对象:`datetime.timedelta(days=0, seconds=0, microseconds=0, milliseconds=0, minutes=0, hours=0, weeks=0)`\n",
    "\n",
    "返回对象实例：`datetime.timedelta(days=, seconds=, microseconds=)`\n",
    "\n",
    "使用timedelta你可以很容易地算出前几天和后几天的时刻。"
   ]
  },
  {
   "cell_type": "code",
   "execution_count": 178,
   "metadata": {},
   "outputs": [
    {
     "data": {
      "text/plain": [
       "datetime.timedelta(0)"
      ]
     },
     "execution_count": 178,
     "metadata": {},
     "output_type": "execute_result"
    },
    {
     "name": "stdout",
     "output_type": "stream",
     "text": [
      "0:00:00\n"
     ]
    }
   ],
   "source": [
    "a=datetime.datetime.now()\n",
    "b=datetime.datetime.now()\n",
    "a-b\n",
    "print(a-b)"
   ]
  },
  {
   "cell_type": "code",
   "execution_count": 182,
   "metadata": {},
   "outputs": [
    {
     "data": {
      "text/plain": [
       "datetime.timedelta(days=1, seconds=1, microseconds=1)"
      ]
     },
     "execution_count": 182,
     "metadata": {},
     "output_type": "execute_result"
    }
   ],
   "source": [
    "datetime.timedelta(1,1,1)#"
   ]
  },
  {
   "cell_type": "code",
   "execution_count": 185,
   "metadata": {},
   "outputs": [
    {
     "data": {
      "text/plain": [
       "datetime.datetime(2021, 11, 27, 3, 50, 0, 384591)"
      ]
     },
     "execution_count": 185,
     "metadata": {},
     "output_type": "execute_result"
    },
    {
     "data": {
      "text/plain": [
       "datetime.datetime(2021, 11, 25, 17, 50, 0, 384591)"
      ]
     },
     "execution_count": 185,
     "metadata": {},
     "output_type": "execute_result"
    },
    {
     "data": {
      "text/plain": [
       "datetime.datetime(2021, 11, 29, 5, 50, 0, 384591)"
      ]
     },
     "execution_count": 185,
     "metadata": {},
     "output_type": "execute_result"
    }
   ],
   "source": [
    "from datetime import datetime, timedelta\n",
    "now = datetime.now()\n",
    "now + timedelta(hours=10)\n",
    "now - timedelta(days=1)\n",
    "now + timedelta(days=2, hours=12)"
   ]
  },
  {
   "cell_type": "code",
   "execution_count": 183,
   "metadata": {},
   "outputs": [
    {
     "data": {
      "text/html": [
       "<div>\n",
       "<style scoped>\n",
       "    .dataframe tbody tr th:only-of-type {\n",
       "        vertical-align: middle;\n",
       "    }\n",
       "\n",
       "    .dataframe tbody tr th {\n",
       "        vertical-align: top;\n",
       "    }\n",
       "\n",
       "    .dataframe thead th {\n",
       "        text-align: right;\n",
       "    }\n",
       "</style>\n",
       "<table border=\"1\" class=\"dataframe\">\n",
       "  <thead>\n",
       "    <tr style=\"text-align: right;\">\n",
       "      <th></th>\n",
       "      <th>方法或属性</th>\n",
       "      <th>实例</th>\n",
       "    </tr>\n",
       "  </thead>\n",
       "  <tbody>\n",
       "    <tr>\n",
       "      <th>0</th>\n",
       "      <td>.days</td>\n",
       "      <td>2</td>\n",
       "    </tr>\n",
       "    <tr>\n",
       "      <th>1</th>\n",
       "      <td>.max</td>\n",
       "      <td>999999999 days, 23:59:59.999999</td>\n",
       "    </tr>\n",
       "    <tr>\n",
       "      <th>2</th>\n",
       "      <td>.microseconds</td>\n",
       "      <td>300</td>\n",
       "    </tr>\n",
       "    <tr>\n",
       "      <th>3</th>\n",
       "      <td>.min</td>\n",
       "      <td>-999999999 days, 0:00:00</td>\n",
       "    </tr>\n",
       "    <tr>\n",
       "      <th>4</th>\n",
       "      <td>.resolution</td>\n",
       "      <td>0:00:00.000001</td>\n",
       "    </tr>\n",
       "    <tr>\n",
       "      <th>5</th>\n",
       "      <td>.seconds</td>\n",
       "      <td>42</td>\n",
       "    </tr>\n",
       "    <tr>\n",
       "      <th>6</th>\n",
       "      <td>.total_seconds</td>\n",
       "      <td>172842.0003</td>\n",
       "    </tr>\n",
       "  </tbody>\n",
       "</table>\n",
       "</div>"
      ],
      "text/plain": [
       "            方法或属性                               实例\n",
       "0           .days                                2\n",
       "1            .max  999999999 days, 23:59:59.999999\n",
       "2   .microseconds                              300\n",
       "3            .min         -999999999 days, 0:00:00\n",
       "4     .resolution                   0:00:00.000001\n",
       "5        .seconds                               42\n",
       "6  .total_seconds                      172842.0003"
      ]
     },
     "execution_count": 183,
     "metadata": {},
     "output_type": "execute_result"
    }
   ],
   "source": [
    "def timedelta_atr_and_met(days,seconds,microseconds):\n",
    "    import datetime\n",
    "    timedelta=datetime.timedelta(days,seconds,microseconds)\n",
    "    atr=[i for i in dir(timedelta) if i[0]!='_']\n",
    "    l=[]\n",
    "    for i in atr:\n",
    "        try:\n",
    "            a=eval('timedelta.'+i+'()')\n",
    "        except:\n",
    "            try:\n",
    "                a=eval('timedelta.'+i)\n",
    "            except:\n",
    "                a=\"pass\"\n",
    "        l.append(['.'+i,a])\n",
    "    return l\n",
    "pd.DataFrame(timedelta_atr_and_met(2,42,300),columns=['方法或属性','实例'])    "
   ]
  },
  {
   "cell_type": "markdown",
   "metadata": {},
   "source": [
    "### datetime.timezone"
   ]
  },
  {
   "cell_type": "markdown",
   "metadata": {},
   "source": [
    "创建时区"
   ]
  },
  {
   "cell_type": "markdown",
   "metadata": {},
   "source": [
    "The timezone class is a subclass of tzinfo, each instance of which represents a timezone defined by a fixed offset from UTC.\n",
    "timezone类时tzinfo类的子类，每一个实例对象代表了与utc时间的固定偏移\n",
    "\n",
    "Objects of this class cannot be used to represent timezone information in the locations where different offsets are used in different days of the year or where historical changes have been made to civil time.\n",
    "\n",
    "* `class datetime.timezone(offset, name=None)`\n",
    "\n",
    "The offset argument must be specified as a timedelta object representing the difference between the local time and UTC. It must be strictly between -timedelta(hours=24) and timedelta(hours=24), otherwise ValueError is raised.\n",
    "\n",
    "offset必须是一个timedelta对象，代表了与utc时间的偏移，范围为-timedelta(hours=24) 到 timedelta(hours=24)\n",
    "\n",
    "The name argument is optional. If specified it must be a string that will be used as the value returned by the datetime.tzname() method.\n",
    "\n",
    "name可以不给，给了话必须是datetime.tzname()生成的对象\n",
    "\n",
    "Changed in version 3.7: The UTC offset is not restricted to a whole number of minutes.\n",
    "\n",
    "* timezone.utcoffset(dt)\n",
    "\n",
    "    Return the fixed value specified when the timezone instance is constructed.\n",
    "\n",
    "    当实例对象被创建后，返回固定值\n",
    "    \n",
    "The dt argument is ignored. The return value is a timedelta instance equal to the difference between the local time and UTC.\n",
    "\n",
    "dt参数被忽略，返回值是一个timedelta对象，表示utc时间与本地时间的offset\n",
    "\n",
    "Changed in version 3.7: The UTC offset is not restricted to a whole number of minutes.\n",
    "\n",
    "* timezone.tzname(dt)\n",
    "\n",
    "    Return the fixed value specified when the timezone instance is constructed.\n",
    "\n",
    "If name is not provided in the constructor, the name returned by tzname(dt) is generated from the value of the offset as follows. If offset is timedelta(0), the name is “UTC”, otherwise it is a string in the format UTC±HH:MM, where ± is the sign of offset, HH and MM are two digits of offset.hours and offset.minutes respectively.\n",
    "\n",
    "Changed in version 3.6: Name generated from offset=timedelta(0) is now plain ‘UTC’, not 'UTC+00:00'."
   ]
  },
  {
   "cell_type": "code",
   "execution_count": 202,
   "metadata": {},
   "outputs": [
    {
     "data": {
      "text/plain": [
       "datetime.timezone(datetime.timedelta(seconds=21600))"
      ]
     },
     "execution_count": 202,
     "metadata": {},
     "output_type": "execute_result"
    },
    {
     "data": {
      "text/plain": [
       "'UTC+06:00'"
      ]
     },
     "execution_count": 202,
     "metadata": {},
     "output_type": "execute_result"
    },
    {
     "data": {
      "text/plain": [
       "datetime.timezone.utc"
      ]
     },
     "execution_count": 202,
     "metadata": {},
     "output_type": "execute_result"
    },
    {
     "data": {
      "text/plain": [
       "datetime.timedelta(seconds=21600)"
      ]
     },
     "execution_count": 202,
     "metadata": {},
     "output_type": "execute_result"
    }
   ],
   "source": [
    "from datetime import datetime, timedelta, timezone\n",
    "dt=datetime.now()\n",
    "tz=timezone(timedelta(hours=6))\n",
    "tz\n",
    "tz.tzname(dt)\n",
    "tz.utc\n",
    "tz.utcoffset(dt)"
   ]
  },
  {
   "cell_type": "markdown",
   "metadata": {},
   "source": [
    "**时区的转换**\n",
    "\n",
    "* 时区转换的关键在于，拿到一个datetime时，要获知其正确的时区，然后强制设置时区，作为基准时间。\n",
    "\n",
    "  利用带时区的datetime，通过astimezone()方法，可以转换到任意时区。\n",
    "\n",
    "  不是必须从UTC+0:00时区转换到其他时区，任何带时区的datetime都可以正确转换，例如上述bj_dt到tokyo_dt的转换。\n",
    "* 我们可以先通过utcnow()拿到当前的UTC时间，再转换为任意时区的时间"
   ]
  },
  {
   "cell_type": "code",
   "execution_count": 206,
   "metadata": {},
   "outputs": [
    {
     "name": "stdout",
     "output_type": "stream",
     "text": [
      "2021-11-26 10:56:22.270815\n",
      "2021-11-26 10:56:22.271814+00:00\n",
      "2021-11-26 18:56:22.271814+08:00\n",
      "2021-11-26 19:56:22.271814+09:00\n",
      "2021-11-26 19:56:22.271814+09:00\n"
     ]
    }
   ],
   "source": [
    "# 拿到UTC时间，并强制设置时区为UTC+0:00:\n",
    ">>> utc_dt = datetime.utcnow()#并没有时区信息\n",
    ">>> print(utc_dt)\n",
    ">>> utc_dt = datetime.utcnow().replace(tzinfo=timezone.utc)\n",
    ">>> print(utc_dt)\n",
    "# astimezone()将转换时区为北京时间:\n",
    ">>> bj_dt = utc_dt.astimezone(timezone(timedelta(hours=8)))\n",
    ">>> print(bj_dt)\n",
    "# astimezone()将转换时区为东京时间:\n",
    ">>> tokyo_dt = utc_dt.astimezone(timezone(timedelta(hours=9)))\n",
    ">>> print(tokyo_dt)\n",
    "# astimezone()将bj_dt转换时区为东京时间:\n",
    ">>> tokyo_dt2 = bj_dt.astimezone(timezone(timedelta(hours=9)))\n",
    ">>> print(tokyo_dt2)"
   ]
  },
  {
   "cell_type": "markdown",
   "metadata": {},
   "source": [
    "### 时间的类型"
   ]
  },
  {
   "cell_type": "markdown",
   "metadata": {},
   "source": [
    "形式|实例\n",
    "-|:-\n",
    "字符串形式|'2021/11/26','16:34:20'\n",
    "timestamp时间戳|在计算机中，时间实际上是用数字表示的。我们把1970年1月1日 00:00:00 UTC+00:00时区的时刻称为epoch time，记为0（1970年以前的时间timestamp为负数），当前时间就是相对于epoch time的秒数，称为timestamp。你可以认为：`timestamp = 0 = 1970-1-1 00:00:00 UTC+0:00`,对应的北京时间是：`timestamp = 0 = 1970-1-1 08:00:00 UTC+8:00`\n",
    "本地时间|本地时间是指当前操作系统设定的时区。例如北京时区是东8区，则本地时间：`2015-04-19 12:20:00`,实际上就是UTC+8:00时区的时间：`2015-04-19 12:20:00 UTC+8:00`,而此刻的格林威治标准时间与北京时间差了8小时，也就是UTC+0:00时区的时间应该是：`2015-04-19 04:20:00 UTC+0:00`\n",
    "utc时间|具有时区信息，同一时间点不同的时区，时间点不同,通过在时间后面加` UTC+`来表示,UTC时间指UTC+0:00时区的时间\n",
    "datetime|datetime表示的时间需要时区信息才能确定一个特定的时间，否则只能视为本地时间。如果要存储datetime，最佳方法是将其转换为timestamp再存储，因为timestamp的值与时区完全无关."
   ]
  },
  {
   "cell_type": "markdown",
   "metadata": {},
   "source": [
    "### 时间类型的转化\n",
    "\n",
    "* str与datetime\n",
    "    * 字符串形式转化为datetime `datetime.datetime.strptime('2015-6-1 18:19:59', '%Y-%m-%d %H:%M:%S')`\n",
    "        * 只有datetime对象有该方法\n",
    "        * 注意转换后的datetime是没有时区信息的。\n",
    "    * datetime对象转化为字符串 `datetime.datetime().strftime('%a, %b %d %H:%M')`\n",
    "        * date对象和time对象也有该方法\n",
    "        * 如果你想将时间对象转化为字符串对象的话，可以用到__format__(...)方法以指定格式进行时间输出：\n",
    "        \n",
    "                >>> a = datetime.time(12,20,59,899)\n",
    "                >>> a.__format__('%H:%M:%S')\n",
    "                '12:20:59'\n",
    "* 转换格式\n",
    "       \n",
    "符号|\t说明\n",
    ":-|:-\n",
    "%y|两位数的年份表示（00-99）\n",
    "%Y|\t四位数的年份表示（000-9999）\n",
    "%m|\t月份（01-12）\n",
    "%d|月内中的一天（0-31）\n",
    "%H|24小时制小时数（0-23）\n",
    "%I|12小时制小时数（01-12）\n",
    "%M|分钟数（00=59）\n",
    "%S|秒（00-59）\n",
    "%a|本地简化星期名称\n",
    "%A|本地完整星期名称\n",
    "%b|本地简化的月份名称\n",
    "%B|本地完整的月份名称\n",
    "%c|本地相应的日期表示和时间表示\n",
    "%j|年内的一天（001-366）\n",
    "%p|本地A.M.或P.M.的等价符\n",
    "%U|一年中的星期数（00-53）星期天为星期的开始\n",
    "%w|星期（0-6），星期天为星期的开始\n",
    "%W|一年中的星期数（00-53）星期一为星期的开始\n",
    "%x|本地相应的日期表示\n",
    "%X|本地相应的时间表示\n",
    "%Z|当前时区的名称\n",
    "%%|%号本身\n",
    "\n",
    "* timestamp与datetime\n",
    "    * datetime 转化为timestamp `datetime.datetime.timestamp()`\n",
    "    * timestamp 转化为 datetime\n",
    "        * 本地时间的datetime: `datetime.datetime.fromtimestamp(t)`\n",
    "        * UTC时间的datetime: `datetime.datetime.utcfromtimestamp(t)`\n",
    "* 本地时间与utc时间\n",
    "    * 本地时间转换为utc时间:一个datetime类型有一个时区属性tzinfo，但是默认为None，所以无法区分这个datetime到底是哪个时区，除非强行给datetime设置一个时区.需要自己创建时区对象，然后赋值给datetime对象\n",
    "\n",
    "            from datetime import datetime, timedelta, timezone\n",
    "            tz_utc_8 = timezone(timedelta(hours=8)) # 创建时区UTC+8:00\n",
    "            now = datetime.now()\n",
    "            now\n",
    "            #datetime.datetime(2015, 5, 18, 17, 2, 10, 871012)\n",
    "            dt = now.replace(tzinfo=tz_utc_8) # 强制设置为UTC+8:00\n",
    "            dt\n",
    "            #datetime.datetime(2015, 5, 18, 17, 2, 10, 871012, tzinfo=datetime.timezone(datetime.timedelta(0, 28800)))\n",
    "            #如果系统时区恰好是UTC+8:00，那么上述代码就是正确的，否则，不能强制设置为UTC+8:00时区。"
   ]
  },
  {
   "cell_type": "code",
   "execution_count": 190,
   "metadata": {},
   "outputs": [
    {
     "data": {
      "text/plain": [
       "datetime.datetime(2021, 11, 26, 18, 6, 6, 638669)"
      ]
     },
     "execution_count": 190,
     "metadata": {},
     "output_type": "execute_result"
    },
    {
     "data": {
      "text/plain": [
       "datetime.datetime(2021, 11, 26, 18, 6, 6, 638669, tzinfo=datetime.timezone(datetime.timedelta(seconds=36000)))"
      ]
     },
     "execution_count": 190,
     "metadata": {},
     "output_type": "execute_result"
    }
   ],
   "source": [
    "from datetime import datetime, timedelta, timezone\n",
    "tz_utc_8 = timezone(timedelta(hours=10)) # 创建时区UTC+10:00\n",
    "now = datetime.now()\n",
    "#datetime.datetime(2015, 5, 18, 17, 2, 10, 871012)\n",
    "dt = now.replace(tzinfo=tz_utc_8) # 强制设置为UTC+10:00\n",
    "dt\n",
    "#datetime.datetime(2015, 5, 18, 17, 2, 10, 871012, tzinfo=datetime.timezone(datetime.timedelta(0, 28800)))\n",
    "#如果系统时区恰好是UTC+8:00，那么上述代码就是正确的，否则，不能强制设置为UTC+8:00时区。"
   ]
  },
  {
   "cell_type": "markdown",
   "metadata": {},
   "source": [
    "### 日期的比较"
   ]
  },
  {
   "cell_type": "code",
   "execution_count": 205,
   "metadata": {
    "collapsed": true,
    "jupyter": {
     "outputs_hidden": true
    }
   },
   "outputs": [
    {
     "data": {
      "text/plain": [
       "datetime.timedelta(days=-7, seconds=10923, microseconds=860522)"
      ]
     },
     "execution_count": 205,
     "metadata": {},
     "output_type": "execute_result"
    },
    {
     "data": {
      "text/plain": [
       "False"
      ]
     },
     "execution_count": 205,
     "metadata": {},
     "output_type": "execute_result"
    },
    {
     "data": {
      "text/plain": [
       "True"
      ]
     },
     "execution_count": 205,
     "metadata": {},
     "output_type": "execute_result"
    },
    {
     "data": {
      "text/plain": [
       "True"
      ]
     },
     "execution_count": 205,
     "metadata": {},
     "output_type": "execute_result"
    },
    {
     "data": {
      "text/plain": [
       "True"
      ]
     },
     "execution_count": 205,
     "metadata": {},
     "output_type": "execute_result"
    },
    {
     "data": {
      "text/plain": [
       "False"
      ]
     },
     "execution_count": 205,
     "metadata": {},
     "output_type": "execute_result"
    },
    {
     "data": {
      "text/plain": [
       "False"
      ]
     },
     "execution_count": 205,
     "metadata": {},
     "output_type": "execute_result"
    }
   ],
   "source": [
    "#加减\n",
    "a=datetime.now()\n",
    "b=datetime(2021,12,3,15,43,20)\n",
    "a-b\n",
    "#比较大小\n",
    "a.__eq__(b)\n",
    "a.__ne__(b)\n",
    "a.__le__(b)\n",
    "a.__lt__(b)\n",
    "a.__ge__(b)\n",
    "a.__gt__(b)"
   ]
  },
  {
   "cell_type": "markdown",
   "metadata": {},
   "source": [
    "## time"
   ]
  },
  {
   "cell_type": "markdown",
   "metadata": {},
   "source": [
    "### 什么是时间元组？\n",
    "\n",
    "很多Python函数用一个元组装起来的9组数字处理时间:\n",
    "\n",
    "序号\t|字段|\t值\n",
    "-|-|:-\n",
    "0\t|4位数年\t|2008\n",
    "1|\t月|\t1 到 12\n",
    "2\t|日|\t1到31\n",
    "3|\t小时\t|0到23\n",
    "4\t|分钟|\t0到59\n",
    "5\t|秒\t|0到61 (60或61 是闰秒)\n",
    "6\t|一周的第几日|\t0到6 (0是周一)\n",
    "7\t|一年的第几日|\t1到366 (儒略历)\n",
    "8\t|夏令时|\t-1, 0, 1。-1是决定是否为夏令时的旗帜\n",
    "\n",
    "上述也就是struct_time元组。这种结构具有如下属性：\n",
    "\n",
    "序号\t|属性\t|值\n",
    "-|-|:-\n",
    "0\t|tm_year\t|2008\n",
    "1\t|tm_mon\t|1 到 12\n",
    "2\t|tm_mday\t|1 到 31\n",
    "3\t|tm_hour\t|0 到 23\n",
    "4\t|tm_min\t|0 到 59\n",
    "5\t|tm_sec\t|0 到 61 (60或61 是闰秒)\n",
    "6\t|tm_wday|\t0到6 (0是周一)\n",
    "7\t|tm_yday|\t1 到 366(儒略历)\n",
    "8\t|tm_isdst\t|-1, 0, 1。 -1是决定是否为夏令时的旗帜"
   ]
  },
  {
   "cell_type": "markdown",
   "metadata": {},
   "source": [
    "### 时间元组与timestamp的转化\n",
    "\n",
    "From|To|Use\n",
    "-|-|:-\n",
    "seconds since the epoch|struct_time in UTC|time.gmtime()\n",
    "seconds since the epoch|struct_time in local time|time.localtime()\n",
    "struct_time in UTC|seconds since the epoch|calendar.timegm()\n",
    "struct_time in local time|seconds since the epoch|time.mktime()"
   ]
  },
  {
   "cell_type": "markdown",
   "metadata": {},
   "source": [
    "方法|解释\n",
    "-|:-\n",
    "time.localtime([secs])|将一个时间戳转换为当前时区的struct_time。secs参数未提供，则以当前时间为准。\n",
    "time.gmtime([secs])|和localtime()方法类似，gmtime()方法是将一个时间戳转换为UTC时区（0时区）的struct_time。\n",
    "time.time()|返回当前时间的时间戳。\n",
    "time.mktime(t)|将一个本地时间的struct_time转化为时间戳。\n",
    "time.sleep(secs)|线程推迟指定的时间运行。单位为秒。\n",
    "time.clock()|这个需要注意，在不同的系统上含义不同。在UNIX系统上，它返回的是“进程时间”，它是用秒表示的浮点数（时间戳）。而在WINDOWS中，第一次调用，返回的是进程运行的实际时间。而第二次之后的调用是自第一次调用以后到现在的运行时间。（实际上是以WIN32上QueryPerformanceCounter()为基础，它比毫秒表示更为精确）\n",
    "time.asctime([t])|把一个表示时间的元组或者struct_time表示为这种形式：'Sun Jun 20 23:21:05 1993'。如果没有参数，将会将time.localtime()作为参数传入。\n",
    "time.ctime([secs])|把一个时间戳（按秒计算的浮点数）转化为time.asctime()的形式。如果参数未给或者为None的时候，将会默认time.time()为参数。它的作用相当于time.asctime(time.localtime(secs))。\n",
    "time.strftime(format[, t])|把一个代表时间的元组或者struct_time（如由time.localtime()和time.gmtime()返回）转化为格式化的时间字符串。如果t未指定，将传入time.localtime()。如果元组中任何一个元素越界，ValueError的错误将会被抛出。\n",
    "time.strptime(string[, format])|把一个格式化时间字符串转化为struct_time。实际上它和strftime()是逆操作。当使用strptime()函数时，只有当在这年中的周数和天数被确定的时候%U和%W才会被计算。\n",
    "两个重要属性|\n",
    "time.timezone|time.timezone是当地时区（未启动夏令时）距离格林威治的偏移秒数（>0，美洲<=0大部分欧洲，亚洲，非洲）。\n",
    "time.tzname|time.tzname包含一对根据情况的不同而不同的字符串，分别是带夏令时的本地时区名称，和不带的。"
   ]
  },
  {
   "attachments": {
    "image.png": {
     "image/png": "[encoded data removed]"
    }
   },
   "cell_type": "markdown",
   "metadata": {},
   "source": [
    "![image.png](attachment:image.png)"
   ]
  },
  {
   "cell_type": "code",
   "execution_count": 203,
   "metadata": {},
   "outputs": [],
   "source": [
    "import time"
   ]
  },
  {
   "cell_type": "markdown",
   "metadata": {},
   "source": [
    "## calendar"
   ]
  },
  {
   "cell_type": "markdown",
   "metadata": {},
   "source": [
    "日历（Calendar）模块\n",
    "\n",
    "此模块的函数都是日历相关的，例如打印某月的字符月历。\n",
    "\n",
    "星期一是默认的每周第一天，星期天是默认的最后一天。更改设置需调用calendar.setfirstweekday()函数。模块包含了以下内置函数：\n",
    "\n",
    "序号|函数及描述\n",
    "-|:-\n",
    "calendar.calendar(year,w=2,l=1,c=6)|返回一个多行字符串格式的year年年历，3个月一行，间隔距离为c。 每日宽度间隔为w字符。每行长度为21* W+18+2* C。l是每星期行数。\n",
    "calendar.firstweekday( )|返回当前每周起始日期的设置。默认情况下，首次载入 calendar 模块时返回 0，即星期一。\n",
    "calendar.isleap(year)|是闰年返回 True，否则为 False。\n",
    "calendar.leapdays(y1,y2)|返回在Y1，Y2两年之间的闰年总数。\n",
    "calendar.month(year,month,w=2,l=1)|返回一个多行字符串格式的year年month月日历，两行标题，一周一行。每日宽度间隔为w字符。每行的长度为7* w+6。l是每星期的行数。\n",
    "calendar.monthcalendar(year,month)|返回一个整数的单层嵌套列表。每个子列表装载代表一个星期的整数。Year年month月外的日期都设为0;范围内的日子都由该月第几日表示，从1开始。\n",
    "calendar.monthrange(year,month)|返回两个整数。第一个是该月的星期几的日期码，第二个是该月的日期码。日从0（星期一）到6（星期日）;月从1到12。\n",
    "calendar.prcal(year,w=2,l=1,c=6)|相当于 print calendar.calendar(year,w=2,l=1,c=6)。\n",
    "calendar.prmonth(year,month,w=2,l=1)|相当于 print calendar.month(year,month,w=2,l=1) 。\n",
    "calendar.setfirstweekday(weekday)|设置每周的起始日期码。0（星期一）到6（星期日）。\n",
    "calendar.timegm(tupletime)和time.gmtime相反|接受一个时间元组形式，返回该时刻的时间戳（1970纪元后经过的浮点秒数）。\n",
    "calendar.weekday(year,month,day)|返回给定日期的日期码。0（星期一）到6（星期日）。月份为 1（一月） 到 12（12月）。"
   ]
  },
  {
   "cell_type": "code",
   "execution_count": 224,
   "metadata": {},
   "outputs": [
    {
     "name": "stdout",
     "output_type": "stream",
     "text": [
      "                                  2021\n",
      "\n",
      "      January                   February                   March\n",
      "Mo Tu We Th Fr Sa Su      Mo Tu We Th Fr Sa Su      Mo Tu We Th Fr Sa Su\n",
      "             1  2  3       1  2  3  4  5  6  7       1  2  3  4  5  6  7\n",
      " 4  5  6  7  8  9 10       8  9 10 11 12 13 14       8  9 10 11 12 13 14\n",
      "11 12 13 14 15 16 17      15 16 17 18 19 20 21      15 16 17 18 19 20 21\n",
      "18 19 20 21 22 23 24      22 23 24 25 26 27 28      22 23 24 25 26 27 28\n",
      "25 26 27 28 29 30 31                                29 30 31\n",
      "\n",
      "       April                      May                       June\n",
      "Mo Tu We Th Fr Sa Su      Mo Tu We Th Fr Sa Su      Mo Tu We Th Fr Sa Su\n",
      "          1  2  3  4                      1  2          1  2  3  4  5  6\n",
      " 5  6  7  8  9 10 11       3  4  5  6  7  8  9       7  8  9 10 11 12 13\n",
      "12 13 14 15 16 17 18      10 11 12 13 14 15 16      14 15 16 17 18 19 20\n",
      "19 20 21 22 23 24 25      17 18 19 20 21 22 23      21 22 23 24 25 26 27\n",
      "26 27 28 29 30            24 25 26 27 28 29 30      28 29 30\n",
      "                          31\n",
      "\n",
      "        July                     August                  September\n",
      "Mo Tu We Th Fr Sa Su      Mo Tu We Th Fr Sa Su      Mo Tu We Th Fr Sa Su\n",
      "          1  2  3  4                         1             1  2  3  4  5\n",
      " 5  6  7  8  9 10 11       2  3  4  5  6  7  8       6  7  8  9 10 11 12\n",
      "12 13 14 15 16 17 18       9 10 11 12 13 14 15      13 14 15 16 17 18 19\n",
      "19 20 21 22 23 24 25      16 17 18 19 20 21 22      20 21 22 23 24 25 26\n",
      "26 27 28 29 30 31         23 24 25 26 27 28 29      27 28 29 30\n",
      "                          30 31\n",
      "\n",
      "      October                   November                  December\n",
      "Mo Tu We Th Fr Sa Su      Mo Tu We Th Fr Sa Su      Mo Tu We Th Fr Sa Su\n",
      "             1  2  3       1  2  3  4  5  6  7             1  2  3  4  5\n",
      " 4  5  6  7  8  9 10       8  9 10 11 12 13 14       6  7  8  9 10 11 12\n",
      "11 12 13 14 15 16 17      15 16 17 18 19 20 21      13 14 15 16 17 18 19\n",
      "18 19 20 21 22 23 24      22 23 24 25 26 27 28      20 21 22 23 24 25 26\n",
      "25 26 27 28 29 30 31      29 30                     27 28 29 30 31\n",
      "\n"
     ]
    }
   ],
   "source": [
    "import calendar\n",
    "print(calendar.calendar(2021))"
   ]
  },
  {
   "cell_type": "markdown",
   "metadata": {},
   "source": [
    "# 数据压缩"
   ]
  },
  {
   "cell_type": "markdown",
   "metadata": {},
   "source": [
    "以下模块直接支持通用的数据打包和压缩格式：zlib，gzip，bz2，zipfile，以及 tarfile。"
   ]
  },
  {
   "cell_type": "code",
   "execution_count": null,
   "metadata": {},
   "outputs": [],
   "source": []
  },
  {
   "cell_type": "markdown",
   "metadata": {},
   "source": [
    "# 性能度量 timeit\n",
    "\n",
    "有些用户对了解解决同一问题的不同方法之间的性能差异很感兴趣。Python 提供了一个度量工具，为这些问题提供了直接答案。\n",
    "\n",
    "例如，使用元组封装和拆封来交换元素看起来要比使用传统的方法要诱人的多,timeit 证明了现代的方法更快一些。"
   ]
  },
  {
   "cell_type": "code",
   "execution_count": 158,
   "metadata": {},
   "outputs": [
    {
     "data": {
      "text/plain": [
       "0.574813199986238"
      ]
     },
     "execution_count": 158,
     "metadata": {},
     "output_type": "execute_result"
    },
    {
     "data": {
      "text/plain": [
       "0.5708962000207976"
      ]
     },
     "execution_count": 158,
     "metadata": {},
     "output_type": "execute_result"
    },
    {
     "data": {
      "text/plain": [
       "0.3446741999941878"
      ]
     },
     "execution_count": 158,
     "metadata": {},
     "output_type": "execute_result"
    }
   ],
   "source": [
    ">>> import timeit\n",
    ">>> timeit.timeit('\"-\".join(str(n) for n in range(100))', number=10000)\n",
    ">>> timeit.timeit('\"-\".join([str(n) for n in range(100)])', number=10000)\n",
    ">>> timeit.timeit('\"-\".join(map(str, range(100)))', number=10000)"
   ]
  },
  {
   "cell_type": "code",
   "execution_count": 159,
   "metadata": {},
   "outputs": [
    {
     "data": {
      "text/plain": [
       "[0.647509300004458,\n",
       " 0.6230467000277713,\n",
       " 0.569728300004499,\n",
       " 0.5259624000173062,\n",
       " 0.7396067999943625]"
      ]
     },
     "execution_count": 159,
     "metadata": {},
     "output_type": "execute_result"
    }
   ],
   "source": [
    "#timeit.timeit('')\n",
    "timeit.repeat('\"-\".join(str(n) for n in range(100))',repeat=5,number=10000)#"
   ]
  },
  {
   "cell_type": "markdown",
   "metadata": {},
   "source": [
    "# 测试模块\n",
    "\n",
    "开发高质量软件的方法之一是为每一个函数开发测试代码，并且在开发过程中经常进行测试"
   ]
  },
  {
   "cell_type": "markdown",
   "metadata": {},
   "source": [
    "## doctest\n",
    "\n",
    "doctest模块提供了一个工具，扫描模块并根据程序中内嵌的文档字符串执行测试。\n",
    "\n",
    "测试构造如同简单的将它的输出结果剪切并粘贴到文档字符串中。\n",
    "\n",
    "通过用户提供的例子，它强化了文档，允许 doctest 模块确认代码的结果是否与文档一致:"
   ]
  },
  {
   "cell_type": "code",
   "execution_count": null,
   "metadata": {},
   "outputs": [],
   "source": []
  },
  {
   "cell_type": "markdown",
   "metadata": {},
   "source": [
    "## unittest"
   ]
  },
  {
   "cell_type": "markdown",
   "metadata": {},
   "source": [
    "unittest模块不像 doctest模块那么容易使用，不过它可以在一个独立的文件里提供一个更全面的测试集:"
   ]
  },
  {
   "cell_type": "code",
   "execution_count": null,
   "metadata": {},
   "outputs": [],
   "source": []
  },
  {
   "cell_type": "markdown",
   "metadata": {},
   "source": [
    "# decimal"
   ]
  },
  {
   "cell_type": "markdown",
   "metadata": {},
   "source": [
    "用于精确控制运算精度和有效位数和四舍五入操作的10进制运算"
   ]
  },
  {
   "cell_type": "code",
   "execution_count": null,
   "metadata": {},
   "outputs": [],
   "source": []
  },
  {
   "cell_type": "markdown",
   "metadata": {},
   "source": [
    "# logging\n",
    "\n",
    "提供了灵活的记录事件，错误，警告和调试信息等日志信息的功能"
   ]
  },
  {
   "cell_type": "code",
   "execution_count": null,
   "metadata": {},
   "outputs": [],
   "source": []
  },
  {
   "cell_type": "markdown",
   "metadata": {},
   "source": [
    "[参考](runoob.com/python3/python3-stdlib.html)"
   ]
  }
 ],
 "metadata": {
  "kernelspec": {
   "display_name": "Python 3",
   "language": "python",
   "name": "python3"
  },
  "language_info": {
   "codemirror_mode": {
    "name": "ipython",
    "version": 3
   },
   "file_extension": ".py",
   "mimetype": "text/x-python",
   "name": "python",
   "nbconvert_exporter": "python",
   "pygments_lexer": "ipython3",
   "version": "3.7.4"
  },
  "toc": {
   "base_numbering": 1,
   "nav_menu": {},
   "number_sections": true,
   "sideBar": true,
   "skip_h1_title": false,
   "title_cell": "Table of Contents",
   "title_sidebar": "Contents",
   "toc_cell": false,
   "toc_position": {},
   "toc_section_display": true,
   "toc_window_display": true
  },
  "widgets": {
   "application/vnd.jupyter.widget-state+json": {
    "state": {},
    "version_major": 2,
    "version_minor": 0
   }
  }
 },
 "nbformat": 4,
 "nbformat_minor": 4
}
