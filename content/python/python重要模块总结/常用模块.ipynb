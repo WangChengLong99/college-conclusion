{
 "cells": [
  {
   "cell_type": "markdown",
   "metadata": {},
   "source": [
    "# collections"
   ]
  },
  {
   "cell_type": "markdown",
   "metadata": {},
   "source": [
    "该模块实现了专门的容器数据类型，为 Python 的通用内置容器、dict、list、set 和 tuple 提供了替代方案。"
   ]
  },
  {
   "cell_type": "markdown",
   "metadata": {},
   "source": [
    "<table class=\"docutils align-default\">\n",
    "<colgroup>\n",
    "<col style=\"width: 24%\">\n",
    "<col style=\"width: 76%\">\n",
    "</colgroup>\n",
    "<tbody>\n",
    "<tr class=\"row-odd\"><td><p><a class=\"reference internal\" href=\"https://docs.python.org/3.7/library/collections.html?highlight=collections#collections.namedtuple\" title=\"collections.namedtuple\"><code class=\"xref py py-func docutils literal notranslate\"><span class=\"pre\">namedtuple()</span></code></a></p></td>\n",
    "<td><p><font style=\"vertical-align: inherit;\"><font style=\"vertical-align: inherit;\">用于创建具有命名字段的元组子类的工厂函数</font></font></p></td>\n",
    "</tr>\n",
    "<tr class=\"row-even\"><td><p><a class=\"reference internal\" href=\"https://docs.python.org/3.7/library/collections.html?highlight=collections#collections.deque\" title=\"集合.deque\"><code class=\"xref py py-class docutils literal notranslate\"><span class=\"pre\">deque</span></code></a></p></td>\n",
    "<td><p><font style=\"vertical-align: inherit;\"><font style=\"vertical-align: inherit;\">类似列表的容器，两端具有快速追加和弹出</font></font></p></td>\n",
    "</tr>\n",
    "<tr class=\"row-odd\"><td><p><a class=\"reference internal\" href=\"https://docs.python.org/3.7/library/collections.html?highlight=collections#collections.ChainMap\" title=\"collections.ChainMap\"><code class=\"xref py py-class docutils literal notranslate\"><span class=\"pre\">ChainMap</span></code></a></p></td>\n",
    "<td><p><font style=\"vertical-align: inherit;\"><font style=\"vertical-align: inherit;\">用于创建多个映射的单个视图的类 dict 类</font></font></p></td>\n",
    "</tr>\n",
    "<tr class=\"row-even\"><td><p><a class=\"reference internal\" href=\"https://docs.python.org/3.7/library/collections.html?highlight=collections#collections.Counter\" title=\"集合.计数器\"><code class=\"xref py py-class docutils literal notranslate\"><span class=\"pre\">Counter</span></code></a></p></td>\n",
    "<td><p><font style=\"vertical-align: inherit;\"><font style=\"vertical-align: inherit;\">用于计算可散列对象的 dict 子类</font></font></p></td>\n",
    "</tr>\n",
    "<tr class=\"row-odd\"><td><p><a class=\"reference internal\" href=\"https://docs.python.org/3.7/library/collections.html?highlight=collections#collections.OrderedDict\" title=\"集合.OrderedDict\"><code class=\"xref py py-class docutils literal notranslate\"><span class=\"pre\">OrderedDict</span></code></a></p></td>\n",
    "<td><p><font style=\"vertical-align: inherit;\"><font style=\"vertical-align: inherit;\">添加了记住订单条目的 dict 子类</font></font></p></td>\n",
    "</tr>\n",
    "<tr class=\"row-even\"><td><p><a class=\"reference internal\" href=\"https://docs.python.org/3.7/library/collections.html?highlight=collections#collections.defaultdict\" title=\"collections.defaultdict\"><code class=\"xref py py-class docutils literal notranslate\"><span class=\"pre\">defaultdict</span></code></a></p></td>\n",
    "<td><p><font style=\"vertical-align: inherit;\"><font style=\"vertical-align: inherit;\">dict 子类调用工厂函数来提供缺失值</font></font></p></td>\n",
    "</tr>\n",
    "<tr class=\"row-odd\"><td><p><a class=\"reference internal\" href=\"https://docs.python.org/3.7/library/collections.html?highlight=collections#collections.UserDict\" title=\"集合.UserDict\"><code class=\"xref py py-class docutils literal notranslate\"><span class=\"pre\">UserDict</span></code></a></p></td>\n",
    "<td><p><font style=\"vertical-align: inherit;\"><font style=\"vertical-align: inherit;\">围绕字典对象的包装器，以便于 dict 子类化</font></font></p></td>\n",
    "</tr>\n",
    "<tr class=\"row-even\"><td><p><a class=\"reference internal\" href=\"https://docs.python.org/3.7/library/collections.html?highlight=collections#collections.UserList\" title=\"集合.用户列表\"><code class=\"xref py py-class docutils literal notranslate\"><span class=\"pre\">UserList</span></code></a></p></td>\n",
    "<td><p><font style=\"vertical-align: inherit;\"><font style=\"vertical-align: inherit;\">围绕列表对象的包装器，以便于列表子类化</font></font></p></td>\n",
    "</tr>\n",
    "<tr class=\"row-odd\"><td><p><a class=\"reference internal\" href=\"https://docs.python.org/3.7/library/collections.html?highlight=collections#collections.UserString\" title=\"集合.UserString\"><code class=\"xref py py-class docutils literal notranslate\"><span class=\"pre\">UserString</span></code></a></p></td>\n",
    "<td><p><font style=\"vertical-align: inherit;\"><font style=\"vertical-align: inherit;\">围绕字符串对象的包装器，以便于字符串子类化</font></font></p></td>\n",
    "</tr>\n",
    "</tbody>\n",
    "</table>"
   ]
  },
  {
   "cell_type": "markdown",
   "metadata": {},
   "source": [
    "[参考](https://www.liaoxuefeng.com/wiki/1016959663602400/1017681679479008)"
   ]
  },
  {
   "cell_type": "markdown",
   "metadata": {},
   "source": [
    "<div class=\"uk-flex-item-1\" style=\"padding-left:15px; \">\n",
    "<p>collections是Python内建的一个集合模块，提供了许多有用的集合类。</p>\n",
    "<h3>namedtuple</h3>\n",
    "<p>我们知道<code>tuple</code>可以表示不变集合，例如，一个点的二维坐标就可以表示成：</p>\n",
    "<pre><code class=\"python\"><span class=\"prompt\">&gt;&gt;&gt; </span>p = (<span class=\"number\">1</span>, <span class=\"number\">2</span>)\n",
    "</code></pre>\n",
    "<p>但是，看到<code>(1, 2)</code>，很难看出这个<code>tuple</code>是用来表示一个坐标的。</p>\n",
    "<p>定义一个class又小题大做了，这时，<code>namedtuple</code>就派上了用场：</p>\n",
    "<pre><code class=\"python\"><span class=\"prompt\">&gt;&gt;&gt; </span><span class=\"keyword\">from</span> collections <span class=\"keyword\">import</span> namedtuple\n",
    "<span class=\"prompt\">&gt;&gt;&gt; </span>Point = namedtuple(<span class=\"string\">'Point'</span>, [<span class=\"string\">'x'</span>, <span class=\"string\">'y'</span>])\n",
    "<span class=\"prompt\">&gt;&gt;&gt; </span>p = Point(<span class=\"number\">1</span>, <span class=\"number\">2</span>)\n",
    "<span class=\"prompt\">&gt;&gt;&gt; </span>p.x\n",
    "<span class=\"number\">1</span>\n",
    "<span class=\"prompt\">&gt;&gt;&gt; </span>p.y\n",
    "<span class=\"number\">2</span>\n",
    "</code></pre>\n",
    "<p><code>namedtuple</code>是一个函数，它用来创建一个自定义的<code>tuple</code>对象，并且规定了<code>tuple</code>元素的个数，并可以用属性而不是索引来引用<code>tuple</code>的某个元素。</p>\n",
    "<p>这样一来，我们用<code>namedtuple</code>可以很方便地定义一种数据类型，它具备tuple的不变性，又可以根据属性来引用，使用十分方便。</p>\n",
    "<p>可以验证创建的<code>Point</code>对象是<code>tuple</code>的一种子类：</p>\n",
    "<pre><code class=\"python\"><span class=\"prompt\">&gt;&gt;&gt; </span>isinstance(p, Point)\n",
    "<span class=\"built_in\">True</span>\n",
    "<span class=\"prompt\">&gt;&gt;&gt; </span>isinstance(p, tuple)\n",
    "<span class=\"built_in\">True</span>\n",
    "</code></pre>\n",
    "<p>类似的，如果要用坐标和半径表示一个圆，也可以用<code>namedtuple</code>定义：</p>\n",
    "<pre><code class=\"ruby\"><span class=\"comment\"># namedtuple('名称', [属性list]):</span>\n",
    "<span class=\"constant\">Circle</span> = namedtuple(<span class=\"string\">'Circle'</span>, [<span class=\"string\">'x'</span>, <span class=\"string\">'y'</span>, <span class=\"string\">'r'</span>])\n",
    "</code></pre>\n",
    "<h3>deque</h3>\n",
    "<p>使用<code>list</code>存储数据时，按索引访问元素很快，但是插入和删除元素就很慢了，因为<code>list</code>是线性存储，数据量大的时候，插入和删除效率很低。</p>\n",
    "<p>deque是为了高效实现插入和删除操作的双向列表，适合用于队列和栈：</p>\n",
    "<pre><code class=\"python\"><span class=\"prompt\">&gt;&gt;&gt; </span><span class=\"keyword\">from</span> collections <span class=\"keyword\">import</span> deque\n",
    "<span class=\"prompt\">&gt;&gt;&gt; </span>q = deque([<span class=\"string\">'a'</span>, <span class=\"string\">'b'</span>, <span class=\"string\">'c'</span>])\n",
    "<span class=\"prompt\">&gt;&gt;&gt; </span>q.append(<span class=\"string\">'x'</span>)\n",
    "<span class=\"prompt\">&gt;&gt;&gt; </span>q.appendleft(<span class=\"string\">'y'</span>)\n",
    "<span class=\"prompt\">&gt;&gt;&gt; </span>q\n",
    "deque([<span class=\"string\">'y'</span>, <span class=\"string\">'a'</span>, <span class=\"string\">'b'</span>, <span class=\"string\">'c'</span>, <span class=\"string\">'x'</span>])\n",
    "</code></pre>\n",
    "<p><code>deque</code>除了实现list的<code>append()</code>和<code>pop()</code>外，还支持<code>appendleft()</code>和<code>popleft()</code>，这样就可以非常高效地往头部添加或删除元素。</p>\n",
    "<h3>defaultdict</h3>\n",
    "<p>使用<code>dict</code>时，如果引用的Key不存在，就会抛出<code>KeyError</code>。如果希望key不存在时，返回一个默认值，就可以用<code>defaultdict</code>：</p>\n",
    "<pre><code class=\"python\"><span class=\"prompt\">&gt;&gt;&gt; </span><span class=\"keyword\">from</span> collections <span class=\"keyword\">import</span> defaultdict\n",
    "<span class=\"prompt\">&gt;&gt;&gt; </span>dd = defaultdict(<span class=\"keyword\">lambda</span>: <span class=\"string\">'N/A'</span>)\n",
    "<span class=\"prompt\">&gt;&gt;&gt; </span>dd[<span class=\"string\">'key1'</span>] = <span class=\"string\">'abc'</span>\n",
    "<span class=\"prompt\">&gt;&gt;&gt; </span>dd[<span class=\"string\">'key1'</span>] <span class=\"comment\"># key1存在</span>\n",
    "<span class=\"string\">'abc'</span>\n",
    "<span class=\"prompt\">&gt;&gt;&gt; </span>dd[<span class=\"string\">'key2'</span>] <span class=\"comment\"># key2不存在，返回默认值</span>\n",
    "<span class=\"string\">'N/A'</span>\n",
    "</code></pre>\n",
    "<p>注意默认值是调用函数返回的，而函数在创建<code>defaultdict</code>对象时传入。</p>\n",
    "<p>除了在Key不存在时返回默认值，<code>defaultdict</code>的其他行为跟<code>dict</code>是完全一样的。</p>\n",
    "<h3>OrderedDict</h3>\n",
    "<p>使用<code>dict</code>时，Key是无序的。在对<code>dict</code>做迭代时，我们无法确定Key的顺序。</p>\n",
    "<p>如果要保持Key的顺序，可以用<code>OrderedDict</code>：</p>\n",
    "<pre><code class=\"python\"><span class=\"prompt\">&gt;&gt;&gt; </span><span class=\"keyword\">from</span> collections <span class=\"keyword\">import</span> OrderedDict\n",
    "<span class=\"prompt\">&gt;&gt;&gt; </span>d = dict([(<span class=\"string\">'a'</span>, <span class=\"number\">1</span>), (<span class=\"string\">'b'</span>, <span class=\"number\">2</span>), (<span class=\"string\">'c'</span>, <span class=\"number\">3</span>)])\n",
    "<span class=\"prompt\">&gt;&gt;&gt; </span>d <span class=\"comment\"># dict的Key是无序的</span>\n",
    "{<span class=\"string\">'a'</span>: <span class=\"number\">1</span>, <span class=\"string\">'c'</span>: <span class=\"number\">3</span>, <span class=\"string\">'b'</span>: <span class=\"number\">2</span>}\n",
    "<span class=\"prompt\">&gt;&gt;&gt; </span>od = OrderedDict([(<span class=\"string\">'a'</span>, <span class=\"number\">1</span>), (<span class=\"string\">'b'</span>, <span class=\"number\">2</span>), (<span class=\"string\">'c'</span>, <span class=\"number\">3</span>)])\n",
    "<span class=\"prompt\">&gt;&gt;&gt; </span>od <span class=\"comment\"># OrderedDict的Key是有序的</span>\n",
    "OrderedDict([(<span class=\"string\">'a'</span>, <span class=\"number\">1</span>), (<span class=\"string\">'b'</span>, <span class=\"number\">2</span>), (<span class=\"string\">'c'</span>, <span class=\"number\">3</span>)])\n",
    "</code></pre>\n",
    "<p>注意，<code>OrderedDict</code>的Key会按照插入的顺序排列，不是Key本身排序：</p>\n",
    "<pre><code class=\"python\"><span class=\"prompt\">&gt;&gt;&gt; </span>od = OrderedDict()\n",
    "<span class=\"prompt\">&gt;&gt;&gt; </span>od[<span class=\"string\">'z'</span>] = <span class=\"number\">1</span>\n",
    "<span class=\"prompt\">&gt;&gt;&gt; </span>od[<span class=\"string\">'y'</span>] = <span class=\"number\">2</span>\n",
    "<span class=\"prompt\">&gt;&gt;&gt; </span>od[<span class=\"string\">'x'</span>] = <span class=\"number\">3</span>\n",
    "<span class=\"prompt\">&gt;&gt;&gt; </span>list(od.keys()) <span class=\"comment\"># 按照插入的Key的顺序返回</span>\n",
    "[<span class=\"string\">'z'</span>, <span class=\"string\">'y'</span>, <span class=\"string\">'x'</span>]\n",
    "</code></pre>\n",
    "<p><code>OrderedDict</code>可以实现一个FIFO（先进先出）的dict，当容量超出限制时，先删除最早添加的Key：</p>\n",
    "<pre><code class=\"python\"><span class=\"keyword\">from</span> collections <span class=\"keyword\">import</span> OrderedDict\n",
    "\n",
    "<span class=\"class\"><span class=\"keyword\">class</span> <span class=\"title\">LastUpdatedOrderedDict</span><span class=\"params\">(OrderedDict)</span>:</span>\n",
    "\n",
    "    <span class=\"function\"><span class=\"keyword\">def</span> <span class=\"title\">__init__</span><span class=\"params\">(self, capacity)</span>:</span>\n",
    "        super(LastUpdatedOrderedDict, self).__init__()\n",
    "        self._capacity = capacity\n",
    "\n",
    "    <span class=\"function\"><span class=\"keyword\">def</span> <span class=\"title\">__setitem__</span><span class=\"params\">(self, key, value)</span>:</span>\n",
    "        containsKey = <span class=\"number\">1</span> <span class=\"keyword\">if</span> key <span class=\"keyword\">in</span> self <span class=\"keyword\">else</span> <span class=\"number\">0</span>\n",
    "        <span class=\"keyword\">if</span> len(self) - containsKey &gt;= self._capacity:\n",
    "            last = self.popitem(last=<span class=\"built_in\">False</span>)\n",
    "            print(<span class=\"string\">'remove:'</span>, last)\n",
    "        <span class=\"keyword\">if</span> containsKey:\n",
    "            <span class=\"keyword\">del</span> self[key]\n",
    "            print(<span class=\"string\">'set:'</span>, (key, value))\n",
    "        <span class=\"keyword\">else</span>:\n",
    "            print(<span class=\"string\">'add:'</span>, (key, value))\n",
    "        OrderedDict.__setitem__(self, key, value)\n",
    "</code></pre>\n",
    "<h3>ChainMap</h3>\n",
    "<p><code>ChainMap</code>可以把一组<code>dict</code>串起来并组成一个逻辑上的<code>dict</code>。<code>ChainMap</code>本身也是一个dict，但是查找的时候，会按照顺序在内部的dict依次查找。</p>\n",
    "<p>什么时候使用<code>ChainMap</code>最合适？举个例子：应用程序往往都需要传入参数，参数可以通过命令行传入，可以通过环境变量传入，还可以有默认参数。我们可以用<code>ChainMap</code>实现参数的优先级查找，即先查命令行参数，如果没有传入，再查环境变量，如果没有，就使用默认参数。</p>\n",
    "<p>下面的代码演示了如何查找<code>user</code>和<code>color</code>这两个参数：</p>\n",
    "<pre><code class=\"python\"><span class=\"keyword\">from</span> collections <span class=\"keyword\">import</span> ChainMap\n",
    "<span class=\"keyword\">import</span> os, argparse\n",
    "\n",
    "<span class=\"comment\"># 构造缺省参数:</span>\n",
    "defaults = {\n",
    "    <span class=\"string\">'color'</span>: <span class=\"string\">'red'</span>,\n",
    "    <span class=\"string\">'user'</span>: <span class=\"string\">'guest'</span>\n",
    "}\n",
    "\n",
    "<span class=\"comment\"># 构造命令行参数:</span>\n",
    "parser = argparse.ArgumentParser()\n",
    "parser.add_argument(<span class=\"string\">'-u'</span>, <span class=\"string\">'--user'</span>)\n",
    "parser.add_argument(<span class=\"string\">'-c'</span>, <span class=\"string\">'--color'</span>)\n",
    "namespace = parser.parse_args()\n",
    "command_line_args = { k: v <span class=\"keyword\">for</span> k, v <span class=\"keyword\">in</span> vars(namespace).items() <span class=\"keyword\">if</span> v }\n",
    "\n",
    "<span class=\"comment\"># 组合成ChainMap:</span>\n",
    "combined = ChainMap(command_line_args, os.environ, defaults)\n",
    "\n",
    "<span class=\"comment\"># 打印参数:</span>\n",
    "print(<span class=\"string\">'color=%s'</span> % combined[<span class=\"string\">'color'</span>])\n",
    "print(<span class=\"string\">'user=%s'</span> % combined[<span class=\"string\">'user'</span>])\n",
    "</code></pre>\n",
    "<p>没有任何参数时，打印出默认参数：</p>\n",
    "<pre><code class=\"ruby\"><span class=\"variable\">$ </span>python3 use_chainmap.py \n",
    "color=red\n",
    "user=guest\n",
    "</code></pre>\n",
    "<p>当传入命令行参数时，优先使用命令行参数：</p>\n",
    "<pre><code class=\"ruby\"><span class=\"variable\">$ </span>python3 use_chainmap.py -u bob\n",
    "color=red\n",
    "user=bob\n",
    "</code></pre>\n",
    "<p>同时传入命令行参数和环境变量，命令行参数的优先级较高：</p>\n",
    "<pre><code class=\"ruby\"><span class=\"variable\">$ </span>user=admin color=green python3 use_chainmap.py -u bob\n",
    "color=green\n",
    "user=bob\n",
    "</code></pre>\n",
    "<h3>Counter</h3>\n",
    "<p><code>Counter</code>是一个简单的计数器，例如，统计字符出现的个数：</p>\n",
    "<pre><code class=\"python\"><span class=\"prompt\">&gt;&gt;&gt; </span><span class=\"keyword\">from</span> collections <span class=\"keyword\">import</span> Counter\n",
    "<span class=\"prompt\">&gt;&gt;&gt; </span>c = Counter()\n",
    "<span class=\"prompt\">&gt;&gt;&gt; </span><span class=\"keyword\">for</span> ch <span class=\"keyword\">in</span> <span class=\"string\">'programming'</span>:\n",
    "<span class=\"prompt\">... </span>    c[ch] = c[ch] + <span class=\"number\">1</span>\n",
    "...\n",
    "<span class=\"prompt\">&gt;&gt;&gt; </span>c\n",
    "Counter({<span class=\"string\">'g'</span>: <span class=\"number\">2</span>, <span class=\"string\">'m'</span>: <span class=\"number\">2</span>, <span class=\"string\">'r'</span>: <span class=\"number\">2</span>, <span class=\"string\">'a'</span>: <span class=\"number\">1</span>, <span class=\"string\">'i'</span>: <span class=\"number\">1</span>, <span class=\"string\">'o'</span>: <span class=\"number\">1</span>, <span class=\"string\">'n'</span>: <span class=\"number\">1</span>, <span class=\"string\">'p'</span>: <span class=\"number\">1</span>})\n",
    "<span class=\"prompt\">&gt;&gt;&gt; </span>c.update(<span class=\"string\">'hello'</span>) <span class=\"comment\"># 也可以一次性update</span>\n",
    "<span class=\"prompt\">&gt;&gt;&gt; </span>c\n",
    "Counter({<span class=\"string\">'r'</span>: <span class=\"number\">2</span>, <span class=\"string\">'o'</span>: <span class=\"number\">2</span>, <span class=\"string\">'g'</span>: <span class=\"number\">2</span>, <span class=\"string\">'m'</span>: <span class=\"number\">2</span>, <span class=\"string\">'l'</span>: <span class=\"number\">2</span>, <span class=\"string\">'p'</span>: <span class=\"number\">1</span>, <span class=\"string\">'a'</span>: <span class=\"number\">1</span>, <span class=\"string\">'i'</span>: <span class=\"number\">1</span>, <span class=\"string\">'n'</span>: <span class=\"number\">1</span>, <span class=\"string\">'h'</span>: <span class=\"number\">1</span>, <span class=\"string\">'e'</span>: <span class=\"number\">1</span>})\n",
    "</code></pre>\n",
    "<p><code>Counter</code>实际上也是<code>dict</code>的一个子类，上面的结果可以看出每个字符出现的次数。</p>\n",
    "<h3>小结</h3>\n",
    "<p><code>collections</code>模块提供了一些有用的集合类，可以根据需要选用。</p>\n"
   ]
  },
  {
   "cell_type": "markdown",
   "metadata": {},
   "source": [
    "## 计数 Counter"
   ]
  },
  {
   "cell_type": "code",
   "execution_count": 13,
   "metadata": {},
   "outputs": [],
   "source": [
    "from IPython.core.interactiveshell import InteractiveShell\n",
    "InteractiveShell.ast_node_interactivity = \"all\""
   ]
  },
  {
   "cell_type": "markdown",
   "metadata": {},
   "source": [
    "### counter的参数形式"
   ]
  },
  {
   "cell_type": "code",
   "execution_count": 3,
   "metadata": {},
   "outputs": [],
   "source": [
    "from collections import Counter\n",
    "c = Counter()                           # a new, empty counter\n",
    "c = Counter('gallahad')                 # a new counter from an iterable\n",
    "c = Counter({'red': 4, 'blue': 2})      # a new counter from a mapping\n",
    "c = Counter(cats=4, dogs=8)             # a new counter from keyword args"
   ]
  },
  {
   "cell_type": "code",
   "execution_count": 4,
   "metadata": {},
   "outputs": [
    {
     "data": {
      "text/plain": [
       "0"
      ]
     },
     "execution_count": 4,
     "metadata": {},
     "output_type": "execute_result"
    }
   ],
   "source": [
    "### 没有的元素会返回0\n",
    "c = Counter(['eggs', 'ham'])\n",
    "c['bacon']                              "
   ]
  },
  {
   "cell_type": "code",
   "execution_count": 8,
   "metadata": {},
   "outputs": [
    {
     "name": "stdout",
     "output_type": "stream",
     "text": [
      "Counter({'eggs': 1, 'ham': 1, 'sausage': 0})\n",
      "Counter({'eggs': 1, 'ham': 1})\n"
     ]
    }
   ],
   "source": [
    "# 删除元素需要用del\n",
    "c['sausage'] = 0                        # counter entry with a zero count\n",
    "print(c)\n",
    "del c['sausage']                        # del actually removes the entry\n",
    "print(c)"
   ]
  },
  {
   "cell_type": "code",
   "execution_count": 19,
   "metadata": {},
   "outputs": [
    {
     "data": {
      "text/plain": [
       "(<itertools.chain at 0x26dc0f4f088>, ['eggs', 'ham'])"
      ]
     },
     "execution_count": 19,
     "metadata": {},
     "output_type": "execute_result"
    },
    {
     "data": {
      "text/plain": [
       "[('eggs', 1)]"
      ]
     },
     "execution_count": 19,
     "metadata": {},
     "output_type": "execute_result"
    },
    {
     "name": "stdout",
     "output_type": "stream",
     "text": [
      "Counter({'ham': 1, 'eggs': -1})\n",
      "Counter({'eggs': 1, 'ham': -2})\n",
      "Counter({'eggs': 1, 'milk': -1, 'ham': -2})\n",
      "Counter({'eggs': 1, 'milk': 0, 'ham': -2})\n"
     ]
    }
   ],
   "source": [
    "c = Counter(['eggs', 'ham'])\n",
    "# 返回元素的迭代器，每个元素value是多少就出现多少次，element的顺序是任意的，value 小于1的元素不会被返回. \n",
    "c.elements(),list(c.elements())\n",
    "# 返回value最大的前n个\n",
    "c.most_common(1)\n",
    "# .subtract(iterable or mapping),元素相减，未出现的元素会被添加\n",
    "c.subtract(['eggs','eggs'])\n",
    "print(c)\n",
    "c.subtract({'eggs':-2,'ham':3})\n",
    "print(c)\n",
    "c.subtract(['milk'])\n",
    "print(c)\n",
    "# .update()[iterable-or-mapping],元素相加，未出现的会被添加\n",
    "c.update(['milk'])\n",
    "print(c)"
   ]
  },
  {
   "cell_type": "markdown",
   "metadata": {},
   "source": [
    "### 常用命令"
   ]
  },
  {
   "cell_type": "code",
   "execution_count": 24,
   "metadata": {},
   "outputs": [
    {
     "data": {
      "text/plain": [
       "2"
      ]
     },
     "execution_count": 24,
     "metadata": {},
     "output_type": "execute_result"
    },
    {
     "data": {
      "text/plain": [
       "['eggs', 'ham']"
      ]
     },
     "execution_count": 24,
     "metadata": {},
     "output_type": "execute_result"
    },
    {
     "data": {
      "text/plain": [
       "{'eggs', 'ham'}"
      ]
     },
     "execution_count": 24,
     "metadata": {},
     "output_type": "execute_result"
    },
    {
     "data": {
      "text/plain": [
       "{'eggs': 1, 'ham': 1}"
      ]
     },
     "execution_count": 24,
     "metadata": {},
     "output_type": "execute_result"
    },
    {
     "data": {
      "text/plain": [
       "dict_items([('eggs', 1), ('ham', 1)])"
      ]
     },
     "execution_count": 24,
     "metadata": {},
     "output_type": "execute_result"
    },
    {
     "data": {
      "text/plain": [
       "[('ham', 1), ('eggs', 1)]"
      ]
     },
     "execution_count": 24,
     "metadata": {},
     "output_type": "execute_result"
    },
    {
     "data": {
      "text/plain": [
       "Counter({'eggs': 1, 'ham': 1})"
      ]
     },
     "execution_count": 24,
     "metadata": {},
     "output_type": "execute_result"
    }
   ],
   "source": [
    "c = Counter(['eggs', 'ham'])\n",
    "sum(c.values())                 # total of all counts\n",
    "c.clear()                       # reset all counts\n",
    "c = Counter(['eggs', 'ham'])\n",
    "list(c)                         # list unique elements\n",
    "set(c)                          # convert to a set\n",
    "dict(c)                         # convert to a regular dictionary\n",
    "c.items()                       # convert to a list of (elem, cnt) pairs\n",
    "#Counter(dict(list_of_pairs))    # convert from a list of (elem, cnt) pairs\n",
    "c.most_common()[:-2-1:-1]       # n least common elements\n",
    "+c                              # remove zero and negative counts"
   ]
  },
  {
   "cell_type": "markdown",
   "metadata": {},
   "source": [
    "# shutil"
   ]
  },
  {
   "cell_type": "markdown",
   "metadata": {},
   "source": [
    "方法\t|功能说明\n",
    "-|:-\n",
    "copy(src, dst)|\t复制文件，新文件具有同样的文件属性，如果目标文件已存在则抛出异常\n",
    "copy2(src, dst)|\t复制文件，新文件具有原文件完全一样的属性，包括创建时间、修改时间和最后访问时间等等，如果目标文件已存在则抛出异常\n",
    "copyfile(src, dst)\t|复制文件，不复制文件属性，如果目标文件已存在则直接覆盖\n",
    "copyfileobj(fsrc, fdst)|\t在两个文件对象之间复制数据，例如copyfileobj(open('123.txt'), open('456.txt', 'a'))\n",
    "copymode(src, dst)|\t把src的模式位（mode bit）复制到dst上，之后二者具有相同的模式\n",
    "copystat(src, dst)|\t把src的模式位、访问时间等所有状态都复制到dst上\n",
    "copytree(src, dst)|\t递归复制文件夹\n",
    "disk_usage(path) |\t查看磁盘使用情况\n",
    "move(src, dst)\t|移动文件或递归移动文件夹，也可以给文件和文件夹重命名\n",
    "rmtree(path)\t|递归删除文件夹\n",
    "make_archive(base_name, format, root_dir=None, base_dir=None)|\t创建tar或zip格式的压缩文件\n",
    "unpack_archive(filename, extract_dir=None, format=None)\t|解压缩压缩文件"
   ]
  },
  {
   "cell_type": "markdown",
   "metadata": {},
   "source": [
    "# itertools"
   ]
  },
  {
   "cell_type": "markdown",
   "metadata": {},
   "source": [
    "<p>These tools and their built-in counterparts also work well with the high-speed\n",
    "functions in the <a class=\"reference internal\" href=\"operator.html#module-operator\" title=\"operator: Functions corresponding to the standard operators.\"><code class=\"xref py py-mod docutils literal notranslate\"><span class=\"pre\">operator</span></code></a> module.  For example, the multiplication\n",
    "operator can be mapped across two vectors to form an efficient dot-product:\n",
    "<code class=\"docutils literal notranslate\"><span class=\"pre\">sum(map(operator.mul,</span> <span class=\"pre\">vector1,</span> <span class=\"pre\">vector2))</span></code>.</p>\n",
    "<table class=\"docutils align-default\">\n",
    "<colgroup>\n",
    "<col style=\"width: 14%\">\n",
    "<col style=\"width: 14%\">\n",
    "<col style=\"width: 39%\">\n",
    "<col style=\"width: 33%\">\n",
    "</colgroup>\n",
    "<thead>\n",
    "<tr class=\"row-odd\"><th class=\"head\"><p>Iterator</p></th>\n",
    "<th class=\"head\"><p>Arguments</p></th>\n",
    "<th class=\"head\"><p>Results</p></th>\n",
    "<th class=\"head\"><p>Example</p></th>\n",
    "</tr>\n",
    "</thead>\n",
    "<tbody>\n",
    "<tr class=\"row-even\"><td><p><a class=\"reference internal\" href=\"#itertools.count\" title=\"itertools.count\"><code class=\"xref py py-func docutils literal notranslate\"><span class=\"pre\">count()</span></code></a></p></td>\n",
    "<td><p>start, [step]</p></td>\n",
    "<td><p>start, start+step, start+2*step, …</p></td>\n",
    "<td><p><code class=\"docutils literal notranslate\"><span class=\"pre\">count(10)</span> <span class=\"pre\">--&gt;</span> <span class=\"pre\">10</span> <span class=\"pre\">11</span> <span class=\"pre\">12</span> <span class=\"pre\">13</span> <span class=\"pre\">14</span> <span class=\"pre\">...</span></code></p></td>\n",
    "</tr>\n",
    "<tr class=\"row-odd\"><td><p><a class=\"reference internal\" href=\"#itertools.cycle\" title=\"itertools.cycle\"><code class=\"xref py py-func docutils literal notranslate\"><span class=\"pre\">cycle()</span></code></a></p></td>\n",
    "<td><p>p</p></td>\n",
    "<td><p>p0, p1, … plast, p0, p1, …</p></td>\n",
    "<td><p><code class=\"docutils literal notranslate\"><span class=\"pre\">cycle('ABCD')</span> <span class=\"pre\">--&gt;</span> <span class=\"pre\">A</span> <span class=\"pre\">B</span> <span class=\"pre\">C</span> <span class=\"pre\">D</span> <span class=\"pre\">A</span> <span class=\"pre\">B</span> <span class=\"pre\">C</span> <span class=\"pre\">D</span> <span class=\"pre\">...</span></code></p></td>\n",
    "</tr>\n",
    "<tr class=\"row-even\"><td><p><a class=\"reference internal\" href=\"#itertools.repeat\" title=\"itertools.repeat\"><code class=\"xref py py-func docutils literal notranslate\"><span class=\"pre\">repeat()</span></code></a></p></td>\n",
    "<td><p>elem [,n]</p></td>\n",
    "<td><p>elem, elem, elem, … endlessly or up to n times</p></td>\n",
    "<td><p><code class=\"docutils literal notranslate\"><span class=\"pre\">repeat(10,</span> <span class=\"pre\">3)</span> <span class=\"pre\">--&gt;</span> <span class=\"pre\">10</span> <span class=\"pre\">10</span> <span class=\"pre\">10</span></code></p></td>\n",
    "</tr>\n",
    "</tbody>\n",
    "</table>"
   ]
  },
  {
   "cell_type": "code",
   "execution_count": 31,
   "metadata": {},
   "outputs": [
    {
     "data": {
      "text/plain": [
       "count(10)"
      ]
     },
     "execution_count": 31,
     "metadata": {},
     "output_type": "execute_result"
    },
    {
     "name": "stdout",
     "output_type": "stream",
     "text": [
      "10\n",
      "11\n",
      "12\n"
     ]
    }
   ],
   "source": [
    "import itertools\n",
    "itertools.count(10)\n",
    "for i in itertools.count(10):\n",
    "    print(i)\n",
    "    if i>11:\n",
    "        break"
   ]
  },
  {
   "cell_type": "code",
   "execution_count": 33,
   "metadata": {},
   "outputs": [
    {
     "data": {
      "text/plain": [
       "<itertools.cycle at 0x26dc0e34098>"
      ]
     },
     "execution_count": 33,
     "metadata": {},
     "output_type": "execute_result"
    },
    {
     "name": "stdout",
     "output_type": "stream",
     "text": [
      "a\n",
      "b\n"
     ]
    }
   ],
   "source": [
    "itertools.cycle('abcd')#itetable\n",
    "a=0\n",
    "for i in itertools.cycle('abcd'):\n",
    "    print(i)\n",
    "    a+=1\n",
    "    if a>1:\n",
    "        break"
   ]
  },
  {
   "cell_type": "code",
   "execution_count": 37,
   "metadata": {},
   "outputs": [
    {
     "data": {
      "text/plain": [
       "repeat('b')"
      ]
     },
     "execution_count": 37,
     "metadata": {},
     "output_type": "execute_result"
    },
    {
     "data": {
      "text/plain": [
       "repeat('b', 5)"
      ]
     },
     "execution_count": 37,
     "metadata": {},
     "output_type": "execute_result"
    }
   ],
   "source": [
    "itertools.repeat('b')#无限的迭代器\n",
    "itertools.repeat('b',5)"
   ]
  },
  {
   "cell_type": "markdown",
   "metadata": {},
   "source": [
    "## Iterators terminating on the shortest input sequence"
   ]
  },
  {
   "cell_type": "markdown",
   "metadata": {},
   "source": [
    "<table class=\"docutils align-default\">\n",
    "<colgroup>\n",
    "<col style=\"width: 17%\">\n",
    "<col style=\"width: 17%\">\n",
    "<col style=\"width: 30%\">\n",
    "<col style=\"width: 37%\">\n",
    "</colgroup>\n",
    "<thead>\n",
    "<tr class=\"row-odd\"><th class=\"head\"><p>Iterator</p></th>\n",
    "<th class=\"head\"><p>Arguments</p></th>\n",
    "<th class=\"head\"><p>Results</p></th>\n",
    "<th class=\"head\"><p>Example</p></th>\n",
    "</tr>\n",
    "</thead>\n",
    "<tbody>\n",
    "<tr class=\"row-even\"><td><p><a class=\"reference internal\" href=\"#itertools.accumulate\" title=\"itertools.accumulate\"><code class=\"xref py py-func docutils literal notranslate\"><span class=\"pre\">accumulate()</span></code></a></p></td>\n",
    "<td><p>p [,func]</p></td>\n",
    "<td><p>p0, p0+p1, p0+p1+p2, …</p></td>\n",
    "<td><p><code class=\"docutils literal notranslate\"><span class=\"pre\">accumulate([1,2,3,4,5])</span> <span class=\"pre\">--&gt;</span> <span class=\"pre\">1</span> <span class=\"pre\">3</span> <span class=\"pre\">6</span> <span class=\"pre\">10</span> <span class=\"pre\">15</span></code></p></td>\n",
    "</tr>\n",
    "<tr class=\"row-odd\"><td><p><a class=\"reference internal\" href=\"#itertools.chain\" title=\"itertools.chain\"><code class=\"xref py py-func docutils literal notranslate\"><span class=\"pre\">chain()</span></code></a></p></td>\n",
    "<td><p>p, q, …</p></td>\n",
    "<td><p>p0, p1, … plast, q0, q1, …</p></td>\n",
    "<td><p><code class=\"docutils literal notranslate\"><span class=\"pre\">chain('ABC',</span> <span class=\"pre\">'DEF')</span> <span class=\"pre\">--&gt;</span> <span class=\"pre\">A</span> <span class=\"pre\">B</span> <span class=\"pre\">C</span> <span class=\"pre\">D</span> <span class=\"pre\">E</span> <span class=\"pre\">F</span></code></p></td>\n",
    "</tr>\n",
    "<tr class=\"row-even\"><td><p><a class=\"reference internal\" href=\"#itertools.chain.from_iterable\" title=\"itertools.chain.from_iterable\"><code class=\"xref py py-func docutils literal notranslate\"><span class=\"pre\">chain.from_iterable()</span></code></a></p></td>\n",
    "<td><p>iterable</p></td>\n",
    "<td><p>p0, p1, … plast, q0, q1, …</p></td>\n",
    "<td><p><code class=\"docutils literal notranslate\"><span class=\"pre\">chain.from_iterable(['ABC',</span> <span class=\"pre\">'DEF'])</span> <span class=\"pre\">--&gt;</span> <span class=\"pre\">A</span> <span class=\"pre\">B</span> <span class=\"pre\">C</span> <span class=\"pre\">D</span> <span class=\"pre\">E</span> <span class=\"pre\">F</span></code></p></td>\n",
    "</tr>\n",
    "<tr class=\"row-odd\"><td><p><a class=\"reference internal\" href=\"#itertools.compress\" title=\"itertools.compress\"><code class=\"xref py py-func docutils literal notranslate\"><span class=\"pre\">compress()</span></code></a></p></td>\n",
    "<td><p>data, selectors</p></td>\n",
    "<td><p>(d[0] if s[0]), (d[1] if s[1]), …</p></td>\n",
    "<td><p><code class=\"docutils literal notranslate\"><span class=\"pre\">compress('ABCDEF',</span> <span class=\"pre\">[1,0,1,0,1,1])</span> <span class=\"pre\">--&gt;</span> <span class=\"pre\">A</span> <span class=\"pre\">C</span> <span class=\"pre\">E</span> <span class=\"pre\">F</span></code></p></td>\n",
    "</tr>\n",
    "<tr class=\"row-even\"><td><p><a class=\"reference internal\" href=\"#itertools.dropwhile\" title=\"itertools.dropwhile\"><code class=\"xref py py-func docutils literal notranslate\"><span class=\"pre\">dropwhile()</span></code></a></p></td>\n",
    "<td><p>pred, seq</p></td>\n",
    "<td><p>seq[n], seq[n+1], starting when pred fails</p></td>\n",
    "<td><p><code class=\"docutils literal notranslate\"><span class=\"pre\">dropwhile(lambda</span> <span class=\"pre\">x:</span> <span class=\"pre\">x&lt;5,</span> <span class=\"pre\">[1,4,6,4,1])</span> <span class=\"pre\">--&gt;</span> <span class=\"pre\">6</span> <span class=\"pre\">4</span> <span class=\"pre\">1</span></code></p></td>\n",
    "</tr>\n",
    "<tr class=\"row-odd\"><td><p><a class=\"reference internal\" href=\"#itertools.filterfalse\" title=\"itertools.filterfalse\"><code class=\"xref py py-func docutils literal notranslate\"><span class=\"pre\">filterfalse()</span></code></a></p></td>\n",
    "<td><p>pred, seq</p></td>\n",
    "<td><p>elements of seq where pred(elem) is false</p></td>\n",
    "<td><p><code class=\"docutils literal notranslate\"><span class=\"pre\">filterfalse(lambda</span> <span class=\"pre\">x:</span> <span class=\"pre\">x%2,</span> <span class=\"pre\">range(10))</span> <span class=\"pre\">--&gt;</span> <span class=\"pre\">0</span> <span class=\"pre\">2</span> <span class=\"pre\">4</span> <span class=\"pre\">6</span> <span class=\"pre\">8</span></code></p></td>\n",
    "</tr>\n",
    "<tr class=\"row-even\"><td><p><a class=\"reference internal\" href=\"#itertools.groupby\" title=\"itertools.groupby\"><code class=\"xref py py-func docutils literal notranslate\"><span class=\"pre\">groupby()</span></code></a></p></td>\n",
    "<td><p>iterable[, key]</p></td>\n",
    "<td><p>sub-iterators grouped by value of key(v)</p></td>\n",
    "<td></td>\n",
    "</tr>\n",
    "<tr class=\"row-odd\"><td><p><a class=\"reference internal\" href=\"#itertools.islice\" title=\"itertools.islice\"><code class=\"xref py py-func docutils literal notranslate\"><span class=\"pre\">islice()</span></code></a></p></td>\n",
    "<td><p>seq, [start,] stop [, step]</p></td>\n",
    "<td><p>elements from seq[start:stop:step]</p></td>\n",
    "<td><p><code class=\"docutils literal notranslate\"><span class=\"pre\">islice('ABCDEFG',</span> <span class=\"pre\">2,</span> <span class=\"pre\">None)</span> <span class=\"pre\">--&gt;</span> <span class=\"pre\">C</span> <span class=\"pre\">D</span> <span class=\"pre\">E</span> <span class=\"pre\">F</span> <span class=\"pre\">G</span></code></p></td>\n",
    "</tr>\n",
    "<tr class=\"row-even\"><td><p><a class=\"reference internal\" href=\"#itertools.starmap\" title=\"itertools.starmap\"><code class=\"xref py py-func docutils literal notranslate\"><span class=\"pre\">starmap()</span></code></a></p></td>\n",
    "<td><p>func, seq</p></td>\n",
    "<td><p>func(*seq[0]), func(*seq[1]), …</p></td>\n",
    "<td><p><code class=\"docutils literal notranslate\"><span class=\"pre\">starmap(pow,</span> <span class=\"pre\">[(2,5),</span> <span class=\"pre\">(3,2),</span> <span class=\"pre\">(10,3)])</span> <span class=\"pre\">--&gt;</span> <span class=\"pre\">32</span> <span class=\"pre\">9</span> <span class=\"pre\">1000</span></code></p></td>\n",
    "</tr>\n",
    "<tr class=\"row-odd\"><td><p><a class=\"reference internal\" href=\"#itertools.takewhile\" title=\"itertools.takewhile\"><code class=\"xref py py-func docutils literal notranslate\"><span class=\"pre\">takewhile()</span></code></a></p></td>\n",
    "<td><p>pred, seq</p></td>\n",
    "<td><p>seq[0], seq[1], until pred fails</p></td>\n",
    "<td><p><code class=\"docutils literal notranslate\"><span class=\"pre\">takewhile(lambda</span> <span class=\"pre\">x:</span> <span class=\"pre\">x&lt;5,</span> <span class=\"pre\">[1,4,6,4,1])</span> <span class=\"pre\">--&gt;</span> <span class=\"pre\">1</span> <span class=\"pre\">4</span></code></p></td>\n",
    "</tr>\n",
    "<tr class=\"row-even\"><td><p><a class=\"reference internal\" href=\"#itertools.tee\" title=\"itertools.tee\"><code class=\"xref py py-func docutils literal notranslate\"><span class=\"pre\">tee()</span></code></a></p></td>\n",
    "<td><p>it, n</p></td>\n",
    "<td><p>it1, it2, … itn  splits one iterator into n</p></td>\n",
    "<td></td>\n",
    "</tr>\n",
    "<tr class=\"row-odd\"><td><p><a class=\"reference internal\" href=\"#itertools.zip_longest\" title=\"itertools.zip_longest\"><code class=\"xref py py-func docutils literal notranslate\"><span class=\"pre\">zip_longest()</span></code></a></p></td>\n",
    "<td><p>p, q, …</p></td>\n",
    "<td><p>(p[0], q[0]), (p[1], q[1]), …</p></td>\n",
    "<td><p><code class=\"docutils literal notranslate\"><span class=\"pre\">zip_longest('ABCD',</span> <span class=\"pre\">'xy',</span> <span class=\"pre\">fillvalue='-')</span> <span class=\"pre\">--&gt;</span> <span class=\"pre\">Ax</span> <span class=\"pre\">By</span> <span class=\"pre\">C-</span> <span class=\"pre\">D-</span></code></p></td>\n",
    "</tr>\n",
    "</tbody>\n",
    "</table>"
   ]
  },
  {
   "cell_type": "markdown",
   "metadata": {},
   "source": [
    "### 累加.accumulate(）"
   ]
  },
  {
   "cell_type": "code",
   "execution_count": 39,
   "metadata": {},
   "outputs": [
    {
     "data": {
      "text/plain": [
       "[0, 1, 3, 6, 10]"
      ]
     },
     "execution_count": 39,
     "metadata": {},
     "output_type": "execute_result"
    }
   ],
   "source": [
    "list(itertools.accumulate(range(5)))"
   ]
  },
  {
   "cell_type": "markdown",
   "metadata": {},
   "source": [
    "### 链式遍历多个迭代器 .chain()"
   ]
  },
  {
   "cell_type": "code",
   "execution_count": 40,
   "metadata": {},
   "outputs": [
    {
     "data": {
      "text/plain": [
       "[0, 1, 2, 3, 4, 'a', 'b', 'c', 'd']"
      ]
     },
     "execution_count": 40,
     "metadata": {},
     "output_type": "execute_result"
    }
   ],
   "source": [
    "list(itertools.chain(range(5),'abcd')) "
   ]
  },
  {
   "cell_type": "markdown",
   "metadata": {},
   "source": [
    "### 链式遍历迭代器中的每个元素 .chain.from_iterable()"
   ]
  },
  {
   "cell_type": "code",
   "execution_count": 41,
   "metadata": {},
   "outputs": [
    {
     "data": {
      "text/plain": [
       "['a', 'b', 'c', 'd', 'e', 'f', 'g', 'h']"
      ]
     },
     "execution_count": 41,
     "metadata": {},
     "output_type": "execute_result"
    }
   ],
   "source": [
    "list(itertools.chain.from_iterable(['abcd','efgh']))"
   ]
  },
  {
   "cell_type": "markdown",
   "metadata": {},
   "source": [
    "### 根据一个序列的True/False选择另一个序列 .compress()"
   ]
  },
  {
   "cell_type": "code",
   "execution_count": 42,
   "metadata": {},
   "outputs": [
    {
     "data": {
      "text/plain": [
       "['a', 'd']"
      ]
     },
     "execution_count": 42,
     "metadata": {},
     "output_type": "execute_result"
    }
   ],
   "source": [
    "list(itertools.compress('abcd',[1,0,0,1]))"
   ]
  },
  {
   "cell_type": "markdown",
   "metadata": {},
   "source": [
    "### 根据施加于每个元素的条件决定从哪个元素开始迭代 .dropwhile()\n",
    "\n",
    "从条件不满足的元素开始"
   ]
  },
  {
   "cell_type": "code",
   "execution_count": 45,
   "metadata": {},
   "outputs": [
    {
     "data": {
      "text/plain": [
       "[5, 6, 7, 8, 9]"
      ]
     },
     "execution_count": 45,
     "metadata": {},
     "output_type": "execute_result"
    }
   ],
   "source": [
    "list(itertools.dropwhile(lambda x:x>5,range(10)))#第一个元素就失败了\n",
    "list(itertools.dropwhile(lambda x:x<5,range(10)))"
   ]
  },
  {
   "cell_type": "markdown",
   "metadata": {},
   "source": [
    "### 获取不满足的元素形成的迭代器 .filterfalse()"
   ]
  },
  {
   "cell_type": "code",
   "execution_count": 46,
   "metadata": {},
   "outputs": [
    {
     "data": {
      "text/plain": [
       "[0, 2, 4, 6, 8]"
      ]
     },
     "execution_count": 46,
     "metadata": {},
     "output_type": "execute_result"
    }
   ],
   "source": [
    "list(itertools.filterfalse(lambda x:x%2,range(10)))"
   ]
  },
  {
   "cell_type": "markdown",
   "metadata": {},
   "source": [
    "### .grouby()"
   ]
  },
  {
   "cell_type": "markdown",
   "metadata": {},
   "source": [
    "groupby()把迭代器中相邻的重复元素挑出来放在一起\n",
    "\n",
    "实际上挑选规则是通过函数完成的，只要作用于函数的两个元素返回的值相等，这两个元素就被认为是在一组的，而函数返回值作为组的key。如果我们要忽略大小写分组，就可以让元素'A'和'a'都返回相同的key"
   ]
  },
  {
   "cell_type": "code",
   "execution_count": 47,
   "metadata": {},
   "outputs": [
    {
     "name": "stdout",
     "output_type": "stream",
     "text": [
      "A ['A', 'A', 'A']\n",
      "B ['B', 'B', 'B']\n",
      "C ['C', 'C']\n",
      "A ['A', 'A', 'A']\n",
      "A ['A', 'a', 'a']\n",
      "B ['B', 'B', 'b']\n",
      "C ['c', 'C']\n",
      "A ['A', 'A', 'a']\n"
     ]
    }
   ],
   "source": [
    "for key, group in itertools.groupby('AAABBBCCAAA'):\n",
    "    print(key, list(group))\n",
    "for key, group in itertools.groupby('AaaBBbcCAAa', lambda c: c.upper()):\n",
    "     print(key, list(group))"
   ]
  },
  {
   "cell_type": "markdown",
   "metadata": {},
   "source": [
    "### .islice()  切片"
   ]
  },
  {
   "cell_type": "code",
   "execution_count": 48,
   "metadata": {},
   "outputs": [
    {
     "data": {
      "text/plain": [
       "[3, 5, 7]"
      ]
     },
     "execution_count": 48,
     "metadata": {},
     "output_type": "execute_result"
    }
   ],
   "source": [
    "list(itertools.islice(range(10),3,8,2))"
   ]
  },
  {
   "cell_type": "markdown",
   "metadata": {},
   "source": [
    "### .starmap() 映射,seq的元素也必须是迭代器"
   ]
  },
  {
   "cell_type": "code",
   "execution_count": 55,
   "metadata": {},
   "outputs": [
    {
     "data": {
      "text/plain": [
       "[3, 6, 9]"
      ]
     },
     "execution_count": 55,
     "metadata": {},
     "output_type": "execute_result"
    }
   ],
   "source": [
    "list(itertools.starmap(max,[[1,2,3],[4,5,6],[7,8,9]]))"
   ]
  },
  {
   "cell_type": "markdown",
   "metadata": {},
   "source": [
    "### .takewhile(pred,iterable) 获取直到条件不满足之前的元素"
   ]
  },
  {
   "cell_type": "code",
   "execution_count": 56,
   "metadata": {},
   "outputs": [
    {
     "data": {
      "text/plain": [
       "[0, 1, 2, 3, 4]"
      ]
     },
     "execution_count": 56,
     "metadata": {},
     "output_type": "execute_result"
    }
   ],
   "source": [
    "list(itertools.takewhile(lambda x:x<5,range(10)))"
   ]
  },
  {
   "cell_type": "markdown",
   "metadata": {},
   "source": [
    "### .tee(iterable,n) 返回n个独立的相同的迭代器"
   ]
  },
  {
   "cell_type": "code",
   "execution_count": 58,
   "metadata": {},
   "outputs": [
    {
     "data": {
      "text/plain": [
       "[[0, 1, 2, 3, 4, 5, 6, 7, 8, 9],\n",
       " [0, 1, 2, 3, 4, 5, 6, 7, 8, 9],\n",
       " [0, 1, 2, 3, 4, 5, 6, 7, 8, 9],\n",
       " [0, 1, 2, 3, 4, 5, 6, 7, 8, 9],\n",
       " [0, 1, 2, 3, 4, 5, 6, 7, 8, 9]]"
      ]
     },
     "execution_count": 58,
     "metadata": {},
     "output_type": "execute_result"
    }
   ],
   "source": [
    "list(map(list,itertools.tee(list(range(10)),5)))"
   ]
  },
  {
   "cell_type": "markdown",
   "metadata": {},
   "source": [
    "### .ziplongest()"
   ]
  },
  {
   "cell_type": "code",
   "execution_count": 59,
   "metadata": {},
   "outputs": [
    {
     "data": {
      "text/plain": [
       "[('a', '1', 'x'), ('b', '2', 'y'), ('c', '3', 'z'), ('d', '-', '-')]"
      ]
     },
     "execution_count": 59,
     "metadata": {},
     "output_type": "execute_result"
    }
   ],
   "source": [
    "#zip是取最短的，这个取最长的，并且可以设置填补值\n",
    "list(itertools.zip_longest('abcd','123','xyz',fillvalue='-'))"
   ]
  },
  {
   "cell_type": "markdown",
   "metadata": {},
   "source": [
    "## Combinatoric iterators\n",
    "\n",
    "<table class=\"docutils align-default\">\n",
    "<colgroup>\n",
    "<col style=\"width: 36%\">\n",
    "<col style=\"width: 16%\">\n",
    "<col style=\"width: 48%\">\n",
    "</colgroup>\n",
    "<thead>\n",
    "<tr class=\"row-odd\"><th class=\"head\"><p>Iterator</p></th>\n",
    "<th class=\"head\"><p>Arguments</p></th>\n",
    "<th class=\"head\"><p>Results</p></th>\n",
    "</tr>\n",
    "</thead>\n",
    "<tbody>\n",
    "<tr class=\"row-even\"><td><p><a class=\"reference internal\" href=\"#itertools.product\" title=\"itertools.product\"><code class=\"xref py py-func docutils literal notranslate\"><span class=\"pre\">product()</span></code></a></p></td>\n",
    "<td><p>p, q, … [repeat=1]</p></td>\n",
    "<td><p>cartesian product, equivalent to a nested for-loop</p></td>\n",
    "</tr>\n",
    "<tr class=\"row-odd\"><td><p><a class=\"reference internal\" href=\"#itertools.permutations\" title=\"itertools.permutations\"><code class=\"xref py py-func docutils literal notranslate\"><span class=\"pre\">permutations()</span></code></a></p></td>\n",
    "<td><p>p[, r]</p></td>\n",
    "<td><p>r-length tuples, all possible orderings, no repeated elements</p></td>\n",
    "</tr>\n",
    "<tr class=\"row-even\"><td><p><a class=\"reference internal\" href=\"#itertools.combinations\" title=\"itertools.combinations\"><code class=\"xref py py-func docutils literal notranslate\"><span class=\"pre\">combinations()</span></code></a></p></td>\n",
    "<td><p>p, r</p></td>\n",
    "<td><p>r-length tuples, in sorted order, no repeated elements</p></td>\n",
    "</tr>\n",
    "<tr class=\"row-odd\"><td><p><a class=\"reference internal\" href=\"#itertools.combinations_with_replacement\" title=\"itertools.combinations_with_replacement\"><code class=\"xref py py-func docutils literal notranslate\"><span class=\"pre\">combinations_with_replacement()</span></code></a></p></td>\n",
    "<td><p>p, r</p></td>\n",
    "<td><p>r-length tuples, in sorted order, with repeated elements</p></td>\n",
    "</tr>\n",
    "<tr class=\"row-even\"><td><p><code class=\"docutils literal notranslate\"><span class=\"pre\">product('ABCD',</span> <span class=\"pre\">repeat=2)</span></code></p></td>\n",
    "<td></td>\n",
    "<td><p><code class=\"docutils literal notranslate\"><span class=\"pre\">AA</span> <span class=\"pre\">AB</span> <span class=\"pre\">AC</span> <span class=\"pre\">AD</span> <span class=\"pre\">BA</span> <span class=\"pre\">BB</span> <span class=\"pre\">BC</span> <span class=\"pre\">BD</span> <span class=\"pre\">CA</span> <span class=\"pre\">CB</span> <span class=\"pre\">CC</span> <span class=\"pre\">CD</span> <span class=\"pre\">DA</span> <span class=\"pre\">DB</span> <span class=\"pre\">DC</span> <span class=\"pre\">DD</span></code></p></td>\n",
    "</tr>\n",
    "<tr class=\"row-odd\"><td><p><code class=\"docutils literal notranslate\"><span class=\"pre\">permutations('ABCD',</span> <span class=\"pre\">2)</span></code></p></td>\n",
    "<td></td>\n",
    "<td><p><code class=\"docutils literal notranslate\"><span class=\"pre\">AB</span> <span class=\"pre\">AC</span> <span class=\"pre\">AD</span> <span class=\"pre\">BA</span> <span class=\"pre\">BC</span> <span class=\"pre\">BD</span> <span class=\"pre\">CA</span> <span class=\"pre\">CB</span> <span class=\"pre\">CD</span> <span class=\"pre\">DA</span> <span class=\"pre\">DB</span> <span class=\"pre\">DC</span></code></p></td>\n",
    "</tr>\n",
    "<tr class=\"row-even\"><td><p><code class=\"docutils literal notranslate\"><span class=\"pre\">combinations('ABCD',</span> <span class=\"pre\">2)</span></code></p></td>\n",
    "<td></td>\n",
    "<td><p><code class=\"docutils literal notranslate\"><span class=\"pre\">AB</span> <span class=\"pre\">AC</span> <span class=\"pre\">AD</span> <span class=\"pre\">BC</span> <span class=\"pre\">BD</span> <span class=\"pre\">CD</span></code></p></td>\n",
    "</tr>\n",
    "<tr class=\"row-odd\"><td><p><code class=\"docutils literal notranslate\"><span class=\"pre\">combinations_with_replacement('ABCD',</span> <span class=\"pre\">2)</span></code></p></td>\n",
    "<td></td>\n",
    "<td><p><code class=\"docutils literal notranslate\"><span class=\"pre\">AA</span> <span class=\"pre\">AB</span> <span class=\"pre\">AC</span> <span class=\"pre\">AD</span> <span class=\"pre\">BB</span> <span class=\"pre\">BC</span> <span class=\"pre\">BD</span> <span class=\"pre\">CC</span> <span class=\"pre\">CD</span> <span class=\"pre\">DD</span></code></p></td>\n",
    "</tr>\n",
    "</tbody>\n",
    "</table>"
   ]
  },
  {
   "cell_type": "markdown",
   "metadata": {},
   "source": [
    "### product(seq,repeat=n) 有序排列$A_{n_{seq}}^n$,元素可重复"
   ]
  },
  {
   "cell_type": "code",
   "execution_count": 66,
   "metadata": {
    "collapsed": true
   },
   "outputs": [
    {
     "data": {
      "text/plain": [
       "[('A', 'A'),\n",
       " ('A', 'B'),\n",
       " ('A', 'C'),\n",
       " ('A', 'D'),\n",
       " ('B', 'A'),\n",
       " ('B', 'B'),\n",
       " ('B', 'C'),\n",
       " ('B', 'D'),\n",
       " ('C', 'A'),\n",
       " ('C', 'B'),\n",
       " ('C', 'C'),\n",
       " ('C', 'D'),\n",
       " ('D', 'A'),\n",
       " ('D', 'B'),\n",
       " ('D', 'C'),\n",
       " ('D', 'D')]"
      ]
     },
     "execution_count": 66,
     "metadata": {},
     "output_type": "execute_result"
    }
   ],
   "source": [
    "list(itertools.product('ABCD',repeat=2))"
   ]
  },
  {
   "cell_type": "markdown",
   "metadata": {},
   "source": [
    "### .permutations(seq,n) 有序排列,元素不可重复"
   ]
  },
  {
   "cell_type": "code",
   "execution_count": 63,
   "metadata": {
    "collapsed": true
   },
   "outputs": [
    {
     "data": {
      "text/plain": [
       "[('A', 'B'),\n",
       " ('A', 'C'),\n",
       " ('A', 'D'),\n",
       " ('B', 'A'),\n",
       " ('B', 'C'),\n",
       " ('B', 'D'),\n",
       " ('C', 'A'),\n",
       " ('C', 'B'),\n",
       " ('C', 'D'),\n",
       " ('D', 'A'),\n",
       " ('D', 'B'),\n",
       " ('D', 'C')]"
      ]
     },
     "execution_count": 63,
     "metadata": {},
     "output_type": "execute_result"
    }
   ],
   "source": [
    "list(itertools.permutations('ABCD',2))"
   ]
  },
  {
   "cell_type": "markdown",
   "metadata": {},
   "source": [
    "### .combinations(seq,n) 无序组合，元素不可重复"
   ]
  },
  {
   "cell_type": "code",
   "execution_count": 67,
   "metadata": {},
   "outputs": [
    {
     "data": {
      "text/plain": [
       "[('A', 'B'), ('A', 'C'), ('A', 'D'), ('B', 'C'), ('B', 'D'), ('C', 'D')]"
      ]
     },
     "execution_count": 67,
     "metadata": {},
     "output_type": "execute_result"
    }
   ],
   "source": [
    "list(itertools.combinations('ABCD',2))"
   ]
  },
  {
   "cell_type": "markdown",
   "metadata": {},
   "source": [
    "### .combinations_with_replacement(seq,2) 无序组合，元素可重复"
   ]
  },
  {
   "cell_type": "code",
   "execution_count": 68,
   "metadata": {
    "collapsed": true
   },
   "outputs": [
    {
     "data": {
      "text/plain": [
       "[('A', 'A'),\n",
       " ('A', 'B'),\n",
       " ('A', 'C'),\n",
       " ('A', 'D'),\n",
       " ('B', 'B'),\n",
       " ('B', 'C'),\n",
       " ('B', 'D'),\n",
       " ('C', 'C'),\n",
       " ('C', 'D'),\n",
       " ('D', 'D')]"
      ]
     },
     "execution_count": 68,
     "metadata": {},
     "output_type": "execute_result"
    }
   ],
   "source": [
    "list(itertools.combinations_with_replacement('ABCD',2))"
   ]
  },
  {
   "cell_type": "markdown",
   "metadata": {},
   "source": [
    "# functools"
   ]
  },
  {
   "cell_type": "code",
   "execution_count": 69,
   "metadata": {},
   "outputs": [],
   "source": [
    "import functools"
   ]
  },
  {
   "cell_type": "markdown",
   "metadata": {},
   "source": [
    "## partial 偏函数"
   ]
  },
  {
   "cell_type": "markdown",
   "metadata": {},
   "source": [
    "* partial(func, \\*args, \\*\\*keywords)\n",
    "\n",
    "    用于创建一个偏函数，将默认参数包装一个可调用对象，返回结果也是可调用对象。\n",
    "    偏函数可以**固定**住原函数的部分参数，从而在调用时更简单。"
   ]
  },
  {
   "cell_type": "code",
   "execution_count": 72,
   "metadata": {},
   "outputs": [
    {
     "data": {
      "text/plain": [
       "83"
      ]
     },
     "execution_count": 72,
     "metadata": {},
     "output_type": "execute_result"
    }
   ],
   "source": [
    "int8=functools.partial(int,base=8)\n",
    "int8('123')"
   ]
  },
  {
   "cell_type": "markdown",
   "metadata": {},
   "source": [
    "## .reduce 对每两个元素累积进行函数运算"
   ]
  },
  {
   "cell_type": "code",
   "execution_count": 74,
   "metadata": {},
   "outputs": [
    {
     "data": {
      "text/plain": [
       "6"
      ]
     },
     "execution_count": 74,
     "metadata": {},
     "output_type": "execute_result"
    }
   ],
   "source": [
    "functools.reduce(lambda x,y:x+y,[1,2,3])"
   ]
  }
 ],
 "metadata": {
  "kernelspec": {
   "display_name": "Python 3",
   "language": "python",
   "name": "python3"
  },
  "language_info": {
   "codemirror_mode": {
    "name": "ipython",
    "version": 3
   },
   "file_extension": ".py",
   "mimetype": "text/x-python",
   "name": "python",
   "nbconvert_exporter": "python",
   "pygments_lexer": "ipython3",
   "version": "3.7.4"
  },
  "toc": {
   "base_numbering": 1,
   "nav_menu": {},
   "number_sections": true,
   "sideBar": true,
   "skip_h1_title": false,
   "title_cell": "Table of Contents",
   "title_sidebar": "Contents",
   "toc_cell": false,
   "toc_position": {},
   "toc_section_display": true,
   "toc_window_display": true
  }
 },
 "nbformat": 4,
 "nbformat_minor": 2
}
