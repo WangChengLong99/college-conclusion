{
 "cells": [
  {
   "cell_type": "markdown",
   "id": "220423af-c930-4d36-b821-da6cdd282282",
   "metadata": {},
   "source": [
    "# 条形图"
   ]
  },
  {
   "cell_type": "code",
   "execution_count": 3,
   "id": "31a665a3-395b-4710-b797-dfed9864afb4",
   "metadata": {
    "execution": {
     "iopub.execute_input": "2022-12-07T09:10:58.551379Z",
     "iopub.status.busy": "2022-12-07T09:10:58.551379Z",
     "iopub.status.idle": "2022-12-07T09:10:59.303019Z",
     "shell.execute_reply": "2022-12-07T09:10:59.301968Z",
     "shell.execute_reply.started": "2022-12-07T09:10:58.551379Z"
    },
    "tags": []
   },
   "outputs": [],
   "source": [
    "import ipywidgets as widgets\n",
    "\n",
    "import matplotlib.pyplot as plt\n",
    "%matplotlib inline"
   ]
  },
  {
   "cell_type": "code",
   "execution_count": 12,
   "id": "2198dfa7-d9d8-438e-a369-59e15c02f246",
   "metadata": {
    "execution": {
     "iopub.execute_input": "2022-12-07T11:02:28.953785Z",
     "iopub.status.busy": "2022-12-07T11:02:28.953785Z",
     "iopub.status.idle": "2022-12-07T11:02:29.293374Z",
     "shell.execute_reply": "2022-12-07T11:02:29.291110Z",
     "shell.execute_reply.started": "2022-12-07T11:02:28.953785Z"
    },
    "tags": []
   },
   "outputs": [
    {
     "data": {
      "application/vnd.jupyter.widget-view+json": {
       "model_id": "4c44ab3c2eb4438180ef0d0cb199b3f6",
       "version_major": 2,
       "version_minor": 0
      },
      "text/plain": [
       "HBox(children=(VBox(children=(IntSlider(value=5, description='kind1', max=10, min=1), IntSlider(value=6, descr…"
      ]
     },
     "metadata": {},
     "output_type": "display_data"
    }
   ],
   "source": [
    "number1 = widgets.IntSlider(min=1,max=10,value=5,description=\"kind1\")\n",
    "number2 = widgets.IntSlider(min=1,max=10,value=6,description=\"kind2\")\n",
    "number3 = widgets.IntSlider(min=1,max=10,value=7,description=\"kind3\")\n",
    "\n",
    "def plot_bar(y1,y2,y3):\n",
    "    plt.bar([\"kind1\",\"kind2\",\"kind3\"],[y1,y2,y3])\n",
    "\n",
    "w = widgets.VBox([number1,number2,number3])\n",
    "interactive_bar = widgets.interactive_output(plot_bar,{'y1':number1,'y2':number2,'y3':number3})\n",
    "widgets.HBox([w,interactive_bar])"
   ]
  }
 ],
 "metadata": {
  "kernelspec": {
   "display_name": "Python 3",
   "language": "python",
   "name": "python3"
  },
  "language_info": {
   "codemirror_mode": {
    "name": "ipython",
    "version": 3
   },
   "file_extension": ".py",
   "mimetype": "text/x-python",
   "name": "python",
   "nbconvert_exporter": "python",
   "pygments_lexer": "ipython3",
   "version": "3.7.4"
  },
  "widgets": {
   "application/vnd.jupyter.widget-state+json": {
    "state": {
     "00df6230859b4bba980cbee398759a5a": {
      "model_module": "@jupyter-widgets/controls",
      "model_module_version": "1.5.0",
      "model_name": "VBoxModel",
      "state": {
       "_dom_classes": [
        "widget-interact"
       ],
       "children": [
        "IPY_MODEL_de697851e69f455181a7e6cd5c4409da",
        "IPY_MODEL_828040248d244519aa1f77489b66d19e",
        "IPY_MODEL_80f22dd2c3ba4c2283a0d6276f5eaa66"
       ],
       "layout": "IPY_MODEL_3e6ba426e75945fc9411e2646c0afb4d"
      }
     },
     "01df628de74647ecabe71dc68ccba8ef": {
      "model_module": "@jupyter-widgets/controls",
      "model_module_version": "1.5.0",
      "model_name": "VBoxModel",
      "state": {
       "children": [
        "IPY_MODEL_9e4dba063a4f485bbdd8648263142f33",
        "IPY_MODEL_53fd0d48696f4242b5330d92ab04778e",
        "IPY_MODEL_eece0ff9a04f43c68fb68ee26bccfc32"
       ],
       "layout": "IPY_MODEL_6cb10a2895724e0ab6293f2ce4cda0fe"
      }
     },
     "0456b53be2694c86a6bc570c0f7c2d9f": {
      "model_module": "@jupyter-widgets/controls",
      "model_module_version": "1.5.0",
      "model_name": "DropdownModel",
      "state": {
       "_options_labels": [
        "kind1",
        "kind2",
        "kind3"
       ],
       "description": "x",
       "index": 0,
       "layout": "IPY_MODEL_6859e06e51004774b3251a43e173bb3b",
       "style": "IPY_MODEL_f5f42f272b4e4e6e853716ad8b05b08c"
      }
     },
     "068d0c5abac847668decfe3fdb14497f": {
      "model_module": "@jupyter-widgets/controls",
      "model_module_version": "1.5.0",
      "model_name": "SliderStyleModel",
      "state": {
       "description_width": ""
      }
     },
     "0aded4f0d67d403d8d3aead8a4239f1b": {
      "model_module": "@jupyter-widgets/controls",
      "model_module_version": "1.5.0",
      "model_name": "IntSliderModel",
      "state": {
       "description": "kind3",
       "layout": "IPY_MODEL_c97ddb01db254c369326602325c0cb44",
       "max": 10,
       "min": 1,
       "style": "IPY_MODEL_7152e6e769cf4eeebc2131615fedaaa1",
       "value": 7
      }
     },
     "0c6e373eac5942d8abc6b1ce420fbad5": {
      "model_module": "@jupyter-widgets/controls",
      "model_module_version": "1.5.0",
      "model_name": "IntSliderModel",
      "state": {
       "description": "kind2",
       "layout": "IPY_MODEL_e5c9a4d4b93c420888495b121b67d7ac",
       "max": 10,
       "min": 1,
       "style": "IPY_MODEL_455c44a384d3494299a2a968121fc610",
       "value": 6
      }
     },
     "0e9869c36df24268ae649f91bf33c1fd": {
      "model_module": "@jupyter-widgets/controls",
      "model_module_version": "1.5.0",
      "model_name": "DescriptionStyleModel",
      "state": {
       "description_width": ""
      }
     },
     "10f64536925e4e99a6767dbde20ebc49": {
      "model_module": "@jupyter-widgets/base",
      "model_module_version": "1.2.0",
      "model_name": "LayoutModel",
      "state": {}
     },
     "119e9c2d311a4a43b93a7f9e900546f8": {
      "model_module": "@jupyter-widgets/controls",
      "model_module_version": "1.5.0",
      "model_name": "IntSliderModel",
      "state": {
       "description": "kind2",
       "layout": "IPY_MODEL_fd627469ff184ed6948857079b2bc172",
       "max": 10,
       "min": 1,
       "style": "IPY_MODEL_6334a6b21d474dffa55f0ab09e53d4ca",
       "value": 6
      }
     },
     "1b3fd5364d1e4123baff541b145f2165": {
      "model_module": "@jupyter-widgets/controls",
      "model_module_version": "1.5.0",
      "model_name": "IntSliderModel",
      "state": {
       "description": "kind1",
       "layout": "IPY_MODEL_cf1f701f552c4f7fa290c28d0fc7ba7a",
       "max": 10,
       "min": 1,
       "style": "IPY_MODEL_314e2842044847219d02c67e4bddc4a4",
       "value": 5
      }
     },
     "20887b05268e49858f6210095d8e9728": {
      "model_module": "@jupyter-widgets/controls",
      "model_module_version": "1.5.0",
      "model_name": "IntSliderModel",
      "state": {
       "description": "kind3",
       "layout": "IPY_MODEL_10f64536925e4e99a6767dbde20ebc49",
       "max": 10,
       "min": 1,
       "style": "IPY_MODEL_b1e5a3996ee34d47b7c787ad8cddd06e",
       "value": 7
      }
     },
     "228c565d761847ceb10b4406b31e66dc": {
      "model_module": "@jupyter-widgets/controls",
      "model_module_version": "1.5.0",
      "model_name": "DescriptionStyleModel",
      "state": {
       "description_width": ""
      }
     },
     "231065d1711f44099d4da6ef7f1e1a46": {
      "model_module": "@jupyter-widgets/controls",
      "model_module_version": "1.5.0",
      "model_name": "SliderStyleModel",
      "state": {
       "description_width": ""
      }
     },
     "237fad718a9f48978659a1f563f9abaa": {
      "model_module": "@jupyter-widgets/controls",
      "model_module_version": "1.5.0",
      "model_name": "IntSliderModel",
      "state": {
       "description": "kind3",
       "layout": "IPY_MODEL_8cf98bc86f3043fdbc32cd84dec7def4",
       "max": 10,
       "min": 1,
       "style": "IPY_MODEL_6078b6a0d65b4d549279e3888d35c8a0",
       "value": 7
      }
     },
     "2410c3ba95704a9bbfa8a34348281bf7": {
      "model_module": "@jupyter-widgets/base",
      "model_module_version": "1.2.0",
      "model_name": "LayoutModel",
      "state": {}
     },
     "2c6d9efccb97483c9b319d446df1ec14": {
      "model_module": "@jupyter-widgets/controls",
      "model_module_version": "1.5.0",
      "model_name": "SliderStyleModel",
      "state": {
       "description_width": ""
      }
     },
     "2de8328662e146a9bc4ac7f487f91463": {
      "model_module": "@jupyter-widgets/output",
      "model_module_version": "1.0.0",
      "model_name": "OutputModel",
      "state": {
       "layout": "IPY_MODEL_b148bb22cd534d1a9511743c4a3da9d9",
       "outputs": [
        {
         "data": {
          "image/png": "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\n",
          "text/plain": "<Figure size 432x288 with 1 Axes>"
         },
         "metadata": {
          "needs_background": "light"
         },
         "output_type": "display_data"
        }
       ]
      }
     },
     "2f752d3783aa4afca9b1914da74b2daf": {
      "model_module": "@jupyter-widgets/base",
      "model_module_version": "1.2.0",
      "model_name": "LayoutModel",
      "state": {}
     },
     "2fbbe2a14dc04907a873cde7bdec24c3": {
      "model_module": "@jupyter-widgets/base",
      "model_module_version": "1.2.0",
      "model_name": "LayoutModel",
      "state": {}
     },
     "2fea4beda3a041c6b7f1f9a86743e011": {
      "model_module": "@jupyter-widgets/controls",
      "model_module_version": "1.5.0",
      "model_name": "SliderStyleModel",
      "state": {
       "description_width": ""
      }
     },
     "30e3715686a74860bf2a8b80c2dc8015": {
      "model_module": "@jupyter-widgets/base",
      "model_module_version": "1.2.0",
      "model_name": "LayoutModel",
      "state": {}
     },
     "3114951a69b74c719194aaf200220a93": {
      "model_module": "@jupyter-widgets/controls",
      "model_module_version": "1.5.0",
      "model_name": "IntSliderModel",
      "state": {
       "description": "kind3",
       "layout": "IPY_MODEL_de584cfbf5c7485ba0526db246b495ce",
       "max": 10,
       "min": 1,
       "style": "IPY_MODEL_709e6b8626d84f1c9c6bc729c32efab0",
       "value": 7
      }
     },
     "314e2842044847219d02c67e4bddc4a4": {
      "model_module": "@jupyter-widgets/controls",
      "model_module_version": "1.5.0",
      "model_name": "SliderStyleModel",
      "state": {
       "description_width": ""
      }
     },
     "388105534fde444d9869ce78328a0773": {
      "model_module": "@jupyter-widgets/controls",
      "model_module_version": "1.5.0",
      "model_name": "SliderStyleModel",
      "state": {
       "description_width": ""
      }
     },
     "3e6ba426e75945fc9411e2646c0afb4d": {
      "model_module": "@jupyter-widgets/base",
      "model_module_version": "1.2.0",
      "model_name": "LayoutModel",
      "state": {}
     },
     "455c44a384d3494299a2a968121fc610": {
      "model_module": "@jupyter-widgets/controls",
      "model_module_version": "1.5.0",
      "model_name": "SliderStyleModel",
      "state": {
       "description_width": ""
      }
     },
     "47e4c506ad4e44ec82918ceb397d4295": {
      "model_module": "@jupyter-widgets/controls",
      "model_module_version": "1.5.0",
      "model_name": "IntSliderModel",
      "state": {
       "description": "kind3",
       "layout": "IPY_MODEL_c80fac7743be4e41b745c1e094c157ec",
       "max": 10,
       "min": 1,
       "style": "IPY_MODEL_2fea4beda3a041c6b7f1f9a86743e011",
       "value": 7
      }
     },
     "4a9048e70eb84c1e82aea57f44603465": {
      "model_module": "@jupyter-widgets/base",
      "model_module_version": "1.2.0",
      "model_name": "LayoutModel",
      "state": {}
     },
     "4c44ab3c2eb4438180ef0d0cb199b3f6": {
      "model_module": "@jupyter-widgets/controls",
      "model_module_version": "1.5.0",
      "model_name": "HBoxModel",
      "state": {
       "children": [
        "IPY_MODEL_01df628de74647ecabe71dc68ccba8ef",
        "IPY_MODEL_2de8328662e146a9bc4ac7f487f91463"
       ],
       "layout": "IPY_MODEL_6a9121cbd960486e84faf082c4d3c24c"
      }
     },
     "4d40aa9b23ad42a0a71b33f43d7c1338": {
      "model_module": "@jupyter-widgets/controls",
      "model_module_version": "1.5.0",
      "model_name": "DropdownModel",
      "state": {
       "_options_labels": [
        "IntSlider(value=5, description='kind1', max=10, min=1)",
        "IntSlider(value=6, description='kind2', max=10, min=1)",
        "IntSlider(value=7, description='kind3', max=10, min=1)"
       ],
       "description": "y",
       "index": 0,
       "layout": "IPY_MODEL_8f17f5089bf94728981992f1cf3bdedb",
       "style": "IPY_MODEL_73933683a95b4814bbab90a4cb9012a2"
      }
     },
     "50b51fe50f3a436da8956e7ce92afde4": {
      "model_module": "@jupyter-widgets/base",
      "model_module_version": "1.2.0",
      "model_name": "LayoutModel",
      "state": {}
     },
     "511ed405d3da474dad36132ffec511ec": {
      "model_module": "@jupyter-widgets/output",
      "model_module_version": "1.0.0",
      "model_name": "OutputModel",
      "state": {
       "layout": "IPY_MODEL_bf594b957c5a4c8983f6fbb82bb74725"
      }
     },
     "51335024117f4d569708a6a0d30a484e": {
      "model_module": "@jupyter-widgets/controls",
      "model_module_version": "1.5.0",
      "model_name": "IntSliderModel",
      "state": {
       "description": "kind1",
       "layout": "IPY_MODEL_b35e8b0cbea946929d5134180df1ee78",
       "max": 10,
       "min": 1,
       "style": "IPY_MODEL_dfd7acc520b64bed9eeeca51795d5c24",
       "value": 5
      }
     },
     "53fd0d48696f4242b5330d92ab04778e": {
      "model_module": "@jupyter-widgets/controls",
      "model_module_version": "1.5.0",
      "model_name": "IntSliderModel",
      "state": {
       "description": "kind2",
       "layout": "IPY_MODEL_58e591452f63436d84ac61cc694ce483",
       "max": 10,
       "min": 1,
       "style": "IPY_MODEL_55d7cd08d88b4cc5aac5a27ee5583d97",
       "value": 6
      }
     },
     "55d7cd08d88b4cc5aac5a27ee5583d97": {
      "model_module": "@jupyter-widgets/controls",
      "model_module_version": "1.5.0",
      "model_name": "SliderStyleModel",
      "state": {
       "description_width": ""
      }
     },
     "5615d2a4275b41b7a85dcfa9e6d57b6b": {
      "model_module": "@jupyter-widgets/base",
      "model_module_version": "1.2.0",
      "model_name": "LayoutModel",
      "state": {}
     },
     "58e591452f63436d84ac61cc694ce483": {
      "model_module": "@jupyter-widgets/base",
      "model_module_version": "1.2.0",
      "model_name": "LayoutModel",
      "state": {}
     },
     "5a8455027bbe46f8afbd97083d386a16": {
      "model_module": "@jupyter-widgets/controls",
      "model_module_version": "1.5.0",
      "model_name": "IntSliderModel",
      "state": {
       "description": "kind2",
       "layout": "IPY_MODEL_2fbbe2a14dc04907a873cde7bdec24c3",
       "max": 10,
       "min": 1,
       "style": "IPY_MODEL_b14dd180d8014055bce2c787d0a2610d",
       "value": 6
      }
     },
     "5aaaa195f8fe409f8ff71fd379bcd604": {
      "model_module": "@jupyter-widgets/controls",
      "model_module_version": "1.5.0",
      "model_name": "IntSliderModel",
      "state": {
       "description": "kind1",
       "layout": "IPY_MODEL_30e3715686a74860bf2a8b80c2dc8015",
       "max": 10,
       "min": 1,
       "style": "IPY_MODEL_ea897b8d27fa498ebb1ef84f070e0249",
       "value": 5
      }
     },
     "5b5e61d21d48452e9f0378be6ab1ce4b": {
      "model_module": "@jupyter-widgets/controls",
      "model_module_version": "1.5.0",
      "model_name": "IntSliderModel",
      "state": {
       "description": "kind3",
       "layout": "IPY_MODEL_7296573a572840508b87617ef2e7333d",
       "max": 10,
       "min": 1,
       "style": "IPY_MODEL_85e9e85af4e542409430a60e53d21154",
       "value": 7
      }
     },
     "5cf822e27aa74caba9e9a1aadd21d054": {
      "model_module": "@jupyter-widgets/base",
      "model_module_version": "1.2.0",
      "model_name": "LayoutModel",
      "state": {}
     },
     "5d6793b8572646d6a198cb6c9ce5512d": {
      "model_module": "@jupyter-widgets/base",
      "model_module_version": "1.2.0",
      "model_name": "LayoutModel",
      "state": {}
     },
     "5e4360398eb142d0bd23959e877952db": {
      "model_module": "@jupyter-widgets/output",
      "model_module_version": "1.0.0",
      "model_name": "OutputModel",
      "state": {
       "layout": "IPY_MODEL_615c498c9a7f473d84a92e332ae2e2df",
       "outputs": [
        {
         "data": {
          "image/png": "iVBORw0KGgoAAAANSUhEUgAAAW4AAAD8CAYAAABXe05zAAAABHNCSVQICAgIfAhkiAAAAAlwSFlzAAALEgAACxIB0t1+/AAAADl0RVh0U29mdHdhcmUAbWF0cGxvdGxpYiB2ZXJzaW9uIDMuMC4yLCBodHRwOi8vbWF0cGxvdGxpYi5vcmcvOIA7rQAAC3FJREFUeJzt3X2IZXUdx/HPp10lLUvIm1Q6TYJshPgQFyGkIntA0yx7AC2zLJi/TI2eVoQwIjCCqCiKoawgy0JdCtfKjRIL0ppdN1ndNUw23Kx2JMpUUFY//TF3a5y9d+4ZO2dmvjPvFwzOvfc3d7/sD9979uw5M04iAEAdz1npAQAAS0O4AaAYwg0AxRBuACiGcANAMYQbAIoh3ABQDOEGgGIINwAUs7GLNz3mmGMyOTnZxVsDwJq0ffv2h5P0mqztJNyTk5OamZnp4q0BYE2y/eemazlVAgDFEG4AKIZwA0AxhBsAiiHcAFDM2HDb3mR757yPR2xfsRzDAQAONfZywCT3STpVkmxvkPQXSVs6ngsAMMJST5W8UdKfkjS+3hAA0K6lhvsCST/oYhAAQDON75y0fbik8yRdOeL1KUlTkjQxMdHKcADaN7l560qPsGbtveacZfl1lnLEfbakHUn+PuzFJNNJ+kn6vV6j2+0BAM/CUsJ9oThNAgArrlG4bR8p6c2Sbup2HADAOI3OcSd5XNKLOp4FANAAd04CQDGEGwCKIdwAUAzhBoBiCDcAFEO4AaAYwg0AxRBuACiGcANAMYQbAIoh3ABQDOEGgGIINwAUQ7gBoBjCDQDFEG4AKIZwA0AxhBsAiiHcAFAM4QaAYgg3ABTTKNy2j7Z9g+09tnfbfk3XgwEAhtvYcN2XJf0sybttHy7pyA5nAgAsYmy4bb9A0uskfVCSkjwp6cluxwIAjNLkiPsESbOSvm37FEnbJV2e5LH5i2xPSZqSpImJibbnxCo1uXnrSo+wZu295pyVHgGrVJNz3BslvVrS15OcJukxSZsXLkoynaSfpN/r9VoeEwBwUJNw75O0L8mdg8c3aC7kAIAVMDbcSf4m6UHbmwZPvVHSvZ1OBQAYqelVJR+RdN3gipIHJF3S3UgAgMU0CneSnZL6Hc8CAGiAOycBoBjCDQDFEG4AKIZwA0AxhBsAiiHcAFAM4QaAYgg3ABRDuAGgGMINAMUQbgAohnADQDGEGwCKIdwAUAzhBoBiCDcAFEO4AaAYwg0AxRBuACiGcANAMY1+WLDtvZL+LekpSQeS8IODAWCFNAr3wBuSPNzZJACARjhVAgDFNA13JN1qe7vtqS4HAgAsrumpkjOSPGT7xZK22d6T5Pb5CwZBn5KkiYmJZz3Q5Oatz/prsbi915yz0iMAaEGjI+4kDw3+u1/SFkmnD1kznaSfpN/r9dqdEgDwX2PDbft5to86+Lmkt0ja1fVgAIDhmpwqOVbSFtsH138/yc86nQoAMNLYcCd5QNIpyzALAKABLgcEgGIINwAUQ7gBoBjCDQDFEG4AKIZwA0AxhBsAiiHcAFAM4QaAYgg3ABRDuAGgGMINAMUQbgAohnADQDGEGwCKIdwAUAzhBoBiCDcAFEO4AaAYwg0AxRBuACimcbhtb7B9l+2buxwIALC4pRxxXy5pd1eDAACaaRRu28dJOkfSN7sdBwAwTtMj7i9J+qSkp0ctsD1le8b2zOzsbCvDAQAONTbcts+VtD/J9sXWJZlO0k/S7/V6rQ0IAHimJkfcZ0g6z/ZeSddLOtP29zqdCgAw0thwJ7kyyXFJJiVdIOmXSS7qfDIAwFBcxw0AxWxcyuIkt0m6rZNJAACNcMQNAMUQbgAohnADQDGEGwCKIdwAUAzhBoBiCDcAFEO4AaAYwg0AxRBuACiGcANAMYQbAIoh3ABQDOEGgGIINwAUQ7gBoBjCDQDFEG4AKIZwA0AxhBsAihkbbtvPtf0723+wfY/tzyzHYACA4Zr8lPcnJJ2Z5FHbh0n6je2fJrmj49kAAEOMDXeSSHp08PCwwUe6HAoAMFqjc9y2N9jeKWm/pG1J7ux2LADAKI3CneSpJKdKOk7S6bZPWrjG9pTtGdszs7Ozbc8JABhY0lUlSf4p6TZJZw15bTpJP0m/1+u1NB4AYKEmV5X0bB89+PwISW+StKfrwQAAwzW5quQlkr5re4PmQv+jJDd3OxYAYJQmV5XcLem0ZZgFANAAd04CQDGEGwCKIdwAUAzhBoBiCDcAFEO4AaAYwg0AxRBuACiGcANAMYQbAIoh3ABQDOEGgGIINwAUQ7gBoBjCDQDFEG4AKIZwA0AxhBsAiiHcAFAM4QaAYgg3ABQzNty2j7f9K9u7bd9j+/LlGAwAMNzGBmsOSPpYkh22j5K03fa2JPd2PBsAYIixR9xJ/ppkx+Dzf0vaLellXQ8GABhuSee4bU9KOk3SnV0MAwAYr3G4bT9f0o2SrkjyyJDXp2zP2J6ZnZ1tc0YAwDyNwm37MM1F+7okNw1bk2Q6ST9Jv9frtTkjAGCeJleVWNK3JO1O8sXuRwIALKbJEfcZkt4v6UzbOwcfb+14LgDACGMvB0zyG0lehlkAAA1w5yQAFEO4AaAYwg0AxRBuACiGcANAMYQbAIoh3ABQDOEGgGIINwAUQ7gBoBjCDQDFEG4AKIZwA0AxhBsAiiHcAFAM4QaAYgg3ABRDuAGgGMINAMUQbgAohnADQDFjw237Wtv7be9ajoEAAItrcsT9HUlndTwHAKChseFOcrukfyzDLACABlo7x217yvaM7ZnZ2dm23hYAsEBr4U4ynaSfpN/r9dp6WwDAAlxVAgDFEG4AKKbJ5YA/kPRbSZts77P94e7HAgCMsnHcgiQXLscgAIBmOFUCAMUQbgAohnADQDGEGwCKIdwAUAzhBoBiCDcAFEO4AaAYwg0AxRBuACiGcANAMYQbAIoh3ABQDOEGgGIINwAUQ7gBoBjCDQDFEG4AKIZwA0AxhBsAimkUbttn2b7P9v22N3c9FABgtLHhtr1B0tcknS3pVZIutP2qrgcDAAzX5Ij7dEn3J3kgyZOSrpf09m7HAgCM0iTcL5P04LzH+wbPAQBWwMYGazzkuRyyyJ6SNDV4+Kjt+/6fwYo4RtLDKz1EU/78Sk+wKpTZM/brv9bLnr286cIm4d4n6fh5j4+T9NDCRUmmJU03/YXXAtszSforPQeaY8/qYc8O1eRUye8lnWj7FbYPl3SBpJ90OxYAYJSxR9xJDti+VNLPJW2QdG2SezqfDAAwVJNTJUpyi6RbOp6lonV1amiNYM/qYc8WcHLIvzMCAFYxbnkHgGII94DtSdu7FjzXt/2VJb7P1bY/Pvj8Pbbvsf20bf5VvGUd7dkXbO+xfbftLbaPbnPm9a6jPfvsYL922r7V9kvbnHk1ItyLSDKT5LL/4y12SXqnpNtbGgljtLBn2ySdlORkSX+UdGU7k2GUFvbsC0lOTnKqpJslfbql0VYtwj2E7RNs32X7E7ZvHjx3te1rbd9m+wHbl81bf9Xgm3D9QtKmg88n2Z1kPdyItOJa3LNbkxwYPLxDc/ctoAMt7tkj8972eRpyg+Ba0+iqkvXE9ibNfT+WSyQdLen1815+paQ3SDpK0n22vy7pZM1d236a5n4/d0javpwzr3cd7tmHJP2wu8nXr7b3zPbnJF0s6V+Dr13TOOJ+pp6kH0u6KMnOIa9vTfJEkocl7Zd0rKTXStqS5PHBn/zcnLS8Otkz21dJOiDpuu5GX7da37MkVyU5XnP7dWm34688wv1M/9LcN9Q6Y8TrT8z7/Cn9728sa/6vZqtY63tm+wOSzpX0vnC9bBe6/P/s+5Le9exHq4FwP9OTkt4h6WLb7234NbdLOt/2EbaPkvS2zqbDMK3ume2zJH1K0nlJHm99Wkjt79mJ89adJ2lPa5OuUoR7gSSPae5o66OSXthg/Q7NnQfdKelGSb8++Jrt823vk/QaSVtt/7yTode5NvdM0lc1d2512+Dysm+0PzFa3rNrbO+yfbekt0i6vP2JVxfunASAYjjiBoBiCDcAFEO4AaAYwg0AxRBuACiGcANAMYQbAIoh3ABQzH8A4x/WYbTm8CgAAAAASUVORK5CYII=\n",
          "text/plain": "<Figure size 432x288 with 1 Axes>"
         },
         "metadata": {
          "needs_background": "light"
         },
         "output_type": "display_data"
        }
       ]
      }
     },
     "5ee8eb0e48114f90952158c3b3b693ba": {
      "model_module": "@jupyter-widgets/controls",
      "model_module_version": "1.5.0",
      "model_name": "VBoxModel",
      "state": {
       "_dom_classes": [
        "widget-interact"
       ],
       "children": [
        "IPY_MODEL_0456b53be2694c86a6bc570c0f7c2d9f",
        "IPY_MODEL_4d40aa9b23ad42a0a71b33f43d7c1338",
        "IPY_MODEL_dac9d4c8866b44c5b0aa56350aa47f18"
       ],
       "layout": "IPY_MODEL_99f51e04f65d4ae18c2afa60e114adae"
      }
     },
     "6078b6a0d65b4d549279e3888d35c8a0": {
      "model_module": "@jupyter-widgets/controls",
      "model_module_version": "1.5.0",
      "model_name": "SliderStyleModel",
      "state": {
       "description_width": ""
      }
     },
     "615c498c9a7f473d84a92e332ae2e2df": {
      "model_module": "@jupyter-widgets/base",
      "model_module_version": "1.2.0",
      "model_name": "LayoutModel",
      "state": {}
     },
     "63022e237b024d6f833ebcc10a0a059f": {
      "model_module": "@jupyter-widgets/controls",
      "model_module_version": "1.5.0",
      "model_name": "SliderStyleModel",
      "state": {
       "description_width": ""
      }
     },
     "6334a6b21d474dffa55f0ab09e53d4ca": {
      "model_module": "@jupyter-widgets/controls",
      "model_module_version": "1.5.0",
      "model_name": "SliderStyleModel",
      "state": {
       "description_width": ""
      }
     },
     "66dc3e5e49f644259f8a72f860a38281": {
      "model_module": "@jupyter-widgets/controls",
      "model_module_version": "1.5.0",
      "model_name": "SliderStyleModel",
      "state": {
       "description_width": ""
      }
     },
     "6721223d8c87490fab757b2ed08e7995": {
      "model_module": "@jupyter-widgets/controls",
      "model_module_version": "1.5.0",
      "model_name": "SliderStyleModel",
      "state": {
       "description_width": ""
      }
     },
     "6859e06e51004774b3251a43e173bb3b": {
      "model_module": "@jupyter-widgets/base",
      "model_module_version": "1.2.0",
      "model_name": "LayoutModel",
      "state": {}
     },
     "6a9121cbd960486e84faf082c4d3c24c": {
      "model_module": "@jupyter-widgets/base",
      "model_module_version": "1.2.0",
      "model_name": "LayoutModel",
      "state": {}
     },
     "6cb10a2895724e0ab6293f2ce4cda0fe": {
      "model_module": "@jupyter-widgets/base",
      "model_module_version": "1.2.0",
      "model_name": "LayoutModel",
      "state": {}
     },
     "709e6b8626d84f1c9c6bc729c32efab0": {
      "model_module": "@jupyter-widgets/controls",
      "model_module_version": "1.5.0",
      "model_name": "SliderStyleModel",
      "state": {
       "description_width": ""
      }
     },
     "7152e6e769cf4eeebc2131615fedaaa1": {
      "model_module": "@jupyter-widgets/controls",
      "model_module_version": "1.5.0",
      "model_name": "SliderStyleModel",
      "state": {
       "description_width": ""
      }
     },
     "7294ae12fa484c76a997e92c9544af10": {
      "model_module": "@jupyter-widgets/controls",
      "model_module_version": "1.5.0",
      "model_name": "IntSliderModel",
      "state": {
       "description": "kind1",
       "layout": "IPY_MODEL_8243a163bbc249409893787fc0100205",
       "max": 10,
       "min": 1,
       "style": "IPY_MODEL_e40a577394b4477da3c52bdae6618163",
       "value": 5
      }
     },
     "7296573a572840508b87617ef2e7333d": {
      "model_module": "@jupyter-widgets/base",
      "model_module_version": "1.2.0",
      "model_name": "LayoutModel",
      "state": {}
     },
     "73933683a95b4814bbab90a4cb9012a2": {
      "model_module": "@jupyter-widgets/controls",
      "model_module_version": "1.5.0",
      "model_name": "DescriptionStyleModel",
      "state": {
       "description_width": ""
      }
     },
     "74da5865df1546b699ed1692fae4f394": {
      "model_module": "@jupyter-widgets/controls",
      "model_module_version": "1.5.0",
      "model_name": "IntSliderModel",
      "state": {
       "description": "kind2",
       "layout": "IPY_MODEL_9e33f6cd95614993857a702af1e06d76",
       "max": 10,
       "min": 1,
       "style": "IPY_MODEL_388105534fde444d9869ce78328a0773",
       "value": 6
      }
     },
     "7940eeedffd245c9b1d37613d5224aad": {
      "model_module": "@jupyter-widgets/base",
      "model_module_version": "1.2.0",
      "model_name": "LayoutModel",
      "state": {}
     },
     "7a8dc79811ff4f28b2e450f0b0512ae6": {
      "model_module": "@jupyter-widgets/controls",
      "model_module_version": "1.5.0",
      "model_name": "IntSliderModel",
      "state": {
       "description": "kind2",
       "layout": "IPY_MODEL_2f752d3783aa4afca9b1914da74b2daf",
       "max": 10,
       "min": 1,
       "style": "IPY_MODEL_63022e237b024d6f833ebcc10a0a059f",
       "value": 6
      }
     },
     "7b571c7cc8004ce699a84b2a98a5ee70": {
      "model_module": "@jupyter-widgets/base",
      "model_module_version": "1.2.0",
      "model_name": "LayoutModel",
      "state": {}
     },
     "80f22dd2c3ba4c2283a0d6276f5eaa66": {
      "model_module": "@jupyter-widgets/output",
      "model_module_version": "1.0.0",
      "model_name": "OutputModel",
      "state": {
       "layout": "IPY_MODEL_d73207a23ef3417faa6bba156fdfc916"
      }
     },
     "81ee223452ae4fa9800bbad669727d7c": {
      "model_module": "@jupyter-widgets/output",
      "model_module_version": "1.0.0",
      "model_name": "OutputModel",
      "state": {
       "layout": "IPY_MODEL_af3428c6070a41619adeae76621b3201"
      }
     },
     "8243a163bbc249409893787fc0100205": {
      "model_module": "@jupyter-widgets/base",
      "model_module_version": "1.2.0",
      "model_name": "LayoutModel",
      "state": {}
     },
     "828040248d244519aa1f77489b66d19e": {
      "model_module": "@jupyter-widgets/controls",
      "model_module_version": "1.5.0",
      "model_name": "DropdownModel",
      "state": {
       "_options_labels": [
        "IntSlider(value=5, description='kind1', max=10, min=1)",
        "IntSlider(value=6, description='kind2', max=10, min=1)",
        "IntSlider(value=7, description='kind3', max=10, min=1)"
       ],
       "description": "y",
       "index": 0,
       "layout": "IPY_MODEL_b46c308536bf43c18898ac56077b860c",
       "style": "IPY_MODEL_0e9869c36df24268ae649f91bf33c1fd"
      }
     },
     "85e9e85af4e542409430a60e53d21154": {
      "model_module": "@jupyter-widgets/controls",
      "model_module_version": "1.5.0",
      "model_name": "SliderStyleModel",
      "state": {
       "description_width": ""
      }
     },
     "8658862132754beaa76c2b3586f67ead": {
      "model_module": "@jupyter-widgets/controls",
      "model_module_version": "1.5.0",
      "model_name": "VBoxModel",
      "state": {
       "children": [
        "IPY_MODEL_c0a117e75f5b468c82b924e6620dcbf8",
        "IPY_MODEL_0c6e373eac5942d8abc6b1ce420fbad5",
        "IPY_MODEL_3114951a69b74c719194aaf200220a93"
       ],
       "layout": "IPY_MODEL_ef29803e3faf4d32aef9edca43811200"
      }
     },
     "88a9445db3324e73bce2c5dcc383d233": {
      "model_module": "@jupyter-widgets/controls",
      "model_module_version": "1.5.0",
      "model_name": "SliderStyleModel",
      "state": {
       "description_width": ""
      }
     },
     "8c92b84cfcdf47daadc07a257fba4a82": {
      "model_module": "@jupyter-widgets/controls",
      "model_module_version": "1.5.0",
      "model_name": "DescriptionStyleModel",
      "state": {
       "description_width": ""
      }
     },
     "8cd72fa2695d44b9866540b87fe9b44d": {
      "model_module": "@jupyter-widgets/output",
      "model_module_version": "1.0.0",
      "model_name": "OutputModel",
      "state": {
       "layout": "IPY_MODEL_7940eeedffd245c9b1d37613d5224aad",
       "outputs": [
        {
         "ename": "TypeError",
         "evalue": "unsupported operand type(s) for +: 'int' and 'IntSlider'",
         "output_type": "error",
         "traceback": [
          "\u001b[1;31m---------------------------------------------------------------------------\u001b[0m",
          "\u001b[1;31mTypeError\u001b[0m                                 Traceback (most recent call last)",
          "\u001b[1;32mD:\\Anaconda\\lib\\site-packages\\ipywidgets\\widgets\\interaction.py\u001b[0m in \u001b[0;36mupdate\u001b[1;34m(self, *args)\u001b[0m\n\u001b[0;32m    254\u001b[0m                     \u001b[0mvalue\u001b[0m \u001b[1;33m=\u001b[0m \u001b[0mwidget\u001b[0m\u001b[1;33m.\u001b[0m\u001b[0mget_interact_value\u001b[0m\u001b[1;33m(\u001b[0m\u001b[1;33m)\u001b[0m\u001b[1;33m\u001b[0m\u001b[1;33m\u001b[0m\u001b[0m\n\u001b[0;32m    255\u001b[0m                     \u001b[0mself\u001b[0m\u001b[1;33m.\u001b[0m\u001b[0mkwargs\u001b[0m\u001b[1;33m[\u001b[0m\u001b[0mwidget\u001b[0m\u001b[1;33m.\u001b[0m\u001b[0m_kwarg\u001b[0m\u001b[1;33m]\u001b[0m \u001b[1;33m=\u001b[0m \u001b[0mvalue\u001b[0m\u001b[1;33m\u001b[0m\u001b[1;33m\u001b[0m\u001b[0m\n\u001b[1;32m--> 256\u001b[1;33m                 \u001b[0mself\u001b[0m\u001b[1;33m.\u001b[0m\u001b[0mresult\u001b[0m \u001b[1;33m=\u001b[0m \u001b[0mself\u001b[0m\u001b[1;33m.\u001b[0m\u001b[0mf\u001b[0m\u001b[1;33m(\u001b[0m\u001b[1;33m**\u001b[0m\u001b[0mself\u001b[0m\u001b[1;33m.\u001b[0m\u001b[0mkwargs\u001b[0m\u001b[1;33m)\u001b[0m\u001b[1;33m\u001b[0m\u001b[1;33m\u001b[0m\u001b[0m\n\u001b[0m\u001b[0;32m    257\u001b[0m                 \u001b[0mshow_inline_matplotlib_plots\u001b[0m\u001b[1;33m(\u001b[0m\u001b[1;33m)\u001b[0m\u001b[1;33m\u001b[0m\u001b[1;33m\u001b[0m\u001b[0m\n\u001b[0;32m    258\u001b[0m                 \u001b[1;32mif\u001b[0m \u001b[0mself\u001b[0m\u001b[1;33m.\u001b[0m\u001b[0mauto_display\u001b[0m \u001b[1;32mand\u001b[0m \u001b[0mself\u001b[0m\u001b[1;33m.\u001b[0m\u001b[0mresult\u001b[0m \u001b[1;32mis\u001b[0m \u001b[1;32mnot\u001b[0m \u001b[1;32mNone\u001b[0m\u001b[1;33m:\u001b[0m\u001b[1;33m\u001b[0m\u001b[1;33m\u001b[0m\u001b[0m\n",
          "\u001b[1;32m<ipython-input-7-e37ffd4b9f7e>\u001b[0m in \u001b[0;36mplot_bar\u001b[1;34m(x, y)\u001b[0m\n\u001b[0;32m      4\u001b[0m \u001b[1;33m\u001b[0m\u001b[0m\n\u001b[0;32m      5\u001b[0m \u001b[1;32mdef\u001b[0m \u001b[0mplot_bar\u001b[0m\u001b[1;33m(\u001b[0m\u001b[0mx\u001b[0m\u001b[1;33m,\u001b[0m\u001b[0my\u001b[0m\u001b[1;33m)\u001b[0m\u001b[1;33m:\u001b[0m\u001b[1;33m\u001b[0m\u001b[1;33m\u001b[0m\u001b[0m\n\u001b[1;32m----> 6\u001b[1;33m     \u001b[0mplt\u001b[0m\u001b[1;33m.\u001b[0m\u001b[0mbar\u001b[0m\u001b[1;33m(\u001b[0m\u001b[0mx\u001b[0m\u001b[1;33m,\u001b[0m\u001b[0my\u001b[0m\u001b[1;33m)\u001b[0m\u001b[1;33m\u001b[0m\u001b[1;33m\u001b[0m\u001b[0m\n\u001b[0m\u001b[0;32m      7\u001b[0m \u001b[1;33m\u001b[0m\u001b[0m\n\u001b[0;32m      8\u001b[0m \u001b[0minteractive_bar\u001b[0m \u001b[1;33m=\u001b[0m \u001b[0mwidgets\u001b[0m\u001b[1;33m.\u001b[0m\u001b[0minteractive\u001b[0m\u001b[1;33m(\u001b[0m\u001b[0mplot_bar\u001b[0m\u001b[1;33m,\u001b[0m\u001b[0mx\u001b[0m\u001b[1;33m=\u001b[0m\u001b[1;33m[\u001b[0m\u001b[1;34m\"kind1\"\u001b[0m\u001b[1;33m,\u001b[0m\u001b[1;34m\"kind2\"\u001b[0m\u001b[1;33m,\u001b[0m\u001b[1;34m\"kind3\"\u001b[0m\u001b[1;33m]\u001b[0m\u001b[1;33m,\u001b[0m\u001b[0my\u001b[0m\u001b[1;33m=\u001b[0m\u001b[1;33m[\u001b[0m\u001b[0mnumber1\u001b[0m\u001b[1;33m,\u001b[0m\u001b[0mnumber2\u001b[0m\u001b[1;33m,\u001b[0m\u001b[0mnumber3\u001b[0m\u001b[1;33m]\u001b[0m\u001b[1;33m)\u001b[0m\u001b[1;33m\u001b[0m\u001b[1;33m\u001b[0m\u001b[0m\n",
          "\u001b[1;32mD:\\Anaconda\\lib\\site-packages\\matplotlib\\pyplot.py\u001b[0m in \u001b[0;36mbar\u001b[1;34m(x, height, width, bottom, align, data, **kwargs)\u001b[0m\n\u001b[0;32m   2457\u001b[0m     return gca().bar(\n\u001b[0;32m   2458\u001b[0m         \u001b[0mx\u001b[0m\u001b[1;33m,\u001b[0m \u001b[0mheight\u001b[0m\u001b[1;33m,\u001b[0m \u001b[0mwidth\u001b[0m\u001b[1;33m=\u001b[0m\u001b[0mwidth\u001b[0m\u001b[1;33m,\u001b[0m \u001b[0mbottom\u001b[0m\u001b[1;33m=\u001b[0m\u001b[0mbottom\u001b[0m\u001b[1;33m,\u001b[0m \u001b[0malign\u001b[0m\u001b[1;33m=\u001b[0m\u001b[0malign\u001b[0m\u001b[1;33m,\u001b[0m\u001b[1;33m\u001b[0m\u001b[1;33m\u001b[0m\u001b[0m\n\u001b[1;32m-> 2459\u001b[1;33m         **({\"data\": data} if data is not None else {}), **kwargs)\n\u001b[0m\u001b[0;32m   2460\u001b[0m \u001b[1;33m\u001b[0m\u001b[0m\n\u001b[0;32m   2461\u001b[0m \u001b[1;33m\u001b[0m\u001b[0m\n",
          "\u001b[1;32mD:\\Anaconda\\lib\\site-packages\\matplotlib\\__init__.py\u001b[0m in \u001b[0;36minner\u001b[1;34m(ax, data, *args, **kwargs)\u001b[0m\n\u001b[0;32m   1808\u001b[0m                         \u001b[1;34m\"the Matplotlib list!)\"\u001b[0m \u001b[1;33m%\u001b[0m \u001b[1;33m(\u001b[0m\u001b[0mlabel_namer\u001b[0m\u001b[1;33m,\u001b[0m \u001b[0mfunc\u001b[0m\u001b[1;33m.\u001b[0m\u001b[0m__name__\u001b[0m\u001b[1;33m)\u001b[0m\u001b[1;33m,\u001b[0m\u001b[1;33m\u001b[0m\u001b[1;33m\u001b[0m\u001b[0m\n\u001b[0;32m   1809\u001b[0m                         RuntimeWarning, stacklevel=2)\n\u001b[1;32m-> 1810\u001b[1;33m             \u001b[1;32mreturn\u001b[0m \u001b[0mfunc\u001b[0m\u001b[1;33m(\u001b[0m\u001b[0max\u001b[0m\u001b[1;33m,\u001b[0m \u001b[1;33m*\u001b[0m\u001b[0margs\u001b[0m\u001b[1;33m,\u001b[0m \u001b[1;33m**\u001b[0m\u001b[0mkwargs\u001b[0m\u001b[1;33m)\u001b[0m\u001b[1;33m\u001b[0m\u001b[1;33m\u001b[0m\u001b[0m\n\u001b[0m\u001b[0;32m   1811\u001b[0m \u001b[1;33m\u001b[0m\u001b[0m\n\u001b[0;32m   1812\u001b[0m         inner.__doc__ = _add_data_doc(inner.__doc__,\n",
          "\u001b[1;32mD:\\Anaconda\\lib\\site-packages\\matplotlib\\axes\\_axes.py\u001b[0m in \u001b[0;36mbar\u001b[1;34m(self, x, height, width, bottom, align, **kwargs)\u001b[0m\n\u001b[0;32m   2294\u001b[0m                 \u001b[0medgecolor\u001b[0m\u001b[1;33m=\u001b[0m\u001b[0me\u001b[0m\u001b[1;33m,\u001b[0m\u001b[1;33m\u001b[0m\u001b[1;33m\u001b[0m\u001b[0m\n\u001b[0;32m   2295\u001b[0m                 \u001b[0mlinewidth\u001b[0m\u001b[1;33m=\u001b[0m\u001b[0mlw\u001b[0m\u001b[1;33m,\u001b[0m\u001b[1;33m\u001b[0m\u001b[1;33m\u001b[0m\u001b[0m\n\u001b[1;32m-> 2296\u001b[1;33m                 \u001b[0mlabel\u001b[0m\u001b[1;33m=\u001b[0m\u001b[1;34m'_nolegend_'\u001b[0m\u001b[1;33m,\u001b[0m\u001b[1;33m\u001b[0m\u001b[1;33m\u001b[0m\u001b[0m\n\u001b[0m\u001b[0;32m   2297\u001b[0m                 )\n\u001b[0;32m   2298\u001b[0m             \u001b[0mr\u001b[0m\u001b[1;33m.\u001b[0m\u001b[0mupdate\u001b[0m\u001b[1;33m(\u001b[0m\u001b[0mkwargs\u001b[0m\u001b[1;33m)\u001b[0m\u001b[1;33m\u001b[0m\u001b[1;33m\u001b[0m\u001b[0m\n",
          "\u001b[1;32mD:\\Anaconda\\lib\\site-packages\\matplotlib\\patches.py\u001b[0m in \u001b[0;36m__init__\u001b[1;34m(self, xy, width, height, angle, **kwargs)\u001b[0m\n\u001b[0;32m    665\u001b[0m \u001b[1;33m\u001b[0m\u001b[0m\n\u001b[0;32m    666\u001b[0m         \u001b[0mself\u001b[0m\u001b[1;33m.\u001b[0m\u001b[0m_x1\u001b[0m \u001b[1;33m=\u001b[0m \u001b[0mself\u001b[0m\u001b[1;33m.\u001b[0m\u001b[0m_x0\u001b[0m \u001b[1;33m+\u001b[0m \u001b[0mself\u001b[0m\u001b[1;33m.\u001b[0m\u001b[0m_width\u001b[0m\u001b[1;33m\u001b[0m\u001b[1;33m\u001b[0m\u001b[0m\n\u001b[1;32m--> 667\u001b[1;33m         \u001b[0mself\u001b[0m\u001b[1;33m.\u001b[0m\u001b[0m_y1\u001b[0m \u001b[1;33m=\u001b[0m \u001b[0mself\u001b[0m\u001b[1;33m.\u001b[0m\u001b[0m_y0\u001b[0m \u001b[1;33m+\u001b[0m \u001b[0mself\u001b[0m\u001b[1;33m.\u001b[0m\u001b[0m_height\u001b[0m\u001b[1;33m\u001b[0m\u001b[1;33m\u001b[0m\u001b[0m\n\u001b[0m\u001b[0;32m    668\u001b[0m \u001b[1;33m\u001b[0m\u001b[0m\n\u001b[0;32m    669\u001b[0m         \u001b[0mself\u001b[0m\u001b[1;33m.\u001b[0m\u001b[0mangle\u001b[0m \u001b[1;33m=\u001b[0m \u001b[0mfloat\u001b[0m\u001b[1;33m(\u001b[0m\u001b[0mangle\u001b[0m\u001b[1;33m)\u001b[0m\u001b[1;33m\u001b[0m\u001b[1;33m\u001b[0m\u001b[0m\n",
          "\u001b[1;31mTypeError\u001b[0m: unsupported operand type(s) for +: 'int' and 'IntSlider'"
         ]
        }
       ]
      }
     },
     "8cf98bc86f3043fdbc32cd84dec7def4": {
      "model_module": "@jupyter-widgets/base",
      "model_module_version": "1.2.0",
      "model_name": "LayoutModel",
      "state": {}
     },
     "8f17f5089bf94728981992f1cf3bdedb": {
      "model_module": "@jupyter-widgets/base",
      "model_module_version": "1.2.0",
      "model_name": "LayoutModel",
      "state": {}
     },
     "901be3c8a65140028e7dd38d560e61f0": {
      "model_module": "@jupyter-widgets/base",
      "model_module_version": "1.2.0",
      "model_name": "LayoutModel",
      "state": {}
     },
     "92d402e1338a46b5bfc3634108824ed0": {
      "model_module": "@jupyter-widgets/controls",
      "model_module_version": "1.5.0",
      "model_name": "SliderStyleModel",
      "state": {
       "description_width": ""
      }
     },
     "94e33277a0b945f1966086cd2c1ecfea": {
      "model_module": "@jupyter-widgets/base",
      "model_module_version": "1.2.0",
      "model_name": "LayoutModel",
      "state": {}
     },
     "95379835d1ec400591127f9d35c408ec": {
      "model_module": "@jupyter-widgets/base",
      "model_module_version": "1.2.0",
      "model_name": "LayoutModel",
      "state": {}
     },
     "9852b20f4ec6452687359c1b59cb5299": {
      "model_module": "@jupyter-widgets/controls",
      "model_module_version": "1.5.0",
      "model_name": "VBoxModel",
      "state": {
       "_dom_classes": [
        "widget-interact"
       ],
       "children": [
        "IPY_MODEL_ea403607a0af41838364e8e06ec2b7c1",
        "IPY_MODEL_af757ddb70e14c848e90304439a6fb96",
        "IPY_MODEL_8cd72fa2695d44b9866540b87fe9b44d"
       ],
       "layout": "IPY_MODEL_50b51fe50f3a436da8956e7ce92afde4"
      }
     },
     "9886b47611504aaeab3bd0dda2a7be6b": {
      "model_module": "@jupyter-widgets/base",
      "model_module_version": "1.2.0",
      "model_name": "LayoutModel",
      "state": {}
     },
     "99f51e04f65d4ae18c2afa60e114adae": {
      "model_module": "@jupyter-widgets/base",
      "model_module_version": "1.2.0",
      "model_name": "LayoutModel",
      "state": {}
     },
     "9e33f6cd95614993857a702af1e06d76": {
      "model_module": "@jupyter-widgets/base",
      "model_module_version": "1.2.0",
      "model_name": "LayoutModel",
      "state": {}
     },
     "9e4dba063a4f485bbdd8648263142f33": {
      "model_module": "@jupyter-widgets/controls",
      "model_module_version": "1.5.0",
      "model_name": "IntSliderModel",
      "state": {
       "description": "kind1",
       "layout": "IPY_MODEL_95379835d1ec400591127f9d35c408ec",
       "max": 10,
       "min": 1,
       "style": "IPY_MODEL_e2963aa44a5e42f4b1e3a921903ccf2f",
       "value": 5
      }
     },
     "9f8da791e7d94606b9d7b77762084973": {
      "model_module": "@jupyter-widgets/controls",
      "model_module_version": "1.5.0",
      "model_name": "IntSliderModel",
      "state": {
       "description": "kind1",
       "layout": "IPY_MODEL_5615d2a4275b41b7a85dcfa9e6d57b6b",
       "max": 10,
       "min": 1,
       "style": "IPY_MODEL_a4d026a162844509b4c471235f3e1726",
       "value": 5
      }
     },
     "a022ca807e464a3f9ece332fe4b7eda0": {
      "model_module": "@jupyter-widgets/controls",
      "model_module_version": "1.5.0",
      "model_name": "VBoxModel",
      "state": {
       "children": [
        "IPY_MODEL_5aaaa195f8fe409f8ff71fd379bcd604",
        "IPY_MODEL_119e9c2d311a4a43b93a7f9e900546f8",
        "IPY_MODEL_0aded4f0d67d403d8d3aead8a4239f1b"
       ],
       "layout": "IPY_MODEL_aa4ba0cede2b4418a0f9960279f6bfb3"
      }
     },
     "a2063e6e84c64bd4bbae53c381b5909b": {
      "model_module": "@jupyter-widgets/controls",
      "model_module_version": "1.5.0",
      "model_name": "IntSliderModel",
      "state": {
       "description": "kind1",
       "layout": "IPY_MODEL_c8812cdbd4844540a0241ecc020d6bf4",
       "max": 10,
       "min": 1,
       "style": "IPY_MODEL_2c6d9efccb97483c9b319d446df1ec14",
       "value": 5
      }
     },
     "a4d026a162844509b4c471235f3e1726": {
      "model_module": "@jupyter-widgets/controls",
      "model_module_version": "1.5.0",
      "model_name": "SliderStyleModel",
      "state": {
       "description_width": ""
      }
     },
     "a7e5263d20fe4696842c8bfc7e91cbcc": {
      "model_module": "@jupyter-widgets/base",
      "model_module_version": "1.2.0",
      "model_name": "LayoutModel",
      "state": {}
     },
     "a9840dde072b4a969abc72e249c0fe04": {
      "model_module": "@jupyter-widgets/controls",
      "model_module_version": "1.5.0",
      "model_name": "SliderStyleModel",
      "state": {
       "description_width": ""
      }
     },
     "aa4ba0cede2b4418a0f9960279f6bfb3": {
      "model_module": "@jupyter-widgets/base",
      "model_module_version": "1.2.0",
      "model_name": "LayoutModel",
      "state": {}
     },
     "af3428c6070a41619adeae76621b3201": {
      "model_module": "@jupyter-widgets/base",
      "model_module_version": "1.2.0",
      "model_name": "LayoutModel",
      "state": {}
     },
     "af757ddb70e14c848e90304439a6fb96": {
      "model_module": "@jupyter-widgets/controls",
      "model_module_version": "1.5.0",
      "model_name": "DropdownModel",
      "state": {
       "_options_labels": [
        "IntSlider(value=5, description='kind1', max=10, min=1)",
        "IntSlider(value=6, description='kind2', max=10, min=1)",
        "IntSlider(value=7, description='kind3', max=10, min=1)"
       ],
       "description": "y",
       "index": 0,
       "layout": "IPY_MODEL_c60f8cb367f3474a836317b6423a12e2",
       "style": "IPY_MODEL_b51d51aab9124092a80febb494a4dfa6"
      }
     },
     "af7ddb5751ec41f58bbffbc2c2540ca6": {
      "model_module": "@jupyter-widgets/controls",
      "model_module_version": "1.5.0",
      "model_name": "IntSliderModel",
      "state": {
       "description": "kind2",
       "layout": "IPY_MODEL_94e33277a0b945f1966086cd2c1ecfea",
       "max": 10,
       "min": 1,
       "style": "IPY_MODEL_6721223d8c87490fab757b2ed08e7995",
       "value": 6
      }
     },
     "b148bb22cd534d1a9511743c4a3da9d9": {
      "model_module": "@jupyter-widgets/base",
      "model_module_version": "1.2.0",
      "model_name": "LayoutModel",
      "state": {}
     },
     "b14dd180d8014055bce2c787d0a2610d": {
      "model_module": "@jupyter-widgets/controls",
      "model_module_version": "1.5.0",
      "model_name": "SliderStyleModel",
      "state": {
       "description_width": ""
      }
     },
     "b1e5a3996ee34d47b7c787ad8cddd06e": {
      "model_module": "@jupyter-widgets/controls",
      "model_module_version": "1.5.0",
      "model_name": "SliderStyleModel",
      "state": {
       "description_width": ""
      }
     },
     "b35e8b0cbea946929d5134180df1ee78": {
      "model_module": "@jupyter-widgets/base",
      "model_module_version": "1.2.0",
      "model_name": "LayoutModel",
      "state": {}
     },
     "b46c308536bf43c18898ac56077b860c": {
      "model_module": "@jupyter-widgets/base",
      "model_module_version": "1.2.0",
      "model_name": "LayoutModel",
      "state": {}
     },
     "b51d51aab9124092a80febb494a4dfa6": {
      "model_module": "@jupyter-widgets/controls",
      "model_module_version": "1.5.0",
      "model_name": "DescriptionStyleModel",
      "state": {
       "description_width": ""
      }
     },
     "b55de295ea3047d0b45185acd2fd6ef0": {
      "model_module": "@jupyter-widgets/controls",
      "model_module_version": "1.5.0",
      "model_name": "IntSliderModel",
      "state": {
       "description": "kind3",
       "layout": "IPY_MODEL_d8ca438464af480fbf76e4093e6052f3",
       "max": 10,
       "min": 1,
       "style": "IPY_MODEL_88a9445db3324e73bce2c5dcc383d233",
       "value": 7
      }
     },
     "bdbc44ff419b419a8a47222aabc0fe0f": {
      "model_module": "@jupyter-widgets/controls",
      "model_module_version": "1.5.0",
      "model_name": "IntSliderModel",
      "state": {
       "description": "kind2",
       "layout": "IPY_MODEL_901be3c8a65140028e7dd38d560e61f0",
       "max": 10,
       "min": 1,
       "style": "IPY_MODEL_66dc3e5e49f644259f8a72f860a38281",
       "value": 6
      }
     },
     "bf594b957c5a4c8983f6fbb82bb74725": {
      "model_module": "@jupyter-widgets/base",
      "model_module_version": "1.2.0",
      "model_name": "LayoutModel",
      "state": {}
     },
     "c0a117e75f5b468c82b924e6620dcbf8": {
      "model_module": "@jupyter-widgets/controls",
      "model_module_version": "1.5.0",
      "model_name": "IntSliderModel",
      "state": {
       "description": "kind1",
       "layout": "IPY_MODEL_c9f66ac7d0d9476e9a36309f114e31e3",
       "max": 10,
       "min": 1,
       "style": "IPY_MODEL_a9840dde072b4a969abc72e249c0fe04",
       "value": 5
      }
     },
     "c12e720f22e045db992ee0910c2574c2": {
      "model_module": "@jupyter-widgets/controls",
      "model_module_version": "1.5.0",
      "model_name": "SliderStyleModel",
      "state": {
       "description_width": ""
      }
     },
     "c60f8cb367f3474a836317b6423a12e2": {
      "model_module": "@jupyter-widgets/base",
      "model_module_version": "1.2.0",
      "model_name": "LayoutModel",
      "state": {}
     },
     "c69d2863a52b49b2bb204251ad6c33a1": {
      "model_module": "@jupyter-widgets/controls",
      "model_module_version": "1.5.0",
      "model_name": "IntSliderModel",
      "state": {
       "description": "kind3",
       "layout": "IPY_MODEL_5cf822e27aa74caba9e9a1aadd21d054",
       "max": 10,
       "min": 1,
       "style": "IPY_MODEL_92d402e1338a46b5bfc3634108824ed0",
       "value": 7
      }
     },
     "c80fac7743be4e41b745c1e094c157ec": {
      "model_module": "@jupyter-widgets/base",
      "model_module_version": "1.2.0",
      "model_name": "LayoutModel",
      "state": {}
     },
     "c8812cdbd4844540a0241ecc020d6bf4": {
      "model_module": "@jupyter-widgets/base",
      "model_module_version": "1.2.0",
      "model_name": "LayoutModel",
      "state": {}
     },
     "c97ddb01db254c369326602325c0cb44": {
      "model_module": "@jupyter-widgets/base",
      "model_module_version": "1.2.0",
      "model_name": "LayoutModel",
      "state": {}
     },
     "c9f66ac7d0d9476e9a36309f114e31e3": {
      "model_module": "@jupyter-widgets/base",
      "model_module_version": "1.2.0",
      "model_name": "LayoutModel",
      "state": {}
     },
     "ce5d838de62647bab9f625fa8ca74e43": {
      "model_module": "@jupyter-widgets/base",
      "model_module_version": "1.2.0",
      "model_name": "LayoutModel",
      "state": {}
     },
     "cf1f701f552c4f7fa290c28d0fc7ba7a": {
      "model_module": "@jupyter-widgets/base",
      "model_module_version": "1.2.0",
      "model_name": "LayoutModel",
      "state": {}
     },
     "d6aa36637bde4fa0a28bc07188237cf6": {
      "model_module": "@jupyter-widgets/base",
      "model_module_version": "1.2.0",
      "model_name": "LayoutModel",
      "state": {}
     },
     "d73207a23ef3417faa6bba156fdfc916": {
      "model_module": "@jupyter-widgets/base",
      "model_module_version": "1.2.0",
      "model_name": "LayoutModel",
      "state": {}
     },
     "d8ca438464af480fbf76e4093e6052f3": {
      "model_module": "@jupyter-widgets/base",
      "model_module_version": "1.2.0",
      "model_name": "LayoutModel",
      "state": {}
     },
     "dac9d4c8866b44c5b0aa56350aa47f18": {
      "model_module": "@jupyter-widgets/output",
      "model_module_version": "1.0.0",
      "model_name": "OutputModel",
      "state": {
       "layout": "IPY_MODEL_2410c3ba95704a9bbfa8a34348281bf7"
      }
     },
     "dde6cea33d62404fb9d3e05fe2477e00": {
      "model_module": "@jupyter-widgets/controls",
      "model_module_version": "1.5.0",
      "model_name": "IntSliderModel",
      "state": {
       "description": "kind1",
       "layout": "IPY_MODEL_7b571c7cc8004ce699a84b2a98a5ee70",
       "max": 10,
       "min": 1,
       "style": "IPY_MODEL_231065d1711f44099d4da6ef7f1e1a46",
       "value": 5
      }
     },
     "de584cfbf5c7485ba0526db246b495ce": {
      "model_module": "@jupyter-widgets/base",
      "model_module_version": "1.2.0",
      "model_name": "LayoutModel",
      "state": {}
     },
     "de697851e69f455181a7e6cd5c4409da": {
      "model_module": "@jupyter-widgets/controls",
      "model_module_version": "1.5.0",
      "model_name": "DropdownModel",
      "state": {
       "_options_labels": [
        "kind1",
        "kind2",
        "kind3"
       ],
       "description": "x",
       "index": 0,
       "layout": "IPY_MODEL_4a9048e70eb84c1e82aea57f44603465",
       "style": "IPY_MODEL_8c92b84cfcdf47daadc07a257fba4a82"
      }
     },
     "dfd7acc520b64bed9eeeca51795d5c24": {
      "model_module": "@jupyter-widgets/controls",
      "model_module_version": "1.5.0",
      "model_name": "SliderStyleModel",
      "state": {
       "description_width": ""
      }
     },
     "e2963aa44a5e42f4b1e3a921903ccf2f": {
      "model_module": "@jupyter-widgets/controls",
      "model_module_version": "1.5.0",
      "model_name": "SliderStyleModel",
      "state": {
       "description_width": ""
      }
     },
     "e40a577394b4477da3c52bdae6618163": {
      "model_module": "@jupyter-widgets/controls",
      "model_module_version": "1.5.0",
      "model_name": "SliderStyleModel",
      "state": {
       "description_width": ""
      }
     },
     "e5c9a4d4b93c420888495b121b67d7ac": {
      "model_module": "@jupyter-widgets/base",
      "model_module_version": "1.2.0",
      "model_name": "LayoutModel",
      "state": {}
     },
     "e8dfe6a1abd9478fa03db92c51547a8d": {
      "model_module": "@jupyter-widgets/controls",
      "model_module_version": "1.5.0",
      "model_name": "IntSliderModel",
      "state": {
       "description": "kind2",
       "layout": "IPY_MODEL_5d6793b8572646d6a198cb6c9ce5512d",
       "max": 10,
       "min": 1,
       "style": "IPY_MODEL_068d0c5abac847668decfe3fdb14497f",
       "value": 6
      }
     },
     "ea403607a0af41838364e8e06ec2b7c1": {
      "model_module": "@jupyter-widgets/controls",
      "model_module_version": "1.5.0",
      "model_name": "DropdownModel",
      "state": {
       "_options_labels": [
        "kind1",
        "kind2",
        "kind3"
       ],
       "description": "x",
       "index": 0,
       "layout": "IPY_MODEL_a7e5263d20fe4696842c8bfc7e91cbcc",
       "style": "IPY_MODEL_228c565d761847ceb10b4406b31e66dc"
      }
     },
     "ea897b8d27fa498ebb1ef84f070e0249": {
      "model_module": "@jupyter-widgets/controls",
      "model_module_version": "1.5.0",
      "model_name": "SliderStyleModel",
      "state": {
       "description_width": ""
      }
     },
     "ee7c75f4279d4b0b8a76e415bc753ee8": {
      "model_module": "@jupyter-widgets/controls",
      "model_module_version": "1.5.0",
      "model_name": "VBoxModel",
      "state": {
       "children": [
        "IPY_MODEL_51335024117f4d569708a6a0d30a484e",
        "IPY_MODEL_e8dfe6a1abd9478fa03db92c51547a8d",
        "IPY_MODEL_20887b05268e49858f6210095d8e9728"
       ],
       "layout": "IPY_MODEL_9886b47611504aaeab3bd0dda2a7be6b"
      }
     },
     "eece0ff9a04f43c68fb68ee26bccfc32": {
      "model_module": "@jupyter-widgets/controls",
      "model_module_version": "1.5.0",
      "model_name": "IntSliderModel",
      "state": {
       "description": "kind3",
       "layout": "IPY_MODEL_ce5d838de62647bab9f625fa8ca74e43",
       "max": 10,
       "min": 1,
       "style": "IPY_MODEL_c12e720f22e045db992ee0910c2574c2",
       "value": 7
      }
     },
     "ef29803e3faf4d32aef9edca43811200": {
      "model_module": "@jupyter-widgets/base",
      "model_module_version": "1.2.0",
      "model_name": "LayoutModel",
      "state": {}
     },
     "f5f42f272b4e4e6e853716ad8b05b08c": {
      "model_module": "@jupyter-widgets/controls",
      "model_module_version": "1.5.0",
      "model_name": "DescriptionStyleModel",
      "state": {
       "description_width": ""
      }
     },
     "fd627469ff184ed6948857079b2bc172": {
      "model_module": "@jupyter-widgets/base",
      "model_module_version": "1.2.0",
      "model_name": "LayoutModel",
      "state": {}
     },
     "fd912e10b89d44a08cbde83c4c222f39": {
      "model_module": "@jupyter-widgets/controls",
      "model_module_version": "1.5.0",
      "model_name": "VBoxModel",
      "state": {
       "children": [
        "IPY_MODEL_7294ae12fa484c76a997e92c9544af10",
        "IPY_MODEL_74da5865df1546b699ed1692fae4f394",
        "IPY_MODEL_5b5e61d21d48452e9f0378be6ab1ce4b"
       ],
       "layout": "IPY_MODEL_d6aa36637bde4fa0a28bc07188237cf6"
      }
     }
    },
    "version_major": 2,
    "version_minor": 0
   }
  }
 },
 "nbformat": 4,
 "nbformat_minor": 5
}
