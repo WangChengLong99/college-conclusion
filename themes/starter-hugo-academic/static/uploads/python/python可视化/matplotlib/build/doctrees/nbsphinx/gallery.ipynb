{
 "cells": [
  {
   "cell_type": "markdown",
   "id": "ef83eb9c-472e-452a-9924-26f06fb208fc",
   "metadata": {},
   "source": [
    "# matplotlib\n",
    "\n",
    "将结合ipywidgets和matplotlib来进行绘图"
   ]
  },
  {
   "cell_type": "markdown",
   "id": "a4126563-65eb-4872-93d3-0cb2cbc7962d",
   "metadata": {
    "tags": [
     "nbsphinx-gallery"
    ]
   },
   "source": [
    "## gallery\n",
    "\n",
    "[条形图](条形图.ipynb)"
   ]
  }
 ],
 "metadata": {
  "kernelspec": {
   "display_name": "Python 3",
   "language": "python",
   "name": "python3"
  },
  "language_info": {
   "codemirror_mode": {
    "name": "ipython",
    "version": 3
   },
   "file_extension": ".py",
   "mimetype": "text/x-python",
   "name": "python",
   "nbconvert_exporter": "python",
   "pygments_lexer": "ipython3",
   "version": "3.7.4"
  },
  "widgets": {
   "application/vnd.jupyter.widget-state+json": {
    "state": {},
    "version_major": 2,
    "version_minor": 0
   }
  }
 },
 "nbformat": 4,
 "nbformat_minor": 5
}
